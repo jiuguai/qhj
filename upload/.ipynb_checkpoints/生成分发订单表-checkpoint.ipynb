{
 "cells": [
  {
   "cell_type": "code",
   "execution_count": 24,
   "metadata": {},
   "outputs": [],
   "source": [
    "import os\n",
    "import sys\n",
    "sys.path.append(r\"D:\\奇货居\\work\\ZERO\")\n",
    "import numpy as np\n",
    "import pandas as pd\n",
    "import pymysql\n",
    "from sqlalchemy import create_engine\n",
    "\n",
    "from tools import *\n",
    "from settings import *\n",
    "\n",
    "\n",
    "# 初始化数据库连接，使用pymysql模块\n",
    "conn_dic = {\n",
    "    \"user\":\"root\",\n",
    "    \"password\":\"jiuguai\",\n",
    "    \"host\":\"localhost\",\n",
    "    \"port\":3306,\n",
    "    \"database\":\"qhj\"\n",
    "}\n",
    "conn_s = 'mysql+pymysql://{user}:{password}@{host}:{port}/{database}'.format(**conn_dic)\n",
    "\n",
    "engine = create_engine(conn_s, encoding='utf-8')\n",
    "\n",
    "\n",
    "# docking_platform_df = pd.read_excel(DOCKING_PLATFORM_PATH)[['供应商','对接平台']]\n",
    "\n",
    "# docking_platform_dict = {}\n",
    "# for supplier in docking_platform_df['对接平台'].unique():\n",
    "#     temp = docking_platform_df[docking_platform_df['对接平台'] == supplier]\n",
    "#     docking_platform_dict[supplier] = set(temp['供应商'].unique())"
   ]
  },
  {
   "cell_type": "code",
   "execution_count": 25,
   "metadata": {},
   "outputs": [],
   "source": [
    "\n"
   ]
  },
  {
   "cell_type": "code",
   "execution_count": 2,
   "metadata": {},
   "outputs": [],
   "source": [
    "# 生成外发的订单\n",
    "\n",
    "sql = \"select * from temp_new_order\"\n",
    "new_order_df = pd.read_sql(sql, engine)\n",
    "\n",
    "sql = \"select * from temp_old_order\"\n",
    "old_order_df = pd.read_sql(sql, engine)\n"
   ]
  },
  {
   "cell_type": "code",
   "execution_count": 3,
   "metadata": {},
   "outputs": [],
   "source": [
    "fields =  [\"订单号\",'运单号',\"商品ID\",'供应商','商品名','数量','规格','单位','收件人姓名','收件人地址','收件人电话','备注']\n",
    "\n",
    "new_order_df['运单号'] = \"\"\n",
    "old_order_df['运单号'] = \"\"\n",
    "\n",
    "if '备注' not in new_order_df:\n",
    "    new_order_df['备注'] = \"\"\n",
    "    old_order_df['备注'] = \"\"\n",
    "\n",
    "    \n",
    "new_order_df_r = new_order_df[fields]\n",
    "old_order_df_r = old_order_df[fields]"
   ]
  },
  {
   "cell_type": "code",
   "execution_count": 4,
   "metadata": {},
   "outputs": [],
   "source": [
    "    \n",
    "not_ss_remarks = {\"HUAWEI\",\"Apple\",\"三金\"}\n",
    "new_suppliers = set(new_order_df_r['供应商'])\n",
    "old_suppliers = set(old_order_df_r['供应商'])\n",
    "suppliers = new_suppliers | old_suppliers"
   ]
  },
  {
   "cell_type": "code",
   "execution_count": 5,
   "metadata": {},
   "outputs": [],
   "source": [
    "try:\n",
    "    export_order_date = new_order_df.iloc[0]['导出订单时间']\n",
    "except:\n",
    "    try:\n",
    "        export_order_date = old_order_df.iloc[0]['导出订单时间']\n",
    "    except:\n",
    "        print('没有要邮件的订单')\n",
    "        exit()\n",
    "        \n",
    "file_name_template = \"%(ad)s %(date)s.xlsx\" %{\"ad\":\"%s\",\"date\":export_order_date.strftime(DATE_FORMAT)}\n"
   ]
  },
  {
   "cell_type": "code",
   "execution_count": null,
   "metadata": {},
   "outputs": [],
   "source": [
    "for docking_platform in docking_platform_dict:\n",
    "    "
   ]
  },
  {
   "cell_type": "code",
   "execution_count": null,
   "metadata": {},
   "outputs": [],
   "source": []
  },
  {
   "cell_type": "code",
   "execution_count": null,
   "metadata": {},
   "outputs": [],
   "source": []
  },
  {
   "cell_type": "code",
   "execution_count": null,
   "metadata": {},
   "outputs": [],
   "source": [
    "stop"
   ]
  },
  {
   "cell_type": "code",
   "execution_count": 6,
   "metadata": {},
   "outputs": [
    {
     "name": "stdout",
     "output_type": "stream",
     "text": [
      "SWAROVSKI 2019-08-30 17_40_49.xlsx\n",
      "\t 未收到运单的已发订单\n",
      "志高 2019-08-30 17_40_49.xlsx\n",
      "\t 新订单\n",
      "\t 未收到运单的已发订单\n",
      "三金 2019-08-30 17_40_49.xlsx\n",
      "\t 新订单\n",
      "Apple 2019-08-30 17_40_49.xlsx\n",
      "\t 新订单\n"
     ]
    }
   ],
   "source": [
    "for supplier in suppliers:\n",
    "    file_name = file_name_template %supplier\n",
    "    writer = pd.ExcelWriter(os.path.join(SENDMAIL_ORDER_DIR,file_name))\n",
    "    print(file_name)\n",
    "    if supplier in new_suppliers:\n",
    "        temp = add_order(new_order_df_r[new_order_df_r['供应商'] == supplier])\n",
    "        \n",
    "        # 处理傻傻平台的备注\n",
    "        if  supplier not in not_ss_remarks:\n",
    "            temp['备注'] = \"规格:\" + temp['规格'] + \"; \" + temp['备注']\n",
    "            \n",
    "        \n",
    "        temp.to_excel(writer, sheet_name = \"新订单\" ,index=False)\n",
    "        print(\"\\t 新订单\" )\n",
    "\n",
    "    if supplier in old_suppliers:\n",
    "        temp = add_order(old_order_df_r[old_order_df_r['供应商'] == supplier])\n",
    "        # 处理傻傻平台的备注\n",
    "        if  supplier not in not_ss_remarks:\n",
    "            temp['备注'] = \"规格:\" + temp['规格'] + \"; \" + temp['备注']\n",
    "        \n",
    "        \n",
    "        temp.to_excel(writer, sheet_name = \"未收到运单的已发订单\" ,index=False)\n",
    "        print(\"\\t 未收到运单的已发订单\" )\n",
    "    writer.save()\n",
    "    "
   ]
  }
 ],
 "metadata": {
  "kernelspec": {
   "display_name": "Python 3",
   "language": "python",
   "name": "python3"
  },
  "language_info": {
   "codemirror_mode": {
    "name": "ipython",
    "version": 3
   },
   "file_extension": ".py",
   "mimetype": "text/x-python",
   "name": "python",
   "nbconvert_exporter": "python",
   "pygments_lexer": "ipython3",
   "version": "3.6.5"
  }
 },
 "nbformat": 4,
 "nbformat_minor": 2
}
