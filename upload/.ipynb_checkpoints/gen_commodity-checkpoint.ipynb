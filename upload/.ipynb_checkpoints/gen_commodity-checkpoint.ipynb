{
 "cells": [
  {
   "cell_type": "code",
   "execution_count": 1,
   "metadata": {},
   "outputs": [],
   "source": [
    "import os\n",
    "import sys\n",
    "sys.path.append(r\"D:\\往期\\奇货居\\ZERO\")\n",
    "\n",
    "import warnings\n",
    "warnings.filterwarnings('ignore')\n",
    "import numpy as np\n",
    "import pandas as pd\n",
    "import pymysql\n",
    "from sqlalchemy import create_engine\n",
    "\n",
    "from tools import *\n",
    "\n",
    "\n",
    "\n"
   ]
  },
  {
   "cell_type": "code",
   "execution_count": 2,
   "metadata": {},
   "outputs": [],
   "source": [
    "\n",
    "start_time(\"商品详情\")\n",
    "\n",
    "\n",
    "sp_prefix = \"商品详情\"\n",
    "gg_prefix = \"规格_交易详情\""
   ]
  },
  {
   "cell_type": "code",
   "execution_count": 3,
   "metadata": {},
   "outputs": [],
   "source": [
    "shipper_df = pd.read_excel(os.path.join(COMMODITY_BASE_DIR,\"发货商详情.xlsx\"))\n",
    "shipper_df.dropna(subset=[\"发货商ID\"],inplace=True)"
   ]
  },
  {
   "cell_type": "code",
   "execution_count": 4,
   "metadata": {},
   "outputs": [
    {
     "name": "stdout",
     "output_type": "stream",
     "text": [
      "傻傻\n",
      "     Delsey\n",
      "         00001560002双肩休闲包\n",
      "         70371560011商务电脑背包\n",
      "         70371760022商务旅行背包\n",
      "     LOVO\n",
      "         LOVO 经典套装\n",
      "         LOVO 魅力格调\n",
      "         LOVO 唯美田园\n",
      "     SWAROVSKI\n",
      "         冰雪奇缘\n",
      "         天鹅\n",
      "         小蜜蜂\n",
      "         钥匙\n",
      "     志高\n",
      "         志高ZGS-216智能扫地机器人\n",
      "         志高ZGS-316拖地机器人\n",
      "         志高按摩椅\n",
      "     沃品\n",
      "         蓝牙音箱AP06\n",
      "         颈戴式运动蓝牙耳机\n",
      "         AirSolo单耳蓝牙耳机\n",
      "     海尔\n",
      "         海尔空气净化器\n",
      "     爱玛\n",
      "         爱玛TDT1067Z\n",
      "     玛莎拉蒂\n",
      "         儿童平衡车无脚踏行\n",
      "         儿童滑板车MST005\n",
      "奇货居\n",
      "     Apple\n",
      "         iPhone 11 Pro MAX\n",
      "     HUAWEI\n",
      "         Mate 30 Pro\n",
      "三金\n",
      "     三金\n",
      "         护肤\n",
      "         美肤\n",
      "         补水\n",
      "         水光针\n"
     ]
    }
   ],
   "source": [
    "data_l = []\n",
    "\n",
    "\n",
    "for index, shipper_row in shipper_df.iterrows():\n",
    "    pro_dir = os.path.join(COMMODITY_BASE_DIR,shipper_row['发货商目录'])\n",
    "    gys_path = os.path.join(pro_dir,\"供应商详情.xlsx\")\n",
    "    gys_df = pd.read_excel(gys_path)\n",
    "    gys_df.dropna(subset= [ '供应商ID'] ,inplace=True)\n",
    "    print( shipper_row['发货商目录'])\n",
    "    for index,gys_row in gys_df.iterrows():\n",
    "        gys_dir = gys_row['供应商目录']\n",
    "        sp_path = os.path.join(pro_dir,gys_dir,\"%s_%s.xlsx\" %(sp_prefix,gys_dir))\n",
    "\n",
    "        # ['商品名', '商品目录名', '商品编码','类别']\n",
    "        sp_df = pd.read_excel(sp_path)\n",
    "        sp_df.dropna(inplace=True,subset=[\"商品编码\"])\n",
    "        print(\"     %s\" %gys_dir)\n",
    "\n",
    "        for index,sp_row in sp_df.iterrows():\n",
    "            sp_dir = sp_row['商品目录名']\n",
    "            print(\"         %s\" %sp_dir)\n",
    "            gg_path = os.path.join(pro_dir,gys_dir,sp_dir,\"%s_%s.xlsx\" %(gg_prefix,sp_dir))\n",
    "            gg_df = pd.read_excel(gg_path,sheet_name=\"规格\")\n",
    "            gg_df.dropna(subset=[\"商品名\"],inplace=True)\n",
    "            \n",
    "            gg_df['发货商'] = shipper_row['发货商']\n",
    "            gg_df['发货商ID'] = shipper_row['发货商ID']\n",
    "            \n",
    "            gg_df['供应商'] = gys_row['供应商']\n",
    "            gg_df['供应商ID'] = gys_row['供应商ID']\n",
    "            gg_df['商品编码'] = sp_row['商品编码']\n",
    "#             r'=HYPERLINK(\"%s\\%s\\%s\\%s\",\"%s\")' %(COMMODITY_BASE_DIR, shipper_row['发货商目录'], gys_dir, sp_dir, sp_row['商品名简称'])\n",
    "            gg_df['商品名简称'] = r'=HYPERLINK(\"%s\",\"%s\")' %(sp_path, sp_row['商品名简称'])\n",
    "            gg_df['商品名'] = r'=HYPERLINK(\"%s\",\"' %(gg_path) + gg_df['商品名'] + '\")'\n",
    "            \n",
    "            gg_df['商品ID'] = gg_df['发货商ID'] + gg_df['供应商ID'] + gg_df['商品编码'] + gg_df['规格编码']\n",
    "            gg_df['商品ID'] = r'=HYPERLINK(\"%s\\%s\\%s\\%s\",\"' %(COMMODITY_BASE_DIR, shipper_row['发货商目录'], \n",
    "                                                                gys_dir, sp_dir) + gg_df['商品ID']+'\")'\n",
    "            \n",
    "            \n",
    "            try:\n",
    "                gg_df['类别'] = sp_row['类别']\n",
    "            except:\n",
    "                pass\n",
    "#             gg_df['相对目录'] = r'=HYPERLINK(\"%s\\%s\\%s\\%s\",\"GO\")' %(COMMODITY_BASE_DIR, shipper_row['发货商目录'], gys_dir, sp_dir)\n",
    "            data_l.append(gg_df)\n",
    "\n",
    "    sp_data = pd.concat(data_l)\n",
    "    sp_data.reset_index(drop=True,inplace=True)\n",
    " \n"
   ]
  },
  {
   "cell_type": "code",
   "execution_count": 5,
   "metadata": {},
   "outputs": [],
   "source": [
    "# 存储\n",
    "sp_data = add_order(sp_data)\n",
    "fields = ['序号','商品ID','类别','商品名简称','商品名','单位', '规格', '规格模式', '市场价', '售价', '规格编码', '交易编码', '发货商','发货商ID','供应商', '供应商ID',\n",
    "        '商品编码',  ]\n",
    "sp_data = sp_data[fields]\n",
    "sp_data.to_excel(os.path.join(COMMODITY_BASE_DIR,\"商品信息.xlsx\"),index=False,sheet_name=\"商品详情\")"
   ]
  },
  {
   "cell_type": "code",
   "execution_count": 6,
   "metadata": {
    "scrolled": true
   },
   "outputs": [
    {
     "name": "stdout",
     "output_type": "stream",
     "text": [
      ">>>>打开宏表\n",
      ">>>>开始运行\n",
      ">>>>关闭宏表\n",
      ">>>>关闭完成\n",
      "\n",
      "5.017s\n",
      "\n"
     ]
    }
   ],
   "source": [
    "\n",
    "\n",
    "\n",
    "macro_path = BEAUTY_VBA_PATH\n",
    "macro_name = \"美化.xlsm!beautify\"\n",
    "macro_params = r\"D:\\奇货居\\素材\\商城图片素材\\\\\"\n",
    "\n",
    "\n",
    "mo = Macro(visible=EXCEL_VISIBLE)\n",
    "mo.open(macro_path)\n",
    "mo(name=macro_name,params = (macro_params,))\n",
    "mo.close()\n",
    "\n",
    "\n",
    "print(\"%0.3fs\\n\" %end_time(\"商品详情\"))"
   ]
  },
  {
   "cell_type": "code",
   "execution_count": null,
   "metadata": {},
   "outputs": [],
   "source": []
  }
 ],
 "metadata": {
  "kernelspec": {
   "display_name": "Python 3",
   "language": "python",
   "name": "python3"
  },
  "language_info": {
   "codemirror_mode": {
    "name": "ipython",
    "version": 3
   },
   "file_extension": ".py",
   "mimetype": "text/x-python",
   "name": "python",
   "nbconvert_exporter": "python",
   "pygments_lexer": "ipython3",
   "version": "3.6.5"
  }
 },
 "nbformat": 4,
 "nbformat_minor": 2
}
