{
 "cells": [
  {
   "cell_type": "code",
   "execution_count": 1,
   "metadata": {},
   "outputs": [],
   "source": [
    "import re\n",
    "import sys\n",
    "sys.path.append(r\"D:\\往期\\QHJ\\ZERO\")\n",
    "sys.path.append(r\"E:\\dataparse\\Python_DATA_PARSE\\QHJ\\ZERO\")\n",
    "import warnings\n",
    "warnings.filterwarnings(\"ignore\")\n",
    "\n",
    "from pyquery import PyQuery as pq\n",
    "import requests\n",
    "from urllib.parse import urlencode,parse_qs\n",
    "import numpy as np\n",
    "import pandas as pd\n",
    "import redis\n",
    "\n",
    "import pymysql\n",
    "\n",
    "import json\n",
    "from tools import *\n",
    "\n",
    "qm = QHJMall(MALL_KEY)\n",
    "\n",
    "\n",
    "import datetime\n",
    "\n",
    "sku_goods = pd.read_excel(r'D:\\奇货居\\素材\\商城图片素材\\商品信息.xlsx',sheet_name='商品详情') \\\n",
    "                [['商品ID', '发货商','发货商ID','goods_type','规格','单位', '市场价','售价','商品名简称']] \\\n",
    "                .rename(columns={\"售价\":\"单价\",\"商品名简称\":\"商品名\"}).fillna({\"goods_type\":\"original\"})\n",
    "\n",
    "free_goods = sku_goods[sku_goods['goods_type']=='free']\n"
   ]
  },
  {
   "cell_type": "code",
   "execution_count": null,
   "metadata": {},
   "outputs": [],
   "source": [
    "clear_folder(1,is_recursion=False)"
   ]
  },
  {
   "cell_type": "code",
   "execution_count": 31,
   "metadata": {
    "scrolled": true
   },
   "outputs": [
    {
     "name": "stdout",
     "output_type": "stream",
     "text": [
      "请求 {'order_status': 2, 'order_time': '', 'order_id': '', 'order_type': 'free', 'page': 1}\n",
      "请求 {'order_status': 2, 'order_time': '', 'order_id': '', 'order_type': 'free', 'page': 15}\n",
      "请求 {'order_status': 2, 'order_time': '', 'order_id': '', 'order_type': 'free', 'page': 14}\n",
      "请求 {'order_status': 2, 'order_time': '', 'order_id': '', 'order_type': 'free', 'page': 13}\n",
      "请求 {'order_status': 2, 'order_time': '', 'order_id': '', 'order_type': 'free', 'page': 12}\n",
      "请求 {'order_status': 2, 'order_time': '', 'order_id': '', 'order_type': 'free', 'page': 11}\n",
      "请求 {'order_status': 2, 'order_time': '', 'order_id': '', 'order_type': 'free', 'page': 10}\n",
      "请求 {'order_status': 2, 'order_time': '', 'order_id': '', 'order_type': 'free', 'page': 9}\n",
      "请求 {'order_status': 2, 'order_time': '', 'order_id': '', 'order_type': 'free', 'page': 8}\n",
      "请求 {'order_status': 2, 'order_time': '', 'order_id': '', 'order_type': 'free', 'page': 7}\n",
      "请求 {'order_status': 2, 'order_time': '', 'order_id': '', 'order_type': 'free', 'page': 6}\n",
      "请求 {'order_status': 2, 'order_time': '', 'order_id': '', 'order_type': 'free', 'page': 5}\n",
      "请求 {'order_status': 2, 'order_time': '', 'order_id': '', 'order_type': 'free', 'page': 4}\n",
      "请求 {'order_status': 2, 'order_time': '', 'order_id': '', 'order_type': 'free', 'page': 3}\n",
      "请求 {'order_status': 2, 'order_time': '', 'order_id': '', 'order_type': 'free', 'page': 2}\n"
     ]
    }
   ],
   "source": [
    "l = []\n",
    "for order in qm.gen_orders(\"free\",order_status=2):\n",
    "    l.append(order)\n",
    "    \n",
    "data = pd.DataFrame(l)\n",
    "\n",
    "\n",
    "# 过滤重复项\n",
    "data.drop_duplicates('订单号',inplace=True)\n",
    "# conn = redis.Redis(**REDIS_MALL_ORDER_DIC)\n",
    "# def dup_order(order):\n",
    "#     if conn.sismember('order:old',order):\n",
    "#         return None\n",
    "#     return order\n",
    "\n",
    "# data['订单号'] = data['订单号'].apply(dup_order)\n",
    "data.dropna(subset=['订单号'],inplace=True)\n",
    "\n",
    "data = data.replace(\"三金美肤面膜 缓解过敏 修复护理|三金美肤面膜 维稳修护 强化屏障\", \"三金护肤面膜 维稳修护 强化屏障\", regex=True)\n",
    "patt = '三金补水面膜 镇静维稳 深层补水\\\\(补水\\\\)|三金美肤面膜 美白功效 健康肤色\\\\(美肤\\\\)|三金护肤面膜 维稳修护 强化屏障\\\\(护肤\\\\)|三金水光针\\\\(水光针\\\\)'\n",
    "data['商品名'] = data['订单详情'].str.extract('(?P<商品名>%s)' % patt, expand=False).str.strip()\n",
    "\n",
    "\n",
    "data = pd.concat([data['用户信息'].str.extract(\"\"\"\n",
    "        (?<=下单人：)(?P<收件人>[^\\n]+)\n",
    "        \\s+手机：(?P<联系方式>[^\\n]+)\n",
    "        \\s+收货地址：(?P<收货地址>[^\\n]+)\"\"\", flags=re.S | re.X),data],axis=1)\n",
    "\n",
    "data = pd.merge(data\n",
    "                             , free_goods, on='商品名', how='left')\n",
    "\n",
    "data['支付金额'] = 0\n",
    "data.reset_index(drop=True, inplace=True)"
   ]
  },
  {
   "cell_type": "code",
   "execution_count": 40,
   "metadata": {
    "scrolled": false
   },
   "outputs": [],
   "source": [
    "save_dir = r\"D:\\Downloads\\QHJ_MALL\"\n",
    "save = SaveXl(save_dir)\n",
    "data['导出订单时间'] = save.suf.strip()\n",
    "\n",
    "b\n",
    "\n",
    "\n",
    "fields = [\"订单号\",\"发货商\",'商品ID',\"数量\",\"支付金额\",\"备注\",\"收件人\",\"联系方式\",\"收货地址\",\"goods_type\",\n",
    "          \"导出订单时间\"  ,'下单时间', '支付时间']\n",
    "\n",
    "\n",
    "data =  data[fields]\n",
    "sql = 'insert into order_details(%s) values(%s)' %(','.join(fields),\",\".join(np.repeat('%s',len(fields))))\n",
    "\n",
    "# date_time_len = 3\n",
    "# sql = 'insert into order_details(%s) values(%s,%s)' %(','.join(fields),\",\".join(np.repeat('%s',len(fields)-date_time_len)),\n",
    "#         \",\".join(np.repeat(\"str_to_date(%s,'%%Y-%%m-%%d %%H:%%i:%%S')\",date_time_len)))\n",
    "\n",
    "data = data.fillna(value={\"备注\":\"\"})\n",
    "dup_order = []\n",
    "for index,row in data.iterrows():\n",
    "    \n",
    "    try:\n",
    "        \n",
    "        cursor.execute(sql,row.tolist())\n",
    "        print(row.tolist())\n",
    "    except:\n",
    "        dup_order.append(index)\n",
    "conn.commit()\n",
    "conn.close()"
   ]
  },
  {
   "cell_type": "code",
   "execution_count": null,
   "metadata": {},
   "outputs": [],
   "source": []
  },
  {
   "cell_type": "code",
   "execution_count": 4,
   "metadata": {
    "scrolled": true
   },
   "outputs": [
    {
     "ename": "NameError",
     "evalue": "name 'stop' is not defined",
     "output_type": "error",
     "traceback": [
      "\u001b[1;31m---------------------------------------------------------------------------\u001b[0m",
      "\u001b[1;31mNameError\u001b[0m                                 Traceback (most recent call last)",
      "\u001b[1;32m<ipython-input-4-4f76a9dad686>\u001b[0m in \u001b[0;36m<module>\u001b[1;34m\u001b[0m\n\u001b[1;32m----> 1\u001b[1;33m \u001b[0mstop\u001b[0m\u001b[1;33m\u001b[0m\u001b[0m\n\u001b[0m",
      "\u001b[1;31mNameError\u001b[0m: name 'stop' is not defined"
     ]
    }
   ],
   "source": [
    "stop"
   ]
  },
  {
   "cell_type": "code",
   "execution_count": 68,
   "metadata": {},
   "outputs": [
    {
     "data": {
      "text/plain": [
       "'2019-11-17'"
      ]
     },
     "execution_count": 68,
     "metadata": {},
     "output_type": "execute_result"
    }
   ],
   "source": [
    "# .strftime(\"%Y-%m-%d\")\n",
    "\n"
   ]
  },
  {
   "cell_type": "code",
   "execution_count": 79,
   "metadata": {},
   "outputs": [
    {
     "data": {
      "text/plain": [
       "4"
      ]
     },
     "execution_count": 79,
     "metadata": {},
     "output_type": "execute_result"
    }
   ],
   "source": [
    "\n",
    "\n",
    "r_conn = redis.Redis(**REDIS_MALL_ORDER_DIC)\n",
    "conn = pymysql.connect(**MYSQL_MALL_DIC)\n",
    "cursor = conn.cursor()\n",
    "result = cursor.execute(\"select CONCAT(订单号,'-',商品ID) as k from order_details where 下单时间>='%s';\" \n",
    "                        %(datetime.date.today() - datetime.timedelta(1)).strftime(\"%Y-%m-%d\"))\n",
    "\n",
    "\n",
    "r_conn.delete('order:old')\n",
    "r_conn.sadd('order:old',*[ key[0] for key in cursor.fetchall()])\n"
   ]
  },
  {
   "cell_type": "code",
   "execution_count": 78,
   "metadata": {},
   "outputs": [],
   "source": []
  },
  {
   "cell_type": "code",
   "execution_count": null,
   "metadata": {},
   "outputs": [],
   "source": [
    "len(u_data)"
   ]
  },
  {
   "cell_type": "code",
   "execution_count": null,
   "metadata": {},
   "outputs": [],
   "source": [
    "len(data)"
   ]
  },
  {
   "cell_type": "code",
   "execution_count": null,
   "metadata": {},
   "outputs": [],
   "source": [
    "u_data = data"
   ]
  },
  {
   "cell_type": "code",
   "execution_count": null,
   "metadata": {
    "scrolled": false
   },
   "outputs": [],
   "source": [
    "l = []\n",
    "f_dir = r\"D:\\奇货居\\work\\外发订单\\新订单\\已发\"\n",
    "for file in os.listdir(f_dir):\n",
    "    if file.startswith('三金'):\n",
    "        l.append(pd.read_excel(os.path.join(f_dir,file),index=False,converters={\"订单号\":str}))\n",
    "data = pd.concat(l)\n",
    "data['订单号'] = data['订单号'].astype(str)\n",
    "data['订单号'][data['订单号'].isin({'149891054111246', '154427419014946', '167197513254485', '501250902978832'})] = \\\n",
    "\"0\"  + data['订单号'][data['订单号'].isin({'149891054111246', '154427419014946', '167197513254485', '501250902978832'})]"
   ]
  },
  {
   "cell_type": "code",
   "execution_count": null,
   "metadata": {},
   "outputs": [],
   "source": []
  },
  {
   "cell_type": "code",
   "execution_count": null,
   "metadata": {},
   "outputs": [],
   "source": [
    "data.columns"
   ]
  },
  {
   "cell_type": "code",
   "execution_count": null,
   "metadata": {},
   "outputs": [],
   "source": [
    "u_data['订单号'].dtype"
   ]
  },
  {
   "cell_type": "code",
   "execution_count": null,
   "metadata": {},
   "outputs": [],
   "source": [
    "data['订单号'] = data['订单号'].astype(str)"
   ]
  },
  {
   "cell_type": "code",
   "execution_count": null,
   "metadata": {},
   "outputs": [],
   "source": [
    "set(u_data['订单号']) - set(data['订单号']) "
   ]
  },
  {
   "cell_type": "code",
   "execution_count": 28,
   "metadata": {},
   "outputs": [],
   "source": [
    "l = []\n",
    "f_dir = r\"D:\\奇货居\\work\\外发订单\\新订单\\已发\\原始数据\"\n",
    "for file in os.listdir(f_dir):\n",
    "    if file.startswith('订单'):\n",
    "        \n",
    "        temp = pd.read_excel(os.path.join(f_dir,file),index=False,converters={\"订单号\":str})\n",
    "        temp['导出订单时间'] = file[3:22]\n",
    "        l.append(temp)\n",
    "data = pd.concat(l)\n",
    "data['订单号'] = data['订单号'].astype(str)\n",
    "data['订单号'][data['订单号'].isin({'149891054111246', '154427419014946', '167197513254485', '501250902978832'})] = \\\n",
    "\"0\"  + data['订单号'][data['订单号'].isin({'149891054111246', '154427419014946', '167197513254485', '501250902978832'})]\n",
    "data.rename(columns={'快递方式':\"快递公司\"},inplace=True)"
   ]
  },
  {
   "cell_type": "code",
   "execution_count": null,
   "metadata": {},
   "outputs": [],
   "source": []
  },
  {
   "cell_type": "code",
   "execution_count": 29,
   "metadata": {},
   "outputs": [
    {
     "name": "stdout",
     "output_type": "stream",
     "text": [
      "['2019-12-12 15_37_45', '7801733718286446']\n",
      "['2019-12-12 15_37_45', '19121251101531']\n",
      "['2019-12-12 15_37_45', '19121248494810']\n",
      "['2019-12-12 15_37_45', '19121253985148']\n",
      "['2019-12-12 15_37_45', '19121249485597']\n",
      "['2019-12-12 15_37_45', '19121252575210']\n",
      "['2019-12-12 15_37_45', '19121257485710']\n",
      "['2019-12-12 15_37_45', '19121298101101']\n",
      "['2019-12-12 15_37_45', '19121210253569']\n",
      "['2019-12-12 15_37_45', '19121297579856']\n",
      "['2019-12-12 15_37_45', '19121298574910']\n",
      "['2019-12-12 15_37_45', '19121297101535']\n",
      "['2019-12-12 15_37_45', '19121249971025']\n",
      "['2019-12-12 15_37_45', '19121250575757']\n",
      "['2019-12-12 15_37_45', '19121248101504']\n",
      "['2019-12-12 15_37_45', '19121255999954']\n",
      "['2019-12-12 15_37_45', '19121210210051']\n",
      "['2019-12-12 15_37_45', '19121251101505']\n",
      "['2019-12-12 15_37_45', '19121210052989']\n",
      "['2019-12-12 15_37_45', '19121250985210']\n",
      "['2019-12-12 15_37_45', '19121299971024']\n",
      "['2019-12-12 15_37_45', '19121210210010']\n",
      "['2019-12-13 15_38_09', '5609222359417374']\n",
      "['2019-12-13 15_38_09', '9784424719606776']\n",
      "['2019-12-13 15_38_09', '3400138912332780']\n",
      "['2019-12-13 15_38_09', '7620266221650637']\n",
      "['2019-12-13 15_38_09', '8171817913572174']\n",
      "['2019-12-13 15_38_09', '2758468066946996']\n",
      "['2019-12-13 15_38_09', '0501250902978832']\n",
      "['2019-12-13 15_38_09', '2163778663397136']\n",
      "['2019-12-13 15_38_09', '3960831208197543']\n",
      "['2019-12-13 15_38_09', '1554653366651438']\n",
      "['2019-12-13 15_38_09', '9076677957182044']\n",
      "['2019-12-13 15_38_09', '1015787224552650']\n",
      "['2019-12-13 15_38_09', '0149891054111246']\n",
      "['2019-12-13 15_38_09', '2684946144160119']\n",
      "['2019-12-13 15_38_09', '4939543886912591']\n",
      "['2019-12-13 15_38_09', '4855302993513060']\n",
      "['2019-12-13 15_38_09', '0154427419014946']\n",
      "['2019-12-13 15_38_09', '3797576719654768']\n",
      "['2019-12-13 15_38_09', '2542283742546124']\n",
      "['2019-12-13 15_38_09', '1835437611971149']\n",
      "['2019-12-14 15_46_34', '2688408976054157']\n",
      "['2019-12-14 15_46_34', '7064767470064345']\n",
      "['2019-12-14 15_46_34', '3558819475506516']\n",
      "['2019-12-14 15_46_34', '5198216014617124']\n",
      "['2019-12-14 15_46_34', '4559036977696915']\n",
      "['2019-12-15 15_36_53', '2259820089497103']\n",
      "['2019-12-15 15_36_53', '8691432545841121']\n",
      "['2019-12-15 15_36_53', '4595600182858043']\n",
      "['2019-12-15 15_36_53', '3689227852807075']\n",
      "['2019-12-15 15_36_53', '2350637767940895']\n",
      "['2019-12-15 15_36_53', '1540897166409832']\n",
      "['2019-12-15 15_36_53', '4806879111334605']\n",
      "['2019-12-15 15_36_53', '4838485321982791']\n",
      "['2019-12-15 15_36_53', '6444928454022327']\n",
      "['2019-12-15 15_36_53', '8323522433552457']\n",
      "['2019-12-15 15_36_53', '1075641466892284']\n",
      "['2019-12-15 15_36_53', '0167197513254485']\n",
      "['2019-12-15 15_36_53', '6115518456536194']\n",
      "['2019-12-15 15_36_53', '1914279528020223']\n",
      "['2019-12-15 15_36_53', '4849387222561001']\n",
      "['2019-12-16 15_46_18', '0070989020623815']\n",
      "['2019-12-16 15_46_18', '3562409723215555']\n",
      "['2019-12-16 15_46_18', '0405382866061700']\n",
      "['2019-12-16 15_46_18', '5036756284013369']\n",
      "['2019-12-16 15_46_18', '6394316946544369']\n",
      "['2019-12-16 15_46_18', '2178604481975617']\n",
      "['2019-12-16 15_46_18', '2514409760504324']\n",
      "['2019-12-16 15_46_18', '6251410337128243']\n",
      "['2019-12-16 15_46_18', '6725829012631395']\n",
      "['2019-12-16 15_46_18', '2221048000449924']\n",
      "['2019-12-16 15_46_18', '9535818429943523']\n",
      "['2019-12-16 15_46_18', '4932529314977196']\n"
     ]
    }
   ],
   "source": [
    "fileds = ['导出订单时间','订单号']\n",
    "data_r = data[fileds]\n",
    "data_r.replace({\"快递公司\":{r'(.+?)快递$':r\"\\1\"}},regex=True,inplace=True)\n",
    "conn = pymysql.connect(**MYSQL_MALL_DIC)\n",
    "cursor = conn.cursor()\n",
    "sql = \"update order_details set 导出订单时间=%s where 订单号=%s\"\n",
    "for index, row in data_r.iterrows():\n",
    "    print(row.tolist())\n",
    "    cursor.execute(sql,row.tolist())\n",
    "#     conn.commit()\n",
    "conn.commit()\n",
    "conn.close()"
   ]
  },
  {
   "cell_type": "code",
   "execution_count": null,
   "metadata": {},
   "outputs": [],
   "source": []
  },
  {
   "cell_type": "code",
   "execution_count": null,
   "metadata": {
    "scrolled": false
   },
   "outputs": [],
   "source": []
  },
  {
   "cell_type": "code",
   "execution_count": 5,
   "metadata": {},
   "outputs": [],
   "source": [
    "\n",
    "# 更新订单时间\n",
    "l = []\n",
    "f_dir = r\"D:\\奇货居\\work\\外发订单\\新订单\\已发\\反馈数据\"\n",
    "for file in os.listdir(f_dir):\n",
    "    if file.startswith('趣领'):\n",
    "        l.append(pd.read_excel(os.path.join(f_dir,file),index=False,converters={\"订单号\":str}))\n",
    "data = pd.concat(l)\n",
    "data['订单号'] = data['订单号'].astype(str)\n",
    "data['订单号'][data['订单号'].isin({'149891054111246', '154427419014946', '167197513254485', '501250902978832'})] = \\\n",
    "\"0\"  + data['订单号'][data['订单号'].isin({'149891054111246', '154427419014946', '167197513254485', '501250902978832'})]\n",
    "data.rename(columns={'快递方式':\"快递公司\"},inplace=True)"
   ]
  },
  {
   "cell_type": "code",
   "execution_count": null,
   "metadata": {
    "scrolled": true
   },
   "outputs": [],
   "source": [
    "data[data_r['运单号'].isin(set(data[data_r['运单号'].duplicated()]['运单号'].unique()))]"
   ]
  },
  {
   "cell_type": "code",
   "execution_count": 19,
   "metadata": {},
   "outputs": [
    {
     "name": "stdout",
     "output_type": "stream",
     "text": [
      "[75319805628524, '中通', '7801733718286446']\n",
      "[75319805628565, '中通', '19121251101531']\n",
      "[75319805773360, '中通', '19121248494810']\n",
      "[75319805628616, '中通', '19121253985148']\n",
      "[75319805628537, '中通', '19121249485597']\n",
      "[75319805628578, '中通', '19121252575210']\n",
      "[75319805923946, '中通', '19121257485710']\n",
      "[75319805773344, '中通', '19121298101101']\n",
      "[75319805923933, '中通', '19121210253569']\n",
      "[75319805628552, '中通', '19121297579856']\n",
      "[75319805628593, '中通', '19121298574910']\n",
      "[75319805923959, '中通', '19121297101535']\n",
      "[75319805773316, '中通', '19121249971025']\n",
      "[75319805773372, '中通', '19121250575757']\n",
      "[75319805923961, '中通', '19121248101504']\n",
      "[75319805773329, '中通', '19121255999954']\n",
      "[75319805628540, '中通', '19121210210051']\n",
      "[75319805773316, '中通', '19121251101505']\n",
      "[75319805628586, '中通', '19121210052989']\n",
      "[75319805773357, '中通', '19121250985210']\n",
      "[75319805773331, '中通', '19121299971024']\n",
      "[75319805628603, '中通', '19121210210010']\n",
      "[75321112453546, '中通', '2259820089497103']\n",
      "[75321112453625, '中通', '8691432545841121']\n",
      "[75321112862416, '中通', '4595600182858043']\n",
      "[75321112453559, '中通', '3689227852807075']\n",
      "[75321112862403, '中通', '2350637767940895']\n",
      "[75321112862416, '中通', '1540897166409832']\n",
      "[75321112453587, '中通', '4806879111334605']\n",
      "[75321112862429, '中通', '4838485321982791']\n",
      "[75321112453600, '中通', '6444928454022327']\n",
      "[75321112453590, '中通', '8323522433552457']\n",
      "[75321112453574, '中通', '1075641466892284']\n",
      "[75321112453561, '中通', '0167197513254485']\n",
      "[75321112453612, '中通', '6115518456536194']\n",
      "[75321112453546, '中通', '1914279528020223']\n",
      "[75321112453533, '中通', '4849387222561001']\n",
      "[75321121599569, '中通', '0070989020623815']\n",
      "[75321121599571, '中通', '3562409723215555']\n",
      "[75321121599648, '中通', '0405382866061700']\n",
      "[3102993740272, '韵达', '5036756284013369']\n",
      "[75321121599584, '中通', '6394316946544369']\n",
      "[75321121599597, '中通', '2178604481975617']\n",
      "[75321121599607, '中通', '2514409760504324']\n",
      "[75321121599610, '中通', '6251410337128243']\n",
      "[75321121599622, '中通', '6725829012631395']\n",
      "[75321121599635, '中通', '2221048000449924']\n",
      "[75321121599648, '中通', '9535818429943523']\n",
      "[75321121599656, '中通', '4932529314977196']\n",
      "[75320470374422, '中通', '5609222359417374']\n",
      "[75320470374435, '中通', '9784424719606776']\n",
      "[75320470374448, '中通', '3400138912332780']\n",
      "[75320470374456, '中通', '7620266221650637']\n",
      "[75320470374463, '中通', '8171817913572174']\n",
      "[75320470374476, '中通', '2758468066946996']\n",
      "[75320470374514, '中通', '0501250902978832']\n",
      "[75320470374489, '中通', '2163778663397136']\n",
      "[75320470374491, '中通', '3960831208197543']\n",
      "[75320470374491, '中通', '1554653366651438']\n",
      "[75320470374501, '中通', '9076677957182044']\n",
      "[75320470374514, '中通', '1015787224552650']\n",
      "[3102993740261, '韵达', '0149891054111246']\n",
      "[75320470374514, '中通', '2684946144160119']\n",
      "[75320470944864, '中通', '4939543886912591']\n",
      "[75320470944877, '中通', '4855302993513060']\n",
      "[75320470944880, '中通', '0154427419014946']\n",
      "[75320470944892, '中通', '3797576719654768']\n",
      "[75320470944902, '中通', '2542283742546124']\n",
      "[75320470944902, '中通', '1835437611971149']\n",
      "[3102993740262, '韵达', '2688408976054157']\n",
      "[3102993740266, '韵达', '7064767470064345']\n",
      "[3102993740265, '韵达', '3558819475506516']\n",
      "[3102993740263, '韵达', '5198216014617124']\n",
      "[3102993740264, '韵达', '4559036977696915']\n"
     ]
    }
   ],
   "source": [
    "fileds = ['运单号','快递公司','订单号']\n",
    "data_r = data[fileds]\n",
    "data_r.replace({\"快递公司\":{r'(.+?)快递$':r\"\\1\"}},regex=True,inplace=True)\n",
    "conn = pymysql.connect(**MYSQL_MALL_DIC)\n",
    "cursor = conn.cursor()\n",
    "sql = \"update order_details set 运单号=%s,快递公司=%s where 订单号=%s\"\n",
    "for index, row in data_r.iterrows():\n",
    "    print(row.tolist())\n",
    "    cursor.execute(sql,row.tolist())\n",
    "#     conn.commit()\n",
    "conn.commit()\n",
    "conn.close()"
   ]
  }
 ],
 "metadata": {
  "kernelspec": {
   "display_name": "Python 3",
   "language": "python",
   "name": "python3"
  },
  "language_info": {
   "codemirror_mode": {
    "name": "ipython",
    "version": 3
   },
   "file_extension": ".py",
   "mimetype": "text/x-python",
   "name": "python",
   "nbconvert_exporter": "python",
   "pygments_lexer": "ipython3",
   "version": "3.6.5"
  }
 },
 "nbformat": 4,
 "nbformat_minor": 2
}
