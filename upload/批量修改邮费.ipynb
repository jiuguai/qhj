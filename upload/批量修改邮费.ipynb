{
 "cells": [
  {
   "cell_type": "code",
   "execution_count": 1,
   "metadata": {},
   "outputs": [],
   "source": [
    "import os\n",
    "import sys\n",
    "sys.path.append(r\"D:\\往期\\QHJ\\ZERO\")\n",
    "sys.path.append(r\"E:\\dataparse\\Python_DATA_PARSE\\QHJ\\ZERO\")\n",
    "import numpy as np\n",
    "\n",
    "import pandas as pd\n",
    "\n",
    "import requests\n",
    "\n",
    "from tools import *"
   ]
  },
  {
   "cell_type": "code",
   "execution_count": 11,
   "metadata": {},
   "outputs": [],
   "source": [
    "\n",
    "data = pd.read_excel(GOODS_PATH,index=False,sheet_name=\"SPU\")"
   ]
  },
  {
   "cell_type": "code",
   "execution_count": 19,
   "metadata": {},
   "outputs": [],
   "source": [
    "url = r\"https://app0001.yrapps.cn/admin/good/good_opt_data.html\"\n",
    "\n",
    "\n",
    "\n",
    "headers = {\n",
    "    \"accept\": \"*/*\",\n",
    "    \"accept-encoding\": \"gzip, deflate, br\",\n",
    "    \"accept-language\": \"zh-CN,zh;q=0.9,en;q=0.8\",\n",
    "    \"cache-control\": \"no-cache\",\n",
    "\n",
    "    \"content-type\": \"application/x-www-form-urlencoded; charset=UTF-8\",\n",
    "    \"cookie\": \"PHPSESSID=%s\" %MALL_KEY, \n",
    "    \"origin\": \"https://app0001.yrapps.cn\",\n",
    "    \"pragma\": \"no-cache\",\n",
    "    \"referer\": \"https://app0001.yrapps.cn/admin/Good/goodList\",\n",
    "    \"sec-fetch-mode\": \"cors\",\n",
    "    \"sec-fetch-site\": \"same-origin\",\n",
    "    \"user-agent\": \"Mozilla/5.0 (Windows NT 6.1; Win64; x64) AppleWebKit/537.36 (KHTML, like Gecko) Chrome/79.0.3945.88 Safari/537.36\",\n",
    "    \"x-requested-with\": \"XMLHttpRequest\",\n",
    "}\n",
    "\n",
    "\n",
    "\n",
    "\n"
   ]
  },
  {
   "cell_type": "code",
   "execution_count": 26,
   "metadata": {},
   "outputs": [
    {
     "name": "stdout",
     "output_type": "stream",
     "text": [
      "{'code': 200, 'err_msg': '操作成功', 'data': '', 'goods_ir': 1}\n",
      "{'code': 200, 'err_msg': '操作成功', 'data': '', 'goods_ir': 2}\n",
      "{'code': 200, 'err_msg': '操作成功', 'data': '', 'goods_ir': 3}\n",
      "{'code': 200, 'err_msg': '操作成功', 'data': '', 'goods_ir': 6}\n",
      "{'code': 200, 'err_msg': '操作成功', 'data': '', 'goods_ir': 10}\n",
      "{'code': 200, 'err_msg': '操作成功', 'data': '', 'goods_ir': 11}\n",
      "{'code': 200, 'err_msg': '操作成功', 'data': '', 'goods_ir': 18}\n",
      "{'code': 200, 'err_msg': '操作成功', 'data': '', 'goods_ir': 21}\n",
      "{'code': 200, 'err_msg': '操作成功', 'data': '', 'goods_ir': 22}\n",
      "{'code': 200, 'err_msg': '操作成功', 'data': '', 'goods_ir': 23}\n",
      "{'code': 200, 'err_msg': '操作成功', 'data': '', 'goods_ir': 24}\n",
      "{'code': 200, 'err_msg': '操作成功', 'data': '', 'goods_ir': 25}\n",
      "{'code': 200, 'err_msg': '操作成功', 'data': '', 'goods_ir': 14}\n",
      "{'code': 200, 'err_msg': '操作成功', 'data': '', 'goods_ir': 15}\n",
      "{'code': 200, 'err_msg': '操作成功', 'data': '', 'goods_ir': 9}\n",
      "{'code': 200, 'err_msg': '操作成功', 'data': '', 'goods_ir': 16}\n",
      "{'code': 200, 'err_msg': '操作成功', 'data': '', 'goods_ir': 17}\n",
      "{'code': 200, 'err_msg': '操作成功', 'data': '', 'goods_ir': 19}\n",
      "{'code': 200, 'err_msg': '操作成功', 'data': '', 'goods_ir': 20}\n",
      "{'code': 200, 'err_msg': '操作成功', 'data': '', 'goods_ir': 7}\n",
      "{'code': 200, 'err_msg': '操作成功', 'data': '', 'goods_ir': 8}\n",
      "{'code': 200, 'err_msg': '操作成功', 'data': '', 'goods_ir': 26}\n",
      "{'code': 200, 'err_msg': '操作成功', 'data': '', 'goods_ir': 28}\n",
      "{'code': 200, 'err_msg': '操作成功', 'data': '', 'goods_ir': 29}\n"
     ]
    }
   ],
   "source": [
    "req_data ={\n",
    "    \"send_price\": 15,\n",
    "    \"goods_id\": \"\"\n",
    "}\n",
    "data = data[~data['goods_id'].isin([4,5,12,13])]\n",
    "for i, row in data.iterrows():\n",
    "    req_data['goods_id'] = row['goods_id']\n",
    "    rep = requests.post(url,data=req_data,headers=headers)\n",
    "    js = rep.json()\n",
    "    js['goods_ir'] = row['goods_id']\n",
    "    print(js)"
   ]
  }
 ],
 "metadata": {
  "kernelspec": {
   "display_name": "Python 3",
   "language": "python",
   "name": "python3"
  },
  "language_info": {
   "codemirror_mode": {
    "name": "ipython",
    "version": 3
   },
   "file_extension": ".py",
   "mimetype": "text/x-python",
   "name": "python",
   "nbconvert_exporter": "python",
   "pygments_lexer": "ipython3",
   "version": "3.6.5"
  }
 },
 "nbformat": 4,
 "nbformat_minor": 2
}
