{
 "cells": [
  {
   "cell_type": "code",
   "execution_count": 1,
   "metadata": {
    "scrolled": true
   },
   "outputs": [],
   "source": [
    "import re\n",
    "import sys\n",
    "sys.path.append(r\"D:\\往期\\QHJ\\ZERO\")\n",
    "from pyquery import PyQuery as pq\n",
    "import requests\n",
    "from urllib.parse import urlencode,parse_qs\n",
    "import numpy as np\n",
    "import pandas as pd\n",
    "import redis\n",
    "\n",
    "import json\n",
    "from tools import *\n",
    "\n",
    "qm = QHJMall(MALL_KEY)"
   ]
  },
  {
   "cell_type": "code",
   "execution_count": 2,
   "metadata": {},
   "outputs": [],
   "source": [
    "conn = redis.Redis(**REDIS_MALL_ORDER_DIC)"
   ]
  },
  {
   "cell_type": "markdown",
   "metadata": {},
   "source": [
    "### 获取订单号的参数\n",
    "\n",
    "```python\n",
    "\n",
    "qm = QHJMall(MALL_KEY)\n",
    "qm.get_order(order_type,**kargs)\n",
    "\n",
    "\n",
    "# 请求类型 0 表示所有订单 1 未发货  2 已发货 3 已完成 4 申请退款 5 退款成功  10 未支付\n",
    "\"order_status\": kargs.get(\"order_status\", 0),\n",
    "\"order_time\": kargs.get(\"order_time\", \"\"), # today yesterday week month\n",
    "\"order_id\": kargs.get(\"order_id\", \"\"), # 订单号\n",
    "\"order_type\": order_type,  # original free\n",
    "\"page\": kargs.get(\"page\", 1),  #\n",
    "\n",
    "```\n"
   ]
  },
  {
   "cell_type": "code",
   "execution_count": 3,
   "metadata": {},
   "outputs": [],
   "source": [
    "sku_goods = pd.read_excel(r'D:\\奇货居\\素材\\商城图片素材\\商品信息.xlsx',sheet_name='商品详情') \\\n",
    "                [['商品ID','goods_type','规格','单位', '市场价','售价','商品名简称']] \\\n",
    "                .rename(columns={\"售价\":\"单价\",\"商品名简称\":\"商品名\"}).fillna({\"goods_type\":\"original\"})\n"
   ]
  },
  {
   "cell_type": "code",
   "execution_count": 4,
   "metadata": {},
   "outputs": [],
   "source": [
    "def get_orders(order_type,**kargs):\n",
    "    data_l = []\n",
    "    doc = pq(qm.get_order(order_type,**kargs))\n",
    "    \n",
    "    #   获取列明\n",
    "    columns = []\n",
    "    for th in doc('thead th').items():\n",
    "        columns.append(th.text())\n",
    "\n",
    "    for tr in doc('tbody tr').items():\n",
    "        row_l = []\n",
    "        for v in tr('td').items():\n",
    "            row_l.append(v.text())\n",
    "        data_l.append(row_l)\n",
    "    item = doc('.pagination>li>a')\n",
    "    if item.length >0:\n",
    "        for page in range(2,int(item[-2].text)+1):\n",
    "            kargs.update({\"page\":page})\n",
    "            print(kargs)\n",
    "            doc = pq(qm.get_order(order_type,**kargs))\n",
    "            for tr in doc('tbody tr').items():\n",
    "                row_l = []\n",
    "                for v in tr('td').items():\n",
    "                    row_l.append(v.text())\n",
    "            data_l.append(row_l)\n",
    "\n",
    "    data = pd.DataFrame(data_l,columns=columns)\n",
    "    return data"
   ]
  },
  {
   "cell_type": "code",
   "execution_count": 5,
   "metadata": {
    "scrolled": true
   },
   "outputs": [
    {
     "name": "stdout",
     "output_type": "stream",
     "text": [
      "请求 {'order_status': 1, 'order_time': '', 'order_id': '', 'order_type': 'original', 'page': 1}\n"
     ]
    }
   ],
   "source": [
    "\n",
    "def get_original_orders(**kargs):\n",
    "    data = get_orders('original',**kargs)\n",
    "\n",
    "    data_info = data['用户信息'].str.extract(\"\"\"\n",
    "    (?<=下单人：)(?P<收件人>[^\\n]+)\n",
    "    \\s+手机：(?P<手机号码>[^\\n]+)\n",
    "    \\s+收货地址：(?P<收货地址>[^\\n]+)\"\"\",flags=re.S|re.X)\n",
    "\n",
    "    data_dd = data['订单详情'].str.extract(\"\"\"\n",
    "        (?P<商品名>.+?)(?=（规格[：:])（\n",
    "        规格[：:](?P<规格>.+?)(?=[，,]商品ID[：:])\n",
    "        [，,]商品ID[：:](?P<商品ID>.+)）\"\"\",flags=re.S|re.X)\n",
    "    data_r = pd.concat([data,data_info,data_dd],axis=1)\n",
    "    \n",
    "    return data_r\n",
    "\n",
    "data_r = get_original_orders(order_status=1)\n",
    "original_data = pd.merge(data_r,sku_goods[['商品ID','goods_type','单位','单价']] ,how='left',on='商品ID')"
   ]
  },
  {
   "cell_type": "code",
   "execution_count": 6,
   "metadata": {},
   "outputs": [
    {
     "name": "stdout",
     "output_type": "stream",
     "text": [
      "请求 {'order_status': 1, 'order_time': '', 'order_id': '', 'order_type': 'free', 'page': 1}\n",
      "{'order_status': 1, 'page': 2}\n",
      "请求 {'order_status': 1, 'order_time': '', 'order_id': '', 'order_type': 'free', 'page': 2}\n"
     ]
    }
   ],
   "source": [
    "def get_free_order(**kargs):\n",
    "\n",
    "\n",
    "    data = get_orders('free',**kargs)\n",
    "    data = data.replace(\"三金美肤面膜 缓解过敏 修复护理|三金美肤面膜 维稳修护 强化屏障\",\"三金护肤面膜 维稳修护 强化屏障\",regex=True)\n",
    "    patt = '三金补水面膜 镇静维稳 深层补水\\\\(补水\\\\)|三金美肤面膜 美白功效 健康肤色\\\\(美肤\\\\)|三金护肤面膜 维稳修护 强化屏障\\\\(护肤\\\\)|三金水光针\\\\(水光针\\\\)'\n",
    "    data['商品名'] = data['订单详情'].str.extract('(?P<商品名>%s)'%patt,expand=False).str.strip()\n",
    "    \n",
    "    data_info = data['用户信息'].str.extract(\"\"\"\n",
    "        (?<=下单人：)(?P<收件人>[^\\n]+)\n",
    "        \\s+手机：(?P<手机号码>[^\\n]+)\n",
    "        \\s+收货地址：(?P<收货地址>[^\\n]+)\"\"\",flags=re.S|re.X)\n",
    "    data = pd.concat([data,data_info],axis=1)\n",
    "    return data\n",
    "data = get_free_order(order_status=1)\n",
    "\n",
    "free_goods = sku_goods[sku_goods['goods_type']=='free']\n",
    "# patt= \"|\".join(free_goods['商品名'].unique()).replace(\"(\",\"\\(\").replace(\")\",\"\\)\")\n",
    "free_data = pd.merge(data\n",
    "             ,free_goods,on='商品名',how='left')\n",
    "\n",
    "\n",
    "\n"
   ]
  },
  {
   "cell_type": "code",
   "execution_count": 7,
   "metadata": {},
   "outputs": [],
   "source": [
    "data = pd.concat([free_data,original_data],sort = True)\n",
    "data['数量'] = data['数量'].astype(int)\n",
    "\n",
    "data['下单时间'] = pd.to_datetime(data['下单时间'])\n",
    "data['支付时间'] = pd.to_datetime(data['支付时间'])\n",
    "data = data.replace({\"支付金额\":{\"￥\":\"\"}},regex=True).fillna({\"支付金额\":0})\n",
    "data['支付金额'] = data['支付金额'].astype(int)"
   ]
  },
  {
   "cell_type": "code",
   "execution_count": 8,
   "metadata": {},
   "outputs": [],
   "source": [
    "l = ['订单号', '订单状态','商品ID', '下单时间', '支付时间','支付金额',\n",
    "\n",
    " '商品名', '规格', '单位', '单价', '数量', '备注',\n",
    "    \n",
    "'收件人', '手机号码', '收货地址','goods_type']\n",
    "\n",
    "data_r = data[l]\n",
    "\n",
    "data_r.to_excel(\"test.xlsx\",index=False)"
   ]
  },
  {
   "cell_type": "code",
   "execution_count": 9,
   "metadata": {},
   "outputs": [
    {
     "data": {
      "text/plain": [
       "0    19121152975655\n",
       "1    19121154991001\n",
       "2    19121198995498\n",
       "3    19121110153995\n",
       "4    19121155561005\n",
       "5    19121156101101\n",
       "0    19121150100515\n",
       "1    19121151981015\n",
       "2    19121110210097\n",
       "3    19121154485098\n",
       "4    19121010251551\n",
       "Name: 订单号, dtype: object"
      ]
     },
     "execution_count": 9,
     "metadata": {},
     "output_type": "execute_result"
    }
   ],
   "source": [
    "data_r['订单号']"
   ]
  },
  {
   "cell_type": "code",
   "execution_count": 16,
   "metadata": {},
   "outputs": [],
   "source": [
    "data_r.loc[:,'name'] = \"ORDER:NEW:20\"+data_r['订单号'].str[:2] +\":\" + data_r['订单号'].str[2:4] + \":\" + data_r['订单号'].str[4:6]"
   ]
  },
  {
   "cell_type": "code",
   "execution_count": 11,
   "metadata": {},
   "outputs": [],
   "source": [
    "import datetime\n",
    "class MyEncoder(json.JSONEncoder):\n",
    "    def default(self, obj):\n",
    "        if isinstance(obj, np.integer):\n",
    "            return int(obj)\n",
    "        elif isinstance(obj, np.floating):\n",
    "            return float(obj)\n",
    "        elif isinstance(obj, np.ndarray):\n",
    "            return obj.tolist()\n",
    "        \n",
    "        if isinstance(obj, datetime.datetime):  \n",
    "            return obj.strftime('%Y-%m-%d %H:%M:%S')  \n",
    "        else:\n",
    "            return super(MyEncoder, self).default(obj)\n",
    "\n"
   ]
  },
  {
   "cell_type": "code",
   "execution_count": 13,
   "metadata": {
    "scrolled": false
   },
   "outputs": [
    {
     "data": {
      "text/plain": [
       "0    None\n",
       "1    None\n",
       "2    None\n",
       "3    None\n",
       "4    None\n",
       "5    None\n",
       "0    None\n",
       "1    None\n",
       "2    None\n",
       "3    None\n",
       "4    None\n",
       "dtype: object"
      ]
     },
     "execution_count": 13,
     "metadata": {},
     "output_type": "execute_result"
    }
   ],
   "source": [
    "\n",
    "\n",
    "def uprow(row):\n",
    "\n",
    "    js = json.dumps(row.to_dict(),cls=MyEncoder,ensure_ascii=False)\n",
    "    conn.hset(row['name'],row['订单号'],js)\n",
    "data_r.apply(uprow,axis=1)"
   ]
  },
  {
   "cell_type": "code",
   "execution_count": null,
   "metadata": {},
   "outputs": [],
   "source": []
  },
  {
   "cell_type": "code",
   "execution_count": null,
   "metadata": {
    "scrolled": false
   },
   "outputs": [],
   "source": [
    "\n",
    "\n",
    "\n",
    "\n"
   ]
  }
 ],
 "metadata": {
  "kernelspec": {
   "display_name": "Python 3",
   "language": "python",
   "name": "python3"
  },
  "language_info": {
   "codemirror_mode": {
    "name": "ipython",
    "version": 3
   },
   "file_extension": ".py",
   "mimetype": "text/x-python",
   "name": "python",
   "nbconvert_exporter": "python",
   "pygments_lexer": "ipython3",
   "version": "3.6.5"
  }
 },
 "nbformat": 4,
 "nbformat_minor": 2
}
