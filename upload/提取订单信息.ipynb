{
 "cells": [
  {
   "cell_type": "markdown",
   "metadata": {},
   "source": [
    "### 获取订单号的参数\n",
    "\n",
    "```python\n",
    "\n",
    "qm = QHJMall(MALL_KEY)\n",
    "qm.get_order(order_type,**kargs)\n",
    "\n",
    "\n",
    "# 请求类型 0 表示所有订单 1 未发货  2 已发货 3 已完成 4 申请退款 5 退款成功  10 未支付\n",
    "\"order_status\": kargs.get(\"order_status\", 0),\n",
    "\"order_time\": kargs.get(\"order_time\", \"\"), # today yesterday week month\n",
    "\"order_id\": kargs.get(\"order_id\", \"\"), # 订单号\n",
    "\"order_type\": order_type,  # original free\n",
    "\"page\": kargs.get(\"page\", 1),  #\n",
    "\n",
    "```\n"
   ]
  },
  {
   "cell_type": "code",
   "execution_count": 1,
   "metadata": {
    "scrolled": true
   },
   "outputs": [],
   "source": [
    "import re\n",
    "import sys\n",
    "sys.path.append(r\"D:\\往期\\QHJ\\ZERO\")\n",
    "sys.path.append(r\"E:\\dataparse\\Python_DATA_PARSE\\QHJ\\ZERO\")\n",
    "import warnings\n",
    "warnings.filterwarnings(\"ignore\")\n",
    "\n",
    "from pyquery import PyQuery as pq\n",
    "import requests\n",
    "from urllib.parse import urlencode,parse_qs\n",
    "import numpy as np\n",
    "import pandas as pd\n",
    "import redis\n",
    "\n",
    "import json\n",
    "from tools import *\n",
    "\n",
    "qm = QHJMall(MALL_KEY)\n",
    "\n",
    "\n",
    "import datetime\n",
    "\n"
   ]
  },
  {
   "cell_type": "code",
   "execution_count": 2,
   "metadata": {},
   "outputs": [],
   "source": [
    "# 正式\n",
    "conn = redis.Redis(**REDIS_MALL_ORDER_DIC)\n",
    "\n",
    "# 测试\n",
    "\n"
   ]
  },
  {
   "cell_type": "code",
   "execution_count": 3,
   "metadata": {
    "scrolled": false
   },
   "outputs": [
    {
     "name": "stdout",
     "output_type": "stream",
     "text": [
      "请求 {'order_status': 1, 'order_time': 'yesterday', 'order_id': '', 'order_type': 'original', 'page': 1}\n",
      "请求 {'order_status': 1, 'order_time': 'yesterday', 'order_id': '', 'order_type': 'free', 'page': 1}\n",
      "请求 {'order_status': 1, 'order_time': 'yesterday', 'order_id': '', 'order_type': 'free', 'page': 3}\n",
      "请求 {'order_status': 1, 'order_time': 'yesterday', 'order_id': '', 'order_type': 'free', 'page': 2}\n",
      "请求 {'order_status': 1, 'order_time': 'today', 'order_id': '', 'order_type': 'original', 'page': 1}\n",
      "请求 {'order_status': 1, 'order_time': 'today', 'order_id': '', 'order_type': 'free', 'page': 1}\n"
     ]
    }
   ],
   "source": [
    "sku_goods = pd.read_excel(r'D:\\奇货居\\素材\\商城图片素材\\商品信息.xlsx',sheet_name='商品详情') \\\n",
    "                [['商品ID','发货商ID','goods_type','规格','单位', '市场价','售价','商品名简称']] \\\n",
    "                .rename(columns={\"售价\":\"单价\",\"商品名简称\":\"商品名\"}).fillna({\"goods_type\":\"original\"})\n",
    "\n",
    "free_goods = sku_goods[sku_goods['goods_type']=='free']\n",
    "\n",
    "order_kargs = {\n",
    "    \"order_status\":1,\n",
    "    \"order_time\":\"yesterday\"\n",
    "}\n",
    "\n",
    "yd_data = qm.ext_order(order_kargs,sku_goods,free_goods)\n",
    "\n",
    "order_kargs = {\n",
    "    \"order_status\":1,\n",
    "    \"order_time\":\"today\"\n",
    "}\n",
    "to_data = qm.ext_order(order_kargs,sku_goods,free_goods)"
   ]
  },
  {
   "cell_type": "code",
   "execution_count": 4,
   "metadata": {},
   "outputs": [],
   "source": [
    "\n",
    "def uprow(row,):\n",
    "    # 判断是否在已经 发过此物\n",
    "    if  conn.sismember('order:old' ,row['订单号']):\n",
    "        row['订单号'] = None\n",
    "        \n",
    "    return row\n",
    "\n",
    "\n",
    "\n",
    "save_dir = r\"D:\\Downloads\\QHJ_MALL\"\n",
    "save = SaveXl(save_dir)\n",
    "\n",
    "data = pd.concat([to_data.apply(uprow,axis=1), #\n",
    "                  yd_data.apply(uprow,axis=1)])\n",
    "data.dropna(subset=['订单号'],inplace=True)\n",
    "data.drop_duplicates(subset='订单号',inplace=True)"
   ]
  },
  {
   "cell_type": "code",
   "execution_count": 5,
   "metadata": {},
   "outputs": [
    {
     "data": {
      "text/plain": [
       "12"
      ]
     },
     "execution_count": 5,
     "metadata": {},
     "output_type": "execute_result"
    }
   ],
   "source": [
    "len(data)"
   ]
  },
  {
   "cell_type": "code",
   "execution_count": 6,
   "metadata": {},
   "outputs": [
    {
     "name": "stdout",
     "output_type": "stream",
     "text": [
      "已存入 D:\\Downloads\\QHJ_MALL\\订单 2019-12-16 15_46_18.xlsx\n",
      "读取供应商信息\n",
      "读取 D:\\Downloads\\QHJ_MALL\\订单 2019-12-16 15_46_18.xlsx\n",
      ">>>>系统字段统一为本地字段\n",
      ">>>>连接供应商信息\n",
      "存储订外发单信息\n",
      ">>>>备份\n",
      "\n",
      "存储新订单 D:\\奇货居\\work\\外发订单\\新订单\n",
      "['订单号', '商品ID', '供应商', '商品名', '数量', '规格', '单位', '收件人', '收货地址', '联系方式', '备注', '发货商']\n",
      ">>>>正在存储 三金_新订单 2019-12-16 15_46_18.xlsx\n",
      "新订单存储完成\n",
      "\n",
      ">>>>打开宏表\n",
      ">>>>开始运行\n",
      ">>>>关闭宏表\n",
      ">>>>关闭完成\n",
      "\n",
      "4.005s\n",
      "\n"
     ]
    }
   ],
   "source": [
    "\n",
    "\n",
    "\n",
    "save(data,\"订单\")\n",
    "%run D:\\往期\\QHJ\\ZERO\\app\\process_order.py\n"
   ]
  },
  {
   "cell_type": "code",
   "execution_count": 7,
   "metadata": {},
   "outputs": [
    {
     "ename": "NameError",
     "evalue": "name 'stop' is not defined",
     "output_type": "error",
     "traceback": [
      "\u001b[1;31m---------------------------------------------------------------------------\u001b[0m",
      "\u001b[1;31mNameError\u001b[0m                                 Traceback (most recent call last)",
      "\u001b[1;32m<ipython-input-7-4f76a9dad686>\u001b[0m in \u001b[0;36m<module>\u001b[1;34m\u001b[0m\n\u001b[1;32m----> 1\u001b[1;33m \u001b[0mstop\u001b[0m\u001b[1;33m\u001b[0m\u001b[0m\n\u001b[0m",
      "\u001b[1;31mNameError\u001b[0m: name 'stop' is not defined"
     ]
    }
   ],
   "source": [
    "\n",
    "\n",
    "stop\n"
   ]
  },
  {
   "cell_type": "code",
   "execution_count": null,
   "metadata": {},
   "outputs": [],
   "source": [
    "spp_path =  os.path.join(r\"D:\\奇货居\\素材\\商城图片素材\",\"发货商详情.xlsx\")\n",
    "spp_data = pd.read_excel(spp_path)"
   ]
  },
  {
   "cell_type": "code",
   "execution_count": null,
   "metadata": {},
   "outputs": [],
   "source": [
    "spp_data"
   ]
  },
  {
   "cell_type": "code",
   "execution_count": null,
   "metadata": {},
   "outputs": [],
   "source": [
    "\n"
   ]
  },
  {
   "cell_type": "code",
   "execution_count": null,
   "metadata": {},
   "outputs": [],
   "source": [
    "stop"
   ]
  },
  {
   "cell_type": "code",
   "execution_count": null,
   "metadata": {},
   "outputs": [],
   "source": [
    "d = dict(zip(spp_data['发货商ID'],spp_data['发货商'],))\n",
    "\n",
    "d"
   ]
  },
  {
   "cell_type": "code",
   "execution_count": null,
   "metadata": {},
   "outputs": [],
   "source": [
    "conn.keys('ORDER:NEW:TEMP*')"
   ]
  },
  {
   "cell_type": "code",
   "execution_count": null,
   "metadata": {},
   "outputs": [],
   "source": [
    "conn = redis.Redis(**REDIS_MALL_ORDER_DIC)\n",
    "\n",
    "conn.keys('ORDER:NEW:TEMP*')\n",
    "src_new = 'ORDER:NEW:TEMP:S0003'\n",
    "dst_new = src_new.replace(\":TEMP\",\"\")\n",
    "conn.sunionstore( dst_new,dst_new,src_new)\n",
    "conn.delete(src_new)"
   ]
  },
  {
   "cell_type": "code",
   "execution_count": null,
   "metadata": {
    "scrolled": false
   },
   "outputs": [],
   "source": [
    "# conn.sunionstore('ORDER:NEW',\"ORDER:NEW_TEMP\",'ORDER:NEW')\n",
    "\n",
    "# conn.sadd(\"ORDER:NEW\",\"zero\")\n",
    "# conn.sadd(\"ORDER:WB\",\"zero\")\n",
    "# conn.sadd(\"ORDER:NEW_TEMP\",\"zero\")"
   ]
  }
 ],
 "metadata": {
  "kernelspec": {
   "display_name": "Python 3",
   "language": "python",
   "name": "python3"
  },
  "language_info": {
   "codemirror_mode": {
    "name": "ipython",
    "version": 3
   },
   "file_extension": ".py",
   "mimetype": "text/x-python",
   "name": "python",
   "nbconvert_exporter": "python",
   "pygments_lexer": "ipython3",
   "version": "3.6.5"
  }
 },
 "nbformat": 4,
 "nbformat_minor": 2
}
