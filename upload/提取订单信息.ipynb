{
 "cells": [
  {
   "cell_type": "markdown",
   "metadata": {},
   "source": [
    "### 获取订单号的参数\n",
    "\n",
    "```python\n",
    "\n",
    "qm = QHJMall(MALL_KEY)\n",
    "qm.get_order(order_type,**kargs)\n",
    "\n",
    "\n",
    "# 请求类型 0 表示所有订单 1 未发货  2 已发货 3 已完成 4 申请退款 5 退款成功  10 未支付\n",
    "\"order_status\": kargs.get(\"order_status\", 0),\n",
    "\"order_time\": kargs.get(\"order_time\", \"\"), # today yesterday week month\n",
    "\"order_id\": kargs.get(\"order_id\", \"\"), # 订单号\n",
    "\"order_type\": order_type,  # original free\n",
    "\"page\": kargs.get(\"page\", 1),  #\n",
    "\n",
    "```\n"
   ]
  },
  {
   "cell_type": "code",
   "execution_count": 1,
   "metadata": {
    "scrolled": true
   },
   "outputs": [],
   "source": [
    "import re\n",
    "import sys\n",
    "sys.path.append(r\"D:\\往期\\QHJ\\ZERO\")\n",
    "sys.path.append(r\"E:\\dataparse\\Python_DATA_PARSE\\QHJ\\ZERO\")\n",
    "import warnings\n",
    "warnings.filterwarnings(\"ignore\")\n",
    "\n",
    "from pyquery import PyQuery as pq\n",
    "import requests\n",
    "from urllib.parse import urlencode,parse_qs\n",
    "import numpy as np\n",
    "import pandas as pd\n",
    "import redis\n",
    "\n",
    "import json\n",
    "from tools import *\n",
    "\n",
    "qm = QHJMall(MALL_KEY)\n",
    "\n",
    "\n",
    "import datetime\n",
    "\n",
    "sku_goods = pd.read_excel(r'D:\\奇货居\\素材\\商城图片素材\\商品信息.xlsx',sheet_name='商品详情') \\\n",
    "                [['商品ID','发货商ID','goods_type','规格','单位', '市场价','售价','商品名简称']] \\\n",
    "                .rename(columns={\"售价\":\"单价\",\"商品名简称\":\"商品名\"}).fillna({\"goods_type\":\"original\"})\n",
    "\n",
    "free_goods = sku_goods[sku_goods['goods_type']=='free']\n"
   ]
  },
  {
   "cell_type": "code",
   "execution_count": 28,
   "metadata": {
    "scrolled": false
   },
   "outputs": [
    {
     "name": "stdout",
     "output_type": "stream",
     "text": [
      "请求 {'order_status': 0, 'order_time': '', 'order_id': '', 'order_type': 'original', 'page': 1}\n"
     ]
    }
   ],
   "source": [
    "l = []\n",
    "# for order in qm.gen_orders(\"free\",order_status=1,order_time=\"today\"):\n",
    "#     l.append(order)\n",
    "# for order in qm.gen_orders(\"free\",order_status=1,order_time=\"yesterday\"):\n",
    "#     l.append(order)\n",
    "for order in qm.gen_orders(\"original\"):\n",
    "    l.append(order)"
   ]
  },
  {
   "cell_type": "code",
   "execution_count": 31,
   "metadata": {},
   "outputs": [],
   "source": [
    "commodity_df = pd.read_excel(COMMODITY_PATH)\n",
    "\n",
    "\n",
    "\n",
    "# In[3]:\n",
    "\n",
    "sku_goods = commodity_df \\\n",
    "                [['商品ID', '发货商','发货商ID','goods_type','规格','单位', '市场价','售价','商品名简称']] \\\n",
    "                .rename(columns={\"售价\":\"单价\",\"商品名简称\":\"商品名\"}).fillna({\"goods_type\":\"original\"})"
   ]
  },
  {
   "cell_type": "code",
   "execution_count": 32,
   "metadata": {},
   "outputs": [
    {
     "data": {
      "text/plain": [
       "Index(['商品ID', '发货商', '发货商ID', 'goods_type', '规格', '单位', '市场价', '单价', '商品名'], dtype='object')"
      ]
     },
     "execution_count": 32,
     "metadata": {},
     "output_type": "execute_result"
    }
   ],
   "source": [
    "sku_goods.columns\n"
   ]
  },
  {
   "cell_type": "code",
   "execution_count": 34,
   "metadata": {},
   "outputs": [],
   "source": [
    "data = pd.DataFrame(l)\n",
    "\n",
    "\n",
    "data = pd.concat([data['用户信息'].str.extract(\"\"\"\n",
    "        (?<=下单人：)(?P<收件人>[^\\n]+)\n",
    "        \\s+手机：(?P<联系方式>[^\\n]+)\n",
    "        \\s+收货地址：(?P<收货地址>[^\\n]+)\"\"\", flags=re.S | re.X),data],axis=1)\n",
    "data = data.replace({\"支付金额\": {\"￥\": \"\"}}, regex=True).fillna({\"支付金额\": 0})\n",
    "\n",
    "try:\n",
    "    data['支付金额'] = data['支付金额'].astype(int)\n",
    "except :\n",
    "    data['支付金额'] = 0\n",
    "\n",
    "\n",
    "original_data = data[data['order_type'] == \"original\"]\n",
    "# 拆分为原子\n",
    "o_df_r = original_data.drop(columns='订单详情').join(original_data['订单详情'].str.split('\\n',expand=True).stack().reset_index(level=1, drop=True).rename(\"详情\"))\n",
    "\n",
    "\n",
    "o_df_r = pd.concat([o_df_r[['订单号', '收件人','联系方式','收货地址', '用户信息','下单时间','order_type']], o_df_r['详情'].str.extract(\n",
    "\"\"\"\n",
    "(?P<商品名>.+?)(?=（规格[：:])（\n",
    "规格[：:](?P<规格>.+?)(?=[，,]商品ID[：:])\n",
    "[，,]商品ID[：:](?P<商品ID>.+)）\\sX(?P<数量>\\s\\d+)\"\"\",flags=re.X)],axis=1)\n",
    "o_df_r['发货商ID'] = o_df_r['商品ID'].str[:5]\n",
    "o_df_r['SPUID'] = o_df_r['商品ID'].str[:-6]\n",
    "o_df_r.reset_index(drop=True,inplace=True)\n",
    "\n",
    "\n",
    "o_df_r = pd.merge(o_df_r,sku_goods[['商品ID','单价']],on=\"商品ID\")\n",
    "o_df_r['数量'] = o_df_r['数量'].astype(int)\n",
    "o_df_r['总价'] = o_df_r['数量'] * o_df_r['单价']\n",
    "\n",
    "\n",
    "o_df_r.to_excel(r\"C:\\Users\\qhj01\\Desktop\\ttt.xlsx\")\n"
   ]
  },
  {
   "cell_type": "code",
   "execution_count": null,
   "metadata": {},
   "outputs": [],
   "source": [
    "data = data.replace(\"三金美肤面膜 缓解过敏 修复护理|三金美肤面膜 维稳修护 强化屏障\", \"三金护肤面膜 维稳修护 强化屏障\", regex=True)\n",
    "        patt = '三金补水面膜 镇静维稳 深层补水\\\\(补水\\\\)|三金美肤面膜 美白功效 健康肤色\\\\(美肤\\\\)|三金护肤面膜 维稳修护 强化屏障\\\\(护肤\\\\)|三金水光针\\\\(水光针\\\\)'\n",
    "        data['商品名'] = data['订单详情'].str.extract('(?P<商品名>%s)' % patt, expand=False).str.strip()"
   ]
  },
  {
   "cell_type": "code",
   "execution_count": 4,
   "metadata": {},
   "outputs": [],
   "source": [
    "# 提取数据\n",
    "df_t = pd.concat([f_df_r[['订单号', '收件人','联系方式','收货地址', '用户信息','下单时间','order_type']], f_df_r['详情'].str.extract(\n",
    "\"\"\"\n",
    "(?P<商品名>.+?)(?=（规格[：:])（\n",
    "规格[：:](?P<规格>.+?)(?=[，,]商品ID[：:])\n",
    "[，,]商品ID[：:](?P<商品ID>.+)）\\sX(?P<数量>\\s\\d+)\"\"\",flags=re.X)],axis=1)\n",
    "df_t['发货商ID'] = df_t['商品ID'].str[:5]\n",
    "df_t['SPUID'] = df_t['商品ID'].str[:-6]\n",
    "df_t.reset_index(drop=True,inplace=True)\n",
    "# df_t['数量'] = df_t['数量'].astype(str)\n",
    "# df_t = df_t[['商品名',\"发货商ID\",'SPUID','商品ID','规格','数量','订单号', '用户信息','下单时间']]"
   ]
  },
  {
   "cell_type": "code",
   "execution_count": 12,
   "metadata": {},
   "outputs": [
    {
     "data": {
      "text/plain": [
       "10"
      ]
     },
     "execution_count": 12,
     "metadata": {},
     "output_type": "execute_result"
    }
   ],
   "source": [
    "len(f_df_r)"
   ]
  },
  {
   "cell_type": "code",
   "execution_count": 5,
   "metadata": {
    "scrolled": true
   },
   "outputs": [
    {
     "name": "stdout",
     "output_type": "stream",
     "text": [
      "==============================\n",
      "==============================\n",
      "==============================\n",
      "==============================\n",
      "==============================\n",
      "==============================\n"
     ]
    },
    {
     "data": {
      "text/html": [
       "<div>\n",
       "<style scoped>\n",
       "    .dataframe tbody tr th:only-of-type {\n",
       "        vertical-align: middle;\n",
       "    }\n",
       "\n",
       "    .dataframe tbody tr th {\n",
       "        vertical-align: top;\n",
       "    }\n",
       "\n",
       "    .dataframe thead th {\n",
       "        text-align: right;\n",
       "    }\n",
       "</style>\n",
       "<table border=\"1\" class=\"dataframe\">\n",
       "  <thead>\n",
       "    <tr style=\"text-align: right;\">\n",
       "      <th></th>\n",
       "      <th></th>\n",
       "      <th>订单号</th>\n",
       "      <th>收件人</th>\n",
       "      <th>联系方式</th>\n",
       "      <th>收货地址</th>\n",
       "      <th>用户信息</th>\n",
       "      <th>下单时间</th>\n",
       "      <th>order_type</th>\n",
       "      <th>商品名</th>\n",
       "      <th>规格</th>\n",
       "      <th>商品ID</th>\n",
       "      <th>数量</th>\n",
       "      <th>发货商ID</th>\n",
       "      <th>SPUID</th>\n",
       "    </tr>\n",
       "    <tr>\n",
       "      <th>发货商ID</th>\n",
       "      <th>SPUID</th>\n",
       "      <th></th>\n",
       "      <th></th>\n",
       "      <th></th>\n",
       "      <th></th>\n",
       "      <th></th>\n",
       "      <th></th>\n",
       "      <th></th>\n",
       "      <th></th>\n",
       "      <th></th>\n",
       "      <th></th>\n",
       "      <th></th>\n",
       "      <th></th>\n",
       "      <th></th>\n",
       "    </tr>\n",
       "  </thead>\n",
       "  <tbody>\n",
       "    <tr>\n",
       "      <th rowspan=\"3\" valign=\"top\">S0001</th>\n",
       "      <th>S0001P0005C0001</th>\n",
       "      <td>4009762104869953</td>\n",
       "      <td>左泽郡</td>\n",
       "      <td>18774979616</td>\n",
       "      <td>湖南省长沙市开福区北桥新村11栋502</td>\n",
       "      <td>下单人：左泽郡\\n手机：18774979616\\n收货地址：湖南省长沙市开福区北桥新村11栋502</td>\n",
       "      <td>2019-12-17 09:12:04</td>\n",
       "      <td>original</td>\n",
       "      <td>蓝牙音箱AP06</td>\n",
       "      <td>白 X  4；红 X  6；蓝 X  12；银 X  15</td>\n",
       "      <td>S0001P0005C0001P03E01</td>\n",
       "      <td>37</td>\n",
       "      <td>S0001</td>\n",
       "      <td>S0001P0005C0001</td>\n",
       "    </tr>\n",
       "    <tr>\n",
       "      <th>S0001P0005C0002</th>\n",
       "      <td>4009762104869953</td>\n",
       "      <td>左泽郡</td>\n",
       "      <td>18774979616</td>\n",
       "      <td>湖南省长沙市开福区北桥新村11栋502</td>\n",
       "      <td>下单人：左泽郡\\n手机：18774979616\\n收货地址：湖南省长沙市开福区北桥新村11栋502</td>\n",
       "      <td>2019-12-17 09:12:04</td>\n",
       "      <td>original</td>\n",
       "      <td>颈戴式运动蓝牙耳机</td>\n",
       "      <td>黑 X  8</td>\n",
       "      <td>S0001P0005C0002P02E01</td>\n",
       "      <td>8</td>\n",
       "      <td>S0001</td>\n",
       "      <td>S0001P0005C0002</td>\n",
       "    </tr>\n",
       "    <tr>\n",
       "      <th>S0001P0007C0001</th>\n",
       "      <td>4009762104869953</td>\n",
       "      <td>左泽郡</td>\n",
       "      <td>18774979616</td>\n",
       "      <td>湖南省长沙市开福区北桥新村11栋502</td>\n",
       "      <td>下单人：左泽郡\\n手机：18774979616\\n收货地址：湖南省长沙市开福区北桥新村11栋502</td>\n",
       "      <td>2019-12-17 09:12:04</td>\n",
       "      <td>original</td>\n",
       "      <td>爱玛电动车TDT1067Z</td>\n",
       "      <td>白/亚黑 X  4</td>\n",
       "      <td>S0001P0007C0001P01E01</td>\n",
       "      <td>4</td>\n",
       "      <td>S0001</td>\n",
       "      <td>S0001P0007C0001</td>\n",
       "    </tr>\n",
       "    <tr>\n",
       "      <th rowspan=\"2\" valign=\"top\">S0002</th>\n",
       "      <th>S0002P0001C0001</th>\n",
       "      <td>4009762104869953</td>\n",
       "      <td>左泽郡</td>\n",
       "      <td>18774979616</td>\n",
       "      <td>湖南省长沙市开福区北桥新村11栋502</td>\n",
       "      <td>下单人：左泽郡\\n手机：18774979616\\n收货地址：湖南省长沙市开福区北桥新村11栋502</td>\n",
       "      <td>2019-12-17 09:12:04</td>\n",
       "      <td>original</td>\n",
       "      <td>iPhone 11</td>\n",
       "      <td>紫 64G X  5；白 128G X  1</td>\n",
       "      <td>S0002P0001C0001P06E01</td>\n",
       "      <td>6</td>\n",
       "      <td>S0002</td>\n",
       "      <td>S0002P0001C0001</td>\n",
       "    </tr>\n",
       "    <tr>\n",
       "      <th>S0002P0001C0002</th>\n",
       "      <td>4009762104869953</td>\n",
       "      <td>左泽郡</td>\n",
       "      <td>18774979616</td>\n",
       "      <td>湖南省长沙市开福区北桥新村11栋502</td>\n",
       "      <td>下单人：左泽郡\\n手机：18774979616\\n收货地址：湖南省长沙市开福区北桥新村11栋502</td>\n",
       "      <td>2019-12-17 09:12:04</td>\n",
       "      <td>original</td>\n",
       "      <td>iPhone 11 Pro</td>\n",
       "      <td>金 256G X  3；绿 256G X  3</td>\n",
       "      <td>S0002P0001C0002P06E01</td>\n",
       "      <td>6</td>\n",
       "      <td>S0002</td>\n",
       "      <td>S0002P0001C0002</td>\n",
       "    </tr>\n",
       "  </tbody>\n",
       "</table>\n",
       "</div>"
      ],
      "text/plain": [
       "                                    订单号  收件人         联系方式  \\\n",
       "发货商ID SPUID                                                 \n",
       "S0001 S0001P0005C0001  4009762104869953  左泽郡  18774979616   \n",
       "      S0001P0005C0002  4009762104869953  左泽郡  18774979616   \n",
       "      S0001P0007C0001  4009762104869953  左泽郡  18774979616   \n",
       "S0002 S0002P0001C0001  4009762104869953  左泽郡  18774979616   \n",
       "      S0002P0001C0002  4009762104869953  左泽郡  18774979616   \n",
       "\n",
       "                                      收货地址  \\\n",
       "发货商ID SPUID                                  \n",
       "S0001 S0001P0005C0001  湖南省长沙市开福区北桥新村11栋502   \n",
       "      S0001P0005C0002  湖南省长沙市开福区北桥新村11栋502   \n",
       "      S0001P0007C0001  湖南省长沙市开福区北桥新村11栋502   \n",
       "S0002 S0002P0001C0001  湖南省长沙市开福区北桥新村11栋502   \n",
       "      S0002P0001C0002  湖南省长沙市开福区北桥新村11栋502   \n",
       "\n",
       "                                                                    用户信息  \\\n",
       "发货商ID SPUID                                                                \n",
       "S0001 S0001P0005C0001  下单人：左泽郡\\n手机：18774979616\\n收货地址：湖南省长沙市开福区北桥新村11栋502   \n",
       "      S0001P0005C0002  下单人：左泽郡\\n手机：18774979616\\n收货地址：湖南省长沙市开福区北桥新村11栋502   \n",
       "      S0001P0007C0001  下单人：左泽郡\\n手机：18774979616\\n收货地址：湖南省长沙市开福区北桥新村11栋502   \n",
       "S0002 S0002P0001C0001  下单人：左泽郡\\n手机：18774979616\\n收货地址：湖南省长沙市开福区北桥新村11栋502   \n",
       "      S0002P0001C0002  下单人：左泽郡\\n手机：18774979616\\n收货地址：湖南省长沙市开福区北桥新村11栋502   \n",
       "\n",
       "                                      下单时间 order_type            商品名  \\\n",
       "发货商ID SPUID                                                            \n",
       "S0001 S0001P0005C0001  2019-12-17 09:12:04   original       蓝牙音箱AP06   \n",
       "      S0001P0005C0002  2019-12-17 09:12:04   original      颈戴式运动蓝牙耳机   \n",
       "      S0001P0007C0001  2019-12-17 09:12:04   original  爱玛电动车TDT1067Z   \n",
       "S0002 S0002P0001C0001  2019-12-17 09:12:04   original      iPhone 11   \n",
       "      S0002P0001C0002  2019-12-17 09:12:04   original  iPhone 11 Pro   \n",
       "\n",
       "                                                  规格                   商品ID  \\\n",
       "发货商ID SPUID                                                                   \n",
       "S0001 S0001P0005C0001  白 X  4；红 X  6；蓝 X  12；银 X  15  S0001P0005C0001P03E01   \n",
       "      S0001P0005C0002                         黑 X  8  S0001P0005C0002P02E01   \n",
       "      S0001P0007C0001                      白/亚黑 X  4  S0001P0007C0001P01E01   \n",
       "S0002 S0002P0001C0001         紫 64G X  5；白 128G X  1  S0002P0001C0001P06E01   \n",
       "      S0002P0001C0002        金 256G X  3；绿 256G X  3  S0002P0001C0002P06E01   \n",
       "\n",
       "                       数量  发货商ID            SPUID  \n",
       "发货商ID SPUID                                        \n",
       "S0001 S0001P0005C0001  37  S0001  S0001P0005C0001  \n",
       "      S0001P0005C0002   8  S0001  S0001P0005C0002  \n",
       "      S0001P0007C0001   4  S0001  S0001P0007C0001  \n",
       "S0002 S0002P0001C0001   6  S0002  S0002P0001C0001  \n",
       "      S0002P0001C0002   6  S0002  S0002P0001C0002  "
      ]
     },
     "execution_count": 5,
     "metadata": {},
     "output_type": "execute_result"
    }
   ],
   "source": [
    "# 可发货分类\n",
    "def tt(row):\n",
    "    r = row.copy()\n",
    "#     print(r['数量'])\n",
    "    s = '；'.join(r['规格'] + \" X \" +r['数量'])\n",
    "    r.iloc[0]['数量'] = r['数量'].astype(int).sum()\n",
    "    r.iloc[0]['规格'] = s\n",
    "#     print(row)\n",
    "    print(\"=\"*30)\n",
    "    return r.iloc[0]\n",
    "    \n",
    "df_t.groupby(['发货商ID','SPUID']).apply(tt)"
   ]
  },
  {
   "cell_type": "code",
   "execution_count": 27,
   "metadata": {},
   "outputs": [
    {
     "name": "stdout",
     "output_type": "stream",
     "text": [
      "==============================\n",
      "==============================\n",
      "==============================\n",
      "==============================\n",
      "==============================\n",
      "==============================\n"
     ]
    }
   ],
   "source": [
    "df_t.groupby(['发货商ID','SPUID']).apply(tt).to_excel(r\"C:\\Users\\qhj01\\Desktop\\ttt.xlsx\")"
   ]
  },
  {
   "cell_type": "code",
   "execution_count": 11,
   "metadata": {},
   "outputs": [
    {
     "ename": "NameError",
     "evalue": "name 'stop' is not defined",
     "output_type": "error",
     "traceback": [
      "\u001b[1;31m---------------------------------------------------------------------------\u001b[0m",
      "\u001b[1;31mNameError\u001b[0m                                 Traceback (most recent call last)",
      "\u001b[1;32m<ipython-input-11-4f76a9dad686>\u001b[0m in \u001b[0;36m<module>\u001b[1;34m\u001b[0m\n\u001b[1;32m----> 1\u001b[1;33m \u001b[0mstop\u001b[0m\u001b[1;33m\u001b[0m\u001b[0m\n\u001b[0m",
      "\u001b[1;31mNameError\u001b[0m: name 'stop' is not defined"
     ]
    }
   ],
   "source": [
    "stop"
   ]
  },
  {
   "cell_type": "code",
   "execution_count": null,
   "metadata": {},
   "outputs": [],
   "source": [
    "l = []\n",
    "for order in qm.gen_orders(\"free\",order_time='today'):\n",
    "    l.append(order)"
   ]
  },
  {
   "cell_type": "code",
   "execution_count": null,
   "metadata": {},
   "outputs": [],
   "source": [
    "pd.DataFrame(l).to_excel(r\"C:\\Users\\qhj01\\Desktop\\test.xlsx\")"
   ]
  },
  {
   "cell_type": "code",
   "execution_count": null,
   "metadata": {},
   "outputs": [],
   "source": []
  },
  {
   "cell_type": "code",
   "execution_count": null,
   "metadata": {},
   "outputs": [],
   "source": [
    "# 正式\n",
    "conn = redis.Redis(**REDIS_MALL_ORDER_DIC)\n",
    "\n",
    "# 测试\n",
    "\n"
   ]
  },
  {
   "cell_type": "code",
   "execution_count": null,
   "metadata": {
    "scrolled": false
   },
   "outputs": [],
   "source": [
    "sku_goods = pd.read_excel(r'D:\\奇货居\\素材\\商城图片素材\\商品信息.xlsx',sheet_name='商品详情') \\\n",
    "                [['商品ID','发货商ID','goods_type','规格','单位', '市场价','售价','商品名简称']] \\\n",
    "                .rename(columns={\"售价\":\"单价\",\"商品名简称\":\"商品名\"}).fillna({\"goods_type\":\"original\"})\n",
    "\n",
    "free_goods = sku_goods[sku_goods['goods_type']=='free']\n",
    "\n",
    "order_kargs = {\n",
    "    \"order_status\":1,\n",
    "    \"order_time\":\"yesterday\"\n",
    "}\n",
    "\n",
    "yd_data = qm.ext_order(order_kargs,sku_goods,free_goods)\n",
    "\n",
    "order_kargs = {\n",
    "    \"order_status\":1,\n",
    "    \"order_time\":\"today\"\n",
    "}\n",
    "to_data = qm.ext_order(order_kargs,sku_goods,free_goods)"
   ]
  },
  {
   "cell_type": "code",
   "execution_count": null,
   "metadata": {},
   "outputs": [],
   "source": [
    "\n",
    "def uprow(row,):\n",
    "    # 判断是否在已经 发过此物\n",
    "    if  conn.sismember('order:old' ,row['订单号']):\n",
    "        row['订单号'] = None\n",
    "        \n",
    "    return row\n",
    "\n",
    "\n",
    "\n",
    "\n",
    "\n",
    "data = pd.concat([to_data.apply(uprow,axis=1), #\n",
    "                  yd_data.apply(uprow,axis=1)])\n",
    "data.dropna(subset=['订单号'],inplace=True)\n",
    "data.drop_duplicates(subset='订单号',inplace=True)"
   ]
  },
  {
   "cell_type": "code",
   "execution_count": null,
   "metadata": {},
   "outputs": [],
   "source": [
    "len(data)"
   ]
  },
  {
   "cell_type": "code",
   "execution_count": null,
   "metadata": {},
   "outputs": [],
   "source": [
    "\n",
    "save_dir = r\"D:\\Downloads\\QHJ_MALL\"\n",
    "save = SaveXl(save_dir)\n",
    "save(data,\"订单\")\n",
    "%run D:\\往期\\QHJ\\ZERO\\app\\process_order.py\n"
   ]
  },
  {
   "cell_type": "code",
   "execution_count": null,
   "metadata": {},
   "outputs": [],
   "source": [
    "\n",
    "\n",
    "stop\n"
   ]
  },
  {
   "cell_type": "code",
   "execution_count": null,
   "metadata": {},
   "outputs": [],
   "source": [
    "spp_path =  os.path.join(r\"D:\\奇货居\\素材\\商城图片素材\",\"发货商详情.xlsx\")\n",
    "spp_data = pd.read_excel(spp_path)"
   ]
  },
  {
   "cell_type": "code",
   "execution_count": null,
   "metadata": {},
   "outputs": [],
   "source": [
    "spp_data"
   ]
  },
  {
   "cell_type": "code",
   "execution_count": null,
   "metadata": {},
   "outputs": [],
   "source": [
    "\n"
   ]
  },
  {
   "cell_type": "code",
   "execution_count": null,
   "metadata": {},
   "outputs": [],
   "source": [
    "stop"
   ]
  },
  {
   "cell_type": "code",
   "execution_count": null,
   "metadata": {},
   "outputs": [],
   "source": [
    "d = dict(zip(spp_data['发货商ID'],spp_data['发货商'],))\n",
    "\n",
    "d"
   ]
  },
  {
   "cell_type": "code",
   "execution_count": null,
   "metadata": {},
   "outputs": [],
   "source": [
    "conn.keys('ORDER:NEW:TEMP*')"
   ]
  },
  {
   "cell_type": "code",
   "execution_count": null,
   "metadata": {},
   "outputs": [],
   "source": [
    "conn = redis.Redis(**REDIS_MALL_ORDER_DIC)\n",
    "\n",
    "conn.keys('ORDER:NEW:TEMP*')\n",
    "src_new = 'ORDER:NEW:TEMP:S0003'\n",
    "dst_new = src_new.replace(\":TEMP\",\"\")\n",
    "conn.sunionstore( dst_new,dst_new,src_new)\n",
    "conn.delete(src_new)"
   ]
  },
  {
   "cell_type": "code",
   "execution_count": null,
   "metadata": {
    "scrolled": false
   },
   "outputs": [],
   "source": [
    "# conn.sunionstore('ORDER:NEW',\"ORDER:NEW_TEMP\",'ORDER:NEW')\n",
    "\n",
    "# conn.sadd(\"ORDER:NEW\",\"zero\")\n",
    "# conn.sadd(\"ORDER:WB\",\"zero\")\n",
    "# conn.sadd(\"ORDER:NEW_TEMP\",\"zero\")"
   ]
  }
 ],
 "metadata": {
  "kernelspec": {
   "display_name": "Python 3",
   "language": "python",
   "name": "python3"
  },
  "language_info": {
   "codemirror_mode": {
    "name": "ipython",
    "version": 3
   },
   "file_extension": ".py",
   "mimetype": "text/x-python",
   "name": "python",
   "nbconvert_exporter": "python",
   "pygments_lexer": "ipython3",
   "version": "3.6.5"
  }
 },
 "nbformat": 4,
 "nbformat_minor": 2
}
