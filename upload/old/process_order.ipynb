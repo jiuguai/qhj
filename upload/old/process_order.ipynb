{
 "cells": [
  {
   "cell_type": "code",
   "execution_count": 1,
   "metadata": {},
   "outputs": [
    {
     "name": "stdout",
     "output_type": "stream",
     "text": [
      "连接数据库\n"
     ]
    }
   ],
   "source": [
    "import os\n",
    "import sys\n",
    "sys.path.append(r\"D:\\往期\\奇货居\\ZERO\")\n",
    "\n",
    "import numpy as np\n",
    "import pandas as pd\n",
    "import pymysql\n",
    "from sqlalchemy import create_engine\n",
    "\n",
    "\n",
    "import warnings\n",
    "\n",
    "warnings.filterwarnings('ignore')\n",
    "from tools import *\n",
    "\n",
    "start_time('handle_order')\n",
    "\n",
    "\n",
    "# 初始化数据库连接，使用pymysql模块\n",
    "conn_dic = {\n",
    "    \"user\":\"root\",\n",
    "    \"password\":\"jiuguai\",\n",
    "    \"host\":\"localhost\",\n",
    "    \"port\":3306,\n",
    "    \"database\":\"qhj\",\n",
    "    \"charset\" :\"utf8mb4\"\n",
    "}\n",
    "conn_s = 'mysql+pymysql://{user}:{password}@{host}:{port}/{database}'.format(**conn_dic)\n",
    "\n",
    "engine = create_engine(conn_s, encoding='utf-8')\n",
    "print('连接数据库')\n",
    "conn = pymysql.connect(**conn_dic)\n",
    "# cursor = conn.cursor(cursor=pymysql.cursors.DictCursor)\n",
    "cursor = conn.cursor()\n",
    "tables_count, tables = get_tables(cursor)\n",
    "\n",
    "lt_time = None\n",
    "fm_lt_time = None"
   ]
  },
  {
   "cell_type": "code",
   "execution_count": 2,
   "metadata": {},
   "outputs": [
    {
     "data": {
      "text/plain": [
       "'\\n读取数据\\n\\n'"
      ]
     },
     "execution_count": 2,
     "metadata": {},
     "output_type": "execute_result"
    }
   ],
   "source": [
    "\"\"\"\n",
    "读取数据\n",
    "\n",
    "\"\"\""
   ]
  },
  {
   "cell_type": "code",
   "execution_count": 3,
   "metadata": {
    "scrolled": false
   },
   "outputs": [
    {
     "name": "stdout",
     "output_type": "stream",
     "text": [
      "读取供应商信息\n",
      "更新供应商数据到数据库\n",
      "读取 D:\\Downloads\\订单2019-08-30 17_40_49.xlsx\n",
      ">>>>系统字段统一为本地字段\n",
      ">>>>连接供应商信息\n"
     ]
    }
   ],
   "source": [
    "\n",
    "\n",
    "# 读取 供应商信息\n",
    "print('读取供应商信息')\n",
    "commodity_df = pd.read_excel(COMMODITY_PATH)\n",
    "\n",
    "print('更新供应商数据到数据库')\n",
    "commodity_df.to_sql(\"products\",engine,if_exists='replace',index=False)\n",
    "\n",
    "commodity_df = commodity_df[['商品ID','供应商ID','供应商',\"发货商\",\"发货商ID\"]]\n",
    "\n",
    "# 读取导出信息\n",
    "\n",
    "order_path, lt_time = get_new_file_path(EXPORT_DIR,ORDER_DATE_PATT)\n",
    "fm_lt_time = lt_time.strftime(DATE_FORMAT)\n",
    "\n",
    "print('读取 %s' %order_path)\n",
    "data = pd.read_excel(order_path)\n",
    "data = OrderInMiddleware(data)()\n",
    "\n",
    "data['导出订单时间'] = lt_time\n",
    "\n",
    "print('>>>>系统字段统一为本地字段')\n",
    "data.rename(columns=FIELDS_SLM_DIC,inplace=True)\n",
    "\n",
    "\n",
    "# 获取供应商\n",
    "print('>>>>连接供应商信息')\n",
    "data = pd.merge(data,commodity_df,how='left',on='商品ID')\n",
    "\n",
    "\n"
   ]
  },
  {
   "cell_type": "code",
   "execution_count": 4,
   "metadata": {},
   "outputs": [
    {
     "data": {
      "text/plain": [
       "'\\n分离更新 还是 插入的数据\\n'"
      ]
     },
     "execution_count": 4,
     "metadata": {},
     "output_type": "execute_result"
    }
   ],
   "source": [
    "\"\"\"\n",
    "分离更新 还是 插入的数据\n",
    "\"\"\""
   ]
  },
  {
   "cell_type": "code",
   "execution_count": 5,
   "metadata": {},
   "outputs": [
    {
     "name": "stdout",
     "output_type": "stream",
     "text": [
      ">>>>将订单分离为 需要更新 和 需要外发两部分\n",
      "\n"
     ]
    }
   ],
   "source": [
    "# 处理系统导出的数据表\n",
    "\n",
    "print('>>>>将订单分离为 需要更新 和 需要外发两部分\\n')\n",
    "up_order_df = None\n",
    "if \"运单号\" in data.columns:\n",
    "    # 需要更新的信息\n",
    "    up_order_df = data[data['运单号'].notnull()]\n",
    "    # 产生的新订单\n",
    "    new_order_df = data[data['运单号'].isnull()]\n",
    "else:\n",
    "    new_order_df = data.copy()"
   ]
  },
  {
   "cell_type": "code",
   "execution_count": 6,
   "metadata": {},
   "outputs": [
    {
     "data": {
      "text/plain": [
       "'\\n存储 及备 份\\n'"
      ]
     },
     "execution_count": 6,
     "metadata": {},
     "output_type": "execute_result"
    }
   ],
   "source": [
    "\"\"\"\n",
    "存储 及备 份\n",
    "\"\"\""
   ]
  },
  {
   "cell_type": "code",
   "execution_count": 7,
   "metadata": {
    "scrolled": false
   },
   "outputs": [
    {
     "name": "stdout",
     "output_type": "stream",
     "text": [
      "存储订外发单信息\n",
      ">>>>备份\n",
      ">>>>存入临时数据库 export_order\n",
      "\n"
     ]
    }
   ],
   "source": [
    "# 存储新订单信息\n",
    "\n",
    "if len(new_order_df):\n",
    "    print(\"存储订外发单信息\")\n",
    "    new_order_path = os.path.join(NEW_ORDER_BAK_DIR,\"订单 %s.xlsx\" %(fm_lt_time))\n",
    "    print('>>>>备份')\n",
    "    new_order_df.to_excel(new_order_path)\n",
    "    print('>>>>存入临时数据库 export_order')\n",
    "    new_order_df.to_sql(\"export_order\",engine,if_exists='replace',index=False)\n",
    "\n",
    "    \n",
    "# 存储需更新信息\n",
    "if up_order_df is not None and len(up_order_df):\n",
    "    print('备份更新信息')\n",
    "    up_order_path = os.path.join(UPDATE_ORDER_BAK_DIR,\"订单 %s.xlsx\" %(fm_lt_time))\n",
    "    print('>>>>备份')\n",
    "    up_order_df.to_excel(up_order_path)\n",
    "    print('>>>>存入临时数据库 up_order')\n",
    "    up_order_df.to_sql(\"up_order\",engine,if_exists='replace',index=False)\n",
    "\n",
    "\n",
    "\n",
    "print()\n"
   ]
  },
  {
   "cell_type": "code",
   "execution_count": 8,
   "metadata": {
    "scrolled": true
   },
   "outputs": [
    {
     "name": "stdout",
     "output_type": "stream",
     "text": [
      "调用处理订单的存储过程\n",
      ">>>>调用存储过程 proc_export_order\n",
      ">>>>完成提交\n",
      ">>>>调用存储过程 proc_insert_new_order\n",
      ">>>>完成提交\n",
      "\n"
     ]
    }
   ],
   "source": [
    "# 调用存储过程\n",
    "\n",
    "# 调用 将订单分为 新和超时订单 的存储过程\n",
    "print('调用处理订单的存储过程')\n",
    "\n",
    "print('>>>>调用存储过程 proc_export_order')\n",
    "cursor.callproc(\"proc_export_order\",(OVERTIME_ORDER_TO_WAYBILL_HOUR,))\n",
    "conn.commit()\n",
    "print('>>>>完成提交')\n",
    "\n",
    "print('>>>>调用存储过程 proc_insert_new_order')\n",
    "cursor.callproc(\"proc_insert_new_order\")\n",
    "conn.commit()\n",
    "print('>>>>完成提交')\n",
    "\n",
    "\n",
    "\n",
    "print()\n"
   ]
  },
  {
   "cell_type": "code",
   "execution_count": 9,
   "metadata": {
    "scrolled": true
   },
   "outputs": [
    {
     "name": "stdout",
     "output_type": "stream",
     "text": [
      "读取新订单信息 temp_new_order\n",
      "读取已发订单 未超时 temp_old_order\n",
      "两表初步处理\n",
      "\n"
     ]
    }
   ],
   "source": [
    "# 生成外发的订单\n",
    "\n",
    "print('读取新订单信息 temp_new_order')\n",
    "sql = \"select * from temp_new_order\"\n",
    "new_order_df = pd.read_sql(sql, engine)\n",
    "\n",
    "print('读取已发订单 未超时 temp_old_order')\n",
    "sql = \"select * from temp_old_order\"\n",
    "old_order_df = pd.read_sql(sql, engine)\n",
    "\n",
    "\n",
    "print('两表初步处理')\n",
    "fields =  [\"订单号\",'运单号',\"商品ID\",'供应商','商品名','数量','规格','单位','收件人姓名','收件人地址','收件人电话','备注','发货商']\n",
    "\n",
    "new_order_df['运单号'] = \"\"\n",
    "old_order_df['运单号'] = \"\"\n",
    "\n",
    "if '备注' not in new_order_df:\n",
    "    new_order_df['备注'] = \"\"\n",
    "    old_order_df['备注'] = \"\"\n",
    "\n",
    "new_order_df_r = new_order_df[fields]\n",
    "old_order_df_r = old_order_df[fields]\n",
    "\n",
    "print()"
   ]
  },
  {
   "cell_type": "code",
   "execution_count": 10,
   "metadata": {
    "scrolled": false
   },
   "outputs": [
    {
     "name": "stdout",
     "output_type": "stream",
     "text": [
      "存储新订单 D:\\奇货居\\work\\外发订单\\新订单\n",
      ">>>>正在存储 奇货居_新订单 2019-08-30 17_40_49.xlsx\n",
      ">>>>正在存储 傻傻_新订单 2019-08-30 17_40_49.xlsx\n",
      "新订单存储完成\n",
      "\n",
      "存储已发未回订单 D:\\奇货居\\work\\外发订单\\已发未收\n",
      ">>>>正在存储 傻傻_已发未回订单 2019-08-30 17_40_49.xlsx\n",
      ">>>>正在存储 奇货居_已发未回订单 2019-08-30 17_40_49.xlsx\n",
      "已发未回订单存储完成\n",
      "\n"
     ]
    }
   ],
   "source": [
    "print('存储新订单 %s' %NEW_ORDER_SAVE_DIR)\n",
    "odo = OrderOutMiddleware(new_order_df_r,\"发货商\")\n",
    "for d_plat in new_order_df_r['发货商'].unique():\n",
    "    temp = odo.out(d_plat)\n",
    "    file_name = \"%s_新订单 %s.xlsx\" %(d_plat,fm_lt_time)\n",
    "    file_path = os.path.join(NEW_ORDER_SAVE_DIR,file_name)\n",
    "    \n",
    "    print('>>>>正在存储 %s' %(file_name))\n",
    "    temp.to_excel(file_path,index=False,sheet_name=\"新订单\")    \n",
    "print(\"新订单存储完成\\n\")\n",
    "\n",
    "print('存储已发未回订单 %s' %OVERTIME_ORDER_SAVE_DIR)\n",
    "odo = OrderOutMiddleware(old_order_df_r,\"发货商\")\n",
    "for d_plat in old_order_df_r['发货商'].unique():\n",
    "    temp = odo.out(d_plat)\n",
    "    file_name = \"%s_已发未回订单 %s.xlsx\" %(d_plat,fm_lt_time)\n",
    "    file_path = os.path.join(OVERTIME_ORDER_SAVE_DIR,file_name)\n",
    "    \n",
    "    print('>>>>正在存储 %s' %(file_name))\n",
    "    temp.to_excel(file_path,index=False,sheet_name=\"已发未回\")    \n",
    "\n",
    "print(\"已发未回订单存储完成\\n\")"
   ]
  },
  {
   "cell_type": "code",
   "execution_count": 11,
   "metadata": {
    "scrolled": false
   },
   "outputs": [
    {
     "name": "stdout",
     "output_type": "stream",
     "text": [
      ">>>>打开宏表\n",
      ">>>>开始运行\n",
      ">>>>关闭宏表\n",
      ">>>>关闭完成\n",
      "\n",
      "6.003s\n",
      "\n"
     ]
    }
   ],
   "source": [
    "macro_path = BEAUTY_VBA_PATH\n",
    "macro_name = \"美化.xlsm!beautify\"\n",
    "macro_params = r\"D:\\奇货居\\work\\外发订单\\新订单\\|D:\\奇货居\\work\\外发订单\\已发未收\\\\\"\n",
    "\n",
    "\n",
    "mo = Macro(visible=EXCEL_VISIBLE)\n",
    "mo.open(macro_path)\n",
    "mo(name=macro_name,params = (macro_params,))\n",
    "mo.close()\n",
    "\n",
    "print(\"%0.3fs\\n\" %end_time('handle_order'))"
   ]
  }
 ],
 "metadata": {
  "kernelspec": {
   "display_name": "Python 3",
   "language": "python",
   "name": "python3"
  },
  "language_info": {
   "codemirror_mode": {
    "name": "ipython",
    "version": 3
   },
   "file_extension": ".py",
   "mimetype": "text/x-python",
   "name": "python",
   "nbconvert_exporter": "python",
   "pygments_lexer": "ipython3",
   "version": "3.6.5"
  }
 },
 "nbformat": 4,
 "nbformat_minor": 2
}
