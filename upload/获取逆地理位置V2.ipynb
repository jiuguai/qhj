{
 "cells": [
  {
   "cell_type": "code",
   "execution_count": 1,
   "metadata": {},
   "outputs": [],
   "source": [
    "import sys\n",
    "sys.path.append(r\"D:\\往期\\QHJ\\ZERO\")\n",
    "sys.path.append(r\"E:\\dataparse\\Python_DATA_PARSE\\QHJ\\ZERO\")\n",
    "\n",
    "from concurrent.futures import ThreadPoolExecutor\n",
    "\n",
    "import pymysql\n",
    "import numpy as np\n",
    "import pandas as pd\n",
    "import requests\n",
    "from sqlalchemy import create_engine\n",
    "\n",
    "\n",
    "from tools import *\n",
    "# geo = Geo()\n",
    "# regeo = ReGeo()\n",
    "\n",
    "# regeo(**geo(\"长沙芙蓉区万象新天8楼815\").location).item\n"
   ]
  },
  {
   "cell_type": "code",
   "execution_count": 2,
   "metadata": {
    "scrolled": false
   },
   "outputs": [],
   "source": [
    "\n",
    "conn_d = {\n",
    "    'user':\"root\",\n",
    "    'password':'jiuguai',\n",
    "    'host':'localhost',\n",
    "    'port':3306,\n",
    "    'database':'qhj',\n",
    "    \"charset\" :\"utf8mb4\"\n",
    "}\n",
    "\n",
    "con = pymysql.connect(**conn_d)\n",
    "cursor = con.cursor()\n",
    "\n",
    "\n",
    "\n",
    "sql = 'select 订单号,收货地址 from order_details where 国家 is null'\n",
    "engine = create_engine('mysql+pymysql://{user}:{password}@{host}:{port}/{database}'.format(**conn_d),encoding='utf-8')\n",
    "data = pd.read_sql(sql,engine)\n",
    "\n",
    "data = completion_col(data,{'国家','省份','城市','县区','街道','lng','lat'})"
   ]
  },
  {
   "cell_type": "code",
   "execution_count": 3,
   "metadata": {},
   "outputs": [
    {
     "data": {
      "text/plain": [
       "1.0360000133514404"
      ]
     },
     "execution_count": 3,
     "metadata": {},
     "output_type": "execute_result"
    }
   ],
   "source": [
    "\n",
    "start_time('st')\n",
    "\n",
    "\n",
    "def submit(index,row,api_name='gaode'):\n",
    "    geo = Geo(api_name)\n",
    "    regeo = ReGeo(api_name)\n",
    "    address= row['收货地址']\n",
    "    try:\n",
    "        addrs_component = regeo(**geo(address).location).item\n",
    "    except ServiceError as e:\n",
    "        return \n",
    "    data.loc[index, '国家'] = addrs_component['国家']\n",
    "    data.loc[index, '省份'] = addrs_component['省份']\n",
    "    data.loc[index, '城市'] = addrs_component['城市']\n",
    "    data.loc[index, '县区'] = addrs_component['县区']\n",
    "    data.loc[index, '街道'] = addrs_component['街道']\n",
    "\n",
    "    data.loc[index, 'lat'] = addrs_component['lat']\n",
    "    data.loc[index, 'lng'] = addrs_component['lng']\n",
    "    \n",
    "    \n",
    "executor=ThreadPoolExecutor(max_workers=10)\n",
    "\n",
    "for index,row in data.iterrows():\n",
    "#     submit(index,row)\n",
    "    executor.submit(submit,index,row)\n",
    "    \n",
    "executor.shutdown(True)    \n",
    "end_time('st')"
   ]
  },
  {
   "cell_type": "code",
   "execution_count": 4,
   "metadata": {
    "scrolled": true
   },
   "outputs": [],
   "source": [
    "data = data[['订单号', '收货地址', '国家', '省份', '城市', '县区', '街道', 'lat', 'lng']]\n"
   ]
  },
  {
   "cell_type": "code",
   "execution_count": 5,
   "metadata": {},
   "outputs": [],
   "source": [
    "# 处理高德地图 中 地址 为列表的情况\n",
    "def d(x,*args,**kargs):\n",
    "    if x.name in args:\n",
    "        x = x.apply(lambda y:None if isinstance(y,list) else y)\n",
    "    return x\n",
    "data = data.apply(d,args=('城市','县区','街道'))\n",
    "data['县区'][data['县区'].isnull()] = data['城市'][data['县区'].isnull()]"
   ]
  },
  {
   "cell_type": "code",
   "execution_count": 6,
   "metadata": {},
   "outputs": [],
   "source": [
    "data[data['国家'].notnull()].to_sql('update_address',engine,index=False,if_exists='replace')\n",
    "\n",
    "\n",
    "data[data['国家'].isnull()][['订单号','收货地址']].to_sql('update_address_',engine,index=False,if_exists='replace')"
   ]
  },
  {
   "cell_type": "code",
   "execution_count": 7,
   "metadata": {},
   "outputs": [],
   "source": [
    "try:\n",
    "    cursor.callproc('proc_update_address')\n",
    "    con.commit()\n",
    "except:\n",
    "    pass\n",
    "finally:\n",
    "    con.close()"
   ]
  }
 ],
 "metadata": {
  "kernelspec": {
   "display_name": "Python 3",
   "language": "python",
   "name": "python3"
  },
  "language_info": {
   "codemirror_mode": {
    "name": "ipython",
    "version": 3
   },
   "file_extension": ".py",
   "mimetype": "text/x-python",
   "name": "python",
   "nbconvert_exporter": "python",
   "pygments_lexer": "ipython3",
   "version": "3.6.5"
  }
 },
 "nbformat": 4,
 "nbformat_minor": 2
}
