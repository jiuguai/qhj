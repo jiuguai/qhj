{
 "cells": [
  {
   "cell_type": "code",
   "execution_count": 1,
   "metadata": {},
   "outputs": [],
   "source": [
    "import re\n",
    "import sys\n",
    "import datetime\n",
    "sys.path.append(r\"D:\\往期\\QHJ\\ZERO\")\n",
    "sys.path.append(r\"E:\\dataparse\\Python_DATA_PARSE\\QHJ\\ZERO\")\n",
    "from pyquery import PyQuery as pq\n",
    "import requests\n",
    "from urllib.parse import urlencode,parse_qs\n",
    "import numpy as np\n",
    "import pandas as pd\n",
    "import redis\n",
    "\n",
    "import json\n",
    "from tools import *\n",
    "\n",
    "\n",
    "\n",
    "# 测试\n",
    "# 测试\n",
    "# conn = redis.Redis(**REDIS_TEST_DIC)\n",
    "\n",
    "\n",
    "conn = redis.Redis(**REDIS_MALL_ORDER_DIC)"
   ]
  },
  {
   "cell_type": "code",
   "execution_count": 17,
   "metadata": {},
   "outputs": [],
   "source": [
    "l = []\n",
    "# data = pd.read_excel(r\"C:\\Users\\qhj01\\Desktop\\趣领运单号12-15.xlsx\",converters = {u'lqzydm':str,u'lqyxsm':str})\n",
    "# l.append(data)\n",
    "data = pd.read_excel(r\"C:\\Users\\qhj01\\Desktop\\趣领运单号12-16.xlsx\",converters = {'订单号':str,})\n",
    "l.append(data)\n",
    "data = pd.concat(l)"
   ]
  },
  {
   "cell_type": "code",
   "execution_count": 18,
   "metadata": {},
   "outputs": [
    {
     "data": {
      "text/plain": [
       "12"
      ]
     },
     "execution_count": 18,
     "metadata": {},
     "output_type": "execute_result"
    }
   ],
   "source": [
    "len(data)"
   ]
  },
  {
   "cell_type": "code",
   "execution_count": 4,
   "metadata": {},
   "outputs": [],
   "source": [
    "headers = {\n",
    "    \"accept\": \"*/*\",\n",
    "\"accept-encoding\": \"gzip, deflate, br\",\n",
    "\"accept-language\": \"zh-CN,zh;q=0.9,en;q=0.8\",\n",
    "\"cache-control\": \"no-cache\",\n",
    "# \"content-length\": \"53\",\n",
    "\"content-type\": \"application/x-www-form-urlencoded; charset=UTF-8\",\n",
    "\"cookie\": \"PHPSESSID=m442n8rq407kg529gn37tf4vkd\",\n",
    "\"origin\": \"https://app0001.yrapps.cn\",\n",
    "\"pragma\": \"no-cache\",\n",
    "\"referer\": \"https://app0001.yrapps.cn/admin/order/order_delivery/order_id/7801733718286446.html\",\n",
    "\"sec-fetch-mode\": \"cors\",\n",
    "\"sec-fetch-site\": \"same-origin\",\n",
    "\"user-agent\": \"Mozilla/5.0 (Windows NT 6.1; Win64; x64) AppleWebKit/537.36 (KHTML, like Gecko) Chrome/78.0.3904.108 Safari/537.36\",\n",
    "\"x-requested-with\": \"XMLHttpRequest\",\n",
    "}\n",
    "\n",
    "url = r\"https://app0001.yrapps.cn/admin/order/send_order.html\"\n",
    "\n"
   ]
  },
  {
   "cell_type": "code",
   "execution_count": 12,
   "metadata": {},
   "outputs": [
    {
     "data": {
      "text/plain": [
       "Index(['订单号', '商品ID', '商品名', '数量', '规格', '单位', '收件人', '收货地址', '联系方式', '运单号',\n",
       "       '快递方式'],\n",
       "      dtype='object')"
      ]
     },
     "execution_count": 12,
     "metadata": {},
     "output_type": "execute_result"
    }
   ],
   "source": [
    "data.columns"
   ]
  },
  {
   "cell_type": "code",
   "execution_count": 19,
   "metadata": {
    "collapsed": true
   },
   "outputs": [
    {
     "data": {
      "text/html": [
       "<div>\n",
       "<style scoped>\n",
       "    .dataframe tbody tr th:only-of-type {\n",
       "        vertical-align: middle;\n",
       "    }\n",
       "\n",
       "    .dataframe tbody tr th {\n",
       "        vertical-align: top;\n",
       "    }\n",
       "\n",
       "    .dataframe thead th {\n",
       "        text-align: right;\n",
       "    }\n",
       "</style>\n",
       "<table border=\"1\" class=\"dataframe\">\n",
       "  <thead>\n",
       "    <tr style=\"text-align: right;\">\n",
       "      <th></th>\n",
       "      <th>订单号</th>\n",
       "      <th>商品ID</th>\n",
       "      <th>商品名</th>\n",
       "      <th>数量</th>\n",
       "      <th>规格</th>\n",
       "      <th>单位</th>\n",
       "      <th>收件人</th>\n",
       "      <th>收货地址</th>\n",
       "      <th>联系方式</th>\n",
       "      <th>运单号</th>\n",
       "      <th>快递方式</th>\n",
       "    </tr>\n",
       "  </thead>\n",
       "  <tbody>\n",
       "    <tr>\n",
       "      <th>0</th>\n",
       "      <td>0070989020623815</td>\n",
       "      <td>S0003P0001C0003P01E01</td>\n",
       "      <td>三金护肤面膜 维稳修护 强化屏障(护肤)</td>\n",
       "      <td>1</td>\n",
       "      <td>5片*25g</td>\n",
       "      <td>盒</td>\n",
       "      <td>汤心如</td>\n",
       "      <td>湖南省株洲市芦淞区五里墩，株洲南方航空高级技工学校北校区</td>\n",
       "      <td>15697336645</td>\n",
       "      <td>75321121599569</td>\n",
       "      <td>中通</td>\n",
       "    </tr>\n",
       "    <tr>\n",
       "      <th>1</th>\n",
       "      <td>3562409723215555</td>\n",
       "      <td>S0003P0001C0001P01E01</td>\n",
       "      <td>三金补水面膜 镇静维稳 深层补水(补水)</td>\n",
       "      <td>1</td>\n",
       "      <td>5片*25g</td>\n",
       "      <td>盒</td>\n",
       "      <td>汤意</td>\n",
       "      <td>湖南省长沙市开福区湖南省长沙市开福区福元路河马公园长沙研美整形医疗</td>\n",
       "      <td>15116324813</td>\n",
       "      <td>75321121599571</td>\n",
       "      <td>中通</td>\n",
       "    </tr>\n",
       "    <tr>\n",
       "      <th>2</th>\n",
       "      <td>0405382866061700</td>\n",
       "      <td>S0003P0001C0003P01E01</td>\n",
       "      <td>三金护肤面膜 维稳修护 强化屏障(护肤)</td>\n",
       "      <td>1</td>\n",
       "      <td>5片*25g</td>\n",
       "      <td>盒</td>\n",
       "      <td>李水</td>\n",
       "      <td>湖南省长沙市开福区万达广场C1栋4712室</td>\n",
       "      <td>15387533103</td>\n",
       "      <td>75321121599648</td>\n",
       "      <td>中通</td>\n",
       "    </tr>\n",
       "    <tr>\n",
       "      <th>3</th>\n",
       "      <td>5036756284013369</td>\n",
       "      <td>S0003P0001C0004P01E01</td>\n",
       "      <td>三金水光针(水光针)</td>\n",
       "      <td>1</td>\n",
       "      <td>10ml/支</td>\n",
       "      <td>盒</td>\n",
       "      <td>刘以茹</td>\n",
       "      <td>省市区湖南省长沙县星沙大道39号财富港湾一楼华夏银行</td>\n",
       "      <td>13973134177</td>\n",
       "      <td>3102993740272</td>\n",
       "      <td>韵达</td>\n",
       "    </tr>\n",
       "    <tr>\n",
       "      <th>4</th>\n",
       "      <td>6394316946544369</td>\n",
       "      <td>S0003P0001C0001P01E01</td>\n",
       "      <td>三金补水面膜 镇静维稳 深层补水(补水)</td>\n",
       "      <td>1</td>\n",
       "      <td>5片*25g</td>\n",
       "      <td>盒</td>\n",
       "      <td>刘芳汝</td>\n",
       "      <td>湖南省常德市桃源县丹阳和庭2期1202室</td>\n",
       "      <td>18774355843</td>\n",
       "      <td>75321121599584</td>\n",
       "      <td>中通</td>\n",
       "    </tr>\n",
       "    <tr>\n",
       "      <th>5</th>\n",
       "      <td>2178604481975617</td>\n",
       "      <td>S0003P0001C0001P01E01</td>\n",
       "      <td>三金补水面膜 镇静维稳 深层补水(补水)</td>\n",
       "      <td>1</td>\n",
       "      <td>5片*25g</td>\n",
       "      <td>盒</td>\n",
       "      <td>龙芳</td>\n",
       "      <td>湖南省长沙市雨花区长岭宾馆(长沙市雨花区)水电八局红楼菜鸟驿站</td>\n",
       "      <td>15116395127</td>\n",
       "      <td>75321121599597</td>\n",
       "      <td>中通</td>\n",
       "    </tr>\n",
       "    <tr>\n",
       "      <th>6</th>\n",
       "      <td>2514409760504324</td>\n",
       "      <td>S0003P0001C0001P01E01</td>\n",
       "      <td>三金补水面膜 镇静维稳 深层补水(补水)</td>\n",
       "      <td>1</td>\n",
       "      <td>5片*25g</td>\n",
       "      <td>盒</td>\n",
       "      <td>孙珺</td>\n",
       "      <td>湖南省长沙市雨花区韶山南路路桥集团小区南院38栋104</td>\n",
       "      <td>18711089020</td>\n",
       "      <td>75321121599607</td>\n",
       "      <td>中通</td>\n",
       "    </tr>\n",
       "    <tr>\n",
       "      <th>7</th>\n",
       "      <td>6251410337128243</td>\n",
       "      <td>S0003P0001C0001P01E01</td>\n",
       "      <td>三金补水面膜 镇静维稳 深层补水(补水)</td>\n",
       "      <td>1</td>\n",
       "      <td>5片*25g</td>\n",
       "      <td>盒</td>\n",
       "      <td>谢志华</td>\n",
       "      <td>湖南省长沙市芙蓉区德政街168号教师二村11栋206</td>\n",
       "      <td>15580907335</td>\n",
       "      <td>75321121599610</td>\n",
       "      <td>中通</td>\n",
       "    </tr>\n",
       "    <tr>\n",
       "      <th>8</th>\n",
       "      <td>6725829012631395</td>\n",
       "      <td>S0003P0001C0002P01E01</td>\n",
       "      <td>三金美肤面膜 美白功效 健康肤色(美肤)</td>\n",
       "      <td>1</td>\n",
       "      <td>5片*25g</td>\n",
       "      <td>盒</td>\n",
       "      <td>张惠</td>\n",
       "      <td>湖南省长沙市芙蓉区德政街168号教室二村11栋三单元</td>\n",
       "      <td>15675887750</td>\n",
       "      <td>75321121599622</td>\n",
       "      <td>中通</td>\n",
       "    </tr>\n",
       "    <tr>\n",
       "      <th>9</th>\n",
       "      <td>2221048000449924</td>\n",
       "      <td>S0003P0001C0001P01E01</td>\n",
       "      <td>三金补水面膜 镇静维稳 深层补水(补水)</td>\n",
       "      <td>1</td>\n",
       "      <td>5片*25g</td>\n",
       "      <td>盒</td>\n",
       "      <td>周瑶</td>\n",
       "      <td>湖南省长沙市望城区湖南省长沙市望城区金桥国际未来城4栋7楼</td>\n",
       "      <td>17526399658</td>\n",
       "      <td>75321121599635</td>\n",
       "      <td>中通</td>\n",
       "    </tr>\n",
       "    <tr>\n",
       "      <th>10</th>\n",
       "      <td>9535818429943523</td>\n",
       "      <td>S0003P0001C0001P01E01</td>\n",
       "      <td>三金补水面膜 镇静维稳 深层补水(补水)</td>\n",
       "      <td>1</td>\n",
       "      <td>5片*25g</td>\n",
       "      <td>盒</td>\n",
       "      <td>李水</td>\n",
       "      <td>湖南省长沙市开福区万达广场C1栋4712室</td>\n",
       "      <td>15387533103</td>\n",
       "      <td>75321121599648</td>\n",
       "      <td>中通</td>\n",
       "    </tr>\n",
       "    <tr>\n",
       "      <th>11</th>\n",
       "      <td>4932529314977196</td>\n",
       "      <td>S0003P0001C0001P01E01</td>\n",
       "      <td>三金补水面膜 镇静维稳 深层补水(补水)</td>\n",
       "      <td>1</td>\n",
       "      <td>5片*25g</td>\n",
       "      <td>盒</td>\n",
       "      <td>唐娅琼</td>\n",
       "      <td>湖南省长沙市雨花区城南中路75号中信银行</td>\n",
       "      <td>18173190652</td>\n",
       "      <td>75321121599656</td>\n",
       "      <td>中通</td>\n",
       "    </tr>\n",
       "  </tbody>\n",
       "</table>\n",
       "</div>"
      ],
      "text/plain": [
       "                 订单号                   商品ID                   商品名  数量      规格  \\\n",
       "0   0070989020623815  S0003P0001C0003P01E01  三金护肤面膜 维稳修护 强化屏障(护肤)   1  5片*25g   \n",
       "1   3562409723215555  S0003P0001C0001P01E01  三金补水面膜 镇静维稳 深层补水(补水)   1  5片*25g   \n",
       "2   0405382866061700  S0003P0001C0003P01E01  三金护肤面膜 维稳修护 强化屏障(护肤)   1  5片*25g   \n",
       "3   5036756284013369  S0003P0001C0004P01E01            三金水光针(水光针)   1  10ml/支   \n",
       "4   6394316946544369  S0003P0001C0001P01E01  三金补水面膜 镇静维稳 深层补水(补水)   1  5片*25g   \n",
       "5   2178604481975617  S0003P0001C0001P01E01  三金补水面膜 镇静维稳 深层补水(补水)   1  5片*25g   \n",
       "6   2514409760504324  S0003P0001C0001P01E01  三金补水面膜 镇静维稳 深层补水(补水)   1  5片*25g   \n",
       "7   6251410337128243  S0003P0001C0001P01E01  三金补水面膜 镇静维稳 深层补水(补水)   1  5片*25g   \n",
       "8   6725829012631395  S0003P0001C0002P01E01  三金美肤面膜 美白功效 健康肤色(美肤)   1  5片*25g   \n",
       "9   2221048000449924  S0003P0001C0001P01E01  三金补水面膜 镇静维稳 深层补水(补水)   1  5片*25g   \n",
       "10  9535818429943523  S0003P0001C0001P01E01  三金补水面膜 镇静维稳 深层补水(补水)   1  5片*25g   \n",
       "11  4932529314977196  S0003P0001C0001P01E01  三金补水面膜 镇静维稳 深层补水(补水)   1  5片*25g   \n",
       "\n",
       "   单位  收件人                               收货地址         联系方式             运单号  \\\n",
       "0   盒  汤心如       湖南省株洲市芦淞区五里墩，株洲南方航空高级技工学校北校区  15697336645  75321121599569   \n",
       "1   盒   汤意  湖南省长沙市开福区湖南省长沙市开福区福元路河马公园长沙研美整形医疗  15116324813  75321121599571   \n",
       "2   盒   李水              湖南省长沙市开福区万达广场C1栋4712室  15387533103  75321121599648   \n",
       "3   盒  刘以茹         省市区湖南省长沙县星沙大道39号财富港湾一楼华夏银行  13973134177   3102993740272   \n",
       "4   盒  刘芳汝               湖南省常德市桃源县丹阳和庭2期1202室  18774355843  75321121599584   \n",
       "5   盒   龙芳    湖南省长沙市雨花区长岭宾馆(长沙市雨花区)水电八局红楼菜鸟驿站  15116395127  75321121599597   \n",
       "6   盒   孙珺        湖南省长沙市雨花区韶山南路路桥集团小区南院38栋104  18711089020  75321121599607   \n",
       "7   盒  谢志华         湖南省长沙市芙蓉区德政街168号教师二村11栋206  15580907335  75321121599610   \n",
       "8   盒   张惠         湖南省长沙市芙蓉区德政街168号教室二村11栋三单元  15675887750  75321121599622   \n",
       "9   盒   周瑶      湖南省长沙市望城区湖南省长沙市望城区金桥国际未来城4栋7楼  17526399658  75321121599635   \n",
       "10  盒   李水              湖南省长沙市开福区万达广场C1栋4712室  15387533103  75321121599648   \n",
       "11  盒  唐娅琼               湖南省长沙市雨花区城南中路75号中信银行  18173190652  75321121599656   \n",
       "\n",
       "   快递方式  \n",
       "0    中通  \n",
       "1    中通  \n",
       "2    中通  \n",
       "3    韵达  \n",
       "4    中通  \n",
       "5    中通  \n",
       "6    中通  \n",
       "7    中通  \n",
       "8    中通  \n",
       "9    中通  \n",
       "10   中通  \n",
       "11   中通  "
      ]
     },
     "execution_count": 19,
     "metadata": {},
     "output_type": "execute_result"
    }
   ],
   "source": [
    "data"
   ]
  },
  {
   "cell_type": "code",
   "execution_count": 20,
   "metadata": {
    "scrolled": false
   },
   "outputs": [
    {
     "name": "stdout",
     "output_type": "stream",
     "text": [
      "{'express_info': '中通', 'express_id': 75321121599569, 'order_id': '0070989020623815'}\n",
      "{'express_info': '中通', 'express_id': 75321121599571, 'order_id': '3562409723215555'}\n",
      "{'express_info': '中通', 'express_id': 75321121599648, 'order_id': '0405382866061700'}\n",
      "{'express_info': '韵达', 'express_id': 3102993740272, 'order_id': '5036756284013369'}\n",
      "{'express_info': '中通', 'express_id': 75321121599584, 'order_id': '6394316946544369'}\n",
      "{'express_info': '中通', 'express_id': 75321121599597, 'order_id': '2178604481975617'}\n",
      "{'express_info': '中通', 'express_id': 75321121599607, 'order_id': '2514409760504324'}\n",
      "{'express_info': '中通', 'express_id': 75321121599610, 'order_id': '6251410337128243'}\n",
      "{'express_info': '中通', 'express_id': 75321121599622, 'order_id': '6725829012631395'}\n",
      "{'express_info': '中通', 'express_id': 75321121599635, 'order_id': '2221048000449924'}\n",
      "{'express_info': '中通', 'express_id': 75321121599648, 'order_id': '9535818429943523'}\n",
      "{'express_info': '中通', 'express_id': 75321121599656, 'order_id': '4932529314977196'}\n"
     ]
    }
   ],
   "source": [
    "for i,row in data.iterrows():\n",
    "\n",
    "    data = {\n",
    "        \"express_info\": row['快递方式'],\n",
    "        \"express_id\": row['运单号'],\n",
    "        \"order_id\": row['订单号']\n",
    "    }\n",
    "    print(data)\n",
    "    requests.post(url,headers=headers,data=data)\n",
    "    \n",
    "#     requests.post()\n",
    "    \n",
    "    \n",
    "    "
   ]
  },
  {
   "cell_type": "code",
   "execution_count": 9,
   "metadata": {},
   "outputs": [
    {
     "name": "stdout",
     "output_type": "stream",
     "text": [
      "True\n",
      "True\n",
      "True\n",
      "True\n",
      "True\n",
      "True\n",
      "True\n",
      "True\n",
      "True\n",
      "True\n",
      "True\n",
      "True\n",
      "True\n",
      "True\n",
      "True\n",
      "True\n",
      "True\n",
      "True\n",
      "True\n",
      "True\n",
      "True\n",
      "True\n",
      "True\n",
      "True\n",
      "True\n"
     ]
    }
   ],
   "source": [
    "\n",
    "for i,row in data.iterrows():\n",
    "    r= conn.sismember('order:new',row['订单号'])\n",
    "    if not r:\n",
    "        print(row['订单号'])\n",
    "    else:\n",
    "        print(r)"
   ]
  },
  {
   "cell_type": "code",
   "execution_count": null,
   "metadata": {},
   "outputs": [],
   "source": [
    "stop\n"
   ]
  },
  {
   "cell_type": "code",
   "execution_count": 6,
   "metadata": {
    "scrolled": false
   },
   "outputs": [
    {
     "name": "stdout",
     "output_type": "stream",
     "text": [
      "三金_新订单 2019-12-12 15_37_45.xlsx\n",
      "三金_新订单 2019-12-13 15_38_09.xlsx\n",
      "三金_新订单 2019-12-14 15_46_34.xlsx\n",
      "三金_新订单 2019-12-15 15_36_53.xlsx\n"
     ]
    }
   ],
   "source": [
    "\n"
   ]
  },
  {
   "cell_type": "code",
   "execution_count": null,
   "metadata": {},
   "outputs": [],
   "source": []
  },
  {
   "cell_type": "code",
   "execution_count": null,
   "metadata": {},
   "outputs": [],
   "source": [
    "for i,row in data.iterrows():\n",
    "    spp_id = row['商品ID'][:5]\n",
    "    print(row['单号'])\n",
    "    r = conn.smove(\"order:old:%s\" %(spp_id),\n",
    "               \"ORDER:RC:%s\" %(spp_id)\n",
    "               ,row['订单号'])\n",
    "    print(r)"
   ]
  },
  {
   "cell_type": "code",
   "execution_count": 18,
   "metadata": {},
   "outputs": [
    {
     "data": {
      "text/plain": [
       "20"
      ]
     },
     "execution_count": 18,
     "metadata": {},
     "output_type": "execute_result"
    }
   ],
   "source": [
    "data = pd.read_excel(r\"E:\\qhj\\三金外发\\三金_新订单 2019-12-12 15_37_45.xlsx\",index=False)\n",
    "conn.sadd(\"order:old\",*data['订单号'].tolist())\n",
    "data = pd.read_excel(r\"E:\\qhj\\三金外发\\三金_新订单 2019-12-13 15_38_09.xlsx\",index=False)\n",
    "conn.sadd(\"order:old\",*data['订单号'].tolist())\n"
   ]
  },
  {
   "cell_type": "code",
   "execution_count": 12,
   "metadata": {},
   "outputs": [
    {
     "data": {
      "text/plain": [
       "0     7801733718286446_S0003\n",
       "1       19121251101531_S0003\n",
       "2       19121248494810_S0003\n",
       "3       19121253985148_S0003\n",
       "4       19121249485597_S0003\n",
       "5       19121252575210_S0003\n",
       "6       19121257485710_S0003\n",
       "7       19121298101101_S0003\n",
       "8       19121210253569_S0003\n",
       "9       19121297579856_S0003\n",
       "10      19121298574910_S0003\n",
       "11      19121297101535_S0003\n",
       "12      19121249971025_S0003\n",
       "13      19121250575757_S0003\n",
       "14      19121248101504_S0003\n",
       "15      19121255999954_S0003\n",
       "16      19121210210051_S0003\n",
       "17      19121251101505_S0003\n",
       "18      19121210052989_S0003\n",
       "19      19121250985210_S0003\n",
       "20      19121299971024_S0003\n",
       "21      19121210210010_S0003\n",
       "0     5609222359417374_S0003\n",
       "1     9784424719606776_S0003\n",
       "2     3400138912332780_S0003\n",
       "3     7620266221650637_S0003\n",
       "4     8171817913572174_S0003\n",
       "5     2758468066946996_S0003\n",
       "6      501250902978832_S0003\n",
       "7     2163778663397136_S0003\n",
       "               ...          \n",
       "10    9076677957182044_S0003\n",
       "11    1015787224552650_S0003\n",
       "12     149891054111246_S0003\n",
       "13    2684946144160119_S0003\n",
       "14    4939543886912591_S0003\n",
       "15    4855302993513060_S0003\n",
       "16     154427419014946_S0003\n",
       "17    3797576719654768_S0003\n",
       "18    2542283742546124_S0003\n",
       "19    1835437611971149_S0003\n",
       "0     2688408976054157_S0003\n",
       "1     7064767470064345_S0003\n",
       "2     3558819475506516_S0003\n",
       "3     5198216014617124_S0003\n",
       "4     4559036977696915_S0003\n",
       "0     2259820089497103_S0003\n",
       "1     8691432545841121_S0003\n",
       "2     4595600182858043_S0003\n",
       "3     3689227852807075_S0003\n",
       "4     2350637767940895_S0003\n",
       "5     1540897166409832_S0003\n",
       "6     4806879111334605_S0003\n",
       "7     4838485321982791_S0003\n",
       "8     6444928454022327_S0003\n",
       "9     8323522433552457_S0003\n",
       "10    1075641466892284_S0003\n",
       "11     167197513254485_S0003\n",
       "12    6115518456536194_S0003\n",
       "13    1914279528020223_S0003\n",
       "14    4849387222561001_S0003\n",
       "Name: key, Length: 62, dtype: object"
      ]
     },
     "execution_count": 12,
     "metadata": {},
     "output_type": "execute_result"
    }
   ],
   "source": [
    "data['key']"
   ]
  },
  {
   "cell_type": "code",
   "execution_count": 19,
   "metadata": {},
   "outputs": [
    {
     "name": "stdout",
     "output_type": "stream",
     "text": [
      "三金_新订单 2019-12-12 15_37_45.xlsx\n",
      "三金_新订单 2019-12-13 15_38_09.xlsx\n",
      "三金_新订单 2019-12-14 15_46_34.xlsx\n",
      "三金_新订单 2019-12-15 15_36_53.xlsx\n"
     ]
    },
    {
     "data": {
      "text/plain": [
       "62"
      ]
     },
     "execution_count": 19,
     "metadata": {},
     "output_type": "execute_result"
    }
   ],
   "source": [
    "\n",
    "f_dir = r\"D:\\奇货居\\work\\外发订单\\新订单\\已发\"\n",
    "l = []\n",
    "for file in os.listdir(f_dir):\n",
    "    if file.startswith(\"三金\"):\n",
    "        print(file)\n",
    "        file_path = os.path.join(f_dir,file)\n",
    "        l.append(pd.read_excel(file_path))\n",
    "\n",
    "data = pd.concat(l)\n",
    "\n",
    "# data = pd.read_excel(r\"D:\\奇货居\\work\\外发订单\\新订单\\已发\\三金_新订单 2019-12-15 15_36_53.xlsx\")\n",
    "# data['key'] = data['订单号'].astype(str) + \"_S0003\"\n",
    "\n",
    "conn.sadd(\"order:old\",*data['订单号'].tolist())\n",
    "\n"
   ]
  }
 ],
 "metadata": {
  "kernelspec": {
   "display_name": "Python 3",
   "language": "python",
   "name": "python3"
  },
  "language_info": {
   "codemirror_mode": {
    "name": "ipython",
    "version": 3
   },
   "file_extension": ".py",
   "mimetype": "text/x-python",
   "name": "python",
   "nbconvert_exporter": "python",
   "pygments_lexer": "ipython3",
   "version": "3.6.5"
  }
 },
 "nbformat": 4,
 "nbformat_minor": 2
}
