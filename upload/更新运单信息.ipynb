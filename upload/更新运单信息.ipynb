{
 "cells": [
  {
   "cell_type": "code",
   "execution_count": 1,
   "metadata": {},
   "outputs": [],
   "source": [
    "import re\n",
    "import sys\n",
    "import datetime\n",
    "sys.path.append(r\"D:\\往期\\QHJ\\ZERO\")\n",
    "sys.path.append(r\"E:\\dataparse\\Python_DATA_PARSE\\QHJ\\ZERO\")\n",
    "from pyquery import PyQuery as pq\n",
    "import requests\n",
    "from urllib.parse import urlencode,parse_qs\n",
    "import numpy as np\n",
    "import pandas as pd\n",
    "import redis\n",
    "\n",
    "import json\n",
    "from tools import *\n",
    "\n",
    "\n",
    "\n",
    "# 测试\n",
    "# 测试\n",
    "# conn = redis.Redis(**REDIS_TEST_DIC)\n",
    "\n",
    "qm = QHJMall(MALL_KEY)\n",
    "conn = redis.Redis(**REDIS_MALL_ORDER_DIC)"
   ]
  },
  {
   "cell_type": "code",
   "execution_count": 4,
   "metadata": {},
   "outputs": [],
   "source": [
    "l = []\n",
    "data = pd.read_excel(r\"D:\\奇货居\\work\\外发订单\\新订单\\反馈数据\\趣领运单号12-18.xlsx\",converters={\"订单号\":str})\n",
    "l.append(data)\n",
    "# data = pd.read_excel(r\"C:\\Users\\zero\\Desktop\\TT\\趣领运货单号12-14.xlsx\")\n",
    "# l.append(data)\n",
    "data = pd.concat(l)"
   ]
  },
  {
   "cell_type": "code",
   "execution_count": 12,
   "metadata": {},
   "outputs": [
    {
     "data": {
      "text/plain": [
       "Index(['订单号', '商品ID', '商品名', '数量', '规格', '单位', '收件人', '收货地址', '联系方式', '运单号',\n",
       "       '快递方式'],\n",
       "      dtype='object')"
      ]
     },
     "execution_count": 12,
     "metadata": {},
     "output_type": "execute_result"
    }
   ],
   "source": [
    "data.columns"
   ]
  },
  {
   "cell_type": "code",
   "execution_count": 5,
   "metadata": {},
   "outputs": [
    {
     "name": "stdout",
     "output_type": "stream",
     "text": [
      "{'express_info': '中通', 'express_id': 75321629073923, 'order_id': '8098323676978082'}\n",
      "{'express_info': '中通', 'express_id': 75321629073964, 'order_id': '6618223471115299'}\n",
      "{'express_info': '中通', 'express_id': 75321629588184, 'order_id': '7363834455192930'}\n",
      "{'express_info': '中通', 'express_id': 75321629073951, 'order_id': '4679866270664085'}\n",
      "{'express_info': '中通', 'express_id': 75321629073908, 'order_id': '9968803503690063'}\n",
      "{'express_info': '中通', 'express_id': 75321629073949, 'order_id': '0858859340954466'}\n",
      "{'express_info': '中通', 'express_id': 75321629073885, 'order_id': '1318485847822857'}\n",
      "{'express_info': '中通', 'express_id': 75321629588171, 'order_id': '2625764653089397'}\n",
      "{'express_info': '中通', 'express_id': 75321629588184, 'order_id': '7301385246539494'}\n",
      "{'express_info': '中通', 'express_id': 75321629073964, 'order_id': '4305122909619897'}\n",
      "{'express_info': '中通', 'express_id': 75321629588169, 'order_id': '1473937331962178'}\n",
      "{'express_info': '中通', 'express_id': 75321629073898, 'order_id': '7397467042862839'}\n",
      "{'express_info': '中通', 'express_id': 75321629588143, 'order_id': '2601431244408630'}\n",
      "{'express_info': '中通', 'express_id': 75321629588171, 'order_id': '8169223372404005'}\n",
      "{'express_info': '中通', 'express_id': 75321629588156, 'order_id': '6087843483232381'}\n",
      "{'express_info': '中通', 'express_id': 75321629073977, 'order_id': '2977332950373406'}\n",
      "{'express_info': '中通', 'express_id': 75321629073936, 'order_id': '6258214386053999'}\n"
     ]
    }
   ],
   "source": [
    "for i,row in data.iterrows():\n",
    "    qm.set_wb(row['订单号'],row['快递方式'],row['备注'])\n",
    "    \n",
    "    \n",
    "    \n",
    "#     data = {\n",
    "#         \"express_info\": row['快递方式'],\n",
    "#         \"express_id\": row['运单号'],\n",
    "#         \"order_id\": row['订单号']\n",
    "#     }\n",
    "#     print(data)\n",
    "#     requests.post(url,headers=headers,data=data)\n",
    "    \n",
    "#     requests.post()\n",
    "    \n",
    "    \n",
    "  \"\".startswith  "
   ]
  },
  {
   "cell_type": "code",
   "execution_count": 9,
   "metadata": {},
   "outputs": [
    {
     "name": "stdout",
     "output_type": "stream",
     "text": [
      "True\n",
      "True\n",
      "True\n",
      "True\n",
      "True\n",
      "True\n",
      "True\n",
      "True\n",
      "True\n",
      "True\n",
      "True\n",
      "True\n",
      "True\n",
      "True\n",
      "True\n",
      "True\n",
      "True\n",
      "True\n",
      "True\n",
      "True\n",
      "True\n",
      "True\n",
      "True\n",
      "True\n",
      "True\n"
     ]
    }
   ],
   "source": [
    "\n",
    "for i,row in data.iterrows():\n",
    "    r= conn.sismember('order:new',row['订单号'])\n",
    "    if not r:\n",
    "        print(row['订单号'])\n",
    "    else:\n",
    "        print(r)"
   ]
  },
  {
   "cell_type": "code",
   "execution_count": null,
   "metadata": {},
   "outputs": [],
   "source": [
    "stop\n"
   ]
  },
  {
   "cell_type": "code",
   "execution_count": 6,
   "metadata": {
    "scrolled": false
   },
   "outputs": [
    {
     "name": "stdout",
     "output_type": "stream",
     "text": [
      "三金_新订单 2019-12-12 15_37_45.xlsx\n",
      "三金_新订单 2019-12-13 15_38_09.xlsx\n",
      "三金_新订单 2019-12-14 15_46_34.xlsx\n",
      "三金_新订单 2019-12-15 15_36_53.xlsx\n"
     ]
    }
   ],
   "source": [
    "\n"
   ]
  },
  {
   "cell_type": "code",
   "execution_count": null,
   "metadata": {},
   "outputs": [],
   "source": []
  },
  {
   "cell_type": "code",
   "execution_count": null,
   "metadata": {},
   "outputs": [],
   "source": [
    "for i,row in data.iterrows():\n",
    "    spp_id = row['商品ID'][:5]\n",
    "    print(row['单号'])\n",
    "    r = conn.smove(\"order:old:%s\" %(spp_id),\n",
    "               \"ORDER:RC:%s\" %(spp_id)\n",
    "               ,row['订单号'])\n",
    "    print(r)"
   ]
  },
  {
   "cell_type": "code",
   "execution_count": 18,
   "metadata": {},
   "outputs": [
    {
     "data": {
      "text/plain": [
       "20"
      ]
     },
     "execution_count": 18,
     "metadata": {},
     "output_type": "execute_result"
    }
   ],
   "source": [
    "data = pd.read_excel(r\"E:\\qhj\\三金外发\\三金_新订单 2019-12-12 15_37_45.xlsx\",index=False)\n",
    "conn.sadd(\"order:old\",*data['订单号'].tolist())\n",
    "data = pd.read_excel(r\"E:\\qhj\\三金外发\\三金_新订单 2019-12-13 15_38_09.xlsx\",index=False)\n",
    "conn.sadd(\"order:old\",*data['订单号'].tolist())\n"
   ]
  },
  {
   "cell_type": "code",
   "execution_count": 12,
   "metadata": {},
   "outputs": [
    {
     "data": {
      "text/plain": [
       "0     7801733718286446_S0003\n",
       "1       19121251101531_S0003\n",
       "2       19121248494810_S0003\n",
       "3       19121253985148_S0003\n",
       "4       19121249485597_S0003\n",
       "5       19121252575210_S0003\n",
       "6       19121257485710_S0003\n",
       "7       19121298101101_S0003\n",
       "8       19121210253569_S0003\n",
       "9       19121297579856_S0003\n",
       "10      19121298574910_S0003\n",
       "11      19121297101535_S0003\n",
       "12      19121249971025_S0003\n",
       "13      19121250575757_S0003\n",
       "14      19121248101504_S0003\n",
       "15      19121255999954_S0003\n",
       "16      19121210210051_S0003\n",
       "17      19121251101505_S0003\n",
       "18      19121210052989_S0003\n",
       "19      19121250985210_S0003\n",
       "20      19121299971024_S0003\n",
       "21      19121210210010_S0003\n",
       "0     5609222359417374_S0003\n",
       "1     9784424719606776_S0003\n",
       "2     3400138912332780_S0003\n",
       "3     7620266221650637_S0003\n",
       "4     8171817913572174_S0003\n",
       "5     2758468066946996_S0003\n",
       "6      501250902978832_S0003\n",
       "7     2163778663397136_S0003\n",
       "               ...          \n",
       "10    9076677957182044_S0003\n",
       "11    1015787224552650_S0003\n",
       "12     149891054111246_S0003\n",
       "13    2684946144160119_S0003\n",
       "14    4939543886912591_S0003\n",
       "15    4855302993513060_S0003\n",
       "16     154427419014946_S0003\n",
       "17    3797576719654768_S0003\n",
       "18    2542283742546124_S0003\n",
       "19    1835437611971149_S0003\n",
       "0     2688408976054157_S0003\n",
       "1     7064767470064345_S0003\n",
       "2     3558819475506516_S0003\n",
       "3     5198216014617124_S0003\n",
       "4     4559036977696915_S0003\n",
       "0     2259820089497103_S0003\n",
       "1     8691432545841121_S0003\n",
       "2     4595600182858043_S0003\n",
       "3     3689227852807075_S0003\n",
       "4     2350637767940895_S0003\n",
       "5     1540897166409832_S0003\n",
       "6     4806879111334605_S0003\n",
       "7     4838485321982791_S0003\n",
       "8     6444928454022327_S0003\n",
       "9     8323522433552457_S0003\n",
       "10    1075641466892284_S0003\n",
       "11     167197513254485_S0003\n",
       "12    6115518456536194_S0003\n",
       "13    1914279528020223_S0003\n",
       "14    4849387222561001_S0003\n",
       "Name: key, Length: 62, dtype: object"
      ]
     },
     "execution_count": 12,
     "metadata": {},
     "output_type": "execute_result"
    }
   ],
   "source": [
    "data['key']"
   ]
  },
  {
   "cell_type": "code",
   "execution_count": 19,
   "metadata": {},
   "outputs": [
    {
     "name": "stdout",
     "output_type": "stream",
     "text": [
      "三金_新订单 2019-12-12 15_37_45.xlsx\n",
      "三金_新订单 2019-12-13 15_38_09.xlsx\n",
      "三金_新订单 2019-12-14 15_46_34.xlsx\n",
      "三金_新订单 2019-12-15 15_36_53.xlsx\n"
     ]
    },
    {
     "data": {
      "text/plain": [
       "62"
      ]
     },
     "execution_count": 19,
     "metadata": {},
     "output_type": "execute_result"
    }
   ],
   "source": [
    "\n",
    "f_dir = r\"D:\\奇货居\\work\\外发订单\\新订单\\已发\"\n",
    "l = []\n",
    "for file in os.listdir(f_dir):\n",
    "    if file.startswith(\"三金\"):\n",
    "        print(file)\n",
    "        file_path = os.path.join(f_dir,file)\n",
    "        l.append(pd.read_excel(file_path))\n",
    "\n",
    "data = pd.concat(l)\n",
    "\n",
    "# data = pd.read_excel(r\"D:\\奇货居\\work\\外发订单\\新订单\\已发\\三金_新订单 2019-12-15 15_36_53.xlsx\")\n",
    "# data['key'] = data['订单号'].astype(str) + \"_S0003\"\n",
    "\n",
    "conn.sadd(\"order:old\",*data['订单号'].tolist())\n",
    "\n"
   ]
  }
 ],
 "metadata": {
  "kernelspec": {
   "display_name": "Python 3",
   "language": "python",
   "name": "python3"
  },
  "language_info": {
   "codemirror_mode": {
    "name": "ipython",
    "version": 3
   },
   "file_extension": ".py",
   "mimetype": "text/x-python",
   "name": "python",
   "nbconvert_exporter": "python",
   "pygments_lexer": "ipython3",
   "version": "3.6.5"
  }
 },
 "nbformat": 4,
 "nbformat_minor": 2
}
