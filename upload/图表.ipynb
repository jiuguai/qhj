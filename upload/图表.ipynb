{
 "cells": [
  {
   "cell_type": "code",
   "execution_count": 59,
   "metadata": {},
   "outputs": [],
   "source": [
    "import sys\n",
    "sys.path.append(r\"D:\\往期\\QHJ\\ZERO\")\n",
    "import os\n",
    "\n",
    "import numpy as np\n",
    "import pandas as pd\n",
    "import matplotlib.pyplot as plt\n",
    "%matplotlib inline\n",
    "\n",
    "from sqlalchemy import create_engine\n",
    "\n",
    "import pymysql\n",
    "\n",
    "from tools import *"
   ]
  },
  {
   "cell_type": "code",
   "execution_count": 5,
   "metadata": {},
   "outputs": [],
   "source": [
    "conn = pymysql.Connect(**MYSQL_MALL_DIC)\n",
    "cursor = conn.cursor(cursor=pymysql.cursors.DictCursor)\n",
    "engine_conn = \"mysql+pymysql://{user}:{password}@{host}:{port}/{database}\".format(**MYSQL_MALL_DIC)\n",
    "engine = create_engine(engine_conn,encoding='utf-8')"
   ]
  },
  {
   "cell_type": "code",
   "execution_count": 6,
   "metadata": {},
   "outputs": [],
   "source": [
    "order_df = pd.read_sql('select * from order_details where 下单时间>=\"2019-12-01 00:00:00\"',engine)\n",
    "goods_df = pd.read_sql('select * from goods',engine)\n",
    "# cursor.execute('select * from order_details where 下单时间>=\"2019-12-01 00:00:00\"')\n",
    "# d = cursor.fetchall()"
   ]
  },
  {
   "cell_type": "code",
   "execution_count": 10,
   "metadata": {},
   "outputs": [
    {
     "data": {
      "text/plain": [
       "Index(['订单号', '运单号', '商品ID', '快递公司', '发货商_x', 'goods_type', '数量', '支付金额',\n",
       "       '收件人', '联系方式', '收货地址', '导出订单时间', '下单时间', '支付时间', '发货时间', '用户名', '用户ID',\n",
       "       '用户电话', '用户等级', '揽件时间', '退订时间', '送达时间', '拒收时间', '签收时间', '坐标类型', 'lng',\n",
       "       'lat', 'lastupdate', '备注', '国家', '省份', '城市', '县区', '街道', 'SPUID',\n",
       "       'goods_name', '系统分类', '市场价', '成本价', '售价', '发货商_y', '发货商ID', '规格', '单位'],\n",
       "      dtype='object')"
      ]
     },
     "execution_count": 10,
     "metadata": {},
     "output_type": "execute_result"
    }
   ],
   "source": [
    "df.columns"
   ]
  },
  {
   "cell_type": "code",
   "execution_count": 22,
   "metadata": {},
   "outputs": [],
   "source": [
    "free_order = order_df[order_df['goods_type']==\"free\"]\n",
    "\n",
    "df = pd.merge(free_order,goods_df[[\"商品ID\",\"SPUID\",\"goods_name\",'系统分类','市场价','成本价','售价','发货商','发货商ID','规格','单位']],on='商品ID',how='left')"
   ]
  },
  {
   "cell_type": "code",
   "execution_count": 19,
   "metadata": {},
   "outputs": [],
   "source": [
    "df_r = df[['goods_name','订单号','国家','省份','城市','县区']]\n",
    "df_r = df_r.replace({\"goods_name\":{r\".+?\\((.+?)\\)$\":r\"\\1\"}},regex=True)\n",
    "\n",
    "dt = pd.pivot_table(df_r,\n",
    "         index=['国家','省份','城市','县区'],\n",
    "         columns=['goods_name'],\n",
    "         values=['订单号'],\n",
    "         aggfunc={'订单号':\"count\"} ,fill_value=0,\n",
    "               margins=True,\n",
    "               margins_name=\"总计\"\n",
    "        )\n",
    "dt = dt.stack(level=0).reset_index(level=-1,drop=True)\n",
    "dt.columns.name = \"三金护肤产品\"\n",
    "dt = dt[['水光针','补水','美肤','护肤','总计']].sort_index(level=1,ascending=False)"
   ]
  },
  {
   "cell_type": "code",
   "execution_count": 23,
   "metadata": {},
   "outputs": [
    {
     "data": {
      "text/plain": [
       "Index(['订单号', '运单号', '商品ID', '快递公司', '发货商_x', 'goods_type', '数量', '支付金额',\n",
       "       '收件人', '联系方式', '收货地址', '导出订单时间', '下单时间', '支付时间', '发货时间', '用户名', '用户ID',\n",
       "       '用户电话', '用户等级', '揽件时间', '退订时间', '送达时间', '拒收时间', '签收时间', '坐标类型', 'lng',\n",
       "       'lat', 'lastupdate', '备注', '国家', '省份', '城市', '县区', '街道', 'SPUID',\n",
       "       'goods_name', '系统分类', '市场价', '成本价', '售价', '发货商_y', '发货商ID', '规格', '单位'],\n",
       "      dtype='object')"
      ]
     },
     "execution_count": 23,
     "metadata": {},
     "output_type": "execute_result"
    }
   ],
   "source": [
    "df.columns"
   ]
  },
  {
   "cell_type": "code",
   "execution_count": 77,
   "metadata": {},
   "outputs": [
    {
     "data": {
      "text/html": [
       "<div>\n",
       "<style scoped>\n",
       "    .dataframe tbody tr th:only-of-type {\n",
       "        vertical-align: middle;\n",
       "    }\n",
       "\n",
       "    .dataframe tbody tr th {\n",
       "        vertical-align: top;\n",
       "    }\n",
       "\n",
       "    .dataframe thead tr th {\n",
       "        text-align: left;\n",
       "    }\n",
       "\n",
       "    .dataframe thead tr:last-of-type th {\n",
       "        text-align: right;\n",
       "    }\n",
       "</style>\n",
       "<table border=\"1\" class=\"dataframe\">\n",
       "  <thead>\n",
       "    <tr>\n",
       "      <th></th>\n",
       "      <th colspan=\"4\" halign=\"left\">订单号</th>\n",
       "    </tr>\n",
       "    <tr>\n",
       "      <th>三金商品</th>\n",
       "      <th>护肤</th>\n",
       "      <th>水光针</th>\n",
       "      <th>美肤</th>\n",
       "      <th>补水</th>\n",
       "    </tr>\n",
       "    <tr>\n",
       "      <th>下单日期</th>\n",
       "      <th></th>\n",
       "      <th></th>\n",
       "      <th></th>\n",
       "      <th></th>\n",
       "    </tr>\n",
       "  </thead>\n",
       "  <tbody>\n",
       "    <tr>\n",
       "      <th>2019-12-12</th>\n",
       "      <td>4.0</td>\n",
       "      <td>1.0</td>\n",
       "      <td>5.0</td>\n",
       "      <td>32.0</td>\n",
       "    </tr>\n",
       "    <tr>\n",
       "      <th>2019-12-13</th>\n",
       "      <td>NaN</td>\n",
       "      <td>NaN</td>\n",
       "      <td>2.0</td>\n",
       "      <td>3.0</td>\n",
       "    </tr>\n",
       "    <tr>\n",
       "      <th>2019-12-14</th>\n",
       "      <td>NaN</td>\n",
       "      <td>NaN</td>\n",
       "      <td>3.0</td>\n",
       "      <td>8.0</td>\n",
       "    </tr>\n",
       "    <tr>\n",
       "      <th>2019-12-15</th>\n",
       "      <td>1.0</td>\n",
       "      <td>NaN</td>\n",
       "      <td>2.0</td>\n",
       "      <td>9.0</td>\n",
       "    </tr>\n",
       "    <tr>\n",
       "      <th>2019-12-16</th>\n",
       "      <td>2.0</td>\n",
       "      <td>1.0</td>\n",
       "      <td>NaN</td>\n",
       "      <td>4.0</td>\n",
       "    </tr>\n",
       "    <tr>\n",
       "      <th>2019-12-17</th>\n",
       "      <td>1.0</td>\n",
       "      <td>NaN</td>\n",
       "      <td>4.0</td>\n",
       "      <td>14.0</td>\n",
       "    </tr>\n",
       "    <tr>\n",
       "      <th>2019-12-18</th>\n",
       "      <td>NaN</td>\n",
       "      <td>NaN</td>\n",
       "      <td>4.0</td>\n",
       "      <td>2.0</td>\n",
       "    </tr>\n",
       "  </tbody>\n",
       "</table>\n",
       "</div>"
      ],
      "text/plain": [
       "            订单号                \n",
       "三金商品         护肤  水光针   美肤    补水\n",
       "下单日期                           \n",
       "2019-12-12  4.0  1.0  5.0  32.0\n",
       "2019-12-13  NaN  NaN  2.0   3.0\n",
       "2019-12-14  NaN  NaN  3.0   8.0\n",
       "2019-12-15  1.0  NaN  2.0   9.0\n",
       "2019-12-16  2.0  1.0  NaN   4.0\n",
       "2019-12-17  1.0  NaN  4.0  14.0\n",
       "2019-12-18  NaN  NaN  4.0   2.0"
      ]
     },
     "execution_count": 77,
     "metadata": {},
     "output_type": "execute_result"
    }
   ],
   "source": []
  },
  {
   "cell_type": "code",
   "execution_count": 85,
   "metadata": {},
   "outputs": [],
   "source": [
    "df_r = df[['goods_name','下单时间','订单号']]\n",
    "df_r = df_r.replace({\"goods_name\":{r\".+?\\((.+?)\\)$\":r\"\\1\"}},regex=True)\n",
    "df_r['下单日期'] = df_r['下单时间'].apply(lambda x:x.strftime('%Y-%m-%d'))\n",
    "df_r.sort_values(by=['goods_name','下单时间'],inplace=True)\n",
    "\n",
    "df_r = df_r[['goods_name','下单日期','订单号']]\n",
    "df_r.rename(columns={\"goods_name\":\"三金商品\"},inplace=True)\n",
    "df_r = df_r.groupby(['三金商品','下单日期']).count()\n",
    "df_r = df_r.unstack(level=0).fillna(0)\n",
    "df_r = df_r.stack(level=0).reset_index(level=-1,drop=True)"
   ]
  },
  {
   "cell_type": "code",
   "execution_count": 79,
   "metadata": {},
   "outputs": [
    {
     "data": {
      "text/html": [
       "<div>\n",
       "<style scoped>\n",
       "    .dataframe tbody tr th:only-of-type {\n",
       "        vertical-align: middle;\n",
       "    }\n",
       "\n",
       "    .dataframe tbody tr th {\n",
       "        vertical-align: top;\n",
       "    }\n",
       "\n",
       "    .dataframe thead tr th {\n",
       "        text-align: left;\n",
       "    }\n",
       "\n",
       "    .dataframe thead tr:last-of-type th {\n",
       "        text-align: right;\n",
       "    }\n",
       "</style>\n",
       "<table border=\"1\" class=\"dataframe\">\n",
       "  <thead>\n",
       "    <tr>\n",
       "      <th></th>\n",
       "      <th colspan=\"4\" halign=\"left\">订单号</th>\n",
       "    </tr>\n",
       "    <tr>\n",
       "      <th>三金商品</th>\n",
       "      <th>护肤</th>\n",
       "      <th>水光针</th>\n",
       "      <th>美肤</th>\n",
       "      <th>补水</th>\n",
       "    </tr>\n",
       "    <tr>\n",
       "      <th>下单日期</th>\n",
       "      <th></th>\n",
       "      <th></th>\n",
       "      <th></th>\n",
       "      <th></th>\n",
       "    </tr>\n",
       "  </thead>\n",
       "  <tbody>\n",
       "    <tr>\n",
       "      <th>2019-12-12</th>\n",
       "      <td>4.0</td>\n",
       "      <td>1.0</td>\n",
       "      <td>5.0</td>\n",
       "      <td>32.0</td>\n",
       "    </tr>\n",
       "    <tr>\n",
       "      <th>2019-12-13</th>\n",
       "      <td>0.0</td>\n",
       "      <td>0.0</td>\n",
       "      <td>2.0</td>\n",
       "      <td>3.0</td>\n",
       "    </tr>\n",
       "    <tr>\n",
       "      <th>2019-12-14</th>\n",
       "      <td>0.0</td>\n",
       "      <td>0.0</td>\n",
       "      <td>3.0</td>\n",
       "      <td>8.0</td>\n",
       "    </tr>\n",
       "    <tr>\n",
       "      <th>2019-12-15</th>\n",
       "      <td>1.0</td>\n",
       "      <td>0.0</td>\n",
       "      <td>2.0</td>\n",
       "      <td>9.0</td>\n",
       "    </tr>\n",
       "    <tr>\n",
       "      <th>2019-12-16</th>\n",
       "      <td>2.0</td>\n",
       "      <td>1.0</td>\n",
       "      <td>0.0</td>\n",
       "      <td>4.0</td>\n",
       "    </tr>\n",
       "    <tr>\n",
       "      <th>2019-12-17</th>\n",
       "      <td>1.0</td>\n",
       "      <td>0.0</td>\n",
       "      <td>4.0</td>\n",
       "      <td>14.0</td>\n",
       "    </tr>\n",
       "    <tr>\n",
       "      <th>2019-12-18</th>\n",
       "      <td>0.0</td>\n",
       "      <td>0.0</td>\n",
       "      <td>4.0</td>\n",
       "      <td>2.0</td>\n",
       "    </tr>\n",
       "  </tbody>\n",
       "</table>\n",
       "</div>"
      ],
      "text/plain": [
       "            订单号                \n",
       "三金商品         护肤  水光针   美肤    补水\n",
       "下单日期                           \n",
       "2019-12-12  4.0  1.0  5.0  32.0\n",
       "2019-12-13  0.0  0.0  2.0   3.0\n",
       "2019-12-14  0.0  0.0  3.0   8.0\n",
       "2019-12-15  1.0  0.0  2.0   9.0\n",
       "2019-12-16  2.0  1.0  0.0   4.0\n",
       "2019-12-17  1.0  0.0  4.0  14.0\n",
       "2019-12-18  0.0  0.0  4.0   2.0"
      ]
     },
     "execution_count": 79,
     "metadata": {},
     "output_type": "execute_result"
    }
   ],
   "source": [
    "df_r"
   ]
  },
  {
   "cell_type": "code",
   "execution_count": 89,
   "metadata": {},
   "outputs": [],
   "source": [
    "\n",
    "plt.rcParams['font.sans-serif'] = ['KaiTi'] # 指定默认字体\n",
    "plt.rcParams['axes.unicode_minus'] = False\n"
   ]
  },
  {
   "cell_type": "code",
   "execution_count": 88,
   "metadata": {},
   "outputs": [
    {
     "data": {
      "text/plain": [
       "<matplotlib.axes._subplots.AxesSubplot at 0x170ee6a0>"
      ]
     },
     "execution_count": 88,
     "metadata": {},
     "output_type": "execute_result"
    },
    {
     "data": {
      "image/png": "[encoded data removed]",
      "text/plain": [
       "<Figure size 1152x432 with 1 Axes>"
      ]
     },
     "metadata": {
      "needs_background": "light"
     },
     "output_type": "display_data"
    }
   ],
   "source": [
    "df_r[['补水','护肤','护肤','水光针']].plot(kind='line',figsize=(16,6),rot = 45,\n",
    "       grid = True)"
   ]
  },
  {
   "cell_type": "code",
   "execution_count": 95,
   "metadata": {},
   "outputs": [],
   "source": [
    "free_order.to_excel(r\"C:\\Users\\qhj01\\Desktop\\TTTT.xlsx\")"
   ]
  },
  {
   "cell_type": "code",
   "execution_count": null,
   "metadata": {},
   "outputs": [],
   "source": []
  }
 ],
 "metadata": {
  "kernelspec": {
   "display_name": "Python 3",
   "language": "python",
   "name": "python3"
  },
  "language_info": {
   "codemirror_mode": {
    "name": "ipython",
    "version": 3
   },
   "file_extension": ".py",
   "mimetype": "text/x-python",
   "name": "python",
   "nbconvert_exporter": "python",
   "pygments_lexer": "ipython3",
   "version": "3.6.5"
  }
 },
 "nbformat": 4,
 "nbformat_minor": 2
}
