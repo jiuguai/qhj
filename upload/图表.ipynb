{
 "cells": [
  {
   "cell_type": "code",
   "execution_count": 1,
   "metadata": {},
   "outputs": [],
   "source": [
    "import sys\n",
    "sys.path.append(r\"D:\\往期\\QHJ\\ZERO\")\n",
    "import os\n",
    "import json\n",
    "\n",
    "import numpy as np\n",
    "import pandas as pd\n",
    "import matplotlib.pyplot as plt\n",
    "%matplotlib inline\n",
    "\n",
    "from sqlalchemy import create_engine\n",
    "from coord_convert.transform import gcj2bd\n",
    "\n",
    "\n",
    "\n",
    "import pymysql\n",
    "\n",
    "from tools import *\n",
    "\n",
    "\n"
   ]
  },
  {
   "cell_type": "code",
   "execution_count": 2,
   "metadata": {},
   "outputs": [],
   "source": [
    "conn = pymysql.Connect(**MYSQL_MALL_DIC)\n",
    "cursor = conn.cursor(cursor=pymysql.cursors.DictCursor)\n",
    "engine_conn = \"mysql+pymysql://{user}:{password}@{host}:{port}/{database}\".format(**MYSQL_MALL_DIC)\n",
    "engine = create_engine(engine_conn,encoding='utf-8')\n",
    "save_dir = r\"D:\\往期\\QHJ\\echart\""
   ]
  },
  {
   "cell_type": "code",
   "execution_count": 3,
   "metadata": {},
   "outputs": [],
   "source": [
    "# order_df = pd.read_sql('select * from order_details where 下单时间>=\"2019-12-01 00:00:00\"',engine)\n",
    "goods_df = pd.read_sql('select * from goods',engine,)\n",
    "cursor.execute('select * from order_details where 下单时间>=\"2019-12-01 00:00:00\"')\n",
    "d = cursor.fetchall()\n",
    "order_df = pd.DataFrame(d)"
   ]
  },
  {
   "cell_type": "code",
   "execution_count": 4,
   "metadata": {},
   "outputs": [],
   "source": [
    "free_order = order_df[order_df['goods_type']==\"free\"]\n",
    "\n",
    "df = pd.merge(free_order,goods_df[[\"商品ID\",\"SPUID\",\"goods_name\",'系统分类','市场价','成本价','售价','发货商','发货商ID','规格','单位']],on='商品ID',how='left')\n",
    "df['lat'] = df['lat'].astype(np.float64)\n",
    "df['lng'] = df['lng'].astype(np.float64)\n",
    "\n",
    "df.reset_index(drop=True,inplace=True)\n",
    "# 转换为 百度坐标系\n",
    "def convert_coord(coord):\n",
    "    coord_r = gcj2bd(*coord.tolist())\n",
    "\n",
    "    coord['lng'] = coord_r[0]\n",
    "    coord['lat'] = coord_r[1]\n",
    "    return coord\n",
    "df_coord = df[['lng','lat']].apply(convert_coord,axis=1)\n",
    "del df['lng']\n",
    "del df['lat']\n",
    "df = pd.concat([df,df_coord],axis=1)"
   ]
  },
  {
   "cell_type": "code",
   "execution_count": 6,
   "metadata": {},
   "outputs": [],
   "source": [
    "\n",
    "\n",
    "\n",
    "\n",
    "\n",
    "pd.set_option('mode.chained_assignment',None)\n",
    "# 运单未回部分\n",
    "df_r = df[['goods_name','下单时间','订单号','导出订单时间','运单号']]\n",
    "df_r = df_r.replace({\"goods_name\":{r\".+?\\((.+?)\\)$\":r\"\\1\"}},regex=True)\n",
    "df_r['发货状态'] = \"已回复\"\n",
    "\n",
    "df_r['发货状态'][df_r['运单号'].isnull()] = \"待回复\"\n",
    "del df_r['运单号']\n",
    "\n",
    "df_r['对接日期'] = df_r['导出订单时间'].apply(lambda x:x.strftime('%Y-%m-%d'))\n",
    "df_r['下单日期'] = df_r['下单时间'].apply(lambda x:x.strftime('%Y-%m-%d'))\n",
    "df_r.sort_values('导出订单时间',inplace=True)\n",
    "df_r.reset_index(drop=True,inplace=True)\n",
    "\n",
    "# 当天订单 当天对接\n",
    "df_r['current_day'] = \"非当日\"\n",
    "df_r['current_day'][df_r['对接日期'] == df_r['下单日期']] = \"当日\"\n",
    "data_d = {}"
   ]
  },
  {
   "cell_type": "code",
   "execution_count": 9,
   "metadata": {},
   "outputs": [],
   "source": [
    "data = {\n",
    "    \"xaxis\":[],\n",
    "    \"order_data\":[], # 下单数\n",
    "    \"abut_data\":{}, # 对接数 分为回复 和 待回复\n",
    "#     \"not_abut_data\":[],\n",
    "    \"goods_order\":[], # 按商品 分类 订单总数\n",
    "    \"cur_vs_abut_order\":[],# 当天 和 非当前 唯独\n",
    "    \"abut_details\":{}, # 下单详情\n",
    "    \"order_details\":{}\n",
    "}\n",
    "\n",
    "temp = df_r[['对接日期','goods_name','订单号','发货状态','current_day']]\n",
    "# temp['发货状态'] = np.random.choice(['已回复','待回复'],len(temp))\n",
    "\n",
    "agg = temp.groupby([\"对接日期\",'goods_name'])\n",
    "l = []\n",
    "\n",
    "for (date,goods_name),row in agg:\n",
    "#     print(date,goods_name)\n",
    "    d = {\n",
    "        '对接日期':date,\n",
    "        \"goods_name\":goods_name,\n",
    "        '对接数':row['订单号'].count(),\n",
    "        \n",
    "    }\n",
    "    \n",
    "    d.update(row['发货状态'].value_counts().to_dict())\n",
    "    \n",
    "    d.update(row['current_day'].value_counts().to_dict())\n",
    "    data['abut_details'].setdefault(date,{})\n",
    "\n",
    "    data['abut_details'][date].update({goods_name:d})\n",
    "    \n",
    "    \n",
    "    l.append(d)\n",
    "# print(l)\n",
    "abut_temp = pd.DataFrame(l)\n",
    "abut_temp = abut_temp.fillna(0)\n",
    "abut_temp = abut_temp.groupby(\"对接日期\").sum().sort_index()\n",
    "\n",
    "\n",
    "# 获取下单总数\n",
    "goods_name_d = temp[['订单号','goods_name']].rename(columns={\"订单号\":\"下单数\"}).groupby('goods_name').count().to_dict()['下单数']\n",
    "data['goods_order'] = [{\"name\":key,\"value\":v} for key,v in goods_name_d.items()]\n",
    "\n",
    "# 获取下单信息\n",
    "order_temp = df_r[['下单日期','goods_name','订单号']]\n",
    "order_agg = order_temp.groupby(['下单日期','goods_name'])\n",
    "\n",
    "for (date,goods_name),row in order_agg:\n",
    "    d = {\n",
    "        \"下单日期\":date,\n",
    "        \"goods_name\":goods_name,\n",
    "        \"下单数\":row['订单号'].count()\n",
    "    }\n",
    "    data['order_details'].setdefault(date,{})\n",
    "    data['order_details'][date].update({goods_name:d})\n",
    "    \n",
    "    \n",
    "order_temp = df_r[['下单日期','订单号']].rename(columns={\"订单号\":\"下单数\"}).groupby('下单日期').count()\n",
    "\n",
    "\n",
    "\n",
    "main_temp = pd.concat([abut_temp,order_temp],axis=1,sort=False).sort_index().fillna(0)\n",
    "data['xaxis'] = main_temp.index.to_list()\n",
    "\n",
    "data['order_data'] = {\"name\":\"下单数\",\n",
    "                      \"data\":main_temp['下单数'].to_list(),\n",
    "                      \n",
    "                    }\n",
    "\n",
    "\n",
    "data['abut_data'] = [\n",
    "    {'name':\"已回复\",'data':main_temp['已回复'].to_list()},\n",
    "    {'name':\"待回复\",'data':main_temp['待回复'].to_list()},\n",
    "]\n",
    "data['cur_date'] = main_temp['当日'].to_dict()\n",
    "data['ncur_date'] = main_temp['非当日'].to_dict()\n",
    "\n",
    "\n",
    "js_path = os.path.join(save_dir,r'data\\new_order.json')\n",
    "with open(js_path,\"w\",encoding='utf-8') as f:\n",
    "\n",
    "    f.write('order_data=')\n",
    "\n",
    "    json.dump(data,f,ensure_ascii=False,cls=MyEncoder)    "
   ]
  },
  {
   "cell_type": "code",
   "execution_count": null,
   "metadata": {},
   "outputs": [],
   "source": [
    "stop"
   ]
  },
  {
   "cell_type": "code",
   "execution_count": null,
   "metadata": {},
   "outputs": [],
   "source": []
  },
  {
   "cell_type": "code",
   "execution_count": null,
   "metadata": {},
   "outputs": [],
   "source": [
    "# 回复状态\n",
    "temp = df_r[['对接日期','发货状态','订单号']].groupby(['对接日期','发货状态']).count()\n",
    "temp = temp.unstack(fill_value=0)\n",
    "\n",
    "\n",
    "\n",
    "temp.columns = temp['订单号'].columns\n",
    "data_d['reply_status'] = temp\n",
    "\n",
    "\n",
    "\n",
    "# # 回复状态  小细节未发货部分\n",
    "temp = df_r[df_r['发货状态'] == '待回复']    \n",
    "\n",
    "\n",
    "temp = temp[['goods_name','对接日期','订单号']]\n",
    "temp.rename(columns={\"goods_name\":\"三金商品\"},inplace=True)\n",
    "temp = temp.groupby(['三金商品','对接日期']).count()\n",
    "temp = temp.unstack(level=0).fillna(0)\n",
    "temp = temp.stack(level=0).reset_index(level=-1,drop=True)    \n",
    "data_d['reply_status_day'] = temp\n",
    "\n",
    "\n",
    "# 当日下单数\n",
    "temp = df_r[['下单日期','订单号']]\n",
    "temp.rename(columns={\"订单号\":\"下单数\"},inplace=True)\n",
    "temp = temp.groupby(['下单日期']).count()\n",
    "data_d['order'] = temp\n",
    "\n",
    "# 对接日期 和 下单日期 是否 为同一天\n",
    "temp = df_r[['current_day','订单号','对接日期']]\n",
    "temp = temp.groupby(['对接日期','current_day']).count()\n",
    "temp = temp.unstack(fill_value=0).sort_index()\n",
    "temp.columns = temp['订单号'].columns\n",
    "data_d['abut_cur_date'] = temp\n",
    "\n",
    "df =pd.concat([df for df in data_d.values()],axis=1,sort=True).fillna(0).sort_index()\n",
    "\n"
   ]
  },
  {
   "cell_type": "code",
   "execution_count": null,
   "metadata": {},
   "outputs": [],
   "source": [
    "# 回复状态\n",
    "data = {}\n",
    "data[\"xaxis\"] = df.index.tolist()\n",
    "data[\"abut_data\"] = []\n",
    "recv_col = ['已回复','待回复']\n",
    "for col in set(recv_col) - set(df.columns):\n",
    "    recv_col.remove(col)\n",
    "\n",
    "for name, row in df[recv_col].iteritems():\n",
    "    d = {\n",
    "        'name':name,\n",
    "        'data':row.tolist()\n",
    "    }\n",
    "    data[\"abut_data\"].append(d)\n",
    "    \n",
    "data['order_data'] = {'name':\"下单数\",'data':df['下单数'].tolist()}\n",
    "# 回复状态 细节部分\n",
    "data[\"not_abut_data\"] = {}\n",
    "columns = [\"护肤\",\"水光针\",\"美肤\",\"补水\"]\n",
    "for col in set(columns) - set(df.columns):\n",
    "    columns.remove(col)\n",
    "\n",
    "for name,row in df[columns].iterrows():\n",
    "    r = row!=0\n",
    "    if any(r):\n",
    "        data[\"not_abut_data\"][name] = row[r].to_dict()\n",
    "\n",
    "# 对接日期 和 下单日期 是否 为同一天        \n",
    "data[\"cur_vs_abut_order\"] = {}    \n",
    "for name,row in df[['当日','非当日']].iterrows():\n",
    "    data[\"cur_vs_abut_order\"][name] = row.to_dict()        \n",
    "\n",
    "\n",
    "# 订单细节部分\n",
    "temp = df_r[['goods_name','下单日期','订单号']]\n",
    "temp.rename(columns={'订单号':\"下单数\"},inplace=True)\n",
    "temp = temp.groupby(['下单日期','goods_name']).count()\n",
    "temp = temp.unstack(fill_value=0)\n",
    "temp.columns = temp['下单数'].columns\n",
    "temp = temp.sort_index()\n",
    "data[\"order_details\"] = {}\n",
    "for name,row in temp.iterrows():\n",
    "    r = row!=0\n",
    "    if any(r):\n",
    "        data[\"order_details\"][name] = row[r].to_dict()\n",
    "        \n",
    "\n",
    "# 占比\n",
    "temp = df_r[['goods_name','订单号']]\n",
    "\n",
    "temp = temp.rename(columns= {'订单号':\"下单数\"}).groupby('goods_name').count()\n",
    "\n",
    "data[\"goods_order\"] = []\n",
    "for name, row in temp.iterrows():\n",
    "    d = {\n",
    "        \"name\":name,\n",
    "        \"value\":row['下单数']\n",
    "    }\n",
    "    data[\"goods_order\"].append(d)\n",
    "\n",
    "        \n",
    "        \n",
    "js_path = os.path.join(save_dir,r'data\\order.json')\n",
    "with open(js_path,\"w\",encoding='utf-8') as f:\n",
    "\n",
    "    f.write('order_data=')\n",
    "\n",
    "    json.dump(data,f,ensure_ascii=False,cls=MyEncoder)    "
   ]
  },
  {
   "cell_type": "code",
   "execution_count": null,
   "metadata": {},
   "outputs": [],
   "source": [
    "\n",
    "stop\n",
    "\n",
    "\n",
    "        "
   ]
  },
  {
   "cell_type": "code",
   "execution_count": null,
   "metadata": {
    "scrolled": false
   },
   "outputs": [],
   "source": [
    "temp = df_r.copy()"
   ]
  },
  {
   "cell_type": "code",
   "execution_count": null,
   "metadata": {},
   "outputs": [],
   "source": []
  },
  {
   "cell_type": "code",
   "execution_count": null,
   "metadata": {},
   "outputs": [],
   "source": [
    "len(temp)"
   ]
  },
  {
   "cell_type": "code",
   "execution_count": null,
   "metadata": {},
   "outputs": [],
   "source": [
    "df_r.head()"
   ]
  },
  {
   "cell_type": "code",
   "execution_count": null,
   "metadata": {},
   "outputs": [],
   "source": [
    "data = {\n",
    "    \"xaxis\":[],\n",
    "    \"order_data\":[], # 下单数\n",
    "    \"abut_data\":{}, # 对接数 分为回复 和 待回复\n",
    "#     \"not_abut_data\":[],\n",
    "    \"goods_order\":[], # 按商品 分类 订单总数\n",
    "    \"cur_vs_abut_order\":[],# 当天 和 非当前 唯独\n",
    "    \"abut_details\":{}, # 下单详情\n",
    "    \"order_details\":{}\n",
    "}\n",
    "\n",
    "temp = df_r[['对接日期','goods_name','订单号','发货状态','current_day']]\n",
    "temp['发货状态'] = np.random.choice(['已回复','待回复'],len(temp))\n",
    "\n",
    "agg = temp.groupby([\"对接日期\",'goods_name'])\n",
    "l = []\n",
    "\n",
    "for (date,goods_name),row in agg:\n",
    "#     print(date,goods_name)\n",
    "    d = {\n",
    "        '对接日期':date,\n",
    "        \"goods_name\":goods_name,\n",
    "        '对接数':row['订单号'].count(),\n",
    "        \n",
    "    }\n",
    "    \n",
    "    d.update(row['发货状态'].value_counts().to_dict())\n",
    "    \n",
    "    d.update(row['current_day'].value_counts().to_dict())\n",
    "    data['abut_details'].setdefault(date,{})\n",
    "\n",
    "    data['abut_details'][date].update({goods_name:d})\n",
    "    \n",
    "    \n",
    "    l.append(d)\n",
    "# print(l)\n",
    "abut_temp = pd.DataFrame(l)\n",
    "abut_temp = abut_temp.fillna(0)\n",
    "abut_temp = abut_temp.groupby(\"对接日期\").sum().sort_index()\n",
    "\n",
    "\n",
    "# 获取下单总数\n",
    "goods_name_d = temp[['订单号','goods_name']].rename(columns={\"订单号\":\"下单数\"}).groupby('goods_name').count().to_dict()['下单数']\n",
    "data['goods_order'] = [{\"name\":key,\"value\":v} for key,v in goods_name_d.items()]\n",
    "\n",
    "# 获取下单信息\n",
    "order_temp = df_r[['下单日期','goods_name','订单号']]\n",
    "order_agg = order_temp.groupby(['下单日期','goods_name'])\n",
    "\n",
    "for (date,goods_name),row in order_agg:\n",
    "    d = {\n",
    "        \"下单日期\":date,\n",
    "        \"goods_name\":goods_name,\n",
    "        \"下单数\":row['订单号'].count()\n",
    "    }\n",
    "    data['order_details'].setdefault(date,{})\n",
    "    data['order_details'][date].update({goods_name:d})\n",
    "    \n",
    "    \n",
    "order_temp = df_r[['下单日期','订单号']].rename(columns={\"订单号\":\"下单数\"}).groupby('下单日期').count()\n",
    "\n",
    "\n",
    "\n",
    "main_temp = pd.concat([abut_temp,order_temp],axis=1,sort=False).sort_index().fillna(0)\n",
    "data['xaxis'] = main_temp.index.to_list()\n",
    "\n",
    "data['order_data'] = {\"name\":\"下单数\",\n",
    "                      \"data\":main_temp['下单数'].to_list(),\n",
    "                      \n",
    "                    }\n",
    "\n",
    "\n",
    "data['abut_data'] = [\n",
    "    {'name':\"已回复\",'data':main_temp['已回复'].to_list()},\n",
    "    {'name':\"待回复\",'data':main_temp['待回复'].to_list()},\n",
    "]\n",
    "data['cur_date'] = main_temp['当日'].to_dict()\n",
    "data['ncur_date'] = main_temp['非当日'].to_dict()\n",
    "\n",
    "\n",
    "js_path = os.path.join(save_dir,r'data\\new_order.json')\n",
    "with open(js_path,\"w\",encoding='utf-8') as f:\n",
    "\n",
    "    f.write('order_data=')\n",
    "\n",
    "    json.dump(data,f,ensure_ascii=False,cls=MyEncoder)    "
   ]
  },
  {
   "cell_type": "code",
   "execution_count": null,
   "metadata": {},
   "outputs": [],
   "source": []
  },
  {
   "cell_type": "code",
   "execution_count": null,
   "metadata": {},
   "outputs": [],
   "source": [
    "main_temp"
   ]
  },
  {
   "cell_type": "code",
   "execution_count": null,
   "metadata": {},
   "outputs": [],
   "source": [
    "abut_temp"
   ]
  },
  {
   "cell_type": "code",
   "execution_count": null,
   "metadata": {},
   "outputs": [],
   "source": [
    "for k,v in goods_name_d.items():\n",
    "    print(k,v)"
   ]
  },
  {
   "cell_type": "code",
   "execution_count": null,
   "metadata": {
    "scrolled": false
   },
   "outputs": [],
   "source": [
    "data"
   ]
  },
  {
   "cell_type": "code",
   "execution_count": null,
   "metadata": {},
   "outputs": [],
   "source": []
  },
  {
   "cell_type": "code",
   "execution_count": null,
   "metadata": {},
   "outputs": [],
   "source": [
    "\n",
    "order_temp"
   ]
  },
  {
   "cell_type": "code",
   "execution_count": null,
   "metadata": {},
   "outputs": [],
   "source": [
    "\n"
   ]
  },
  {
   "cell_type": "code",
   "execution_count": null,
   "metadata": {},
   "outputs": [],
   "source": [
    "abut_temp"
   ]
  },
  {
   "cell_type": "code",
   "execution_count": null,
   "metadata": {
    "scrolled": false
   },
   "outputs": [],
   "source": [
    "df_r[['订单号','goods_name','下单日期']].groupby([\"下单日期\",'goods_name'])"
   ]
  },
  {
   "cell_type": "code",
   "execution_count": null,
   "metadata": {},
   "outputs": [],
   "source": [
    "data['abut_details']"
   ]
  },
  {
   "cell_type": "code",
   "execution_count": null,
   "metadata": {},
   "outputs": [],
   "source": [
    "data['order_data']"
   ]
  },
  {
   "cell_type": "code",
   "execution_count": null,
   "metadata": {},
   "outputs": [],
   "source": [
    "temp.to_dict()"
   ]
  },
  {
   "cell_type": "code",
   "execution_count": null,
   "metadata": {},
   "outputs": [],
   "source": [
    "row['发货状态'].value_counts().to_frame().unstack()"
   ]
  },
  {
   "cell_type": "code",
   "execution_count": null,
   "metadata": {},
   "outputs": [],
   "source": [
    "s = row['发货状态']"
   ]
  },
  {
   "cell_type": "code",
   "execution_count": null,
   "metadata": {},
   "outputs": [],
   "source": [
    "temp.head()"
   ]
  },
  {
   "cell_type": "code",
   "execution_count": null,
   "metadata": {},
   "outputs": [],
   "source": []
  },
  {
   "cell_type": "code",
   "execution_count": null,
   "metadata": {
    "scrolled": false
   },
   "outputs": [],
   "source": [
    "temp = df_r[['goods_name','下单日期','订单号']]\n",
    "temp.rename(columns={'订单号':\"下单数\"},inplace=True)\n",
    "temp = temp.groupby(['下单日期','goods_name']).count()\n",
    "temp = temp.unstack(fill_value=0)\n",
    "# temp.columns = temp['下单数'].columns\n",
    "# temp = temp[columns].sort_index()\n",
    "temp"
   ]
  },
  {
   "cell_type": "code",
   "execution_count": null,
   "metadata": {},
   "outputs": [],
   "source": [
    "\n",
    "temp"
   ]
  },
  {
   "cell_type": "code",
   "execution_count": null,
   "metadata": {},
   "outputs": [],
   "source": [
    "row"
   ]
  },
  {
   "cell_type": "code",
   "execution_count": null,
   "metadata": {},
   "outputs": [],
   "source": [
    "from pprint import pprint\n",
    "pprint(data)"
   ]
  },
  {
   "cell_type": "code",
   "execution_count": null,
   "metadata": {},
   "outputs": [],
   "source": [
    "# 柱状图\n",
    "df_r = df[['goods_name','下单时间','订单号']]\n",
    "df_r = df_r.replace({\"goods_name\":{r\".+?\\((.+?)\\)$\":r\"\\1\"}},regex=True)\n",
    "df_r['下单日期'] = df_r['下单时间'].apply(lambda x:x.strftime('%Y-%m-%d'))\n",
    "df_r.sort_values(by=['goods_name','下单时间'],inplace=True)\n",
    "\n",
    "df_r = df_r[['goods_name','下单日期','订单号']]\n",
    "df_r.rename(columns={\"goods_name\":\"三金商品\"},inplace=True)\n",
    "df_r = df_r.groupby(['三金商品','下单日期']).count()\n",
    "df_r = df_r.unstack(level=0).fillna(0)\n",
    "df_r = df_r.stack(level=0).reset_index(level=-1,drop=True)\n",
    "\n",
    "data = {}\n",
    "\n",
    "data[\"order_data\"] = []\n",
    "data[\"xaxis\"] = df_r.index.tolist()\n",
    "for name, row in df_r[[\"补水\",\"美肤\",\"护肤\",\"水光针\"]].iteritems():\n",
    "    d = {\n",
    "        'name':name,\n",
    "        'data':row.tolist()\n",
    "    }\n",
    "    data[\"data\"].append(d)\n",
    "\n",
    "js_path = os.path.join(save_dir,r'data\\order.json')\n",
    "with open(js_path,\"w\",encoding='utf-8') as f:\n",
    "\n",
    "    f.write('order_data=')\n",
    "\n",
    "    json.dump(data,f,ensure_ascii=False)\n",
    "df_r"
   ]
  },
  {
   "cell_type": "code",
   "execution_count": null,
   "metadata": {
    "scrolled": true
   },
   "outputs": [],
   "source": []
  },
  {
   "cell_type": "code",
   "execution_count": null,
   "metadata": {
    "scrolled": true
   },
   "outputs": [],
   "source": []
  },
  {
   "cell_type": "code",
   "execution_count": null,
   "metadata": {},
   "outputs": [],
   "source": [
    "# 热图\n",
    "df_r = df[['订单号','lng','lat']]\n",
    "df_r = df_r.replace({\"goods_name\":{r\".+?\\((.+?)\\)$\":r\"\\1\"}},regex=True)\n",
    "l = []\n",
    "for index, row in df_r.iterrows():\n",
    "    l.append([row['lng'],row['lat'],1])\n",
    "\n",
    "    \n",
    "with open(os.path.join(save_dir,r'\\data\\heat_coord.json'),'w',encoding='utf-8') as f:\n",
    "    f.write('points=')\n",
    "    json.dump(l,f,ensure_ascii=False)"
   ]
  },
  {
   "cell_type": "code",
   "execution_count": null,
   "metadata": {},
   "outputs": [],
   "source": [
    "# map  散点图\n",
    "\n",
    "temp = df[[ \"goods_name\",'收货地址','lng','lat','订单号','收件人','联系方式']]\n",
    "temp = temp.replace({\"goods_name\":{r\".+?\\((.+?)\\)$\":r\"\\1\"}},regex=True)\n",
    "\n",
    "\n",
    "\n",
    "l = []\n",
    "for index,row in temp.iterrows():\n",
    "    d = {\n",
    "        \"name\":row['收货地址'],\n",
    "    }\n",
    "    lng, lat = gcj2bd(float(row['lng']),float(row['lat']))\n",
    "    d['value'] = [lng, lat, 1,{\"商品名\":row['goods_name'],\n",
    "                                             \"收货地址\":row['收货地址'],\n",
    "                                             \"收件人\":row['收件人'],\n",
    "                                            \"联系方式\":row['联系方式']}]\n",
    "    l.append(d)\n",
    "\n",
    "with open(os.path.join(save_dir,r'data\\coord.json'),'w',encoding='utf-8') as f:\n",
    "    f.write('coord_data=')\n",
    "    json.dump(l,f,ensure_ascii=False)"
   ]
  },
  {
   "cell_type": "code",
   "execution_count": null,
   "metadata": {},
   "outputs": [],
   "source": [
    "# 统计\n",
    "df_r = df[['goods_name','订单号','国家','省份','城市','县区']]\n",
    "df_r = df_r.replace({\"goods_name\":{r\".+?\\((.+?)\\)$\":r\"\\1\"}},regex=True)\n",
    "\n",
    "dt = pd.pivot_table(df_r,\n",
    "         index=['国家','省份','城市','县区'],\n",
    "         columns=['goods_name'],\n",
    "         values=['订单号'],\n",
    "         aggfunc={'订单号':\"count\"} ,fill_value=0,\n",
    "               margins=True,\n",
    "               margins_name=\"总计\"\n",
    "        )\n",
    "dt = dt.stack(level=0).reset_index(level=-1,drop=True)\n",
    "dt.columns.name = \"三金护肤产品\"\n",
    "dt = dt[['水光针','补水','美肤','护肤','总计']].sort_index(level=1,ascending=False)\n",
    "dt"
   ]
  },
  {
   "cell_type": "code",
   "execution_count": null,
   "metadata": {},
   "outputs": [],
   "source": [
    "stop\n",
    "\n"
   ]
  },
  {
   "cell_type": "code",
   "execution_count": null,
   "metadata": {},
   "outputs": [],
   "source": [
    "plt.rcParams['font.sans-serif'] = ['KaiTi'] # 指定默认字体\n",
    "plt.rcParams['axes.unicode_minus'] = False\n",
    "df_r[['补水','护肤','护肤','水光针']].plot(kind='line',figsize=(16,6),rot = 45,\n",
    "       grid = True)"
   ]
  },
  {
   "cell_type": "code",
   "execution_count": null,
   "metadata": {},
   "outputs": [],
   "source": [
    "free_order.to_excel(r\"C:\\Users\\qhj01\\Desktop\\TTTT.xlsx\")"
   ]
  },
  {
   "cell_type": "code",
   "execution_count": null,
   "metadata": {},
   "outputs": [],
   "source": []
  }
 ],
 "metadata": {
  "kernelspec": {
   "display_name": "Python 3",
   "language": "python",
   "name": "python3"
  },
  "language_info": {
   "codemirror_mode": {
    "name": "ipython",
    "version": 3
   },
   "file_extension": ".py",
   "mimetype": "text/x-python",
   "name": "python",
   "nbconvert_exporter": "python",
   "pygments_lexer": "ipython3",
   "version": "3.6.5"
  }
 },
 "nbformat": 4,
 "nbformat_minor": 2
}
