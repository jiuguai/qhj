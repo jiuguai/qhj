{
 "cells": [
  {
   "cell_type": "code",
   "execution_count": 1,
   "metadata": {},
   "outputs": [],
   "source": [
    "import re\n",
    "import sys\n",
    "sys.path.append(r\"D:\\往期\\QHJ\\ZERO\")\n",
    "sys.path.append(r\"E:\\dataparse\\Python_DATA_PARSE\\QHJ\\ZERO\")\n",
    "import warnings\n",
    "warnings.filterwarnings(\"ignore\")\n",
    "\n",
    "from pyquery import PyQuery as pq\n",
    "import requests\n",
    "from urllib.parse import urlencode,parse_qs\n",
    "import numpy as np\n",
    "import pandas as pd\n",
    "import redis\n",
    "\n",
    "import pymysql\n",
    "\n",
    "import json\n",
    "from tools import *\n",
    "\n",
    "qm = QHJMall(MALL_KEY)\n",
    "\n",
    "\n",
    "import datetime\n",
    "\n",
    "sku_goods = pd.read_excel(r'D:\\奇货居\\素材\\商城图片素材\\商品信息.xlsx',sheet_name='商品详情') \\\n",
    "                [['商品ID', '发货商','发货商ID','goods_type','规格','单位', '市场价','售价','商品名简称']] \\\n",
    "                .rename(columns={\"售价\":\"单价\",\"商品名简称\":\"商品名\"}).fillna({\"goods_type\":\"original\"})\n",
    "\n"
   ]
  },
  {
   "cell_type": "code",
   "execution_count": 18,
   "metadata": {},
   "outputs": [
    {
     "name": "stdout",
     "output_type": "stream",
     "text": [
      "请求 {'order_status': 0, 'order_time': '', 'order_id': '', 'order_type': 'original', 'page': 1}\n"
     ]
    }
   ],
   "source": [
    "l = []\n",
    "for order in qm.gen_orders(\"original\"):\n",
    "    l.append(order)\n"
   ]
  },
  {
   "cell_type": "code",
   "execution_count": 30,
   "metadata": {},
   "outputs": [],
   "source": [
    "\n",
    "\n",
    "data = pd.DataFrame(l)\n",
    "data = pd.concat([data['用户信息'].str.extract(\"\"\"\n",
    "        (?<=下单人：)(?P<收件人>[^\\n]+)\n",
    "        \\s+手机：(?P<联系方式>[^\\n]+)\n",
    "        \\s+收货地址：(?P<收货地址>[^\\n]+)\"\"\", flags=re.S | re.X),data],axis=1)\n",
    "data = data.replace({\"支付金额\": {\"￥\": \"\"}}, regex=True).fillna({\"支付金额\": 0})\n",
    "\n",
    "data['支付金额'] = data['支付金额'].astype(int)\n",
    "\n",
    "# 拆分为原子\n",
    "data = data.drop(columns='订单详情').join(data['订单详情'].str.split('\\n',expand=True).stack().reset_index(level=1, drop=True).rename(\"详情\"))\n",
    "\n",
    "\n",
    "data = pd.concat([data[['订单号', '收件人','联系方式','收货地址', '用户信息','下单时间','备注','支付金额','支付时间']], data['详情'].str.extract(\n",
    "\"\"\"\n",
    "(?P<商品名>.+?)(?=（规格[：:])（\n",
    "规格[：:](?P<规格>.+?)(?=[，,]商品ID[：:])\n",
    "[，,]商品ID[：:](?P<商品ID>.+)）\\sX(?P<数量>\\s\\d+)\"\"\",flags=re.X)],axis=1)\n",
    "\n",
    "data = pd.merge(data,sku_goods[['商品ID','goods_type','单价','发货商']],on=\"商品ID\")\n",
    "data['数量'] = data['数量'].astype(int)\n",
    "data['支付金额'] = data['数量'] * data['单价']"
   ]
  },
  {
   "cell_type": "code",
   "execution_count": null,
   "metadata": {},
   "outputs": [],
   "source": [
    "[\"订单号\", '商品ID', \"发货商\", \"数量\", \"支付金额\", \"备注\", \"收件人\", \"联系方式\", \"收货地址\", \"goods_type\",\n",
    "                  \"导出订单时间\", '下单时间', '支付时间']"
   ]
  },
  {
   "cell_type": "code",
   "execution_count": 31,
   "metadata": {},
   "outputs": [
    {
     "data": {
      "text/plain": [
       "{'导出订单时间'}"
      ]
     },
     "execution_count": 31,
     "metadata": {},
     "output_type": "execute_result"
    }
   ],
   "source": [
    "set([\"订单号\", '商品ID', \"发货商\", \"数量\", \"支付金额\", \"备注\", \"收件人\", \"联系方式\", \"收货地址\", \"goods_type\",\n",
    "                  \"导出订单时间\", '下单时间', '支付时间']) - set(data.columns)"
   ]
  },
  {
   "cell_type": "code",
   "execution_count": 20,
   "metadata": {},
   "outputs": [
    {
     "data": {
      "text/plain": [
       "207245"
      ]
     },
     "execution_count": 20,
     "metadata": {},
     "output_type": "execute_result"
    }
   ],
   "source": [
    "data['支付金额'].sum()"
   ]
  }
 ],
 "metadata": {
  "kernelspec": {
   "display_name": "Python 3",
   "language": "python",
   "name": "python3"
  },
  "language_info": {
   "codemirror_mode": {
    "name": "ipython",
    "version": 3
   },
   "file_extension": ".py",
   "mimetype": "text/x-python",
   "name": "python",
   "nbconvert_exporter": "python",
   "pygments_lexer": "ipython3",
   "version": "3.6.5"
  }
 },
 "nbformat": 4,
 "nbformat_minor": 2
}
