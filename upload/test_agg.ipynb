{
 "cells": [
  {
   "cell_type": "code",
   "execution_count": 1,
   "metadata": {},
   "outputs": [],
   "source": [
    "import re\n",
    "import os\n",
    "import asyncio\n",
    "from aiohttp import ClientSession, ClientTimeout, TCPConnector\n",
    "\n",
    "\n",
    "import sys\n",
    "sys.path.append(r\"D:\\往期\\QHJ\\ZERO\")\n",
    "sys.path.append(r\"E:\\dataparse\\Python_DATA_PARSE\\QHJ\\ZERO\")\n",
    "from pyquery import PyQuery as pq\n",
    "import requests\n",
    "from sqlalchemy import create_engine\n",
    "import pymysql\n",
    "import pandas as pd\n",
    "\n",
    "from tools import *\n",
    "\n",
    "\n",
    "\n",
    "\n"
   ]
  },
  {
   "cell_type": "code",
   "execution_count": 4,
   "metadata": {},
   "outputs": [],
   "source": [
    "headers = {\n",
    "    \"accept\": \"text/html,application/xhtml+xml,application/xml;q=0.9,image/webp,image/apng,*/*;q=0.8,application/signed-exchange;v=b3;q=0.9\",\n",
    "    \"accept-encoding\": \"gzip, deflate, br\",\n",
    "    \"accept-language\": \"zh-CN,zh;q=0.9,en;q=0.8\",\n",
    "    \"cache-control\": \"no-cache\",\n",
    "    \"cookie\": \"PHPSESSID=%s\" %MALL_KEY,\n",
    "    \"pragma\": \"no-cache\",\n",
    "    \"referer\": \"https://app0001.yrapps.cn/admin/User/userMemberList\",\n",
    "    \"sec-fetch-dest\": \"iframe\",\n",
    "    \"sec-fetch-mode\": \"navigate\",\n",
    "    \"sec-fetch-site\": \"same-origin\",\n",
    "    \"sec-fetch-user\": \"?1\",\n",
    "    \"upgrade-insecure-requests\": \"1\",\n",
    "    \"user-agent\": \"Mozilla/5.0 (Windows NT 6.1; Win64; x64) AppleWebKit/537.36 (KHTML, like Gecko) Chrome/81.0.4021.2 Safari/537.36\",\n",
    "}\n",
    "url = \"https://app0001.yrapps.cn/admin/User/userMemberList?page=%s\""
   ]
  },
  {
   "cell_type": "code",
   "execution_count": 12,
   "metadata": {},
   "outputs": [],
   "source": []
  },
  {
   "cell_type": "code",
   "execution_count": 13,
   "metadata": {},
   "outputs": [],
   "source": [
    "doc = pq(resp.text)"
   ]
  },
  {
   "cell_type": "code",
   "execution_count": 57,
   "metadata": {},
   "outputs": [],
   "source": []
  },
  {
   "cell_type": "code",
   "execution_count": 51,
   "metadata": {},
   "outputs": [],
   "source": [
    "com = re.compile('\\'(?P<openid>.+?)\\'')"
   ]
  },
  {
   "cell_type": "code",
   "execution_count": 49,
   "metadata": {},
   "outputs": [
    {
     "data": {
      "text/plain": [
       "'oDMUF5nBcsojtcOTAfJnLb0Bh0Do'"
      ]
     },
     "execution_count": 49,
     "metadata": {},
     "output_type": "execute_result"
    }
   ],
   "source": []
  },
  {
   "cell_type": "code",
   "execution_count": 52,
   "metadata": {},
   "outputs": [],
   "source": [
    "resp = requests.get(url %1,headers=headers)\n",
    "columns = [item.text() for item in doc(\"thead tr th\").items()]\n",
    "columns.append(\"openid\")\n",
    "\n",
    "data = []\n",
    "for tr in doc(\"tbody tr\").items():\n",
    "    l = []\n",
    "    for td in tr('td').items():\n",
    "        l.append(td.text().strip())\n",
    "    openid = tr('.td-status [onclick]').attr(\"onclick\")\n",
    "    if openid:\n",
    "        l.append(com.search(openid).group(1))\n",
    "    else:\n",
    "        l.append(\"\")\n",
    "\n",
    "    data.append(l)\n"
   ]
  },
  {
   "cell_type": "code",
   "execution_count": 68,
   "metadata": {},
   "outputs": [
    {
     "data": {
      "text/plain": [
       "''"
      ]
     },
     "execution_count": 68,
     "metadata": {},
     "output_type": "execute_result"
    }
   ],
   "source": [
    "doc('.pagination li:nth-last-child(2) a axx').text()"
   ]
  },
  {
   "cell_type": "code",
   "execution_count": 59,
   "metadata": {},
   "outputs": [
    {
     "data": {
      "text/plain": [
       "['#',\n",
       " '头像',\n",
       " '呢称',\n",
       " '手机',\n",
       " '会员等级',\n",
       " '过期时间',\n",
       " '享受折扣',\n",
       " '消费金额',\n",
       " '佣金余额',\n",
       " '状态',\n",
       " '操作',\n",
       " 'openid']"
      ]
     },
     "execution_count": 59,
     "metadata": {},
     "output_type": "execute_result"
    }
   ],
   "source": [
    "columns"
   ]
  },
  {
   "cell_type": "code",
   "execution_count": 15,
   "metadata": {},
   "outputs": [
    {
     "data": {
      "text/plain": [
       "'正常 正常 正常 正常 正常 正常 正常 正常 正常 正常'"
      ]
     },
     "execution_count": 15,
     "metadata": {},
     "output_type": "execute_result"
    }
   ],
   "source": [
    "doc(\"tbody tr td:nth-child(10)\").text()"
   ]
  },
  {
   "cell_type": "code",
   "execution_count": 58,
   "metadata": {},
   "outputs": [
    {
     "data": {
      "text/html": [
       "<div>\n",
       "<style scoped>\n",
       "    .dataframe tbody tr th:only-of-type {\n",
       "        vertical-align: middle;\n",
       "    }\n",
       "\n",
       "    .dataframe tbody tr th {\n",
       "        vertical-align: top;\n",
       "    }\n",
       "\n",
       "    .dataframe thead th {\n",
       "        text-align: right;\n",
       "    }\n",
       "</style>\n",
       "<table border=\"1\" class=\"dataframe\">\n",
       "  <thead>\n",
       "    <tr style=\"text-align: right;\">\n",
       "      <th></th>\n",
       "      <th>#</th>\n",
       "      <th>头像</th>\n",
       "      <th>呢称</th>\n",
       "      <th>手机</th>\n",
       "      <th>会员等级</th>\n",
       "      <th>过期时间</th>\n",
       "      <th>享受折扣</th>\n",
       "      <th>消费金额</th>\n",
       "      <th>佣金余额</th>\n",
       "      <th>状态</th>\n",
       "      <th>操作</th>\n",
       "      <th>openid</th>\n",
       "    </tr>\n",
       "  </thead>\n",
       "  <tbody>\n",
       "    <tr>\n",
       "      <th>0</th>\n",
       "      <td>1</td>\n",
       "      <td></td>\n",
       "      <td>jiuguai</td>\n",
       "      <td>18774979616</td>\n",
       "      <td>vip</td>\n",
       "      <td>2020-12-15 00:12:00</td>\n",
       "      <td>100</td>\n",
       "      <td>0</td>\n",
       "      <td>0</td>\n",
       "      <td>正常</td>\n",
       "      <td>查看用户关系 佣金记录 提现记录 升级记录</td>\n",
       "      <td>oDMUF5nBcsojtcOTAfJnLb0Bh0Do</td>\n",
       "    </tr>\n",
       "    <tr>\n",
       "      <th>1</th>\n",
       "      <td>2</td>\n",
       "      <td></td>\n",
       "      <td>杨晗</td>\n",
       "      <td>15898538422</td>\n",
       "      <td>vip</td>\n",
       "      <td>2020-12-19 00:12:00</td>\n",
       "      <td>100</td>\n",
       "      <td>0</td>\n",
       "      <td>0</td>\n",
       "      <td>正常</td>\n",
       "      <td>查看用户关系 佣金记录 提现记录 升级记录</td>\n",
       "      <td>oDMUF5nuF8bxZga9I2shOqtoNgA0</td>\n",
       "    </tr>\n",
       "    <tr>\n",
       "      <th>2</th>\n",
       "      <td>3</td>\n",
       "      <td></td>\n",
       "      <td>杨飞龙</td>\n",
       "      <td>18670022695</td>\n",
       "      <td>vip</td>\n",
       "      <td>2020-12-11 00:12:00</td>\n",
       "      <td>100</td>\n",
       "      <td>0</td>\n",
       "      <td>190</td>\n",
       "      <td>正常</td>\n",
       "      <td>查看用户关系 佣金记录 提现记录 升级记录</td>\n",
       "      <td>oDMUF5hhjK63vJ5TsIeu-AdTScg4</td>\n",
       "    </tr>\n",
       "    <tr>\n",
       "      <th>3</th>\n",
       "      <td>4</td>\n",
       "      <td></td>\n",
       "      <td>老气球</td>\n",
       "      <td>无</td>\n",
       "      <td>vip</td>\n",
       "      <td>2020-12-15 22:12:59</td>\n",
       "      <td>100</td>\n",
       "      <td>0</td>\n",
       "      <td>0</td>\n",
       "      <td>正常</td>\n",
       "      <td>查看用户关系 佣金记录 提现记录 升级记录</td>\n",
       "      <td>oDMUF5u903tbNuPc_J9gazU0Uc2w</td>\n",
       "    </tr>\n",
       "    <tr>\n",
       "      <th>4</th>\n",
       "      <td>5</td>\n",
       "      <td></td>\n",
       "      <td>侯斌</td>\n",
       "      <td>无</td>\n",
       "      <td>vip</td>\n",
       "      <td>2020-12-11 17:12:49</td>\n",
       "      <td>100</td>\n",
       "      <td>0</td>\n",
       "      <td>0</td>\n",
       "      <td>正常</td>\n",
       "      <td>查看用户关系 佣金记录 提现记录 升级记录</td>\n",
       "      <td>oDMUF5juYiPbhwlxd_cMost-HjrA</td>\n",
       "    </tr>\n",
       "    <tr>\n",
       "      <th>5</th>\n",
       "      <td>6</td>\n",
       "      <td></td>\n",
       "      <td>龙生红</td>\n",
       "      <td>无</td>\n",
       "      <td>vip</td>\n",
       "      <td>2021-12-11 16:12:19</td>\n",
       "      <td>100</td>\n",
       "      <td>0</td>\n",
       "      <td>0</td>\n",
       "      <td>正常</td>\n",
       "      <td>查看用户关系 佣金记录 提现记录 升级记录</td>\n",
       "      <td>oDMUF5uLDAb7AYO8UjVNrqRU7up8</td>\n",
       "    </tr>\n",
       "    <tr>\n",
       "      <th>6</th>\n",
       "      <td>7</td>\n",
       "      <td></td>\n",
       "      <td>阿叔</td>\n",
       "      <td>无</td>\n",
       "      <td>vip</td>\n",
       "      <td>2020-12-11 17:12:13</td>\n",
       "      <td>100</td>\n",
       "      <td>0</td>\n",
       "      <td>0</td>\n",
       "      <td>正常</td>\n",
       "      <td>查看用户关系 佣金记录 提现记录 升级记录</td>\n",
       "      <td>oDMUF5i5XBSodZh8BczgNsGazKps</td>\n",
       "    </tr>\n",
       "    <tr>\n",
       "      <th>7</th>\n",
       "      <td>8</td>\n",
       "      <td></td>\n",
       "      <td>罗英</td>\n",
       "      <td>无</td>\n",
       "      <td>vip</td>\n",
       "      <td>2020-12-11 22:12:52</td>\n",
       "      <td>100</td>\n",
       "      <td>0</td>\n",
       "      <td>0</td>\n",
       "      <td>正常</td>\n",
       "      <td>查看用户关系 佣金记录 提现记录 升级记录</td>\n",
       "      <td>oDMUF5i5oc_zQNk2992IVZBCy3bY</td>\n",
       "    </tr>\n",
       "    <tr>\n",
       "      <th>8</th>\n",
       "      <td>9</td>\n",
       "      <td></td>\n",
       "      <td>袁丽</td>\n",
       "      <td>无</td>\n",
       "      <td>vip</td>\n",
       "      <td>2020-12-11 23:12:25</td>\n",
       "      <td>100</td>\n",
       "      <td>0</td>\n",
       "      <td>0</td>\n",
       "      <td>正常</td>\n",
       "      <td>查看用户关系 佣金记录 提现记录 升级记录</td>\n",
       "      <td>oDMUF5pjN_hhj7DU-_diAyp3w4lk</td>\n",
       "    </tr>\n",
       "    <tr>\n",
       "      <th>9</th>\n",
       "      <td>10</td>\n",
       "      <td></td>\n",
       "      <td>杨东</td>\n",
       "      <td>无</td>\n",
       "      <td>vip</td>\n",
       "      <td>2020-12-11 19:12:22</td>\n",
       "      <td>100</td>\n",
       "      <td>0</td>\n",
       "      <td>40</td>\n",
       "      <td>正常</td>\n",
       "      <td>查看用户关系 佣金记录 提现记录 升级记录</td>\n",
       "      <td>oDMUF5nZgwftgJgGYadsdzH_ZGko</td>\n",
       "    </tr>\n",
       "  </tbody>\n",
       "</table>\n",
       "</div>"
      ],
      "text/plain": [
       "    # 头像       呢称           手机 会员等级                 过期时间 享受折扣 消费金额 佣金余额  状态  \\\n",
       "0   1     jiuguai  18774979616  vip  2020-12-15 00:12:00  100    0    0  正常   \n",
       "1   2          杨晗  15898538422  vip  2020-12-19 00:12:00  100    0    0  正常   \n",
       "2   3         杨飞龙  18670022695  vip  2020-12-11 00:12:00  100    0  190  正常   \n",
       "3   4         老气球            无  vip  2020-12-15 22:12:59  100    0    0  正常   \n",
       "4   5          侯斌            无  vip  2020-12-11 17:12:49  100    0    0  正常   \n",
       "5   6         龙生红            无  vip  2021-12-11 16:12:19  100    0    0  正常   \n",
       "6   7          阿叔            无  vip  2020-12-11 17:12:13  100    0    0  正常   \n",
       "7   8          罗英            无  vip  2020-12-11 22:12:52  100    0    0  正常   \n",
       "8   9          袁丽            无  vip  2020-12-11 23:12:25  100    0    0  正常   \n",
       "9  10          杨东            无  vip  2020-12-11 19:12:22  100    0   40  正常   \n",
       "\n",
       "                      操作                        openid  \n",
       "0  查看用户关系 佣金记录 提现记录 升级记录  oDMUF5nBcsojtcOTAfJnLb0Bh0Do  \n",
       "1  查看用户关系 佣金记录 提现记录 升级记录  oDMUF5nuF8bxZga9I2shOqtoNgA0  \n",
       "2  查看用户关系 佣金记录 提现记录 升级记录  oDMUF5hhjK63vJ5TsIeu-AdTScg4  \n",
       "3  查看用户关系 佣金记录 提现记录 升级记录  oDMUF5u903tbNuPc_J9gazU0Uc2w  \n",
       "4  查看用户关系 佣金记录 提现记录 升级记录  oDMUF5juYiPbhwlxd_cMost-HjrA  \n",
       "5  查看用户关系 佣金记录 提现记录 升级记录  oDMUF5uLDAb7AYO8UjVNrqRU7up8  \n",
       "6  查看用户关系 佣金记录 提现记录 升级记录  oDMUF5i5XBSodZh8BczgNsGazKps  \n",
       "7  查看用户关系 佣金记录 提现记录 升级记录  oDMUF5i5oc_zQNk2992IVZBCy3bY  \n",
       "8  查看用户关系 佣金记录 提现记录 升级记录  oDMUF5pjN_hhj7DU-_diAyp3w4lk  \n",
       "9  查看用户关系 佣金记录 提现记录 升级记录  oDMUF5nZgwftgJgGYadsdzH_ZGko  "
      ]
     },
     "execution_count": 58,
     "metadata": {},
     "output_type": "execute_result"
    }
   ],
   "source": [
    "pd.DataFrame(data,columns=columns)"
   ]
  },
  {
   "cell_type": "code",
   "execution_count": 32,
   "metadata": {},
   "outputs": [
    {
     "data": {
      "text/plain": [
       "[['1\\njiuguai\\n18774979616\\nvip\\n2020-12-15 00:12:00\\n100\\n0\\n0\\n正常\\n查看用户关系 佣金记录 提现记录 升级记录'],\n",
       " ['2\\n杨晗\\n15898538422\\nvip\\n2020-12-19 00:12:00\\n100\\n0\\n0\\n正常\\n查看用户关系 佣金记录 提现记录 升级记录'],\n",
       " ['3\\n杨飞龙\\n18670022695\\nvip\\n2020-12-11 00:12:00\\n100\\n0\\n190\\n正常\\n查看用户关系 佣金记录 提现记录 升级记录'],\n",
       " ['4\\n老气球\\n无\\nvip\\n2020-12-15 22:12:59\\n100\\n0\\n0\\n正常\\n查看用户关系 佣金记录 提现记录 升级记录'],\n",
       " ['5\\n侯斌\\n无\\nvip\\n2020-12-11 17:12:49\\n100\\n0\\n0\\n正常\\n查看用户关系 佣金记录 提现记录 升级记录'],\n",
       " ['6\\n龙生红\\n无\\nvip\\n2021-12-11 16:12:19\\n100\\n0\\n0\\n正常\\n查看用户关系 佣金记录 提现记录 升级记录'],\n",
       " ['7\\n阿叔\\n无\\nvip\\n2020-12-11 17:12:13\\n100\\n0\\n0\\n正常\\n查看用户关系 佣金记录 提现记录 升级记录'],\n",
       " ['8\\n罗英\\n无\\nvip\\n2020-12-11 22:12:52\\n100\\n0\\n0\\n正常\\n查看用户关系 佣金记录 提现记录 升级记录'],\n",
       " ['9\\n袁丽\\n无\\nvip\\n2020-12-11 23:12:25\\n100\\n0\\n0\\n正常\\n查看用户关系 佣金记录 提现记录 升级记录'],\n",
       " ['10\\n杨东\\n无\\nvip\\n2020-12-11 19:12:22\\n100\\n0\\n40\\n正常\\n查看用户关系 佣金记录 提现记录 升级记录']]"
      ]
     },
     "execution_count": 32,
     "metadata": {},
     "output_type": "execute_result"
    }
   ],
   "source": [
    "data"
   ]
  },
  {
   "cell_type": "code",
   "execution_count": null,
   "metadata": {},
   "outputs": [],
   "source": []
  },
  {
   "cell_type": "code",
   "execution_count": null,
   "metadata": {},
   "outputs": [],
   "source": []
  },
  {
   "cell_type": "code",
   "execution_count": null,
   "metadata": {},
   "outputs": [],
   "source": []
  },
  {
   "cell_type": "code",
   "execution_count": null,
   "metadata": {},
   "outputs": [],
   "source": []
  }
 ],
 "metadata": {
  "kernelspec": {
   "display_name": "Python 3",
   "language": "python",
   "name": "python3"
  },
  "language_info": {
   "codemirror_mode": {
    "name": "ipython",
    "version": 3
   },
   "file_extension": ".py",
   "mimetype": "text/x-python",
   "name": "python",
   "nbconvert_exporter": "python",
   "pygments_lexer": "ipython3",
   "version": "3.6.5"
  }
 },
 "nbformat": 4,
 "nbformat_minor": 2
}
