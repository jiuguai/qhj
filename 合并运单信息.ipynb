{
 "cells": [
  {
   "cell_type": "code",
   "execution_count": 50,
   "metadata": {},
   "outputs": [],
   "source": [
    "import re\n",
    "import os\n",
    "import sys\n",
    "\n",
    "import numpy as np\n",
    "\n",
    "import pandas as pd\n",
    "\n",
    "import warnings\n",
    "warnings.filterwarnings('ignore')\n",
    "\n",
    "\n",
    "sys.path.append(\"D:\\奇货居\\work\\ZERO\")\n",
    "from tools import *\n",
    "from settings import *"
   ]
  },
  {
   "cell_type": "code",
   "execution_count": 51,
   "metadata": {},
   "outputs": [],
   "source": [
    "# 读取订单信息\n",
    "new_order_path, new_order_date = \\\n",
    "get_new_file_path(EXPORT_DIR, ORDER_DATE_PATT,DATE_FORMAT)\n",
    "new_order_df = pd.read_excel(new_order_path)\n",
    "new_order_df.replace({\"订单号\":{\"\\s\":\"\"}},regex=True,inplace=True)\n"
   ]
  },
  {
   "cell_type": "code",
   "execution_count": 52,
   "metadata": {},
   "outputs": [],
   "source": [
    "# 读取外部运单\n",
    "tracking_l = [] \n",
    "for file_name in os.listdir(TRACKING_SRC_DIR):\n",
    "    file_path = os.path.join(TRACKING_SRC_DIR,file_name)\n",
    "    temp_df = pd.read_excel(file_path)\n",
    "    tracking_l.append(temp_df)\n",
    "\n",
    "tracking_src_df = pd.concat(tracking_l)\n",
    "tracking_src_df.replace({\"订单号\":{\"\\s\":\"\"}},regex=True,inplace=True)\n"
   ]
  },
  {
   "cell_type": "code",
   "execution_count": 63,
   "metadata": {},
   "outputs": [
    {
     "name": "stdout",
     "output_type": "stream",
     "text": [
      "1\n"
     ]
    }
   ],
   "source": [
    "if not \"\":\n",
    "    print(1)"
   ]
  },
  {
   "cell_type": "code",
   "execution_count": null,
   "metadata": {},
   "outputs": [],
   "source": [
    "shutil.move()"
   ]
  },
  {
   "cell_type": "code",
   "execution_count": 70,
   "metadata": {},
   "outputs": [],
   "source": [
    "import shutil\n",
    "shutil.copy()"
   ]
  },
  {
   "cell_type": "code",
   "execution_count": 69,
   "metadata": {},
   "outputs": [
    {
     "data": {
      "text/plain": [
       "'2019-11-06 15_29_42'"
      ]
     },
     "execution_count": 69,
     "metadata": {},
     "output_type": "execute_result"
    }
   ],
   "source": [
    "import datetime\n",
    "today = pd.to_datetime(datetime.datetime.today())\n",
    "\n",
    "today.strftime(DATE_FORMAT)"
   ]
  },
  {
   "cell_type": "code",
   "execution_count": null,
   "metadata": {},
   "outputs": [],
   "source": [
    "pd.t"
   ]
  },
  {
   "cell_type": "code",
   "execution_count": 60,
   "metadata": {},
   "outputs": [],
   "source": [
    "l = [1]\n",
    "if not l:\n",
    "    print('xx')"
   ]
  },
  {
   "cell_type": "code",
   "execution_count": 53,
   "metadata": {},
   "outputs": [
    {
     "data": {
      "text/html": [
       "<div>\n",
       "<style scoped>\n",
       "    .dataframe tbody tr th:only-of-type {\n",
       "        vertical-align: middle;\n",
       "    }\n",
       "\n",
       "    .dataframe tbody tr th {\n",
       "        vertical-align: top;\n",
       "    }\n",
       "\n",
       "    .dataframe thead th {\n",
       "        text-align: right;\n",
       "    }\n",
       "</style>\n",
       "<table border=\"1\" class=\"dataframe\">\n",
       "  <thead>\n",
       "    <tr style=\"text-align: right;\">\n",
       "      <th></th>\n",
       "      <th>订单号</th>\n",
       "      <th>运单号</th>\n",
       "    </tr>\n",
       "  </thead>\n",
       "  <tbody>\n",
       "    <tr>\n",
       "      <th>0</th>\n",
       "      <td>20191026104040192670</td>\n",
       "      <td>Y20191107224</td>\n",
       "    </tr>\n",
       "    <tr>\n",
       "      <th>1</th>\n",
       "      <td>20191024113950920935</td>\n",
       "      <td>Y20191107225</td>\n",
       "    </tr>\n",
       "    <tr>\n",
       "      <th>2</th>\n",
       "      <td>20191024103151460875</td>\n",
       "      <td>Y20191107226</td>\n",
       "    </tr>\n",
       "    <tr>\n",
       "      <th>3</th>\n",
       "      <td>20191023184417285442</td>\n",
       "      <td>Y20191107227</td>\n",
       "    </tr>\n",
       "  </tbody>\n",
       "</table>\n",
       "</div>"
      ],
      "text/plain": [
       "                    订单号           运单号\n",
       "0  20191026104040192670  Y20191107224\n",
       "1  20191024113950920935  Y20191107225\n",
       "2  20191024103151460875  Y20191107226\n",
       "3  20191023184417285442  Y20191107227"
      ]
     },
     "execution_count": 53,
     "metadata": {},
     "output_type": "execute_result"
    }
   ],
   "source": [
    "# 读取内部可入系统运单\n",
    "tracking_input_path, tracking_input_date = \\\n",
    "get_new_file_path(TRACKING_INPUT_DIR, INPUT_SYS_PATT, DATE_FORMAT)\n",
    "\n",
    "\n",
    "tracking_input_df = pd.read_excel(tracking_input_path)\n",
    "tracking_input_df.replace({\"订单号\":{\"\\s\":\"\"}},regex=True,inplace=True)\n",
    "tracking_input_df"
   ]
  },
  {
   "cell_type": "code",
   "execution_count": 54,
   "metadata": {},
   "outputs": [
    {
     "data": {
      "text/html": [
       "<div>\n",
       "<style scoped>\n",
       "    .dataframe tbody tr th:only-of-type {\n",
       "        vertical-align: middle;\n",
       "    }\n",
       "\n",
       "    .dataframe tbody tr th {\n",
       "        vertical-align: top;\n",
       "    }\n",
       "\n",
       "    .dataframe thead th {\n",
       "        text-align: right;\n",
       "    }\n",
       "</style>\n",
       "<table border=\"1\" class=\"dataframe\">\n",
       "  <thead>\n",
       "    <tr style=\"text-align: right;\">\n",
       "      <th></th>\n",
       "      <th>下单时间</th>\n",
       "      <th>下单用户</th>\n",
       "      <th>商品名</th>\n",
       "      <th>收件人地址</th>\n",
       "      <th>收件人电话</th>\n",
       "      <th>规格</th>\n",
       "      <th>订单号</th>\n",
       "      <th>运单号</th>\n",
       "    </tr>\n",
       "  </thead>\n",
       "  <tbody>\n",
       "    <tr>\n",
       "      <th>0</th>\n",
       "      <td>NaN</td>\n",
       "      <td>NaN</td>\n",
       "      <td>NaN</td>\n",
       "      <td>NaN</td>\n",
       "      <td>NaN</td>\n",
       "      <td>NaN</td>\n",
       "      <td>20191026104040192670</td>\n",
       "      <td>Y20191107224</td>\n",
       "    </tr>\n",
       "    <tr>\n",
       "      <th>1</th>\n",
       "      <td>NaN</td>\n",
       "      <td>NaN</td>\n",
       "      <td>NaN</td>\n",
       "      <td>NaN</td>\n",
       "      <td>NaN</td>\n",
       "      <td>NaN</td>\n",
       "      <td>20191024113950920935</td>\n",
       "      <td>Y20191107225</td>\n",
       "    </tr>\n",
       "    <tr>\n",
       "      <th>2</th>\n",
       "      <td>NaN</td>\n",
       "      <td>NaN</td>\n",
       "      <td>NaN</td>\n",
       "      <td>NaN</td>\n",
       "      <td>NaN</td>\n",
       "      <td>NaN</td>\n",
       "      <td>20191024103151460875</td>\n",
       "      <td>Y20191107226</td>\n",
       "    </tr>\n",
       "    <tr>\n",
       "      <th>3</th>\n",
       "      <td>NaN</td>\n",
       "      <td>幽鬼</td>\n",
       "      <td>iPhone 11 Pro MAX 暗夜绿色|512GB|4G全网通 市场价15000元</td>\n",
       "      <td>NaN</td>\n",
       "      <td>NaN</td>\n",
       "      <td>NaN</td>\n",
       "      <td>20191023184417285442</td>\n",
       "      <td>Y20191107227</td>\n",
       "    </tr>\n",
       "  </tbody>\n",
       "</table>\n",
       "</div>"
      ],
      "text/plain": [
       "   下单时间 下单用户                                           商品名 收件人地址  收件人电话  规格  \\\n",
       "0   NaN  NaN                                           NaN   NaN    NaN NaN   \n",
       "1   NaN  NaN                                           NaN   NaN    NaN NaN   \n",
       "2   NaN  NaN                                           NaN   NaN    NaN NaN   \n",
       "3   NaN   幽鬼  iPhone 11 Pro MAX 暗夜绿色|512GB|4G全网通 市场价15000元   NaN    NaN NaN   \n",
       "\n",
       "                    订单号           运单号  \n",
       "0  20191026104040192670  Y20191107224  \n",
       "1  20191024113950920935  Y20191107225  \n",
       "2  20191024103151460875  Y20191107226  \n",
       "3  20191023184417285442  Y20191107227  "
      ]
     },
     "execution_count": 54,
     "metadata": {},
     "output_type": "execute_result"
    }
   ],
   "source": [
    "# 可入内部运单 = (已存可入内部运单 + 外部运单).isin(最新订单信息)\n",
    "\n",
    "tracking_df = pd.concat([tracking_input_df,tracking_src_df]) \\\n",
    ".drop_duplicates(subset=['订单号'],keep='last')\n",
    "\n",
    "tracking_df = tracking_df[tracking_df['订单号'].isin(set(new_order_df['订单号']))]\n",
    "tracking_df"
   ]
  },
  {
   "cell_type": "code",
   "execution_count": 49,
   "metadata": {},
   "outputs": [
    {
     "data": {
      "text/html": [
       "<div>\n",
       "<style scoped>\n",
       "    .dataframe tbody tr th:only-of-type {\n",
       "        vertical-align: middle;\n",
       "    }\n",
       "\n",
       "    .dataframe tbody tr th {\n",
       "        vertical-align: top;\n",
       "    }\n",
       "\n",
       "    .dataframe thead th {\n",
       "        text-align: right;\n",
       "    }\n",
       "</style>\n",
       "<table border=\"1\" class=\"dataframe\">\n",
       "  <thead>\n",
       "    <tr style=\"text-align: right;\">\n",
       "      <th></th>\n",
       "      <th>下单时间</th>\n",
       "      <th>下单用户</th>\n",
       "      <th>商品名</th>\n",
       "      <th>收件人地址</th>\n",
       "      <th>收件人电话</th>\n",
       "      <th>规格</th>\n",
       "      <th>订单号</th>\n",
       "      <th>运单号</th>\n",
       "    </tr>\n",
       "  </thead>\n",
       "  <tbody>\n",
       "    <tr>\n",
       "      <th>0</th>\n",
       "      <td>NaN</td>\n",
       "      <td>NaN</td>\n",
       "      <td>NaN</td>\n",
       "      <td>NaN</td>\n",
       "      <td>NaN</td>\n",
       "      <td>NaN</td>\n",
       "      <td>20191026104040192670</td>\n",
       "      <td>Y20191107224</td>\n",
       "    </tr>\n",
       "    <tr>\n",
       "      <th>1</th>\n",
       "      <td>NaN</td>\n",
       "      <td>NaN</td>\n",
       "      <td>NaN</td>\n",
       "      <td>NaN</td>\n",
       "      <td>NaN</td>\n",
       "      <td>NaN</td>\n",
       "      <td>20191024113950920935</td>\n",
       "      <td>Y20191107225</td>\n",
       "    </tr>\n",
       "    <tr>\n",
       "      <th>2</th>\n",
       "      <td>NaN</td>\n",
       "      <td>NaN</td>\n",
       "      <td>NaN</td>\n",
       "      <td>NaN</td>\n",
       "      <td>NaN</td>\n",
       "      <td>NaN</td>\n",
       "      <td>20191024103151460875</td>\n",
       "      <td>Y20191107226</td>\n",
       "    </tr>\n",
       "    <tr>\n",
       "      <th>3</th>\n",
       "      <td>NaN</td>\n",
       "      <td>NaN</td>\n",
       "      <td>NaN</td>\n",
       "      <td>NaN</td>\n",
       "      <td>NaN</td>\n",
       "      <td>NaN</td>\n",
       "      <td>20191023184417285442</td>\n",
       "      <td>Y20191107227</td>\n",
       "    </tr>\n",
       "  </tbody>\n",
       "</table>\n",
       "</div>"
      ],
      "text/plain": [
       "   下单时间 下单用户  商品名 收件人地址  收件人电话  规格                   订单号           运单号\n",
       "0   NaN  NaN  NaN   NaN    NaN NaN  20191026104040192670  Y20191107224\n",
       "1   NaN  NaN  NaN   NaN    NaN NaN  20191024113950920935  Y20191107225\n",
       "2   NaN  NaN  NaN   NaN    NaN NaN  20191024103151460875  Y20191107226\n",
       "3   NaN  NaN  NaN   NaN    NaN NaN  20191023184417285442  Y20191107227"
      ]
     },
     "execution_count": 49,
     "metadata": {},
     "output_type": "execute_result"
    }
   ],
   "source": [
    "tracking_df"
   ]
  },
  {
   "cell_type": "code",
   "execution_count": null,
   "metadata": {},
   "outputs": [],
   "source": [
    "# 当 tracking_input_dir 为空的时候 给出提示 不运行"
   ]
  },
  {
   "cell_type": "code",
   "execution_count": 42,
   "metadata": {},
   "outputs": [
    {
     "data": {
      "text/plain": [
       "11"
      ]
     },
     "execution_count": 42,
     "metadata": {},
     "output_type": "execute_result"
    }
   ],
   "source": [
    "len(tracking_df.drop_duplicates(subset=['订单号'],keep='last'))"
   ]
  },
  {
   "cell_type": "code",
   "execution_count": 27,
   "metadata": {},
   "outputs": [
    {
     "data": {
      "text/plain": [
       "11"
      ]
     },
     "execution_count": 27,
     "metadata": {},
     "output_type": "execute_result"
    }
   ],
   "source": [
    "len(set(tracking_input_df['订单号']) | set(tracking_src_df['订单号']))"
   ]
  },
  {
   "cell_type": "code",
   "execution_count": 28,
   "metadata": {},
   "outputs": [
    {
     "data": {
      "text/plain": [
       "4"
      ]
     },
     "execution_count": 28,
     "metadata": {},
     "output_type": "execute_result"
    }
   ],
   "source": [
    "len(tracking_input_df)"
   ]
  },
  {
   "cell_type": "code",
   "execution_count": 29,
   "metadata": {},
   "outputs": [
    {
     "data": {
      "text/plain": [
       "8"
      ]
     },
     "execution_count": 29,
     "metadata": {},
     "output_type": "execute_result"
    }
   ],
   "source": [
    "len(tracking_src_df)"
   ]
  },
  {
   "cell_type": "code",
   "execution_count": 13,
   "metadata": {
    "scrolled": false
   },
   "outputs": [
    {
     "data": {
      "text/html": [
       "<div>\n",
       "<style scoped>\n",
       "    .dataframe tbody tr th:only-of-type {\n",
       "        vertical-align: middle;\n",
       "    }\n",
       "\n",
       "    .dataframe tbody tr th {\n",
       "        vertical-align: top;\n",
       "    }\n",
       "\n",
       "    .dataframe thead th {\n",
       "        text-align: right;\n",
       "    }\n",
       "</style>\n",
       "<table border=\"1\" class=\"dataframe\">\n",
       "  <thead>\n",
       "    <tr style=\"text-align: right;\">\n",
       "      <th></th>\n",
       "      <th>商品ID</th>\n",
       "      <th>商品名</th>\n",
       "      <th>订单号</th>\n",
       "      <th>下单用户</th>\n",
       "      <th>下单时间</th>\n",
       "      <th>权限</th>\n",
       "      <th>规格</th>\n",
       "      <th>售价</th>\n",
       "      <th>实收金额</th>\n",
       "      <th>收件人电话</th>\n",
       "      <th>收件人地址</th>\n",
       "    </tr>\n",
       "  </thead>\n",
       "  <tbody>\n",
       "    <tr>\n",
       "      <th>0</th>\n",
       "      <td>S0003C0003P01</td>\n",
       "      <td>LISABEL 可爱蜜蜂 趣味十足 活泼跳脱 市场价1199元</td>\n",
       "      <td>20191026104040192670</td>\n",
       "      <td>曹操</td>\n",
       "      <td>NaN</td>\n",
       "      <td>NaN</td>\n",
       "      <td>NaN</td>\n",
       "      <td>NaN</td>\n",
       "      <td>NaN</td>\n",
       "      <td>18565569503</td>\n",
       "      <td>长沙市岳麓区</td>\n",
       "    </tr>\n",
       "    <tr>\n",
       "      <th>1</th>\n",
       "      <td>S0003C0004P01</td>\n",
       "      <td>SWAROVSKI 优雅钥匙 浪漫典雅 市场价1400(优雅钥匙)</td>\n",
       "      <td>20191024113950920935</td>\n",
       "      <td>关羽</td>\n",
       "      <td>NaN</td>\n",
       "      <td>NaN</td>\n",
       "      <td>NaN</td>\n",
       "      <td>NaN</td>\n",
       "      <td>NaN</td>\n",
       "      <td>17773320706</td>\n",
       "      <td>广东深圳市宝安区宝源南路一期2座1102</td>\n",
       "    </tr>\n",
       "    <tr>\n",
       "      <th>2</th>\n",
       "      <td>S0004C0001P01</td>\n",
       "      <td>志高ZGS-216智能扫地机器人市场价1399元，售价499元</td>\n",
       "      <td>20191024103151460875</td>\n",
       "      <td>诸葛</td>\n",
       "      <td>NaN</td>\n",
       "      <td>NaN</td>\n",
       "      <td>NaN</td>\n",
       "      <td>NaN</td>\n",
       "      <td>NaN</td>\n",
       "      <td>18618386623</td>\n",
       "      <td>湖南省浏阳市西湖山小区严家冲106号410300</td>\n",
       "    </tr>\n",
       "    <tr>\n",
       "      <th>3</th>\n",
       "      <td>S0004C0002P01</td>\n",
       "      <td>志高ZGS-316拖地机器人市场价1299元</td>\n",
       "      <td>20191024102330527264</td>\n",
       "      <td>刘备</td>\n",
       "      <td>NaN</td>\n",
       "      <td>NaN</td>\n",
       "      <td>NaN</td>\n",
       "      <td>NaN</td>\n",
       "      <td>NaN</td>\n",
       "      <td>18565701676</td>\n",
       "      <td>湖南省浏阳市古港镇农贸市场3号</td>\n",
       "    </tr>\n",
       "    <tr>\n",
       "      <th>4</th>\n",
       "      <td>S0004C0003P01</td>\n",
       "      <td>志高按摩椅高档智能按摩椅一键启动限量版</td>\n",
       "      <td>20191024100441795474</td>\n",
       "      <td>孙权</td>\n",
       "      <td>NaN</td>\n",
       "      <td>NaN</td>\n",
       "      <td>NaN</td>\n",
       "      <td>NaN</td>\n",
       "      <td>NaN</td>\n",
       "      <td>18673653915</td>\n",
       "      <td>长沙市水岸天际小区</td>\n",
       "    </tr>\n",
       "    <tr>\n",
       "      <th>5</th>\n",
       "      <td>S0005C0001P01</td>\n",
       "      <td>iPhone 11 Pro MAX 银色|512GB|4G全网通 市场价12699元</td>\n",
       "      <td>20191024095916345917</td>\n",
       "      <td>鲁肃</td>\n",
       "      <td>NaN</td>\n",
       "      <td>NaN</td>\n",
       "      <td>NaN</td>\n",
       "      <td>NaN</td>\n",
       "      <td>NaN</td>\n",
       "      <td>18507320859</td>\n",
       "      <td>岳麓区枫林三路弘德莱城</td>\n",
       "    </tr>\n",
       "    <tr>\n",
       "      <th>6</th>\n",
       "      <td>S0005C0001P02</td>\n",
       "      <td>iPhone 11 Pro MAX 深空灰色|512GB|4G全网通 市场价12699元</td>\n",
       "      <td>20191024033655605847</td>\n",
       "      <td>典韦</td>\n",
       "      <td>NaN</td>\n",
       "      <td>NaN</td>\n",
       "      <td>NaN</td>\n",
       "      <td>NaN</td>\n",
       "      <td>NaN</td>\n",
       "      <td>18684943238</td>\n",
       "      <td>湖南省宁乡市双凫铺镇双明村</td>\n",
       "    </tr>\n",
       "    <tr>\n",
       "      <th>7</th>\n",
       "      <td>S0005C0001P03</td>\n",
       "      <td>iPhone 11 Pro MAX 暗夜绿色|512GB|4G全网通 市场价12699元</td>\n",
       "      <td>20191024033453222219</td>\n",
       "      <td>司马懿</td>\n",
       "      <td>NaN</td>\n",
       "      <td>NaN</td>\n",
       "      <td>NaN</td>\n",
       "      <td>NaN</td>\n",
       "      <td>NaN</td>\n",
       "      <td>15527794863</td>\n",
       "      <td>湖南省长沙市宁乡市喻家坳乡涌泉山村泥秋组7号</td>\n",
       "    </tr>\n",
       "    <tr>\n",
       "      <th>8</th>\n",
       "      <td>S0005C0001P04</td>\n",
       "      <td>iPhone 11 Pro MAX 金色|512GB|4G全网通 市场价12699元</td>\n",
       "      <td>20191024025952454982</td>\n",
       "      <td>赵云</td>\n",
       "      <td>NaN</td>\n",
       "      <td>NaN</td>\n",
       "      <td>NaN</td>\n",
       "      <td>NaN</td>\n",
       "      <td>NaN</td>\n",
       "      <td>18390899727</td>\n",
       "      <td>地址湖南省长沙市宁乡县双凫铺镇汽车站周志佳兽药店</td>\n",
       "    </tr>\n",
       "    <tr>\n",
       "      <th>9</th>\n",
       "      <td>S0004C0003P01</td>\n",
       "      <td>志高按摩椅高档智能按摩椅一键启动限量版</td>\n",
       "      <td>20191024004953517373</td>\n",
       "      <td>张飞</td>\n",
       "      <td>NaN</td>\n",
       "      <td>NaN</td>\n",
       "      <td>NaN</td>\n",
       "      <td>NaN</td>\n",
       "      <td>NaN</td>\n",
       "      <td>18674818309</td>\n",
       "      <td>浙江省杭州市滨江区网商路699号阿里巴巴</td>\n",
       "    </tr>\n",
       "    <tr>\n",
       "      <th>10</th>\n",
       "      <td>S0005C0001P01</td>\n",
       "      <td>iPhone 11 Pro MAX 银色|512GB|4G全网通 市场价12699元</td>\n",
       "      <td>20191024001845224303</td>\n",
       "      <td>黄忠</td>\n",
       "      <td>NaN</td>\n",
       "      <td>NaN</td>\n",
       "      <td>NaN</td>\n",
       "      <td>NaN</td>\n",
       "      <td>NaN</td>\n",
       "      <td>18529121187</td>\n",
       "      <td>广东省广州市天河区员村北社大塘南15号</td>\n",
       "    </tr>\n",
       "    <tr>\n",
       "      <th>11</th>\n",
       "      <td>S0005C0001P02</td>\n",
       "      <td>iPhone 11 Pro MAX 深空灰色|512GB|4G全网通 市场价12699元</td>\n",
       "      <td>20191023192842376908</td>\n",
       "      <td>孙策</td>\n",
       "      <td>NaN</td>\n",
       "      <td>NaN</td>\n",
       "      <td>NaN</td>\n",
       "      <td>NaN</td>\n",
       "      <td>NaN</td>\n",
       "      <td>13910300718</td>\n",
       "      <td>北京市昌平区北七家镇温泉花园B区70-361</td>\n",
       "    </tr>\n",
       "    <tr>\n",
       "      <th>12</th>\n",
       "      <td>S0005C0001P03</td>\n",
       "      <td>iPhone 11 Pro MAX 暗夜绿色|512GB|4G全网通 市场价12699元</td>\n",
       "      <td>20191023185702175707</td>\n",
       "      <td>甄姬</td>\n",
       "      <td>NaN</td>\n",
       "      <td>NaN</td>\n",
       "      <td>NaN</td>\n",
       "      <td>NaN</td>\n",
       "      <td>NaN</td>\n",
       "      <td>18810787054</td>\n",
       "      <td>湖南省长沙市宁乡县灰汤镇泉江村上杨柳组</td>\n",
       "    </tr>\n",
       "    <tr>\n",
       "      <th>13</th>\n",
       "      <td>S0010C0003P01</td>\n",
       "      <td>三金美肤面膜 美白功效 健康肤色(美肤)</td>\n",
       "      <td>20191023184715474057</td>\n",
       "      <td>夏侯惇</td>\n",
       "      <td>NaN</td>\n",
       "      <td>NaN</td>\n",
       "      <td>NaN</td>\n",
       "      <td>NaN</td>\n",
       "      <td>NaN</td>\n",
       "      <td>13873709888</td>\n",
       "      <td>益阳市赫山区康富北路电大巷8号益阳广播电视大学</td>\n",
       "    </tr>\n",
       "    <tr>\n",
       "      <th>14</th>\n",
       "      <td>S0010C0004P01</td>\n",
       "      <td>三金补水面膜 镇静维稳 深层补水(补水)</td>\n",
       "      <td>20191023184417285442</td>\n",
       "      <td>夏侯渊</td>\n",
       "      <td>NaN</td>\n",
       "      <td>NaN</td>\n",
       "      <td>NaN</td>\n",
       "      <td>NaN</td>\n",
       "      <td>NaN</td>\n",
       "      <td>15950506265</td>\n",
       "      <td>长沙市高新区金桥路10号长沙鑫航机轮刹车有限公司</td>\n",
       "    </tr>\n",
       "  </tbody>\n",
       "</table>\n",
       "</div>"
      ],
      "text/plain": [
       "             商品ID                                           商品名  \\\n",
       "0   S0003C0003P01               LISABEL 可爱蜜蜂 趣味十足 活泼跳脱 市场价1199元   \n",
       "1   S0003C0004P01             SWAROVSKI 优雅钥匙 浪漫典雅 市场价1400(优雅钥匙)   \n",
       "2   S0004C0001P01               志高ZGS-216智能扫地机器人市场价1399元，售价499元   \n",
       "3   S0004C0002P01                        志高ZGS-316拖地机器人市场价1299元   \n",
       "4   S0004C0003P01                           志高按摩椅高档智能按摩椅一键启动限量版   \n",
       "5   S0005C0001P01    iPhone 11 Pro MAX 银色|512GB|4G全网通 市场价12699元   \n",
       "6   S0005C0001P02  iPhone 11 Pro MAX 深空灰色|512GB|4G全网通 市场价12699元   \n",
       "7   S0005C0001P03  iPhone 11 Pro MAX 暗夜绿色|512GB|4G全网通 市场价12699元   \n",
       "8   S0005C0001P04    iPhone 11 Pro MAX 金色|512GB|4G全网通 市场价12699元   \n",
       "9   S0004C0003P01                           志高按摩椅高档智能按摩椅一键启动限量版   \n",
       "10  S0005C0001P01    iPhone 11 Pro MAX 银色|512GB|4G全网通 市场价12699元   \n",
       "11  S0005C0001P02  iPhone 11 Pro MAX 深空灰色|512GB|4G全网通 市场价12699元   \n",
       "12  S0005C0001P03  iPhone 11 Pro MAX 暗夜绿色|512GB|4G全网通 市场价12699元   \n",
       "13  S0010C0003P01                          三金美肤面膜 美白功效 健康肤色(美肤)   \n",
       "14  S0010C0004P01                          三金补水面膜 镇静维稳 深层补水(补水)   \n",
       "\n",
       "                     订单号 下单用户  下单时间  权限  规格  售价  实收金额        收件人电话  \\\n",
       "0   20191026104040192670   曹操   NaN NaN NaN NaN   NaN  18565569503   \n",
       "1   20191024113950920935   关羽   NaN NaN NaN NaN   NaN  17773320706   \n",
       "2   20191024103151460875   诸葛   NaN NaN NaN NaN   NaN  18618386623   \n",
       "3   20191024102330527264   刘备   NaN NaN NaN NaN   NaN  18565701676   \n",
       "4   20191024100441795474   孙权   NaN NaN NaN NaN   NaN  18673653915   \n",
       "5   20191024095916345917   鲁肃   NaN NaN NaN NaN   NaN  18507320859   \n",
       "6   20191024033655605847   典韦   NaN NaN NaN NaN   NaN  18684943238   \n",
       "7   20191024033453222219  司马懿   NaN NaN NaN NaN   NaN  15527794863   \n",
       "8   20191024025952454982   赵云   NaN NaN NaN NaN   NaN  18390899727   \n",
       "9   20191024004953517373   张飞   NaN NaN NaN NaN   NaN  18674818309   \n",
       "10  20191024001845224303   黄忠   NaN NaN NaN NaN   NaN  18529121187   \n",
       "11  20191023192842376908   孙策   NaN NaN NaN NaN   NaN  13910300718   \n",
       "12  20191023185702175707   甄姬   NaN NaN NaN NaN   NaN  18810787054   \n",
       "13  20191023184715474057  夏侯惇   NaN NaN NaN NaN   NaN  13873709888   \n",
       "14  20191023184417285442  夏侯渊   NaN NaN NaN NaN   NaN  15950506265   \n",
       "\n",
       "                       收件人地址  \n",
       "0                     长沙市岳麓区  \n",
       "1       广东深圳市宝安区宝源南路一期2座1102  \n",
       "2   湖南省浏阳市西湖山小区严家冲106号410300  \n",
       "3            湖南省浏阳市古港镇农贸市场3号  \n",
       "4                  长沙市水岸天际小区  \n",
       "5                岳麓区枫林三路弘德莱城  \n",
       "6              湖南省宁乡市双凫铺镇双明村  \n",
       "7     湖南省长沙市宁乡市喻家坳乡涌泉山村泥秋组7号  \n",
       "8   地址湖南省长沙市宁乡县双凫铺镇汽车站周志佳兽药店  \n",
       "9       浙江省杭州市滨江区网商路699号阿里巴巴  \n",
       "10       广东省广州市天河区员村北社大塘南15号  \n",
       "11    北京市昌平区北七家镇温泉花园B区70-361  \n",
       "12       湖南省长沙市宁乡县灰汤镇泉江村上杨柳组  \n",
       "13   益阳市赫山区康富北路电大巷8号益阳广播电视大学  \n",
       "14  长沙市高新区金桥路10号长沙鑫航机轮刹车有限公司  "
      ]
     },
     "execution_count": 13,
     "metadata": {},
     "output_type": "execute_result"
    }
   ],
   "source": [
    "new_order_df"
   ]
  },
  {
   "cell_type": "code",
   "execution_count": null,
   "metadata": {},
   "outputs": [],
   "source": [
    "\n",
    "new_order_path"
   ]
  },
  {
   "cell_type": "code",
   "execution_count": 7,
   "metadata": {},
   "outputs": [
    {
     "data": {
      "text/plain": [
       "Timestamp('2019-08-30 17:40:35')"
      ]
     },
     "execution_count": 7,
     "metadata": {},
     "output_type": "execute_result"
    }
   ],
   "source": [
    "new_order_date"
   ]
  }
 ],
 "metadata": {
  "kernelspec": {
   "display_name": "Python 3",
   "language": "python",
   "name": "python3"
  },
  "language_info": {
   "codemirror_mode": {
    "name": "ipython",
    "version": 3
   },
   "file_extension": ".py",
   "mimetype": "text/x-python",
   "name": "python",
   "nbconvert_exporter": "python",
   "pygments_lexer": "ipython3",
   "version": "3.6.5"
  }
 },
 "nbformat": 4,
 "nbformat_minor": 2
}
