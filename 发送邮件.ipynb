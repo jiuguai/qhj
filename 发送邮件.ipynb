{
 "cells": [
  {
   "cell_type": "code",
   "execution_count": 24,
   "metadata": {},
   "outputs": [
    {
     "name": "stdout",
     "output_type": "stream",
     "text": [
      "邮件发送成功\n"
     ]
    }
   ],
   "source": [
    "import smtplib\n",
    "from email.mime.text import MIMEText\n",
    "from email.mime.multipart import MIMEMultipart\n",
    "from email.header import Header\n",
    "\n",
    "from email.mime.application import MIMEApplication\n",
    "# 第三方 SMTP 服务\n",
    "mail_host=\"smtp.qq.com\"  #设置服务器\n",
    "mail_user=\"wind2zero@qq.com\"    #用户名\n",
    "mail_pass=\"fryfiaiezxapdhjf\"   #口令 \n",
    "\"\"\"\n",
    "\n",
    "POP3/SMTP服务 vclmmuvcnwntdjef\n",
    "IMAP/SMTP服务 fryfiaiezxapdhjf\n",
    "\"\"\"\n",
    "    \n",
    "\n",
    "sender = '2437253053@qq.com'\n",
    "# receivers = ','.join(['wind13zero@163.com'])  # 接收邮件，可设置为你的QQ邮箱或者其他邮箱\n",
    "receivers = ','.join(['2437253053@qq.com'])\n",
    "message = MIMEText('Python 邮件发送测试...', 'plain', 'utf-8')\n",
    "message = MIMEMultipart()\n",
    "message['From'] = Header(\"ZERO教程\", 'utf-8')\n",
    "message['To'] =  Header(\"jiuguai你好\", 'utf-8')\n",
    " \n",
    "subject = 'Python SMTP 邮件测试'\n",
    "message['Subject'] = Header(subject, 'utf-8')\n",
    " \n",
    "\n",
    "# 构造附件1，传送当前目录下的 test.txt 文件\n",
    "file_path = r\"C:\\Users\\Administrator\\Desktop\\供应商订单数据\\供应商订单信息\\Apple 20191031_15_26.xlsx\"\n",
    "\n",
    "part = MIMEApplication(open(file_path,'rb').read())\n",
    "part.add_header('Content-Disposition', 'attachment', filename=\"Apple123.xlsx\")\n",
    "message.attach(part)    \n",
    "    \n",
    "content='你好，这是一封测试邮件'\n",
    "cont=MIMEText(content,'plain','utf-8')\n",
    "message.attach(cont)    \n",
    "    \n",
    "try:\n",
    "    \n",
    "#     smtpObj = smtplib.SMTP() \n",
    "#     smtpObj.connect(mail_host, 25)    # 25 为 SMTP 端口号\n",
    "    smtpObj = smtplib.SMTP_SSL(mail_host,465)\n",
    "    smtpObj.login(mail_user,mail_pass)  \n",
    "    smtpObj.sendmail(sender, receivers, message.as_string())\n",
    "    print (\"邮件发送成功\")\n",
    "except smtplib.SMTPException:\n",
    "    print (\"Error: 无法发送邮件\")"
   ]
  },
  {
   "cell_type": "code",
   "execution_count": null,
   "metadata": {},
   "outputs": [],
   "source": [
    "长沙"
   ]
  }
 ],
 "metadata": {
  "kernelspec": {
   "display_name": "Python 3",
   "language": "python",
   "name": "python3"
  },
  "language_info": {
   "codemirror_mode": {
    "name": "ipython",
    "version": 3
   },
   "file_extension": ".py",
   "mimetype": "text/x-python",
   "name": "python",
   "nbconvert_exporter": "python",
   "pygments_lexer": "ipython3",
   "version": "3.6.5"
  }
 },
 "nbformat": 4,
 "nbformat_minor": 2
}
