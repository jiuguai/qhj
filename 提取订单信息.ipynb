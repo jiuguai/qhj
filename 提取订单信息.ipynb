{
 "cells": [
  {
   "cell_type": "code",
   "execution_count": 1,
   "metadata": {},
   "outputs": [],
   "source": [
    "\n",
    "\n",
    "from pyquery import PyQuery as pq\n",
    "import requests\n",
    "from urllib.parse import urlencode,parse_qs\n"
   ]
  },
  {
   "cell_type": "code",
   "execution_count": 2,
   "metadata": {},
   "outputs": [],
   "source": [
    "url = \"https://app0001.yrapps.cn/admin/Order/orderList\""
   ]
  },
  {
   "cell_type": "code",
   "execution_count": 3,
   "metadata": {},
   "outputs": [],
   "source": [
    "headers = {\n",
    "    \"accept\": \"text/html,application/xhtml+xml,application/xml;q=0.9,image/webp,image/apng,*/*;q=0.8,application/signed-exchange;v=b3\",\n",
    "    \"accept-encoding\": \"gzip, deflate, br\",\n",
    "    \"accept-language\": \"zh-CN,zh;q=0.9,en;q=0.8\",\n",
    "    \"cache-control\": \"no-cache\",\n",
    "    \"cookie\": \"PHPSESSID=ke0ck67housl8971m9i096t4k4\",\n",
    "    \"pragma\": \"no-cache\",\n",
    "    \"referer\": \"https://app0001.yrapps.cn/admin/index/index\",\n",
    "    \"sec-fetch-mode\": \"nested-navigate\",\n",
    "    \"sec-fetch-site\": \"same-origin\",\n",
    "    \"upgrade-insecure-requests\": \"1\",\n",
    "    \"user-agent\": \"Mozilla/5.0 (Windows NT 6.1; Win64; x64) AppleWebKit/537.36 (KHTML, like Gecko) Chrome/78.0.3904.108 Safari/537.36\",\n",
    "}"
   ]
  },
  {
   "cell_type": "code",
   "execution_count": 41,
   "metadata": {},
   "outputs": [
    {
     "data": {
      "text/plain": [
       "'order_type=original&page=2'"
      ]
     },
     "execution_count": 41,
     "metadata": {},
     "output_type": "execute_result"
    }
   ],
   "source": [
    "\n",
    "\n",
    "urlencode(params)"
   ]
  },
  {
   "cell_type": "code",
   "execution_count": 42,
   "metadata": {},
   "outputs": [
    {
     "data": {
      "text/plain": [
       "'https://app0001.yrapps.cn/admin/Order/orderList?order_type=original&page=2'"
      ]
     },
     "execution_count": 42,
     "metadata": {},
     "output_type": "execute_result"
    }
   ],
   "source": [
    "url +\"?\"+urlencode(params)"
   ]
  },
  {
   "cell_type": "code",
   "execution_count": 4,
   "metadata": {},
   "outputs": [
    {
     "data": {
      "text/plain": [
       "['#',\n",
       " '订单号',\n",
       " '订单详情',\n",
       " '数量',\n",
       " '支付金额',\n",
       " '原价',\n",
       " '购买时折扣',\n",
       " '用户信息',\n",
       " '备注',\n",
       " '订单状态',\n",
       " '下单时间',\n",
       " '支付时间',\n",
       " '操作']"
      ]
     },
     "execution_count": 4,
     "metadata": {},
     "output_type": "execute_result"
    }
   ],
   "source": [
    "pos_map = {\n",
    "    \n",
    "}\n",
    "\n",
    "\n",
    "columns = []\n",
    "\n",
    "params = {\n",
    "    \"order_type\":\"original\",\n",
    "\n",
    "}\n",
    "rep = requests.get(url +\"?\"+urlencode(params),headers=headers)\n",
    "doc = pq(rep.text)\n",
    "\n",
    "\n",
    "\n",
    "\n",
    "for th in doc('thead th').items():\n",
    "    columns.append(th.text())\n",
    "\n",
    "\n",
    "\n",
    "\n",
    "columns"
   ]
  },
  {
   "cell_type": "code",
   "execution_count": 114,
   "metadata": {},
   "outputs": [
    {
     "data": {
      "text/plain": [
       "[]"
      ]
     },
     "execution_count": 114,
     "metadata": {},
     "output_type": "execute_result"
    }
   ],
   "source": [
    "doc('tbody td')"
   ]
  },
  {
   "cell_type": "code",
   "execution_count": 72,
   "metadata": {},
   "outputs": [
    {
     "data": {
      "text/plain": [
       "'# 订单号 订单详情 数量 消耗人数 用户信息 备注 订单状态 下单时间 支付时间 操作'"
      ]
     },
     "execution_count": 72,
     "metadata": {},
     "output_type": "execute_result"
    }
   ],
   "source": [
    "doc('thead th').text()"
   ]
  },
  {
   "cell_type": "code",
   "execution_count": 8,
   "metadata": {},
   "outputs": [],
   "source": [
    "import numpy as np\n",
    "import pandas as pd"
   ]
  },
  {
   "cell_type": "code",
   "execution_count": 83,
   "metadata": {},
   "outputs": [
    {
     "data": {
      "text/html": [
       "<div>\n",
       "<style scoped>\n",
       "    .dataframe tbody tr th:only-of-type {\n",
       "        vertical-align: middle;\n",
       "    }\n",
       "\n",
       "    .dataframe tbody tr th {\n",
       "        vertical-align: top;\n",
       "    }\n",
       "\n",
       "    .dataframe thead th {\n",
       "        text-align: right;\n",
       "    }\n",
       "</style>\n",
       "<table border=\"1\" class=\"dataframe\">\n",
       "  <thead>\n",
       "    <tr style=\"text-align: right;\">\n",
       "      <th></th>\n",
       "      <th>0</th>\n",
       "      <th>1</th>\n",
       "      <th>2</th>\n",
       "    </tr>\n",
       "  </thead>\n",
       "  <tbody>\n",
       "    <tr>\n",
       "      <th>0</th>\n",
       "      <td>1</td>\n",
       "      <td>2</td>\n",
       "      <td>3</td>\n",
       "    </tr>\n",
       "    <tr>\n",
       "      <th>1</th>\n",
       "      <td>1</td>\n",
       "      <td>2</td>\n",
       "      <td>3</td>\n",
       "    </tr>\n",
       "  </tbody>\n",
       "</table>\n",
       "</div>"
      ],
      "text/plain": [
       "   0  1  2\n",
       "0  1  2  3\n",
       "1  1  2  3"
      ]
     },
     "execution_count": 83,
     "metadata": {},
     "output_type": "execute_result"
    }
   ],
   "source": [
    "pd.DataFrame([[1,2,3],[1,2,3]])"
   ]
  },
  {
   "cell_type": "code",
   "execution_count": 86,
   "metadata": {},
   "outputs": [],
   "source": [
    "td = tr('td')"
   ]
  },
  {
   "cell_type": "code",
   "execution_count": 10,
   "metadata": {},
   "outputs": [],
   "source": [
    "data_l = []\n",
    "\n",
    "\n",
    "for tr in doc('tbody tr').items():\n",
    "    row_l = []\n",
    "\n",
    "    for v in tr('td').items():\n",
    "        row_l.append(v.text())\n",
    "    data_l.append(row_l)\n",
    "data = pd.DataFrame(data_l,columns=columns)"
   ]
  },
  {
   "cell_type": "code",
   "execution_count": 21,
   "metadata": {},
   "outputs": [],
   "source": [
    "import re"
   ]
  },
  {
   "cell_type": "code",
   "execution_count": null,
   "metadata": {},
   "outputs": [],
   "source": [
    "re"
   ]
  },
  {
   "cell_type": "code",
   "execution_count": 69,
   "metadata": {},
   "outputs": [],
   "source": [
    "data_info = data['用户信息'].str.extract(\"\"\"\n",
    "(?<=下单人：)(?P<收件人>[^\\n]+)\n",
    "\\s+手机：(?P<手机号码>[^\\n]+)\n",
    "\\s+收货地址：(?P<收货地址>[^\\n]+)\"\"\",flags=re.S|re.X)\n",
    "\n",
    "data_dd = data['订单详情'].str.extract(\"\"\"\n",
    "    法国大使(?P<商品名>.+?)(?=（规格[：:])（\n",
    "    规格[：:](?P<规格>.+?)(?=商品ID[：:])\n",
    "    商品ID[：:](?P<商品ID>.+)）\"\"\",flags=re.S|re.X)\n",
    "data_r = pd.concat([data,data_info,data_dd],axis=1)\n",
    "data_r['规格'] = data_r['规格'].str.strip('，,')\n",
    "data_r"
   ]
  },
  {
   "cell_type": "code",
   "execution_count": 61,
   "metadata": {},
   "outputs": [
    {
     "data": {
      "text/html": [
       "<div>\n",
       "<style scoped>\n",
       "    .dataframe tbody tr th:only-of-type {\n",
       "        vertical-align: middle;\n",
       "    }\n",
       "\n",
       "    .dataframe tbody tr th {\n",
       "        vertical-align: top;\n",
       "    }\n",
       "\n",
       "    .dataframe thead th {\n",
       "        text-align: right;\n",
       "    }\n",
       "</style>\n",
       "<table border=\"1\" class=\"dataframe\">\n",
       "  <thead>\n",
       "    <tr style=\"text-align: right;\">\n",
       "      <th></th>\n",
       "      <th>商品名</th>\n",
       "      <th>规格</th>\n",
       "      <th>商品ID</th>\n",
       "    </tr>\n",
       "  </thead>\n",
       "  <tbody>\n",
       "    <tr>\n",
       "      <th>0</th>\n",
       "      <td>（Delsey）双肩休闲包</td>\n",
       "      <td>红，</td>\n",
       "      <td>S0001P0001C0001P02</td>\n",
       "    </tr>\n",
       "    <tr>\n",
       "      <th>1</th>\n",
       "      <td>（Delsey）商务电脑背包</td>\n",
       "      <td>黑，</td>\n",
       "      <td>S0001P0001C0002P01</td>\n",
       "    </tr>\n",
       "  </tbody>\n",
       "</table>\n",
       "</div>"
      ],
      "text/plain": [
       "              商品名  规格                商品ID\n",
       "0   （Delsey）双肩休闲包  红，  S0001P0001C0001P02\n",
       "1  （Delsey）商务电脑背包  黑，  S0001P0001C0002P01"
      ]
     },
     "execution_count": 61,
     "metadata": {},
     "output_type": "execute_result"
    }
   ],
   "source": []
  },
  {
   "cell_type": "code",
   "execution_count": 70,
   "metadata": {},
   "outputs": [],
   "source": []
  },
  {
   "cell_type": "code",
   "execution_count": 71,
   "metadata": {},
   "outputs": [
    {
     "data": {
      "text/html": [
       "<div>\n",
       "<style scoped>\n",
       "    .dataframe tbody tr th:only-of-type {\n",
       "        vertical-align: middle;\n",
       "    }\n",
       "\n",
       "    .dataframe tbody tr th {\n",
       "        vertical-align: top;\n",
       "    }\n",
       "\n",
       "    .dataframe thead th {\n",
       "        text-align: right;\n",
       "    }\n",
       "</style>\n",
       "<table border=\"1\" class=\"dataframe\">\n",
       "  <thead>\n",
       "    <tr style=\"text-align: right;\">\n",
       "      <th></th>\n",
       "      <th>#</th>\n",
       "      <th>订单号</th>\n",
       "      <th>订单详情</th>\n",
       "      <th>数量</th>\n",
       "      <th>支付金额</th>\n",
       "      <th>原价</th>\n",
       "      <th>购买时折扣</th>\n",
       "      <th>用户信息</th>\n",
       "      <th>备注</th>\n",
       "      <th>订单状态</th>\n",
       "      <th>下单时间</th>\n",
       "      <th>支付时间</th>\n",
       "      <th>操作</th>\n",
       "      <th>收件人</th>\n",
       "      <th>手机号码</th>\n",
       "      <th>收货地址</th>\n",
       "      <th>商品名</th>\n",
       "      <th>规格</th>\n",
       "      <th>商品ID</th>\n",
       "    </tr>\n",
       "  </thead>\n",
       "  <tbody>\n",
       "    <tr>\n",
       "      <th>0</th>\n",
       "      <td>1</td>\n",
       "      <td>19121056975357</td>\n",
       "      <td>法国大使（Delsey）双肩休闲包（规格：红，商品ID:S0001P0001C0001P02...</td>\n",
       "      <td>10</td>\n",
       "      <td>￥2590</td>\n",
       "      <td>￥2590</td>\n",
       "      <td>100%</td>\n",
       "      <td>下单人：卢斌\\n手机：13667304230\\n收货地址：湖南省长沙市开福区芙蓉中路218和...</td>\n",
       "      <td></td>\n",
       "      <td>已完成</td>\n",
       "      <td>2019-12-10 20:12:28</td>\n",
       "      <td>2019-12-10 20:12:37</td>\n",
       "      <td></td>\n",
       "      <td>卢斌</td>\n",
       "      <td>13667304230</td>\n",
       "      <td>湖南省长沙市开福区芙蓉中路218和府大厦92</td>\n",
       "      <td>（Delsey）双肩休闲包</td>\n",
       "      <td>红</td>\n",
       "      <td>S0001P0001C0001P02</td>\n",
       "    </tr>\n",
       "    <tr>\n",
       "      <th>1</th>\n",
       "      <td>2</td>\n",
       "      <td>19121010251551</td>\n",
       "      <td>法国大使（Delsey）商务电脑背包（规格：黑，商品ID:S0001P0001C0002P0...</td>\n",
       "      <td>1</td>\n",
       "      <td>￥215</td>\n",
       "      <td>￥215</td>\n",
       "      <td>100%</td>\n",
       "      <td>下单人：汪大鹏\\n手机：15207442488\\n收货地址：湖南省长沙市天心区芙蓉中路二段188号</td>\n",
       "      <td></td>\n",
       "      <td>未发货</td>\n",
       "      <td>2019-12-10 19:12:55</td>\n",
       "      <td>2019-12-10 19:12:04</td>\n",
       "      <td>发货</td>\n",
       "      <td>汪大鹏</td>\n",
       "      <td>15207442488</td>\n",
       "      <td>湖南省长沙市天心区芙蓉中路二段188号</td>\n",
       "      <td>（Delsey）商务电脑背包</td>\n",
       "      <td>黑</td>\n",
       "      <td>S0001P0001C0002P01</td>\n",
       "    </tr>\n",
       "  </tbody>\n",
       "</table>\n",
       "</div>"
      ],
      "text/plain": [
       "   #             订单号                                               订单详情  数量  \\\n",
       "0  1  19121056975357  法国大使（Delsey）双肩休闲包（规格：红，商品ID:S0001P0001C0001P02...  10   \n",
       "1  2  19121010251551  法国大使（Delsey）商务电脑背包（规格：黑，商品ID:S0001P0001C0002P0...   1   \n",
       "\n",
       "    支付金额     原价 购买时折扣                                               用户信息 备注  \\\n",
       "0  ￥2590  ￥2590  100%  下单人：卢斌\\n手机：13667304230\\n收货地址：湖南省长沙市开福区芙蓉中路218和...      \n",
       "1   ￥215   ￥215  100%  下单人：汪大鹏\\n手机：15207442488\\n收货地址：湖南省长沙市天心区芙蓉中路二段188号      \n",
       "\n",
       "  订单状态                 下单时间                 支付时间   操作  收件人         手机号码  \\\n",
       "0  已完成  2019-12-10 20:12:28  2019-12-10 20:12:37        卢斌  13667304230   \n",
       "1  未发货  2019-12-10 19:12:55  2019-12-10 19:12:04  发货  汪大鹏  15207442488   \n",
       "\n",
       "                     收货地址             商品名 规格                商品ID  \n",
       "0  湖南省长沙市开福区芙蓉中路218和府大厦92   （Delsey）双肩休闲包  红  S0001P0001C0001P02  \n",
       "1     湖南省长沙市天心区芙蓉中路二段188号  （Delsey）商务电脑背包  黑  S0001P0001C0002P01  "
      ]
     },
     "execution_count": 71,
     "metadata": {},
     "output_type": "execute_result"
    }
   ],
   "source": []
  },
  {
   "cell_type": "code",
   "execution_count": 11,
   "metadata": {},
   "outputs": [
    {
     "data": {
      "text/html": [
       "<div>\n",
       "<style scoped>\n",
       "    .dataframe tbody tr th:only-of-type {\n",
       "        vertical-align: middle;\n",
       "    }\n",
       "\n",
       "    .dataframe tbody tr th {\n",
       "        vertical-align: top;\n",
       "    }\n",
       "\n",
       "    .dataframe thead th {\n",
       "        text-align: right;\n",
       "    }\n",
       "</style>\n",
       "<table border=\"1\" class=\"dataframe\">\n",
       "  <thead>\n",
       "    <tr style=\"text-align: right;\">\n",
       "      <th></th>\n",
       "      <th>#</th>\n",
       "      <th>订单号</th>\n",
       "      <th>订单详情</th>\n",
       "      <th>数量</th>\n",
       "      <th>支付金额</th>\n",
       "      <th>原价</th>\n",
       "      <th>购买时折扣</th>\n",
       "      <th>用户信息</th>\n",
       "      <th>备注</th>\n",
       "      <th>订单状态</th>\n",
       "      <th>下单时间</th>\n",
       "      <th>支付时间</th>\n",
       "      <th>操作</th>\n",
       "    </tr>\n",
       "  </thead>\n",
       "  <tbody>\n",
       "    <tr>\n",
       "      <th>0</th>\n",
       "      <td>1</td>\n",
       "      <td>19121056975357</td>\n",
       "      <td>法国大使（Delsey）双肩休闲包（规格：红，商品ID:S0001P0001C0001P02...</td>\n",
       "      <td>10</td>\n",
       "      <td>￥2590</td>\n",
       "      <td>￥2590</td>\n",
       "      <td>100%</td>\n",
       "      <td>下单人：卢斌\\n手机：13667304230\\n收货地址：湖南省长沙市开福区芙蓉中路218和...</td>\n",
       "      <td></td>\n",
       "      <td>已完成</td>\n",
       "      <td>2019-12-10 20:12:28</td>\n",
       "      <td>2019-12-10 20:12:37</td>\n",
       "      <td></td>\n",
       "    </tr>\n",
       "    <tr>\n",
       "      <th>1</th>\n",
       "      <td>2</td>\n",
       "      <td>19121010251551</td>\n",
       "      <td>法国大使（Delsey）商务电脑背包（规格：黑，商品ID:S0001P0001C0002P0...</td>\n",
       "      <td>1</td>\n",
       "      <td>￥215</td>\n",
       "      <td>￥215</td>\n",
       "      <td>100%</td>\n",
       "      <td>下单人：汪大鹏\\n手机：15207442488\\n收货地址：湖南省长沙市天心区芙蓉中路二段188号</td>\n",
       "      <td></td>\n",
       "      <td>未发货</td>\n",
       "      <td>2019-12-10 19:12:55</td>\n",
       "      <td>2019-12-10 19:12:04</td>\n",
       "      <td>发货</td>\n",
       "    </tr>\n",
       "  </tbody>\n",
       "</table>\n",
       "</div>"
      ],
      "text/plain": [
       "   #             订单号                                               订单详情  数量  \\\n",
       "0  1  19121056975357  法国大使（Delsey）双肩休闲包（规格：红，商品ID:S0001P0001C0001P02...  10   \n",
       "1  2  19121010251551  法国大使（Delsey）商务电脑背包（规格：黑，商品ID:S0001P0001C0002P0...   1   \n",
       "\n",
       "    支付金额     原价 购买时折扣                                               用户信息 备注  \\\n",
       "0  ￥2590  ￥2590  100%  下单人：卢斌\\n手机：13667304230\\n收货地址：湖南省长沙市开福区芙蓉中路218和...      \n",
       "1   ￥215   ￥215  100%  下单人：汪大鹏\\n手机：15207442488\\n收货地址：湖南省长沙市天心区芙蓉中路二段188号      \n",
       "\n",
       "  订单状态                 下单时间                 支付时间   操作  \n",
       "0  已完成  2019-12-10 20:12:28  2019-12-10 20:12:37       \n",
       "1  未发货  2019-12-10 19:12:55  2019-12-10 19:12:04  发货  "
      ]
     },
     "execution_count": 11,
     "metadata": {},
     "output_type": "execute_result"
    }
   ],
   "source": [
    "data['用户信息'].str.extract(\"(?<收件人>(?<=下订单：))\")"
   ]
  },
  {
   "cell_type": "code",
   "execution_count": 112,
   "metadata": {},
   "outputs": [
    {
     "ename": "NameError",
     "evalue": "name 'v' is not defined",
     "output_type": "error",
     "traceback": [
      "\u001b[1;31m---------------------------------------------------------------------------\u001b[0m",
      "\u001b[1;31mNameError\u001b[0m                                 Traceback (most recent call last)",
      "\u001b[1;32m<ipython-input-112-d0aa4386ac53>\u001b[0m in \u001b[0;36m<module>\u001b[1;34m\u001b[0m\n\u001b[1;32m----> 1\u001b[1;33m \u001b[0mv\u001b[0m\u001b[1;33m\u001b[0m\u001b[0m\n\u001b[0m",
      "\u001b[1;31mNameError\u001b[0m: name 'v' is not defined"
     ]
    }
   ],
   "source": [
    "v"
   ]
  },
  {
   "cell_type": "code",
   "execution_count": 48,
   "metadata": {},
   "outputs": [
    {
     "data": {
      "text/plain": [
       "[<html>]"
      ]
     },
     "execution_count": 48,
     "metadata": {},
     "output_type": "execute_result"
    }
   ],
   "source": [
    "original\n",
    "free"
   ]
  },
  {
   "cell_type": "code",
   "execution_count": 56,
   "metadata": {},
   "outputs": [
    {
     "name": "stdout",
     "output_type": "stream",
     "text": [
      "19120997501015\n",
      "19120999481021\n"
     ]
    }
   ],
   "source": [
    "for page in range(2, doc('.pagination>li>a').length + 1):\n",
    "    params['page'] = page\n",
    "    rep = requests.get(url +\"?\"+urlencode(params),headers=headers)\n",
    "    doc = pq(rep.text)\n",
    "    txt = doc('tbody tr')[0].cssselect('td')[1].text\n",
    "    print(txt)"
   ]
  }
 ],
 "metadata": {
  "kernelspec": {
   "display_name": "Python 3",
   "language": "python",
   "name": "python3"
  },
  "language_info": {
   "codemirror_mode": {
    "name": "ipython",
    "version": 3
   },
   "file_extension": ".py",
   "mimetype": "text/x-python",
   "name": "python",
   "nbconvert_exporter": "python",
   "pygments_lexer": "ipython3",
   "version": "3.6.5"
  }
 },
 "nbformat": 4,
 "nbformat_minor": 2
}
