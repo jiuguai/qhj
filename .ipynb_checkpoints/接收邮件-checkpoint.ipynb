{
 "cells": [
  {
   "cell_type": "code",
   "execution_count": 51,
   "metadata": {
    "scrolled": true
   },
   "outputs": [
    {
     "name": "stdout",
     "output_type": "stream",
     "text": [
      "start\n",
      "b'+OK'\n",
      "[b'1 8305', b'2 8308', b'3 8518']\n",
      "24\n",
      "------------------------------\n",
      "3\n",
      "b'+OK'\n",
      "[b'Date: Sat, 2 Nov 2019 16:41:18 +0800', b'X-QQ-mid: esmtp7t1572684076tzpuyvle2', b'Received: from [192.168.0.100] (unknown [175.10.95.63])', b'\\tby esmtp4.qq.com (ESMTP) with SMTP id 0', b'\\tfor <2437253053@qq.com>; Sat, 02 Nov 2019 16:41:16 +0800 (CST)', b'X-QQ-SSF: A001000000000010G3120000002000J', b'X-QQ-FEAT: DvNdkFXOZE+xrKCpNhH6civIzs0DRP9Dq8D6fRROQnsZyOs/UPqYKlP9LuFy6', b'\\tba5T4CpBzLi7JQwXnL67wV+jsoRmkhUptPoJQLtxS1Z9yz2EeVLkcEpg+4di4EnKIG0zieH', b'\\tZrIXwXw1oFAM7z8fuHni71R9S5EdvsHpt1xUhQh/NciLFPPjYPSZVGpMKesBzHIBcb2cyRg', b'\\tuIRD01Fr30Bl3rX2+u4CuJ0FTYeweZCPwhSm8ntamawRWFI2L2c8LA37JJ2j0pU8=', b'X-QQ-CSender: 2437253053@qq.com', b'Sender: 2437253053@qq.com', b'Content-Type: multipart/mixed; boundary=\"===============2997002501849855988==\"', b'MIME-Version: 1.0', b'From: =?utf-8?b?WkVST+aVmeeoiw==?=', b'To: =?utf-8?b?aml1Z3VhaeS9oOWlvQ==?=', b'Subject: =?utf-8?b?UHl0aG9uIFNNVFAg6YKu5Lu25rWL6K+V?=', b'', b'--===============2997002501849855988==', b'Content-Type: application/octet-stream', b'MIME-Version: 1.0', b'Content-Transfer-Encoding: base64', b'Content-Disposition: attachment; filename=\"Apple.xlsx\"', b'', b'UEsDBBQAAAAIAMSIYU8HQU1igQAAALEAAAAQAAAAZG9jUHJvcHMvYXBwLnhtbE2OPQsCMRBE/8px', b'vbdBwUJiQNBSsLIPexsvkGRDskJ+vjnBj24ebxhG3wpnKuKpDi2GVI/jIpIPABUXirZOXaduHJdo', b'pWN5ADvnkc6Mz0hJYKvUHqgJpZnmTf4Ojkafcg4erXhO5uqxcGUnw6UhBQ3/cm3eqdQ17yb1lh/W', b'8DtpXlBLAwQUAAAACADEiGFPzv2fo+oAAADLAQAAEQAAAGRvY1Byb3BzL2NvcmUueG1spZHBSgMx', b'EIZfpeS+O0kLLYY0F8WTgmBB8RaSaRvc7IZkZLdvb3Ztt4rePGb+b76ZIcpGabuET6mLmMhjXgyh', b'abO0ccuORFECZHvEYHJdiLaE+y4FQ+WZDhCNfTcHhCXnawhIxhkyMAqrOBvZWensrIwfqZkEzgI2', b'GLClDKIWcGUJU8h/NkzJTA7Zz1Tf93W/mriykYDXx4fnafnKt5lMa5Fp5ay0CQ11SY8XxdPQKPhW', b'VOfZXwV0izJB0inill2Sl9Xt3e6e6SUXN5UQFRc7sZF8LfnmbXT96L8KQ+f83v/DeBFoBb/+TX8C', b'UEsDBBQAAAAIAMSIYU+ZXJwjEAYAAJwnAAATAAAAeGwvdGhlbWUvdGhlbWUxLnhtbO1aW3PaOBR+', b'76/QeGf2bQvGNoG2tBNzaXbbtJmE7U4fhRFYjWx5ZJGEf79HNhDLlg3tkk26mzwELOn7zkVH5+g4', b'efPuLmLohoiU8nhg2S/b1ru3L97gVzIkEUEwGaev8MAKpUxetVppAMM4fckTEsPcgosIS3gUy9Zc', b'4FsaLyPW6rTb3VaEaWyhGEdkYH1eLGhA0FRRWm9fILTlHzP4FctUjWWjARNXQSa5iLTy+WzF/Nre', b'PmXP6TodMoFuMBtYIH/Ob6fkTlqI4VTCxMBqZz9Wa8fR0kiAgsl9lAW6Sfaj0xUIMg07Op1YznZ8', b'9sTtn4zK2nQ0bRrg4/F4OLbL0otwHATgUbuewp30bL+kQQm0o2nQZNj22q6RpqqNU0/T933f65to', b'nAqNW0/Ta3fd046Jxq3QeA2+8U+Hw66JxqvQdOtpJif9rmuk6RZoQkbj63oSFbXlQNMgAFhwdtbM', b'0gOWXin6dZQa2R273UFc8FjuOYkR/sbFBNZp0hmWNEZynZAFDgA3xNFMUHyvQbaK4MKS0lyQ1s8p', b'tVAaCJrIgfVHgiHF3K/99Ze7yaQzep19Os5rlH9pqwGn7bubz5P8c+jkn6eT101CznC8LAnx+yNb', b'YYcnbjsTcjocZ0J8z/b2kaUlMs/v+QrrTjxnH1aWsF3Pz+SejHIju932WH32T0duI9epwLMi15RG', b'JEWfyC265BE4tUkNMhM/CJ2GmGpQHAKkCTGWoYb4tMasEeATfbe+CMjfjYj3q2+aPVehWEnahPgQ', b'RhrinHPmc9Fs+welRtH2Vbzco5dYFQGXGN80qjUsxdZ4lcDxrZw8HRMSzZQLBkGGlyQmEqk5fk1I', b'E/4rpdr+nNNA8JQvJPpKkY9psyOndCbN6DMawUavG3WHaNI8ev4F+Zw1ChyRGx0CZxuzRiGEabvw', b'Hq8kjpqtwhErQj5iGTYacrUWgbZxqYRgWhLG0XhO0rQR/FmsNZM+YMjszZF1ztaRDhGSXjdCPmLO', b'i5ARvx6GOEqa7aJxWAT9nl7DScHogstm/bh+htUzbCyO90fUF0rkDyanP+kyNAejmlkJvYRWap+q', b'hzQ+qB4yCgXxuR4+5Xp4CjeWxrxQroJ7Af/R2jfCq/iCwDl/Ln3Ppe+59D2h0rc3I31nwdOLW95G', b'blvE+64x2tc0LihjV3LNyMdUr5Mp2DmfwOz9aD6e8e362SSEr5pZLSMWkEuBs0EkuPyLyvAqxAno', b'ZFslCctU02U3ihKeQhtu6VP1SpXX5a+5KLg8W+Tpr6F0PizP+Txf57TNCzNDt3JL6raUvrUmOEr0', b'scxwTh7LDDtnPJIdtnegHTX79l125COlMFOXQ7gaQr4Dbbqd3Do4npiRuQrTUpBvw/npxXga4jnZ', b'BLl9mFdt59jR0fvnwVGwo+88lh3HiPKiIe6hhpjPw0OHeXtfmGeVxlA0FG1srCQsRrdguNfxLBTg', b'ZGAtoAeDr1EC8lJVYDFbxgMrkKJ8TIxF6HDnl1xf49GS49umZbVuryl3GW0iUjnCaZgTZ6vK3mWx', b'wVUdz1Vb8rC+aj20FU7P/lmtyJ8MEU4WCxJIY5QXpkqi8xlTvucrScRVOL9FM7YSlxi84+bHcU5T', b'uBJ2tg8CMrm7Oal6ZTFnpvLfLQwJLFuIWRLiTV3t1eebnK56Inb6l3fBYPL9cMlHD+U751/0XUOu', b'fvbd4/pukztITJx5xREBdEUCI5UcBhYXMuRQ7pKQBhMBzZTJRPACgmSmHICY+gu98gy5KRXOrT45', b'f0Usg4ZOXtIlEhSKsAwFIRdy4+/vk2p3jNf6LIFthFQyZNUXykOJwT0zckPYVCXzrtomC4Xb4lTN', b'uxq+JmBLw3punS0n/9te1D20Fz1G86OZ4B6zh3OberjCRaz/WNYe+TLfOXDbOt4DXuYTLEOkfsF9', b'ioqAEativrqvT/klnDu0e/GBIJv81tuk9t3gDHzUq1qlZCsRP0sHfB+SBmOMW/Q0X48UYq2msa3G', b'2jEMeYBY8wyhZjjfh0WaGjPVi6w5jQpvQdVA5T/b1A1o9g00HJEFXjGZtjaj5E4KPNz+7w2wwsSO', b'4e2LvwFQSwMEFAAAAAgAxIhhT+ZtrvGsAwAAuRAAABgAAAB4bC93b3Jrc2hlZXRzL3NoZWV0MS54', b'bWzNmElv2zgUx8/zLQQFyLHiLjJegGaxNIcCQYt25qrYdCxUiysx9QzQD99HKpFjg4RnfEjrgynp', b'if+3/ChS1HTXdl/7jdYm+qeumn4Wb4zZXiVJv9zouujftVvdgGXddnVh4LR7TPptp4uV61RXCUFI', b'JHVRNvF86q7dd/Np+2SqstH3XdQ/1XXR/Xutq3Y3i3H8cuFj+bgx7kIyn26LR/1Jm89b6ACnyaiz', b'Kmvd9GXbRJ1ez+L3+CqXroe740upd/2r48gm89C2X+3Jn6tZjGxMutJLYyUKaL7rG11VVgki+fYs', b'Gu+d2p6vj1/kFy5/CO+h6PVNW/1VrsxmFkMwK70unirzsd3l+jknvg/xtjDFfNq1u6izyc6nS3vg', b'vLvk4faysaX6ZDqwluDPzC8vKE+ZmFxeEEwpdS1TfDJNDMRm70mWz0rXJ5WExP9J6eaUEsGSIqcg', b'VOpajlOf0u0pJaxUql7HpJQituWYUZ/i3f9WFBhZRSqplD7FxWkCREinJCTzKWQn68UVdvVCUHPX', b'Ym5bihDituUSeUnk5yoTQgkaWiqOlBMYg+NAJONAJH4ndjK46rfFUs9ieNp73X3X8fwPcASeCUMK', b'IhCUwX/qG5THqvZxGAZZwN+8vN+0jY4wju67Nvrw/u/IwsPUFYxSxSY/OCbZ9Q+W2Xwls3lSKISl', b'DWNcoQn0gMiEeC7AS4H4BBOhlOuFvKPrNhTU5QWDyc2xIlIp78gMproIWrKgJfdZDsjRkRw9jxyM', b'DM4F4pJ5yR2r7skF/HnJEYmZKxumw8CUqXwTkqEgXR8u3Iwg5fGzMZAMpr4IWrKgJfdZDkiykSQ7', b'lyTjlMAPKx/JY9U9yYA/P0lBhJtQASkZQGH8FiRDQQ4rmCOpIH23aiDpXYfugiVYBC1Z0JL7LAdE', b'+UiUn0cUSscJ40xJ4iN6rLonGvDnn1VTStRbEAwFZZVhnR7WLexf74OpLoKWLGjJfZYDcmIkJ84j', b'h7BknBBGEfWRO1bdkwv4+7XrYSgoux4K5iZ0GKXet6K7YKqLoCULWnKf5YBcOpJLzyFHsSKSEZoK', b'haSP3LHqnlzA3++1HoaChD6UyiEk2Gp4SQZTXwQtWdCS+ywHJOVIUp5HUvIUipLCv/fN5lh1TzLg', b'7/daD0NBut2Te7MhFMHbv49kMPVF0JIFLbnPMpBMXm157Zb+Q9E9lk0fPbTGtLXb0azb1mhQQe9g', b'Ut7oYjWeVHpt7GEKx92wkR5OTLt9+U6QjF8r5j8BUEsDBBQAAAAIAMSIYU+jsYa+zwEAAIkEAAAN', b'AAAAeGwvc3R5bGVzLnhtbJ1U226cQAz9FTQfUJaVGqkVIDWVIkVqq0ibh74OYGCkuZDBrCBfX89l', b'uWzzlBfGPtjn2B5DPuIi4dIDYDIrqceC9YjD9zQd6x4UH7+YATS9aY1VHMm1XToOFngzuiQl0/Pp', b'9JAqLjQrcz2pJ4VjUptJY8FOLEnLvDV6g84sABTLFSRXLgv2k0tRWRGCuRJyCfjZI7WRxiZI1UDB', b'Mg+N7yEgi64rNXIpoY31aBpkwrOKCfs3/hgpQkh5rI+AMh84Ilj9RE5I8uj/76L9ugxUX2f5kp2/', b'sl2GP0imMrYBexAKUJlLaNFlWNH13kAzuKMyiEY5qxG8M5qHSm5ph3R/kQXDni5i47pHHfE9FlXu', b'4Q8lo0Ht1CDlxaX8bdeeMuppbpMQ89z4BXDd30yadzTDokTHCezpAvmO9/w53kFcDT5O1J32/ttk', b'EF4stGL2/txuBRA9Hwa5/JCi0wpCNzvF7EPF7JOKZc5vOklvrHgnPrefNQFA63sFi6J2CF1YGNDc', b'ximtA/LjOsx+RZNqEhKFjmX1omkgVOS+uoL9cV+zPE5guwLiR17Rb+EgQFENtHyS+OK6vIR12exf', b'buGyhzXqdaUo2Gb/hkZM6ltQ3H4+5T9QSwMEFAAAAAgAxIhhTzzhpYXAAAAAFgIAAAsAAABfcmVs', b'cy8ucmVsc62ST4vCQAzFv0qZ+xpXwcNiPXnpbVn8AnEm/UM7kyETsX57h71st1RQ8Bhe8t6PR/Y/', b'NKB2HFLbxVSMfgipNK1q/AJItiWPacWRQlZqFo+aR2kgou2xIdis1zuQqYc57KeeReVKI5X7NMUJ', b'pSEtzTjAlaU/M/erbJuFW6RnQrmuO0tHthdPQReyZxumgGWYzR+MY/stnE8tC72G87gD8KToUPHX', b'9SPmABLtKD0k2i4QYYzv7odGpeDIzZHg3xsc7lBLAwQUAAAACADEiGFPsbVp6TIBAAApAgAADwAA', b'AHhsL3dvcmtib29rLnhtbI2Q3U7DMAyFX6XKA9BugklMKzdMwCQEiKHdp627WkviynE32NOTpCqM', b'O64c/+Q79lmdiA8V0SH7tMb5JZeqE+mXee7rDqz2V9SDC72W2GoJKe9zalusYU31YMFJPi+KRc5g', b'tCA532Hv1Uj7D8v3DLrxHYBYM6KsRqfuVtNmb5zllxkJ1FEpVmNlh3DyvwMxzXSYOMKHrkpVqEwP', b'Qg9oBHitBR6Zhh7dvlQzlbXIXrZRPU1adGjxDE3KfEenJ2I8kxNttjWTMelXbKRPQcH/VHbAgvWf', b'QdHVe7SlVIsiAI/osUKD8lWq9Dag4hn5xR3JiilmTlsoVdJKKiFumlFRwi0XGF5iaPCmmY3IidNA', b'iw6alwDysREWrIOlMSTS/PpmdhuMGIy5D7VX90x6VIiUydW7b1BLAwQUAAAACADEiGFPoS02da8A', b'AAD7AQAAGgAAAHhsL19yZWxzL3dvcmtib29rLnhtbC5yZWxzrZHPCoMwDIdfpfQBFnWww1BPu3gd', b'e4Gi8Q+2tjQZ07df6Q46cLCDl4aQ8Ps+0vyOWvFgJ+oHR2I2eqJC9szuCkB1j0bRyTqcwqS13igO', b're/AqXpUHUKWJBfw2wxZ5ttMUTWF9FWTSvFQvkMuJMwaXtaP1CMyQSzpKQDCyuLwH7xt26HGm62f', b'BifesVgBUsC+UbYaES8a6WiFT+pP/nnlc6AgxPfwQ8TUKAFff12+AVBLAwQUAAAACADEiGFP9ou5', b'IBUBAADXAwAAEwAAAFtDb250ZW50X1R5cGVzXS54bWytU8tOwzAQ/JUoV5S4cOCAml4oV+iBHzD2', b'prHql7zbkv49G6dUogqoqLnYXs/uzNhrL9+PEbDonfXYlB1RfBICVQdOYh0ieEbakJwkDtNWRKl2', b'cgviYbF4FCp4Ak8VDRzlarmGVu4tFc/j/kDdlDJGa5QkE7w4eH1BWp0I6wQ252BnIt5xQlm89MyC', b'vNeUjGJZiCskLitzzIVvB0jJaPiXudC2RoEOau+4pMaYQGrsAMjZGulo4WR1IxO9SseMordiROo5', b'pYk7AlNaGRjH+9sUvzuhQoIqJkYTmYkDsqcNoyiGxFkPCUPbNOir1Jl6VvGfzf0MaZfXU3d+BlHk', b'6caL//uVDXPtpPG/OfkIYXc2IPJ/Xn0BUEsBAhQAFAAAAAgAxIhhTwdBTWKBAAAAsQAAABAAAAAA', b'AAAAAAAAAIABAAAAAGRvY1Byb3BzL2FwcC54bWxQSwECFAAUAAAACADEiGFPzv2fo+oAAADLAQAA', b'EQAAAAAAAAAAAAAAgAGvAAAAZG9jUHJvcHMvY29yZS54bWxQSwECFAAUAAAACADEiGFPmVycIxAG', b'AACcJwAAEwAAAAAAAAAAAAAAgAHIAQAAeGwvdGhlbWUvdGhlbWUxLnhtbFBLAQIUABQAAAAIAMSI', b'YU/mba7xrAMAALkQAAAYAAAAAAAAAAAAAAC2gQkIAAB4bC93b3Jrc2hlZXRzL3NoZWV0MS54bWxQ', b'SwECFAAUAAAACADEiGFPo7GGvs8BAACJBAAADQAAAAAAAAAAAAAAgAHrCwAAeGwvc3R5bGVzLnht', b'bFBLAQIUABQAAAAIAMSIYU884aWFwAAAABYCAAALAAAAAAAAAAAAAACAAeUNAABfcmVscy8ucmVs', b'c1BLAQIUABQAAAAIAMSIYU+xtWnpMgEAACkCAAAPAAAAAAAAAAAAAACAAc4OAAB4bC93b3JrYm9v', b'ay54bWxQSwECFAAUAAAACADEiGFPoS02da8AAAD7AQAAGgAAAAAAAAAAAAAAgAEtEAAAeGwvX3Jl', b'bHMvd29ya2Jvb2sueG1sLnJlbHNQSwECFAAUAAAACADEiGFP9ou5IBUBAADXAwAAEwAAAAAAAAAA', b'AAAAgAEUEQAAW0NvbnRlbnRfVHlwZXNdLnhtbFBLBQYAAAAACQAJAD4CAABaEgAAAAA=', b'', b'--===============2997002501849855988==--']\n",
      "8345\n",
      "b'ZERO\\xe6\\x95\\x99\\xe7\\xa8\\x8b' utf-8 ********************\n",
      "From:ZERO教程\n",
      "b'jiuguai\\xe4\\xbd\\xa0\\xe5\\xa5\\xbd' utf-8 ********************\n",
      "To:jiuguai你好\n",
      "b'Python SMTP \\xe9\\x82\\xae\\xe4\\xbb\\xb6\\xe6\\xb5\\x8b\\xe8\\xaf\\x95' utf-8 ********************\n",
      "Subject:Python SMTP 邮件测试\n",
      "Apple.xlsx None ********************\n",
      "文件名 Apple.xlsx\n",
      "Apple.xlsx download\n",
      "------------------------------\n",
      "b'+OK'\n",
      "[b'Date: Sat, 2 Nov 2019 16:46:47 +0800', b'X-QQ-mid: esmtp3t1572684406t97ra6y8v', b'Received: from [192.168.0.100] (unknown [175.10.95.63])', b'\\tby esmtp4.qq.com (ESMTP) with SMTP id 0', b'\\tfor <2437253053@qq.com>; Sat, 02 Nov 2019 16:46:45 +0800 (CST)', b'X-QQ-SSF: A001000000000010G3120000002000J', b'X-QQ-FEAT: UwEsINwRYPiga/DMH0wSd5j5XUhYcr/o+3jHdIj5czda1hvBzphCrqzqK9U22', b'\\tQvcGHTzGifcSA5IWqyrxXFmavCka3Ikk6Tksi2Ov88+BLkhHDOJ4V/cSgE2pyInq0K8jOkN', b'\\tzanBVear1+3Xo1Gv0el9SJ0cmAsG5+qDklaDnu+FuEnef7mHocHAJbTIfV53PXfYfgQmTVo', b'\\tuLD1r442EvgXmlYhcOrZV1CpZF04SYtiQt/Hf0ar5Mejz8derki1C73suj025Efc=', b'X-QQ-CSender: 2437253053@qq.com', b'Sender: 2437253053@qq.com', b'Content-Type: multipart/mixed; boundary=\"===============7455730736379981970==\"', b'MIME-Version: 1.0', b'From: =?utf-8?b?WkVST+aVmeeoiw==?=', b'To: =?utf-8?b?aml1Z3VhaeS9oOWlvQ==?=', b'Subject: =?utf-8?b?UHl0aG9uIFNNVFAg6YKu5Lu25rWL6K+V?=', b'', b'--===============7455730736379981970==', b'Content-Type: application/octet-stream', b'MIME-Version: 1.0', b'Content-Transfer-Encoding: base64', b'Content-Disposition: attachment; filename=\"Apple123.xlsx\"', b'', b'UEsDBBQAAAAIAMSIYU8HQU1igQAAALEAAAAQAAAAZG9jUHJvcHMvYXBwLnhtbE2OPQsCMRBE/8px', b'vbdBwUJiQNBSsLIPexsvkGRDskJ+vjnBj24ebxhG3wpnKuKpDi2GVI/jIpIPABUXirZOXaduHJdo', b'pWN5ADvnkc6Mz0hJYKvUHqgJpZnmTf4Ojkafcg4erXhO5uqxcGUnw6UhBQ3/cm3eqdQ17yb1lh/W', b'8DtpXlBLAwQUAAAACADEiGFPzv2fo+oAAADLAQAAEQAAAGRvY1Byb3BzL2NvcmUueG1spZHBSgMx', b'EIZfpeS+O0kLLYY0F8WTgmBB8RaSaRvc7IZkZLdvb3Ztt4rePGb+b76ZIcpGabuET6mLmMhjXgyh', b'abO0ccuORFECZHvEYHJdiLaE+y4FQ+WZDhCNfTcHhCXnawhIxhkyMAqrOBvZWensrIwfqZkEzgI2', b'GLClDKIWcGUJU8h/NkzJTA7Zz1Tf93W/mriykYDXx4fnafnKt5lMa5Fp5ay0CQ11SY8XxdPQKPhW', b'VOfZXwV0izJB0inill2Sl9Xt3e6e6SUXN5UQFRc7sZF8LfnmbXT96L8KQ+f83v/DeBFoBb/+TX8C', b'UEsDBBQAAAAIAMSIYU+ZXJwjEAYAAJwnAAATAAAAeGwvdGhlbWUvdGhlbWUxLnhtbO1aW3PaOBR+', b'76/QeGf2bQvGNoG2tBNzaXbbtJmE7U4fhRFYjWx5ZJGEf79HNhDLlg3tkk26mzwELOn7zkVH5+g4', b'efPuLmLohoiU8nhg2S/b1ru3L97gVzIkEUEwGaev8MAKpUxetVppAMM4fckTEsPcgosIS3gUy9Zc', b'4FsaLyPW6rTb3VaEaWyhGEdkYH1eLGhA0FRRWm9fILTlHzP4FctUjWWjARNXQSa5iLTy+WzF/Nre', b'PmXP6TodMoFuMBtYIH/Ob6fkTlqI4VTCxMBqZz9Wa8fR0kiAgsl9lAW6Sfaj0xUIMg07Op1YznZ8', b'9sTtn4zK2nQ0bRrg4/F4OLbL0otwHATgUbuewp30bL+kQQm0o2nQZNj22q6RpqqNU0/T933f65to', b'nAqNW0/Ta3fd046Jxq3QeA2+8U+Hw66JxqvQdOtpJif9rmuk6RZoQkbj63oSFbXlQNMgAFhwdtbM', b'0gOWXin6dZQa2R273UFc8FjuOYkR/sbFBNZp0hmWNEZynZAFDgA3xNFMUHyvQbaK4MKS0lyQ1s8p', b'tVAaCJrIgfVHgiHF3K/99Ze7yaQzep19Os5rlH9pqwGn7bubz5P8c+jkn6eT101CznC8LAnx+yNb', b'YYcnbjsTcjocZ0J8z/b2kaUlMs/v+QrrTjxnH1aWsF3Pz+SejHIju932WH32T0duI9epwLMi15RG', b'JEWfyC265BE4tUkNMhM/CJ2GmGpQHAKkCTGWoYb4tMasEeATfbe+CMjfjYj3q2+aPVehWEnahPgQ', b'RhrinHPmc9Fs+welRtH2Vbzco5dYFQGXGN80qjUsxdZ4lcDxrZw8HRMSzZQLBkGGlyQmEqk5fk1I', b'E/4rpdr+nNNA8JQvJPpKkY9psyOndCbN6DMawUavG3WHaNI8ev4F+Zw1ChyRGx0CZxuzRiGEabvw', b'Hq8kjpqtwhErQj5iGTYacrUWgbZxqYRgWhLG0XhO0rQR/FmsNZM+YMjszZF1ztaRDhGSXjdCPmLO', b'i5ARvx6GOEqa7aJxWAT9nl7DScHogstm/bh+htUzbCyO90fUF0rkDyanP+kyNAejmlkJvYRWap+q', b'hzQ+qB4yCgXxuR4+5Xp4CjeWxrxQroJ7Af/R2jfCq/iCwDl/Ln3Ppe+59D2h0rc3I31nwdOLW95G', b'blvE+64x2tc0LihjV3LNyMdUr5Mp2DmfwOz9aD6e8e362SSEr5pZLSMWkEuBs0EkuPyLyvAqxAno', b'ZFslCctU02U3ihKeQhtu6VP1SpXX5a+5KLg8W+Tpr6F0PizP+Txf57TNCzNDt3JL6raUvrUmOEr0', b'scxwTh7LDDtnPJIdtnegHTX79l125COlMFOXQ7gaQr4Dbbqd3Do4npiRuQrTUpBvw/npxXga4jnZ', b'BLl9mFdt59jR0fvnwVGwo+88lh3HiPKiIe6hhpjPw0OHeXtfmGeVxlA0FG1srCQsRrdguNfxLBTg', b'ZGAtoAeDr1EC8lJVYDFbxgMrkKJ8TIxF6HDnl1xf49GS49umZbVuryl3GW0iUjnCaZgTZ6vK3mWx', b'wVUdz1Vb8rC+aj20FU7P/lmtyJ8MEU4WCxJIY5QXpkqi8xlTvucrScRVOL9FM7YSlxi84+bHcU5T', b'uBJ2tg8CMrm7Oal6ZTFnpvLfLQwJLFuIWRLiTV3t1eebnK56Inb6l3fBYPL9cMlHD+U751/0XUOu', b'fvbd4/pukztITJx5xREBdEUCI5UcBhYXMuRQ7pKQBhMBzZTJRPACgmSmHICY+gu98gy5KRXOrT45', b'f0Usg4ZOXtIlEhSKsAwFIRdy4+/vk2p3jNf6LIFthFQyZNUXykOJwT0zckPYVCXzrtomC4Xb4lTN', b'uxq+JmBLw3punS0n/9te1D20Fz1G86OZ4B6zh3OberjCRaz/WNYe+TLfOXDbOt4DXuYTLEOkfsF9', b'ioqAEativrqvT/klnDu0e/GBIJv81tuk9t3gDHzUq1qlZCsRP0sHfB+SBmOMW/Q0X48UYq2msa3G', b'2jEMeYBY8wyhZjjfh0WaGjPVi6w5jQpvQdVA5T/b1A1o9g00HJEFXjGZtjaj5E4KPNz+7w2wwsSO', b'4e2LvwFQSwMEFAAAAAgAxIhhT+ZtrvGsAwAAuRAAABgAAAB4bC93b3Jrc2hlZXRzL3NoZWV0MS54', b'bWzNmElv2zgUx8/zLQQFyLHiLjJegGaxNIcCQYt25qrYdCxUiysx9QzQD99HKpFjg4RnfEjrgynp', b'if+3/ChS1HTXdl/7jdYm+qeumn4Wb4zZXiVJv9zouujftVvdgGXddnVh4LR7TPptp4uV61RXCUFI', b'JHVRNvF86q7dd/Np+2SqstH3XdQ/1XXR/Xutq3Y3i3H8cuFj+bgx7kIyn26LR/1Jm89b6ACnyaiz', b'Kmvd9GXbRJ1ez+L3+CqXroe740upd/2r48gm89C2X+3Jn6tZjGxMutJLYyUKaL7rG11VVgki+fYs', b'Gu+d2p6vj1/kFy5/CO+h6PVNW/1VrsxmFkMwK70unirzsd3l+jknvg/xtjDFfNq1u6izyc6nS3vg', b'vLvk4faysaX6ZDqwluDPzC8vKE+ZmFxeEEwpdS1TfDJNDMRm70mWz0rXJ5WExP9J6eaUEsGSIqcg', b'VOpajlOf0u0pJaxUql7HpJQituWYUZ/i3f9WFBhZRSqplD7FxWkCREinJCTzKWQn68UVdvVCUHPX', b'Ym5bihDituUSeUnk5yoTQgkaWiqOlBMYg+NAJONAJH4ndjK46rfFUs9ieNp73X3X8fwPcASeCUMK', b'IhCUwX/qG5THqvZxGAZZwN+8vN+0jY4wju67Nvrw/u/IwsPUFYxSxSY/OCbZ9Q+W2Xwls3lSKISl', b'DWNcoQn0gMiEeC7AS4H4BBOhlOuFvKPrNhTU5QWDyc2xIlIp78gMproIWrKgJfdZDsjRkRw9jxyM', b'DM4F4pJ5yR2r7skF/HnJEYmZKxumw8CUqXwTkqEgXR8u3Iwg5fGzMZAMpr4IWrKgJfdZDkiykSQ7', b'lyTjlMAPKx/JY9U9yYA/P0lBhJtQASkZQGH8FiRDQQ4rmCOpIH23aiDpXYfugiVYBC1Z0JL7LAdE', b'+UiUn0cUSscJ40xJ4iN6rLonGvDnn1VTStRbEAwFZZVhnR7WLexf74OpLoKWLGjJfZYDcmIkJ84j', b'h7BknBBGEfWRO1bdkwv4+7XrYSgoux4K5iZ0GKXet6K7YKqLoCULWnKf5YBcOpJLzyFHsSKSEZoK', b'haSP3LHqnlzA3++1HoaChD6UyiEk2Gp4SQZTXwQtWdCS+ywHJOVIUp5HUvIUipLCv/fN5lh1TzLg', b'7/daD0NBut2Te7MhFMHbv49kMPVF0JIFLbnPMpBMXm157Zb+Q9E9lk0fPbTGtLXb0azb1mhQQe9g', b'Ut7oYjWeVHpt7GEKx92wkR5OTLt9+U6QjF8r5j8BUEsDBBQAAAAIAMSIYU+jsYa+zwEAAIkEAAAN', b'AAAAeGwvc3R5bGVzLnhtbJ1U226cQAz9FTQfUJaVGqkVIDWVIkVqq0ibh74OYGCkuZDBrCBfX89l', b'uWzzlBfGPtjn2B5DPuIi4dIDYDIrqceC9YjD9zQd6x4UH7+YATS9aY1VHMm1XToOFngzuiQl0/Pp', b'9JAqLjQrcz2pJ4VjUptJY8FOLEnLvDV6g84sABTLFSRXLgv2k0tRWRGCuRJyCfjZI7WRxiZI1UDB', b'Mg+N7yEgi64rNXIpoY31aBpkwrOKCfs3/hgpQkh5rI+AMh84Ilj9RE5I8uj/76L9ugxUX2f5kp2/', b'sl2GP0imMrYBexAKUJlLaNFlWNH13kAzuKMyiEY5qxG8M5qHSm5ph3R/kQXDni5i47pHHfE9FlXu', b'4Q8lo0Ht1CDlxaX8bdeeMuppbpMQ89z4BXDd30yadzTDokTHCezpAvmO9/w53kFcDT5O1J32/ttk', b'EF4stGL2/txuBRA9Hwa5/JCi0wpCNzvF7EPF7JOKZc5vOklvrHgnPrefNQFA63sFi6J2CF1YGNDc', b'ximtA/LjOsx+RZNqEhKFjmX1omkgVOS+uoL9cV+zPE5guwLiR17Rb+EgQFENtHyS+OK6vIR12exf', b'buGyhzXqdaUo2Gb/hkZM6ltQ3H4+5T9QSwMEFAAAAAgAxIhhTzzhpYXAAAAAFgIAAAsAAABfcmVs', b'cy8ucmVsc62ST4vCQAzFv0qZ+xpXwcNiPXnpbVn8AnEm/UM7kyETsX57h71st1RQ8Bhe8t6PR/Y/', b'NKB2HFLbxVSMfgipNK1q/AJItiWPacWRQlZqFo+aR2kgou2xIdis1zuQqYc57KeeReVKI5X7NMUJ', b'pSEtzTjAlaU/M/erbJuFW6RnQrmuO0tHthdPQReyZxumgGWYzR+MY/stnE8tC72G87gD8KToUPHX', b'9SPmABLtKD0k2i4QYYzv7odGpeDIzZHg3xsc7lBLAwQUAAAACADEiGFPsbVp6TIBAAApAgAADwAA', b'AHhsL3dvcmtib29rLnhtbI2Q3U7DMAyFX6XKA9BugklMKzdMwCQEiKHdp627WkviynE32NOTpCqM', b'O64c/+Q79lmdiA8V0SH7tMb5JZeqE+mXee7rDqz2V9SDC72W2GoJKe9zalusYU31YMFJPi+KRc5g', b'tCA532Hv1Uj7D8v3DLrxHYBYM6KsRqfuVtNmb5zllxkJ1FEpVmNlh3DyvwMxzXSYOMKHrkpVqEwP', b'Qg9oBHitBR6Zhh7dvlQzlbXIXrZRPU1adGjxDE3KfEenJ2I8kxNttjWTMelXbKRPQcH/VHbAgvWf', b'QdHVe7SlVIsiAI/osUKD8lWq9Dag4hn5xR3JiilmTlsoVdJKKiFumlFRwi0XGF5iaPCmmY3IidNA', b'iw6alwDysREWrIOlMSTS/PpmdhuMGIy5D7VX90x6VIiUydW7b1BLAwQUAAAACADEiGFPoS02da8A', b'AAD7AQAAGgAAAHhsL19yZWxzL3dvcmtib29rLnhtbC5yZWxzrZHPCoMwDIdfpfQBFnWww1BPu3gd', b'e4Gi8Q+2tjQZ07df6Q46cLCDl4aQ8Ps+0vyOWvFgJ+oHR2I2eqJC9szuCkB1j0bRyTqcwqS13igO', b're/AqXpUHUKWJBfw2wxZ5ttMUTWF9FWTSvFQvkMuJMwaXtaP1CMyQSzpKQDCyuLwH7xt26HGm62f', b'BifesVgBUsC+UbYaES8a6WiFT+pP/nnlc6AgxPfwQ8TUKAFff12+AVBLAwQUAAAACADEiGFP9ou5', b'IBUBAADXAwAAEwAAAFtDb250ZW50X1R5cGVzXS54bWytU8tOwzAQ/JUoV5S4cOCAml4oV+iBHzD2', b'prHql7zbkv49G6dUogqoqLnYXs/uzNhrL9+PEbDonfXYlB1RfBICVQdOYh0ieEbakJwkDtNWRKl2', b'cgviYbF4FCp4Ak8VDRzlarmGVu4tFc/j/kDdlDJGa5QkE7w4eH1BWp0I6wQ252BnIt5xQlm89MyC', b'vNeUjGJZiCskLitzzIVvB0jJaPiXudC2RoEOau+4pMaYQGrsAMjZGulo4WR1IxO9SseMordiROo5', b'pYk7AlNaGRjH+9sUvzuhQoIqJkYTmYkDsqcNoyiGxFkPCUPbNOir1Jl6VvGfzf0MaZfXU3d+BlHk', b'6caL//uVDXPtpPG/OfkIYXc2IPJ/Xn0BUEsBAhQAFAAAAAgAxIhhTwdBTWKBAAAAsQAAABAAAAAA', b'AAAAAAAAAIABAAAAAGRvY1Byb3BzL2FwcC54bWxQSwECFAAUAAAACADEiGFPzv2fo+oAAADLAQAA', b'EQAAAAAAAAAAAAAAgAGvAAAAZG9jUHJvcHMvY29yZS54bWxQSwECFAAUAAAACADEiGFPmVycIxAG', b'AACcJwAAEwAAAAAAAAAAAAAAgAHIAQAAeGwvdGhlbWUvdGhlbWUxLnhtbFBLAQIUABQAAAAIAMSI', b'YU/mba7xrAMAALkQAAAYAAAAAAAAAAAAAAC2gQkIAAB4bC93b3Jrc2hlZXRzL3NoZWV0MS54bWxQ', b'SwECFAAUAAAACADEiGFPo7GGvs8BAACJBAAADQAAAAAAAAAAAAAAgAHrCwAAeGwvc3R5bGVzLnht', b'bFBLAQIUABQAAAAIAMSIYU884aWFwAAAABYCAAALAAAAAAAAAAAAAACAAeUNAABfcmVscy8ucmVs', b'c1BLAQIUABQAAAAIAMSIYU+xtWnpMgEAACkCAAAPAAAAAAAAAAAAAACAAc4OAAB4bC93b3JrYm9v', b'ay54bWxQSwECFAAUAAAACADEiGFPoS02da8AAAD7AQAAGgAAAAAAAAAAAAAAgAEtEAAAeGwvX3Jl', b'bHMvd29ya2Jvb2sueG1sLnJlbHNQSwECFAAUAAAACADEiGFP9ou5IBUBAADXAwAAEwAAAAAAAAAA', b'AAAAgAEUEQAAW0NvbnRlbnRfVHlwZXNdLnhtbFBLBQYAAAAACQAJAD4CAABaEgAAAAA=', b'', b'--===============7455730736379981970==--']\n",
      "8348\n",
      "b'ZERO\\xe6\\x95\\x99\\xe7\\xa8\\x8b' utf-8 ********************\n",
      "From:ZERO教程\n",
      "b'jiuguai\\xe4\\xbd\\xa0\\xe5\\xa5\\xbd' utf-8 ********************\n",
      "To:jiuguai你好\n",
      "b'Python SMTP \\xe9\\x82\\xae\\xe4\\xbb\\xb6\\xe6\\xb5\\x8b\\xe8\\xaf\\x95' utf-8 ********************\n",
      "Subject:Python SMTP 邮件测试\n",
      "Apple123.xlsx None ********************\n",
      "文件名 Apple123.xlsx\n",
      "Apple123.xlsx download\n",
      "------------------------------\n"
     ]
    },
    {
     "name": "stdout",
     "output_type": "stream",
     "text": [
      "b'+OK'\n",
      "[b'Date: Sat, 2 Nov 2019 16:54:13 +0800', b'X-QQ-mid: esmtp3t1572684852tceyu89lx', b'Received: from [192.168.0.100] (unknown [175.10.95.63])', b'\\tby esmtp4.qq.com (ESMTP) with SMTP id 0', b'\\tfor <2437253053@qq.com>; Sat, 02 Nov 2019 16:54:11 +0800 (CST)', b'X-QQ-SSF: A001000000000010G3120000002000J', b'X-QQ-FEAT: x/3tCoGad+b3J71CeACfdeeMfDiB2uQQib2fBf14HYPlsViz618+DsOhHPqhL', b'\\tgncOt1G+UnXPaUAbFyKWa1s+MWI3TjYRcXx27h2IT6n9iyEFjb406t1ydWH2uGHiYFfm6aO', b'\\txm3mzRc8CTZIs0GTi6OkRFCpNdr/eK902UHJO6Dvjok5rIaVYLqjWwuTcuLqAR9zVvLGj22', b'\\tWT/3LNkPeASk90ZErVpX/j2BrvtfLT1v9oSVMkPOVAs9g/gb5b3Pvlk+O7R7Q9ojmZZcXXW', b'\\tJWVYmGs25ZIf7e', b'X-QQ-CSender: 2437253053@qq.com', b'Sender: 2437253053@qq.com', b'Content-Type: multipart/mixed; boundary=\"===============8928907342863906369==\"', b'MIME-Version: 1.0', b'From: =?utf-8?b?WkVST+aVmeeoiw==?=', b'To: =?utf-8?b?aml1Z3VhaeS9oOWlvQ==?=', b'Subject: =?utf-8?b?UHl0aG9uIFNNVFAg6YKu5Lu25rWL6K+V?=', b'', b'--===============8928907342863906369==', b'Content-Type: application/octet-stream', b'MIME-Version: 1.0', b'Content-Transfer-Encoding: base64', b'Content-Disposition: attachment; filename=\"Apple123.xlsx\"', b'', b'UEsDBBQAAAAIAMSIYU8HQU1igQAAALEAAAAQAAAAZG9jUHJvcHMvYXBwLnhtbE2OPQsCMRBE/8px', b'vbdBwUJiQNBSsLIPexsvkGRDskJ+vjnBj24ebxhG3wpnKuKpDi2GVI/jIpIPABUXirZOXaduHJdo', b'pWN5ADvnkc6Mz0hJYKvUHqgJpZnmTf4Ojkafcg4erXhO5uqxcGUnw6UhBQ3/cm3eqdQ17yb1lh/W', b'8DtpXlBLAwQUAAAACADEiGFPzv2fo+oAAADLAQAAEQAAAGRvY1Byb3BzL2NvcmUueG1spZHBSgMx', b'EIZfpeS+O0kLLYY0F8WTgmBB8RaSaRvc7IZkZLdvb3Ztt4rePGb+b76ZIcpGabuET6mLmMhjXgyh', b'abO0ccuORFECZHvEYHJdiLaE+y4FQ+WZDhCNfTcHhCXnawhIxhkyMAqrOBvZWensrIwfqZkEzgI2', b'GLClDKIWcGUJU8h/NkzJTA7Zz1Tf93W/mriykYDXx4fnafnKt5lMa5Fp5ay0CQ11SY8XxdPQKPhW', b'VOfZXwV0izJB0inill2Sl9Xt3e6e6SUXN5UQFRc7sZF8LfnmbXT96L8KQ+f83v/DeBFoBb/+TX8C', b'UEsDBBQAAAAIAMSIYU+ZXJwjEAYAAJwnAAATAAAAeGwvdGhlbWUvdGhlbWUxLnhtbO1aW3PaOBR+', b'76/QeGf2bQvGNoG2tBNzaXbbtJmE7U4fhRFYjWx5ZJGEf79HNhDLlg3tkk26mzwELOn7zkVH5+g4', b'efPuLmLohoiU8nhg2S/b1ru3L97gVzIkEUEwGaev8MAKpUxetVppAMM4fckTEsPcgosIS3gUy9Zc', b'4FsaLyPW6rTb3VaEaWyhGEdkYH1eLGhA0FRRWm9fILTlHzP4FctUjWWjARNXQSa5iLTy+WzF/Nre', b'PmXP6TodMoFuMBtYIH/Ob6fkTlqI4VTCxMBqZz9Wa8fR0kiAgsl9lAW6Sfaj0xUIMg07Op1YznZ8', b'9sTtn4zK2nQ0bRrg4/F4OLbL0otwHATgUbuewp30bL+kQQm0o2nQZNj22q6RpqqNU0/T933f65to', b'nAqNW0/Ta3fd046Jxq3QeA2+8U+Hw66JxqvQdOtpJif9rmuk6RZoQkbj63oSFbXlQNMgAFhwdtbM', b'0gOWXin6dZQa2R273UFc8FjuOYkR/sbFBNZp0hmWNEZynZAFDgA3xNFMUHyvQbaK4MKS0lyQ1s8p', b'tVAaCJrIgfVHgiHF3K/99Ze7yaQzep19Os5rlH9pqwGn7bubz5P8c+jkn6eT101CznC8LAnx+yNb', b'YYcnbjsTcjocZ0J8z/b2kaUlMs/v+QrrTjxnH1aWsF3Pz+SejHIju932WH32T0duI9epwLMi15RG', b'JEWfyC265BE4tUkNMhM/CJ2GmGpQHAKkCTGWoYb4tMasEeATfbe+CMjfjYj3q2+aPVehWEnahPgQ', b'RhrinHPmc9Fs+welRtH2Vbzco5dYFQGXGN80qjUsxdZ4lcDxrZw8HRMSzZQLBkGGlyQmEqk5fk1I', b'E/4rpdr+nNNA8JQvJPpKkY9psyOndCbN6DMawUavG3WHaNI8ev4F+Zw1ChyRGx0CZxuzRiGEabvw', b'Hq8kjpqtwhErQj5iGTYacrUWgbZxqYRgWhLG0XhO0rQR/FmsNZM+YMjszZF1ztaRDhGSXjdCPmLO', b'i5ARvx6GOEqa7aJxWAT9nl7DScHogstm/bh+htUzbCyO90fUF0rkDyanP+kyNAejmlkJvYRWap+q', b'hzQ+qB4yCgXxuR4+5Xp4CjeWxrxQroJ7Af/R2jfCq/iCwDl/Ln3Ppe+59D2h0rc3I31nwdOLW95G', b'blvE+64x2tc0LihjV3LNyMdUr5Mp2DmfwOz9aD6e8e362SSEr5pZLSMWkEuBs0EkuPyLyvAqxAno', b'ZFslCctU02U3ihKeQhtu6VP1SpXX5a+5KLg8W+Tpr6F0PizP+Txf57TNCzNDt3JL6raUvrUmOEr0', b'scxwTh7LDDtnPJIdtnegHTX79l125COlMFOXQ7gaQr4Dbbqd3Do4npiRuQrTUpBvw/npxXga4jnZ', b'BLl9mFdt59jR0fvnwVGwo+88lh3HiPKiIe6hhpjPw0OHeXtfmGeVxlA0FG1srCQsRrdguNfxLBTg', b'ZGAtoAeDr1EC8lJVYDFbxgMrkKJ8TIxF6HDnl1xf49GS49umZbVuryl3GW0iUjnCaZgTZ6vK3mWx', b'wVUdz1Vb8rC+aj20FU7P/lmtyJ8MEU4WCxJIY5QXpkqi8xlTvucrScRVOL9FM7YSlxi84+bHcU5T', b'uBJ2tg8CMrm7Oal6ZTFnpvLfLQwJLFuIWRLiTV3t1eebnK56Inb6l3fBYPL9cMlHD+U751/0XUOu', b'fvbd4/pukztITJx5xREBdEUCI5UcBhYXMuRQ7pKQBhMBzZTJRPACgmSmHICY+gu98gy5KRXOrT45', b'f0Usg4ZOXtIlEhSKsAwFIRdy4+/vk2p3jNf6LIFthFQyZNUXykOJwT0zckPYVCXzrtomC4Xb4lTN', b'uxq+JmBLw3punS0n/9te1D20Fz1G86OZ4B6zh3OberjCRaz/WNYe+TLfOXDbOt4DXuYTLEOkfsF9', b'ioqAEativrqvT/klnDu0e/GBIJv81tuk9t3gDHzUq1qlZCsRP0sHfB+SBmOMW/Q0X48UYq2msa3G', b'2jEMeYBY8wyhZjjfh0WaGjPVi6w5jQpvQdVA5T/b1A1o9g00HJEFXjGZtjaj5E4KPNz+7w2wwsSO', b'4e2LvwFQSwMEFAAAAAgAxIhhT+ZtrvGsAwAAuRAAABgAAAB4bC93b3Jrc2hlZXRzL3NoZWV0MS54', b'bWzNmElv2zgUx8/zLQQFyLHiLjJegGaxNIcCQYt25qrYdCxUiysx9QzQD99HKpFjg4RnfEjrgynp', b'if+3/ChS1HTXdl/7jdYm+qeumn4Wb4zZXiVJv9zouujftVvdgGXddnVh4LR7TPptp4uV61RXCUFI', b'JHVRNvF86q7dd/Np+2SqstH3XdQ/1XXR/Xutq3Y3i3H8cuFj+bgx7kIyn26LR/1Jm89b6ACnyaiz', b'Kmvd9GXbRJ1ez+L3+CqXroe740upd/2r48gm89C2X+3Jn6tZjGxMutJLYyUKaL7rG11VVgki+fYs', b'Gu+d2p6vj1/kFy5/CO+h6PVNW/1VrsxmFkMwK70unirzsd3l+jknvg/xtjDFfNq1u6izyc6nS3vg', b'vLvk4faysaX6ZDqwluDPzC8vKE+ZmFxeEEwpdS1TfDJNDMRm70mWz0rXJ5WExP9J6eaUEsGSIqcg', b'VOpajlOf0u0pJaxUql7HpJQituWYUZ/i3f9WFBhZRSqplD7FxWkCREinJCTzKWQn68UVdvVCUHPX', b'Ym5bihDituUSeUnk5yoTQgkaWiqOlBMYg+NAJONAJH4ndjK46rfFUs9ieNp73X3X8fwPcASeCUMK', b'IhCUwX/qG5THqvZxGAZZwN+8vN+0jY4wju67Nvrw/u/IwsPUFYxSxSY/OCbZ9Q+W2Xwls3lSKISl', b'DWNcoQn0gMiEeC7AS4H4BBOhlOuFvKPrNhTU5QWDyc2xIlIp78gMproIWrKgJfdZDsjRkRw9jxyM', b'DM4F4pJ5yR2r7skF/HnJEYmZKxumw8CUqXwTkqEgXR8u3Iwg5fGzMZAMpr4IWrKgJfdZDkiykSQ7', b'lyTjlMAPKx/JY9U9yYA/P0lBhJtQASkZQGH8FiRDQQ4rmCOpIH23aiDpXYfugiVYBC1Z0JL7LAdE', b'+UiUn0cUSscJ40xJ4iN6rLonGvDnn1VTStRbEAwFZZVhnR7WLexf74OpLoKWLGjJfZYDcmIkJ84j', b'h7BknBBGEfWRO1bdkwv4+7XrYSgoux4K5iZ0GKXet6K7YKqLoCULWnKf5YBcOpJLzyFHsSKSEZoK', b'haSP3LHqnlzA3++1HoaChD6UyiEk2Gp4SQZTXwQtWdCS+ywHJOVIUp5HUvIUipLCv/fN5lh1TzLg', b'7/daD0NBut2Te7MhFMHbv49kMPVF0JIFLbnPMpBMXm157Zb+Q9E9lk0fPbTGtLXb0azb1mhQQe9g', b'Ut7oYjWeVHpt7GEKx92wkR5OTLt9+U6QjF8r5j8BUEsDBBQAAAAIAMSIYU+jsYa+zwEAAIkEAAAN', b'AAAAeGwvc3R5bGVzLnhtbJ1U226cQAz9FTQfUJaVGqkVIDWVIkVqq0ibh74OYGCkuZDBrCBfX89l', b'uWzzlBfGPtjn2B5DPuIi4dIDYDIrqceC9YjD9zQd6x4UH7+YATS9aY1VHMm1XToOFngzuiQl0/Pp', b'9JAqLjQrcz2pJ4VjUptJY8FOLEnLvDV6g84sABTLFSRXLgv2k0tRWRGCuRJyCfjZI7WRxiZI1UDB', b'Mg+N7yEgi64rNXIpoY31aBpkwrOKCfs3/hgpQkh5rI+AMh84Ilj9RE5I8uj/76L9ugxUX2f5kp2/', b'sl2GP0imMrYBexAKUJlLaNFlWNH13kAzuKMyiEY5qxG8M5qHSm5ph3R/kQXDni5i47pHHfE9FlXu', b'4Q8lo0Ht1CDlxaX8bdeeMuppbpMQ89z4BXDd30yadzTDokTHCezpAvmO9/w53kFcDT5O1J32/ttk', b'EF4stGL2/txuBRA9Hwa5/JCi0wpCNzvF7EPF7JOKZc5vOklvrHgnPrefNQFA63sFi6J2CF1YGNDc', b'ximtA/LjOsx+RZNqEhKFjmX1omkgVOS+uoL9cV+zPE5guwLiR17Rb+EgQFENtHyS+OK6vIR12exf', b'buGyhzXqdaUo2Gb/hkZM6ltQ3H4+5T9QSwMEFAAAAAgAxIhhTzzhpYXAAAAAFgIAAAsAAABfcmVs', b'cy8ucmVsc62ST4vCQAzFv0qZ+xpXwcNiPXnpbVn8AnEm/UM7kyETsX57h71st1RQ8Bhe8t6PR/Y/', b'NKB2HFLbxVSMfgipNK1q/AJItiWPacWRQlZqFo+aR2kgou2xIdis1zuQqYc57KeeReVKI5X7NMUJ', b'pSEtzTjAlaU/M/erbJuFW6RnQrmuO0tHthdPQReyZxumgGWYzR+MY/stnE8tC72G87gD8KToUPHX', b'9SPmABLtKD0k2i4QYYzv7odGpeDIzZHg3xsc7lBLAwQUAAAACADEiGFPsbVp6TIBAAApAgAADwAA', b'AHhsL3dvcmtib29rLnhtbI2Q3U7DMAyFX6XKA9BugklMKzdMwCQEiKHdp627WkviynE32NOTpCqM', b'O64c/+Q79lmdiA8V0SH7tMb5JZeqE+mXee7rDqz2V9SDC72W2GoJKe9zalusYU31YMFJPi+KRc5g', b'tCA532Hv1Uj7D8v3DLrxHYBYM6KsRqfuVtNmb5zllxkJ1FEpVmNlh3DyvwMxzXSYOMKHrkpVqEwP', b'Qg9oBHitBR6Zhh7dvlQzlbXIXrZRPU1adGjxDE3KfEenJ2I8kxNttjWTMelXbKRPQcH/VHbAgvWf', b'QdHVe7SlVIsiAI/osUKD8lWq9Dag4hn5xR3JiilmTlsoVdJKKiFumlFRwi0XGF5iaPCmmY3IidNA', b'iw6alwDysREWrIOlMSTS/PpmdhuMGIy5D7VX90x6VIiUydW7b1BLAwQUAAAACADEiGFPoS02da8A', b'AAD7AQAAGgAAAHhsL19yZWxzL3dvcmtib29rLnhtbC5yZWxzrZHPCoMwDIdfpfQBFnWww1BPu3gd', b'e4Gi8Q+2tjQZ07df6Q46cLCDl4aQ8Ps+0vyOWvFgJ+oHR2I2eqJC9szuCkB1j0bRyTqcwqS13igO', b're/AqXpUHUKWJBfw2wxZ5ttMUTWF9FWTSvFQvkMuJMwaXtaP1CMyQSzpKQDCyuLwH7xt26HGm62f', b'BifesVgBUsC+UbYaES8a6WiFT+pP/nnlc6AgxPfwQ8TUKAFff12+AVBLAwQUAAAACADEiGFP9ou5', b'IBUBAADXAwAAEwAAAFtDb250ZW50X1R5cGVzXS54bWytU8tOwzAQ/JUoV5S4cOCAml4oV+iBHzD2', b'prHql7zbkv49G6dUogqoqLnYXs/uzNhrL9+PEbDonfXYlB1RfBICVQdOYh0ieEbakJwkDtNWRKl2', b'cgviYbF4FCp4Ak8VDRzlarmGVu4tFc/j/kDdlDJGa5QkE7w4eH1BWp0I6wQ252BnIt5xQlm89MyC', b'vNeUjGJZiCskLitzzIVvB0jJaPiXudC2RoEOau+4pMaYQGrsAMjZGulo4WR1IxO9SseMordiROo5', b'pYk7AlNaGRjH+9sUvzuhQoIqJkYTmYkDsqcNoyiGxFkPCUPbNOir1Jl6VvGfzf0MaZfXU3d+BlHk', b'6caL//uVDXPtpPG/OfkIYXc2IPJ/Xn0BUEsBAhQAFAAAAAgAxIhhTwdBTWKBAAAAsQAAABAAAAAA', b'AAAAAAAAAIABAAAAAGRvY1Byb3BzL2FwcC54bWxQSwECFAAUAAAACADEiGFPzv2fo+oAAADLAQAA', b'EQAAAAAAAAAAAAAAgAGvAAAAZG9jUHJvcHMvY29yZS54bWxQSwECFAAUAAAACADEiGFPmVycIxAG', b'AACcJwAAEwAAAAAAAAAAAAAAgAHIAQAAeGwvdGhlbWUvdGhlbWUxLnhtbFBLAQIUABQAAAAIAMSI', b'YU/mba7xrAMAALkQAAAYAAAAAAAAAAAAAAC2gQkIAAB4bC93b3Jrc2hlZXRzL3NoZWV0MS54bWxQ', b'SwECFAAUAAAACADEiGFPo7GGvs8BAACJBAAADQAAAAAAAAAAAAAAgAHrCwAAeGwvc3R5bGVzLnht', b'bFBLAQIUABQAAAAIAMSIYU884aWFwAAAABYCAAALAAAAAAAAAAAAAACAAeUNAABfcmVscy8ucmVs', b'c1BLAQIUABQAAAAIAMSIYU+xtWnpMgEAACkCAAAPAAAAAAAAAAAAAACAAc4OAAB4bC93b3JrYm9v', b'ay54bWxQSwECFAAUAAAACADEiGFPoS02da8AAAD7AQAAGgAAAAAAAAAAAAAAgAEtEAAAeGwvX3Jl', b'bHMvd29ya2Jvb2sueG1sLnJlbHNQSwECFAAUAAAACADEiGFP9ou5IBUBAADXAwAAEwAAAAAAAAAA', b'AAAAgAEUEQAAW0NvbnRlbnRfVHlwZXNdLnhtbFBLBQYAAAAACQAJAD4CAABaEgAAAAA=', b'', b'--===============8928907342863906369==', b'Content-Type: text/plain; charset=\"utf-8\"', b'MIME-Version: 1.0', b'Content-Transfer-Encoding: base64', b'', b'5L2g5aW977yM6L+Z5piv5LiA5bCB5rWL6K+V6YKu5Lu2', b'', b'--===============8928907342863906369==--']\n",
      "8558\n",
      "b'ZERO\\xe6\\x95\\x99\\xe7\\xa8\\x8b' utf-8 ********************\n",
      "From:ZERO教程\n",
      "b'jiuguai\\xe4\\xbd\\xa0\\xe5\\xa5\\xbd' utf-8 ********************\n",
      "To:jiuguai你好\n",
      "b'Python SMTP \\xe9\\x82\\xae\\xe4\\xbb\\xb6\\xe6\\xb5\\x8b\\xe8\\xaf\\x95' utf-8 ********************\n",
      "Subject:Python SMTP 邮件测试\n",
      "Apple123.xlsx None ********************\n",
      "文件名 Apple123.xlsx\n",
      "Apple123.xlsx download\n",
      "text -----  你好，这是一封测试邮件\n",
      "------------------------------\n"
     ]
    }
   ],
   "source": [
    "import poplib\n",
    "#解析邮件\n",
    "from email.parser import Parser\n",
    "from email.header import decode_header\n",
    "from email.utils import parseaddr\n",
    "\n",
    "#解析消息头中的字符串\n",
    "#没有这个函数，print出来的会使乱码的头部信息。如'=?gb18030?B?yrXWpL3hufsueGxz?='这种\n",
    "#通过decode，将其变为中文\n",
    "def decode_str(s):\n",
    "    value, charset = decode_header(s)[0]\n",
    "    print(value,charset,\"*\"*20)\n",
    "    if charset:\n",
    "        value = value.decode(charset)\n",
    "    return value\n",
    "\n",
    "#解码邮件信息分为两个步骤，第一个是取出头部信息\n",
    "#首先取头部信息\n",
    "#主要取出['From','To','Subject']\n",
    "'''\n",
    "From: \"=?gb18030?B?anVzdHpjYw==?=\" <justonezcc@sina.com>\n",
    "To: \"=?gb18030?B?ztLX1Ly6tcTTys/k?=\" <392361639@qq.com>\n",
    "Subject: =?gb18030?B?dGV4dMTjusM=?=\n",
    "'''\n",
    "#如上述样式，均需要解码\n",
    "def get_header(msg):\n",
    "    for header in ['From', 'To', 'Subject']:\n",
    "        value = msg.get(header, '')\n",
    "        if value:\n",
    "            #文章的标题有专门的处理方法\n",
    "            if header == 'Subject':\n",
    "                value = decode_str(value)\n",
    "            elif header in ['From','To']:\n",
    "            #地址也有专门的处理方法\n",
    "                hdr, addr = parseaddr(value)\n",
    "                name = decode_str(addr)\n",
    "                #value = name + ' < ' + addr + ' > '\n",
    "                value=name\n",
    "        print(header + ':' + value)\n",
    "#头部信息已取出\n",
    "\n",
    "\n",
    "#获取邮件的字符编码，首先在message中寻找编码，如果没有，就在header的Content-Type中寻找\n",
    "def guess_charset(msg):\n",
    "    charset = msg.get_charset()\n",
    "    if charset is None:\n",
    "        content_type = msg.get('Content-Type', '').lower()\n",
    "        pos = content_type.find('charset=')\n",
    "        if pos >= 0:\n",
    "            charset = content_type[pos+8:].strip()\n",
    "    return charset\n",
    "\n",
    "\n",
    "#邮件正文部分\n",
    "#取附件\n",
    "#邮件的正文部分在生成器中，msg.walk()\n",
    "#如果存在附件，则可以通过.get_filename()的方式获取文件名称\n",
    "\n",
    "def get_file(msg):\n",
    "    for part in msg.walk():\n",
    "        filename=part.get_filename()\n",
    "        if filename!=None:#如果存在附件\n",
    "            filename = decode_str(filename)#获取的文件是乱码名称，通过一开始定义的函数解码\n",
    "            print(\"文件名 %s\" %filename)\n",
    "            \n",
    "            data = part.get_payload(decode = True)#取出文件正文内容\n",
    "            #此处可以自己定义文件保存位置\n",
    "            path=filename\n",
    "            f = open(path, 'wb')\n",
    "            f.write(data)\n",
    "            f.close()\n",
    "            print(filename,'download')\n",
    "\n",
    "def get_content(msg):\n",
    "    for part in msg.walk():\n",
    "        content_type = part.get_content_type()\n",
    "        charset = guess_charset(part)\n",
    "        #如果有附件，则直接跳过\n",
    "        if part.get_filename()!=None:\n",
    "            continue\n",
    "        email_content_type = ''\n",
    "        content = ''\n",
    "        if content_type == 'text/plain':\n",
    "            email_content_type = 'text'\n",
    "        elif content_type == 'text/html':\n",
    "            print('html 格式 跳过')\n",
    "            continue #不要html格式的邮件\n",
    "            email_content_type = 'html'\n",
    "        if charset:\n",
    "            try:\n",
    "                content = part.get_payload(decode=True).decode(charset)\n",
    "            except AttributeError:\n",
    "                print('type error')\n",
    "            except LookupError:\n",
    "                print(\"unknown encoding: utf-8\")\n",
    "        if email_content_type =='':\n",
    "            continue\n",
    "            #如果内容为空，也跳过\n",
    "        print(email_content_type + ' -----  ' + content)\n",
    "\n",
    "#get_file(msg)\n",
    "if __name__ == '__main__':\n",
    "    print('start')\n",
    "    mail_host=\"pop.qq.com\"  #设置服务器\n",
    "    email='wind2zero@qq.com'\n",
    "    password='vclmmuvcnwntdjef'\n",
    "    \n",
    "\n",
    "    server=poplib.POP3_SSL(mail_host)\n",
    "\n",
    "    server.user(email)\n",
    "    server.pass_(password)\n",
    "    #登录的过程\n",
    "\n",
    "    resp, mails, octets = server.list()\n",
    "    print(resp)\n",
    "    print(mails)\n",
    "    print(octets )\n",
    "    print('-'*30)\n",
    "    index = len(mails)#邮件的总数\n",
    "    #此处的循环是取最近的几封邮件\n",
    "    print(index)\n",
    "\n",
    "\n",
    "    for i in range(1,index+1):\n",
    "        resp, lines, octets = server.retr(i)#取邮件\n",
    "        print(resp)\n",
    "        print(lines)\n",
    "        print(octets)\n",
    "        msg_content = b'\\r\\n'.join(lines).decode('utf-8','ignore')\n",
    "        msg = Parser().parsestr(msg_content)\n",
    "        #server.dele(index) 删除邮件\n",
    "        get_header(msg)\n",
    "        get_file(msg)\n",
    "        get_content(msg)\n",
    "        print('-'*30)\n",
    "    server.quit()"
   ]
  },
  {
   "cell_type": "code",
   "execution_count": 60,
   "metadata": {},
   "outputs": [
    {
     "data": {
      "text/plain": [
       "[('Date', 'Sat, 2 Nov 2019 16:54:13 +0800'),\n",
       " ('X-QQ-mid', 'esmtp3t1572684852tceyu89lx'),\n",
       " ('Received',\n",
       "  'from [192.168.0.100] (unknown [175.10.95.63])\\r\\n\\tby esmtp4.qq.com (ESMTP) with SMTP id 0\\r\\n\\tfor <2437253053@qq.com>; Sat, 02 Nov 2019 16:54:11 +0800 (CST)'),\n",
       " ('X-QQ-SSF', 'A001000000000010G3120000002000J'),\n",
       " ('X-QQ-FEAT',\n",
       "  'x/3tCoGad+b3J71CeACfdeeMfDiB2uQQib2fBf14HYPlsViz618+DsOhHPqhL\\r\\n\\tgncOt1G+UnXPaUAbFyKWa1s+MWI3TjYRcXx27h2IT6n9iyEFjb406t1ydWH2uGHiYFfm6aO\\r\\n\\txm3mzRc8CTZIs0GTi6OkRFCpNdr/eK902UHJO6Dvjok5rIaVYLqjWwuTcuLqAR9zVvLGj22\\r\\n\\tWT/3LNkPeASk90ZErVpX/j2BrvtfLT1v9oSVMkPOVAs9g/gb5b3Pvlk+O7R7Q9ojmZZcXXW\\r\\n\\tJWVYmGs25ZIf7e'),\n",
       " ('X-QQ-CSender', '2437253053@qq.com'),\n",
       " ('Sender', '2437253053@qq.com'),\n",
       " ('Content-Type',\n",
       "  'multipart/mixed; boundary=\"===============8928907342863906369==\"'),\n",
       " ('MIME-Version', '1.0'),\n",
       " ('From', '=?utf-8?b?WkVST+aVmeeoiw==?='),\n",
       " ('To', '=?utf-8?b?aml1Z3VhaeS9oOWlvQ==?='),\n",
       " ('Subject', '=?utf-8?b?UHl0aG9uIFNNVFAg6YKu5Lu25rWL6K+V?=')]"
      ]
     },
     "execution_count": 60,
     "metadata": {},
     "output_type": "execute_result"
    }
   ],
   "source": [
    "msg.items()"
   ]
  },
  {
   "cell_type": "code",
   "execution_count": 61,
   "metadata": {},
   "outputs": [
    {
     "data": {
      "text/plain": [
       "'2437253053@qq.com'"
      ]
     },
     "execution_count": 61,
     "metadata": {},
     "output_type": "execute_result"
    }
   ],
   "source": [
    "msg.get('sender')"
   ]
  },
  {
   "cell_type": "code",
   "execution_count": 62,
   "metadata": {},
   "outputs": [
    {
     "data": {
      "text/plain": [
       "'from [192.168.0.100] (unknown [175.10.95.63])\\r\\n\\tby esmtp4.qq.com (ESMTP) with SMTP id 0\\r\\n\\tfor <2437253053@qq.com>; Sat, 02 Nov 2019 16:54:11 +0800 (CST)'"
      ]
     },
     "execution_count": 62,
     "metadata": {},
     "output_type": "execute_result"
    }
   ],
   "source": [
    "msg.get('received')"
   ]
  },
  {
   "cell_type": "code",
   "execution_count": 63,
   "metadata": {},
   "outputs": [
    {
     "data": {
      "text/plain": [
       "'=?utf-8?b?WkVST+aVmeeoiw==?='"
      ]
     },
     "execution_count": 63,
     "metadata": {},
     "output_type": "execute_result"
    }
   ],
   "source": [
    "msg.get('from')"
   ]
  },
  {
   "cell_type": "code",
   "execution_count": 58,
   "metadata": {
    "collapsed": true
   },
   "outputs": [
    {
     "data": {
      "text/plain": [
       "['__bytes__',\n",
       " '__class__',\n",
       " '__contains__',\n",
       " '__delattr__',\n",
       " '__delitem__',\n",
       " '__dict__',\n",
       " '__dir__',\n",
       " '__doc__',\n",
       " '__eq__',\n",
       " '__format__',\n",
       " '__ge__',\n",
       " '__getattribute__',\n",
       " '__getitem__',\n",
       " '__gt__',\n",
       " '__hash__',\n",
       " '__init__',\n",
       " '__init_subclass__',\n",
       " '__iter__',\n",
       " '__le__',\n",
       " '__len__',\n",
       " '__lt__',\n",
       " '__module__',\n",
       " '__ne__',\n",
       " '__new__',\n",
       " '__reduce__',\n",
       " '__reduce_ex__',\n",
       " '__repr__',\n",
       " '__setattr__',\n",
       " '__setitem__',\n",
       " '__sizeof__',\n",
       " '__str__',\n",
       " '__subclasshook__',\n",
       " '__weakref__',\n",
       " '_charset',\n",
       " '_default_type',\n",
       " '_get_params_preserve',\n",
       " '_headers',\n",
       " '_payload',\n",
       " '_unixfrom',\n",
       " 'add_header',\n",
       " 'as_bytes',\n",
       " 'as_string',\n",
       " 'attach',\n",
       " 'defects',\n",
       " 'del_param',\n",
       " 'epilogue',\n",
       " 'get',\n",
       " 'get_all',\n",
       " 'get_boundary',\n",
       " 'get_charset',\n",
       " 'get_charsets',\n",
       " 'get_content_charset',\n",
       " 'get_content_disposition',\n",
       " 'get_content_maintype',\n",
       " 'get_content_subtype',\n",
       " 'get_content_type',\n",
       " 'get_default_type',\n",
       " 'get_filename',\n",
       " 'get_param',\n",
       " 'get_params',\n",
       " 'get_payload',\n",
       " 'get_unixfrom',\n",
       " 'is_multipart',\n",
       " 'items',\n",
       " 'keys',\n",
       " 'policy',\n",
       " 'preamble',\n",
       " 'raw_items',\n",
       " 'replace_header',\n",
       " 'set_boundary',\n",
       " 'set_charset',\n",
       " 'set_default_type',\n",
       " 'set_param',\n",
       " 'set_payload',\n",
       " 'set_raw',\n",
       " 'set_type',\n",
       " 'set_unixfrom',\n",
       " 'values',\n",
       " 'walk']"
      ]
     },
     "execution_count": 58,
     "metadata": {},
     "output_type": "execute_result"
    }
   ],
   "source": [
    "dir(msg)"
   ]
  },
  {
   "cell_type": "code",
   "execution_count": 56,
   "metadata": {},
   "outputs": [
    {
     "data": {
      "text/plain": [
       "[b'Date: Sat, 2 Nov 2019 16:54:13 +0800',\n",
       " b'X-QQ-mid: esmtp3t1572684852tceyu89lx',\n",
       " b'Received: from [192.168.0.100] (unknown [175.10.95.63])',\n",
       " b'\\tby esmtp4.qq.com (ESMTP) with SMTP id 0',\n",
       " b'\\tfor <2437253053@qq.com>; Sat, 02 Nov 2019 16:54:11 +0800 (CST)',\n",
       " b'X-QQ-SSF: A001000000000010G3120000002000J',\n",
       " b'X-QQ-FEAT: x/3tCoGad+b3J71CeACfdeeMfDiB2uQQib2fBf14HYPlsViz618+DsOhHPqhL',\n",
       " b'\\tgncOt1G+UnXPaUAbFyKWa1s+MWI3TjYRcXx27h2IT6n9iyEFjb406t1ydWH2uGHiYFfm6aO',\n",
       " b'\\txm3mzRc8CTZIs0GTi6OkRFCpNdr/eK902UHJO6Dvjok5rIaVYLqjWwuTcuLqAR9zVvLGj22',\n",
       " b'\\tWT/3LNkPeASk90ZErVpX/j2BrvtfLT1v9oSVMkPOVAs9g/gb5b3Pvlk+O7R7Q9ojmZZcXXW',\n",
       " b'\\tJWVYmGs25ZIf7e',\n",
       " b'X-QQ-CSender: 2437253053@qq.com',\n",
       " b'Sender: 2437253053@qq.com',\n",
       " b'Content-Type: multipart/mixed; boundary=\"===============8928907342863906369==\"',\n",
       " b'MIME-Version: 1.0',\n",
       " b'From: =?utf-8?b?WkVST+aVmeeoiw==?=',\n",
       " b'To: =?utf-8?b?aml1Z3VhaeS9oOWlvQ==?=',\n",
       " b'Subject: =?utf-8?b?UHl0aG9uIFNNVFAg6YKu5Lu25rWL6K+V?=',\n",
       " b'',\n",
       " b'--===============8928907342863906369==',\n",
       " b'Content-Type: application/octet-stream',\n",
       " b'MIME-Version: 1.0',\n",
       " b'Content-Transfer-Encoding: base64',\n",
       " b'Content-Disposition: attachment; filename=\"Apple123.xlsx\"',\n",
       " b'',\n",
       " b'UEsDBBQAAAAIAMSIYU8HQU1igQAAALEAAAAQAAAAZG9jUHJvcHMvYXBwLnhtbE2OPQsCMRBE/8px',\n",
       " b'vbdBwUJiQNBSsLIPexsvkGRDskJ+vjnBj24ebxhG3wpnKuKpDi2GVI/jIpIPABUXirZOXaduHJdo',\n",
       " b'pWN5ADvnkc6Mz0hJYKvUHqgJpZnmTf4Ojkafcg4erXhO5uqxcGUnw6UhBQ3/cm3eqdQ17yb1lh/W',\n",
       " b'8DtpXlBLAwQUAAAACADEiGFPzv2fo+oAAADLAQAAEQAAAGRvY1Byb3BzL2NvcmUueG1spZHBSgMx',\n",
       " b'EIZfpeS+O0kLLYY0F8WTgmBB8RaSaRvc7IZkZLdvb3Ztt4rePGb+b76ZIcpGabuET6mLmMhjXgyh',\n",
       " b'abO0ccuORFECZHvEYHJdiLaE+y4FQ+WZDhCNfTcHhCXnawhIxhkyMAqrOBvZWensrIwfqZkEzgI2',\n",
       " b'GLClDKIWcGUJU8h/NkzJTA7Zz1Tf93W/mriykYDXx4fnafnKt5lMa5Fp5ay0CQ11SY8XxdPQKPhW',\n",
       " b'VOfZXwV0izJB0inill2Sl9Xt3e6e6SUXN5UQFRc7sZF8LfnmbXT96L8KQ+f83v/DeBFoBb/+TX8C',\n",
       " b'UEsDBBQAAAAIAMSIYU+ZXJwjEAYAAJwnAAATAAAAeGwvdGhlbWUvdGhlbWUxLnhtbO1aW3PaOBR+',\n",
       " b'76/QeGf2bQvGNoG2tBNzaXbbtJmE7U4fhRFYjWx5ZJGEf79HNhDLlg3tkk26mzwELOn7zkVH5+g4',\n",
       " b'efPuLmLohoiU8nhg2S/b1ru3L97gVzIkEUEwGaev8MAKpUxetVppAMM4fckTEsPcgosIS3gUy9Zc',\n",
       " b'4FsaLyPW6rTb3VaEaWyhGEdkYH1eLGhA0FRRWm9fILTlHzP4FctUjWWjARNXQSa5iLTy+WzF/Nre',\n",
       " b'PmXP6TodMoFuMBtYIH/Ob6fkTlqI4VTCxMBqZz9Wa8fR0kiAgsl9lAW6Sfaj0xUIMg07Op1YznZ8',\n",
       " b'9sTtn4zK2nQ0bRrg4/F4OLbL0otwHATgUbuewp30bL+kQQm0o2nQZNj22q6RpqqNU0/T933f65to',\n",
       " b'nAqNW0/Ta3fd046Jxq3QeA2+8U+Hw66JxqvQdOtpJif9rmuk6RZoQkbj63oSFbXlQNMgAFhwdtbM',\n",
       " b'0gOWXin6dZQa2R273UFc8FjuOYkR/sbFBNZp0hmWNEZynZAFDgA3xNFMUHyvQbaK4MKS0lyQ1s8p',\n",
       " b'tVAaCJrIgfVHgiHF3K/99Ze7yaQzep19Os5rlH9pqwGn7bubz5P8c+jkn6eT101CznC8LAnx+yNb',\n",
       " b'YYcnbjsTcjocZ0J8z/b2kaUlMs/v+QrrTjxnH1aWsF3Pz+SejHIju932WH32T0duI9epwLMi15RG',\n",
       " b'JEWfyC265BE4tUkNMhM/CJ2GmGpQHAKkCTGWoYb4tMasEeATfbe+CMjfjYj3q2+aPVehWEnahPgQ',\n",
       " b'RhrinHPmc9Fs+welRtH2Vbzco5dYFQGXGN80qjUsxdZ4lcDxrZw8HRMSzZQLBkGGlyQmEqk5fk1I',\n",
       " b'E/4rpdr+nNNA8JQvJPpKkY9psyOndCbN6DMawUavG3WHaNI8ev4F+Zw1ChyRGx0CZxuzRiGEabvw',\n",
       " b'Hq8kjpqtwhErQj5iGTYacrUWgbZxqYRgWhLG0XhO0rQR/FmsNZM+YMjszZF1ztaRDhGSXjdCPmLO',\n",
       " b'i5ARvx6GOEqa7aJxWAT9nl7DScHogstm/bh+htUzbCyO90fUF0rkDyanP+kyNAejmlkJvYRWap+q',\n",
       " b'hzQ+qB4yCgXxuR4+5Xp4CjeWxrxQroJ7Af/R2jfCq/iCwDl/Ln3Ppe+59D2h0rc3I31nwdOLW95G',\n",
       " b'blvE+64x2tc0LihjV3LNyMdUr5Mp2DmfwOz9aD6e8e362SSEr5pZLSMWkEuBs0EkuPyLyvAqxAno',\n",
       " b'ZFslCctU02U3ihKeQhtu6VP1SpXX5a+5KLg8W+Tpr6F0PizP+Txf57TNCzNDt3JL6raUvrUmOEr0',\n",
       " b'scxwTh7LDDtnPJIdtnegHTX79l125COlMFOXQ7gaQr4Dbbqd3Do4npiRuQrTUpBvw/npxXga4jnZ',\n",
       " b'BLl9mFdt59jR0fvnwVGwo+88lh3HiPKiIe6hhpjPw0OHeXtfmGeVxlA0FG1srCQsRrdguNfxLBTg',\n",
       " b'ZGAtoAeDr1EC8lJVYDFbxgMrkKJ8TIxF6HDnl1xf49GS49umZbVuryl3GW0iUjnCaZgTZ6vK3mWx',\n",
       " b'wVUdz1Vb8rC+aj20FU7P/lmtyJ8MEU4WCxJIY5QXpkqi8xlTvucrScRVOL9FM7YSlxi84+bHcU5T',\n",
       " b'uBJ2tg8CMrm7Oal6ZTFnpvLfLQwJLFuIWRLiTV3t1eebnK56Inb6l3fBYPL9cMlHD+U751/0XUOu',\n",
       " b'fvbd4/pukztITJx5xREBdEUCI5UcBhYXMuRQ7pKQBhMBzZTJRPACgmSmHICY+gu98gy5KRXOrT45',\n",
       " b'f0Usg4ZOXtIlEhSKsAwFIRdy4+/vk2p3jNf6LIFthFQyZNUXykOJwT0zckPYVCXzrtomC4Xb4lTN',\n",
       " b'uxq+JmBLw3punS0n/9te1D20Fz1G86OZ4B6zh3OberjCRaz/WNYe+TLfOXDbOt4DXuYTLEOkfsF9',\n",
       " b'ioqAEativrqvT/klnDu0e/GBIJv81tuk9t3gDHzUq1qlZCsRP0sHfB+SBmOMW/Q0X48UYq2msa3G',\n",
       " b'2jEMeYBY8wyhZjjfh0WaGjPVi6w5jQpvQdVA5T/b1A1o9g00HJEFXjGZtjaj5E4KPNz+7w2wwsSO',\n",
       " b'4e2LvwFQSwMEFAAAAAgAxIhhT+ZtrvGsAwAAuRAAABgAAAB4bC93b3Jrc2hlZXRzL3NoZWV0MS54',\n",
       " b'bWzNmElv2zgUx8/zLQQFyLHiLjJegGaxNIcCQYt25qrYdCxUiysx9QzQD99HKpFjg4RnfEjrgynp',\n",
       " b'if+3/ChS1HTXdl/7jdYm+qeumn4Wb4zZXiVJv9zouujftVvdgGXddnVh4LR7TPptp4uV61RXCUFI',\n",
       " b'JHVRNvF86q7dd/Np+2SqstH3XdQ/1XXR/Xutq3Y3i3H8cuFj+bgx7kIyn26LR/1Jm89b6ACnyaiz',\n",
       " b'Kmvd9GXbRJ1ez+L3+CqXroe740upd/2r48gm89C2X+3Jn6tZjGxMutJLYyUKaL7rG11VVgki+fYs',\n",
       " b'Gu+d2p6vj1/kFy5/CO+h6PVNW/1VrsxmFkMwK70unirzsd3l+jknvg/xtjDFfNq1u6izyc6nS3vg',\n",
       " b'vLvk4faysaX6ZDqwluDPzC8vKE+ZmFxeEEwpdS1TfDJNDMRm70mWz0rXJ5WExP9J6eaUEsGSIqcg',\n",
       " b'VOpajlOf0u0pJaxUql7HpJQituWYUZ/i3f9WFBhZRSqplD7FxWkCREinJCTzKWQn68UVdvVCUHPX',\n",
       " b'Ym5bihDituUSeUnk5yoTQgkaWiqOlBMYg+NAJONAJH4ndjK46rfFUs9ieNp73X3X8fwPcASeCUMK',\n",
       " b'IhCUwX/qG5THqvZxGAZZwN+8vN+0jY4wju67Nvrw/u/IwsPUFYxSxSY/OCbZ9Q+W2Xwls3lSKISl',\n",
       " b'DWNcoQn0gMiEeC7AS4H4BBOhlOuFvKPrNhTU5QWDyc2xIlIp78gMproIWrKgJfdZDsjRkRw9jxyM',\n",
       " b'DM4F4pJ5yR2r7skF/HnJEYmZKxumw8CUqXwTkqEgXR8u3Iwg5fGzMZAMpr4IWrKgJfdZDkiykSQ7',\n",
       " b'lyTjlMAPKx/JY9U9yYA/P0lBhJtQASkZQGH8FiRDQQ4rmCOpIH23aiDpXYfugiVYBC1Z0JL7LAdE',\n",
       " b'+UiUn0cUSscJ40xJ4iN6rLonGvDnn1VTStRbEAwFZZVhnR7WLexf74OpLoKWLGjJfZYDcmIkJ84j',\n",
       " b'h7BknBBGEfWRO1bdkwv4+7XrYSgoux4K5iZ0GKXet6K7YKqLoCULWnKf5YBcOpJLzyFHsSKSEZoK',\n",
       " b'haSP3LHqnlzA3++1HoaChD6UyiEk2Gp4SQZTXwQtWdCS+ywHJOVIUp5HUvIUipLCv/fN5lh1TzLg',\n",
       " b'7/daD0NBut2Te7MhFMHbv49kMPVF0JIFLbnPMpBMXm157Zb+Q9E9lk0fPbTGtLXb0azb1mhQQe9g',\n",
       " b'Ut7oYjWeVHpt7GEKx92wkR5OTLt9+U6QjF8r5j8BUEsDBBQAAAAIAMSIYU+jsYa+zwEAAIkEAAAN',\n",
       " b'AAAAeGwvc3R5bGVzLnhtbJ1U226cQAz9FTQfUJaVGqkVIDWVIkVqq0ibh74OYGCkuZDBrCBfX89l',\n",
       " b'uWzzlBfGPtjn2B5DPuIi4dIDYDIrqceC9YjD9zQd6x4UH7+YATS9aY1VHMm1XToOFngzuiQl0/Pp',\n",
       " b'9JAqLjQrcz2pJ4VjUptJY8FOLEnLvDV6g84sABTLFSRXLgv2k0tRWRGCuRJyCfjZI7WRxiZI1UDB',\n",
       " b'Mg+N7yEgi64rNXIpoY31aBpkwrOKCfs3/hgpQkh5rI+AMh84Ilj9RE5I8uj/76L9ugxUX2f5kp2/',\n",
       " b'sl2GP0imMrYBexAKUJlLaNFlWNH13kAzuKMyiEY5qxG8M5qHSm5ph3R/kQXDni5i47pHHfE9FlXu',\n",
       " b'4Q8lo0Ht1CDlxaX8bdeeMuppbpMQ89z4BXDd30yadzTDokTHCezpAvmO9/w53kFcDT5O1J32/ttk',\n",
       " b'EF4stGL2/txuBRA9Hwa5/JCi0wpCNzvF7EPF7JOKZc5vOklvrHgnPrefNQFA63sFi6J2CF1YGNDc',\n",
       " b'ximtA/LjOsx+RZNqEhKFjmX1omkgVOS+uoL9cV+zPE5guwLiR17Rb+EgQFENtHyS+OK6vIR12exf',\n",
       " b'buGyhzXqdaUo2Gb/hkZM6ltQ3H4+5T9QSwMEFAAAAAgAxIhhTzzhpYXAAAAAFgIAAAsAAABfcmVs',\n",
       " b'cy8ucmVsc62ST4vCQAzFv0qZ+xpXwcNiPXnpbVn8AnEm/UM7kyETsX57h71st1RQ8Bhe8t6PR/Y/',\n",
       " b'NKB2HFLbxVSMfgipNK1q/AJItiWPacWRQlZqFo+aR2kgou2xIdis1zuQqYc57KeeReVKI5X7NMUJ',\n",
       " b'pSEtzTjAlaU/M/erbJuFW6RnQrmuO0tHthdPQReyZxumgGWYzR+MY/stnE8tC72G87gD8KToUPHX',\n",
       " b'9SPmABLtKD0k2i4QYYzv7odGpeDIzZHg3xsc7lBLAwQUAAAACADEiGFPsbVp6TIBAAApAgAADwAA',\n",
       " b'AHhsL3dvcmtib29rLnhtbI2Q3U7DMAyFX6XKA9BugklMKzdMwCQEiKHdp627WkviynE32NOTpCqM',\n",
       " b'O64c/+Q79lmdiA8V0SH7tMb5JZeqE+mXee7rDqz2V9SDC72W2GoJKe9zalusYU31YMFJPi+KRc5g',\n",
       " b'tCA532Hv1Uj7D8v3DLrxHYBYM6KsRqfuVtNmb5zllxkJ1FEpVmNlh3DyvwMxzXSYOMKHrkpVqEwP',\n",
       " b'Qg9oBHitBR6Zhh7dvlQzlbXIXrZRPU1adGjxDE3KfEenJ2I8kxNttjWTMelXbKRPQcH/VHbAgvWf',\n",
       " b'QdHVe7SlVIsiAI/osUKD8lWq9Dag4hn5xR3JiilmTlsoVdJKKiFumlFRwi0XGF5iaPCmmY3IidNA',\n",
       " b'iw6alwDysREWrIOlMSTS/PpmdhuMGIy5D7VX90x6VIiUydW7b1BLAwQUAAAACADEiGFPoS02da8A',\n",
       " b'AAD7AQAAGgAAAHhsL19yZWxzL3dvcmtib29rLnhtbC5yZWxzrZHPCoMwDIdfpfQBFnWww1BPu3gd',\n",
       " b'e4Gi8Q+2tjQZ07df6Q46cLCDl4aQ8Ps+0vyOWvFgJ+oHR2I2eqJC9szuCkB1j0bRyTqcwqS13igO',\n",
       " b're/AqXpUHUKWJBfw2wxZ5ttMUTWF9FWTSvFQvkMuJMwaXtaP1CMyQSzpKQDCyuLwH7xt26HGm62f',\n",
       " b'BifesVgBUsC+UbYaES8a6WiFT+pP/nnlc6AgxPfwQ8TUKAFff12+AVBLAwQUAAAACADEiGFP9ou5',\n",
       " b'IBUBAADXAwAAEwAAAFtDb250ZW50X1R5cGVzXS54bWytU8tOwzAQ/JUoV5S4cOCAml4oV+iBHzD2',\n",
       " b'prHql7zbkv49G6dUogqoqLnYXs/uzNhrL9+PEbDonfXYlB1RfBICVQdOYh0ieEbakJwkDtNWRKl2',\n",
       " b'cgviYbF4FCp4Ak8VDRzlarmGVu4tFc/j/kDdlDJGa5QkE7w4eH1BWp0I6wQ252BnIt5xQlm89MyC',\n",
       " b'vNeUjGJZiCskLitzzIVvB0jJaPiXudC2RoEOau+4pMaYQGrsAMjZGulo4WR1IxO9SseMordiROo5',\n",
       " b'pYk7AlNaGRjH+9sUvzuhQoIqJkYTmYkDsqcNoyiGxFkPCUPbNOir1Jl6VvGfzf0MaZfXU3d+BlHk',\n",
       " b'6caL//uVDXPtpPG/OfkIYXc2IPJ/Xn0BUEsBAhQAFAAAAAgAxIhhTwdBTWKBAAAAsQAAABAAAAAA',\n",
       " b'AAAAAAAAAIABAAAAAGRvY1Byb3BzL2FwcC54bWxQSwECFAAUAAAACADEiGFPzv2fo+oAAADLAQAA',\n",
       " b'EQAAAAAAAAAAAAAAgAGvAAAAZG9jUHJvcHMvY29yZS54bWxQSwECFAAUAAAACADEiGFPmVycIxAG',\n",
       " b'AACcJwAAEwAAAAAAAAAAAAAAgAHIAQAAeGwvdGhlbWUvdGhlbWUxLnhtbFBLAQIUABQAAAAIAMSI',\n",
       " b'YU/mba7xrAMAALkQAAAYAAAAAAAAAAAAAAC2gQkIAAB4bC93b3Jrc2hlZXRzL3NoZWV0MS54bWxQ',\n",
       " b'SwECFAAUAAAACADEiGFPo7GGvs8BAACJBAAADQAAAAAAAAAAAAAAgAHrCwAAeGwvc3R5bGVzLnht',\n",
       " b'bFBLAQIUABQAAAAIAMSIYU884aWFwAAAABYCAAALAAAAAAAAAAAAAACAAeUNAABfcmVscy8ucmVs',\n",
       " b'c1BLAQIUABQAAAAIAMSIYU+xtWnpMgEAACkCAAAPAAAAAAAAAAAAAACAAc4OAAB4bC93b3JrYm9v',\n",
       " b'ay54bWxQSwECFAAUAAAACADEiGFPoS02da8AAAD7AQAAGgAAAAAAAAAAAAAAgAEtEAAAeGwvX3Jl',\n",
       " b'bHMvd29ya2Jvb2sueG1sLnJlbHNQSwECFAAUAAAACADEiGFP9ou5IBUBAADXAwAAEwAAAAAAAAAA',\n",
       " b'AAAAgAEUEQAAW0NvbnRlbnRfVHlwZXNdLnhtbFBLBQYAAAAACQAJAD4CAABaEgAAAAA=',\n",
       " b'',\n",
       " b'--===============8928907342863906369==',\n",
       " b'Content-Type: text/plain; charset=\"utf-8\"',\n",
       " b'MIME-Version: 1.0',\n",
       " b'Content-Transfer-Encoding: base64',\n",
       " b'',\n",
       " b'5L2g5aW977yM6L+Z5piv5LiA5bCB5rWL6K+V6YKu5Lu2',\n",
       " b'',\n",
       " b'--===============8928907342863906369==--']"
      ]
     },
     "execution_count": 56,
     "metadata": {},
     "output_type": "execute_result"
    }
   ],
   "source": [
    "lines"
   ]
  },
  {
   "cell_type": "code",
   "execution_count": 46,
   "metadata": {},
   "outputs": [],
   "source": [
    "l  = [b'Date: Sat, 2 Nov 2019 16:41:18 +0800', b'X-QQ-mid: esmtp7t1572684076tzpuyvle2', b'Received: from [192.168.0.100] (unknown [175.10.95.63])', b'\\tby esmtp4.qq.com (ESMTP) with SMTP id 0', b'\\tfor <2437253053@qq.com>; Sat, 02 Nov 2019 16:41:16 +0800 (CST)', b'X-QQ-SSF: A001000000000010G3120000002000J', b'X-QQ-FEAT: DvNdkFXOZE+xrKCpNhH6civIzs0DRP9Dq8D6fRROQnsZyOs/UPqYKlP9LuFy6', b'\\tba5T4CpBzLi7JQwXnL67wV+jsoRmkhUptPoJQLtxS1Z9yz2EeVLkcEpg+4di4EnKIG0zieH', b'\\tZrIXwXw1oFAM7z8fuHni71R9S5EdvsHpt1xUhQh/NciLFPPjYPSZVGpMKesBzHIBcb2cyRg', b'\\tuIRD01Fr30Bl3rX2+u4CuJ0FTYeweZCPwhSm8ntamawRWFI2L2c8LA37JJ2j0pU8=', b'X-QQ-CSender: 2437253053@qq.com', b'Sender: 2437253053@qq.com', b'Content-Type: multipart/mixed; boundary=\"===============2997002501849855988==\"', b'MIME-Version: 1.0', b'From: =?utf-8?b?WkVST+aVmeeoiw==?=', b'To: =?utf-8?b?aml1Z3VhaeS9oOWlvQ==?=', b'Subject: =?utf-8?b?UHl0aG9uIFNNVFAg6YKu5Lu25rWL6K+V?=', b'', b'--===============2997002501849855988==', b'Content-Type: application/octet-stream', b'MIME-Version: 1.0', b'Content-Transfer-Encoding: base64', b'Content-Disposition: attachment; filename=\"Apple.xlsx\"', b'', b'UEsDBBQAAAAIAMSIYU8HQU1igQAAALEAAAAQAAAAZG9jUHJvcHMvYXBwLnhtbE2OPQsCMRBE/8px', b'vbdBwUJiQNBSsLIPexsvkGRDskJ+vjnBj24ebxhG3wpnKuKpDi2GVI/jIpIPABUXirZOXaduHJdo', b'pWN5ADvnkc6Mz0hJYKvUHqgJpZnmTf4Ojkafcg4erXhO5uqxcGUnw6UhBQ3/cm3eqdQ17yb1lh/W', b'8DtpXlBLAwQUAAAACADEiGFPzv2fo+oAAADLAQAAEQAAAGRvY1Byb3BzL2NvcmUueG1spZHBSgMx', b'EIZfpeS+O0kLLYY0F8WTgmBB8RaSaRvc7IZkZLdvb3Ztt4rePGb+b76ZIcpGabuET6mLmMhjXgyh', b'abO0ccuORFECZHvEYHJdiLaE+y4FQ+WZDhCNfTcHhCXnawhIxhkyMAqrOBvZWensrIwfqZkEzgI2', b'GLClDKIWcGUJU8h/NkzJTA7Zz1Tf93W/mriykYDXx4fnafnKt5lMa5Fp5ay0CQ11SY8XxdPQKPhW', b'VOfZXwV0izJB0inill2Sl9Xt3e6e6SUXN5UQFRc7sZF8LfnmbXT96L8KQ+f83v/DeBFoBb/+TX8C', b'UEsDBBQAAAAIAMSIYU+ZXJwjEAYAAJwnAAATAAAAeGwvdGhlbWUvdGhlbWUxLnhtbO1aW3PaOBR+', b'76/QeGf2bQvGNoG2tBNzaXbbtJmE7U4fhRFYjWx5ZJGEf79HNhDLlg3tkk26mzwELOn7zkVH5+g4', b'efPuLmLohoiU8nhg2S/b1ru3L97gVzIkEUEwGaev8MAKpUxetVppAMM4fckTEsPcgosIS3gUy9Zc', b'4FsaLyPW6rTb3VaEaWyhGEdkYH1eLGhA0FRRWm9fILTlHzP4FctUjWWjARNXQSa5iLTy+WzF/Nre', b'PmXP6TodMoFuMBtYIH/Ob6fkTlqI4VTCxMBqZz9Wa8fR0kiAgsl9lAW6Sfaj0xUIMg07Op1YznZ8', b'9sTtn4zK2nQ0bRrg4/F4OLbL0otwHATgUbuewp30bL+kQQm0o2nQZNj22q6RpqqNU0/T933f65to', b'nAqNW0/Ta3fd046Jxq3QeA2+8U+Hw66JxqvQdOtpJif9rmuk6RZoQkbj63oSFbXlQNMgAFhwdtbM', b'0gOWXin6dZQa2R273UFc8FjuOYkR/sbFBNZp0hmWNEZynZAFDgA3xNFMUHyvQbaK4MKS0lyQ1s8p', b'tVAaCJrIgfVHgiHF3K/99Ze7yaQzep19Os5rlH9pqwGn7bubz5P8c+jkn6eT101CznC8LAnx+yNb', b'YYcnbjsTcjocZ0J8z/b2kaUlMs/v+QrrTjxnH1aWsF3Pz+SejHIju932WH32T0duI9epwLMi15RG', b'JEWfyC265BE4tUkNMhM/CJ2GmGpQHAKkCTGWoYb4tMasEeATfbe+CMjfjYj3q2+aPVehWEnahPgQ', b'RhrinHPmc9Fs+welRtH2Vbzco5dYFQGXGN80qjUsxdZ4lcDxrZw8HRMSzZQLBkGGlyQmEqk5fk1I', b'E/4rpdr+nNNA8JQvJPpKkY9psyOndCbN6DMawUavG3WHaNI8ev4F+Zw1ChyRGx0CZxuzRiGEabvw', b'Hq8kjpqtwhErQj5iGTYacrUWgbZxqYRgWhLG0XhO0rQR/FmsNZM+YMjszZF1ztaRDhGSXjdCPmLO', b'i5ARvx6GOEqa7aJxWAT9nl7DScHogstm/bh+htUzbCyO90fUF0rkDyanP+kyNAejmlkJvYRWap+q', b'hzQ+qB4yCgXxuR4+5Xp4CjeWxrxQroJ7Af/R2jfCq/iCwDl/Ln3Ppe+59D2h0rc3I31nwdOLW95G', b'blvE+64x2tc0LihjV3LNyMdUr5Mp2DmfwOz9aD6e8e362SSEr5pZLSMWkEuBs0EkuPyLyvAqxAno', b'ZFslCctU02U3ihKeQhtu6VP1SpXX5a+5KLg8W+Tpr6F0PizP+Txf57TNCzNDt3JL6raUvrUmOEr0', b'scxwTh7LDDtnPJIdtnegHTX79l125COlMFOXQ7gaQr4Dbbqd3Do4npiRuQrTUpBvw/npxXga4jnZ', b'BLl9mFdt59jR0fvnwVGwo+88lh3HiPKiIe6hhpjPw0OHeXtfmGeVxlA0FG1srCQsRrdguNfxLBTg', b'ZGAtoAeDr1EC8lJVYDFbxgMrkKJ8TIxF6HDnl1xf49GS49umZbVuryl3GW0iUjnCaZgTZ6vK3mWx', b'wVUdz1Vb8rC+aj20FU7P/lmtyJ8MEU4WCxJIY5QXpkqi8xlTvucrScRVOL9FM7YSlxi84+bHcU5T', b'uBJ2tg8CMrm7Oal6ZTFnpvLfLQwJLFuIWRLiTV3t1eebnK56Inb6l3fBYPL9cMlHD+U751/0XUOu', b'fvbd4/pukztITJx5xREBdEUCI5UcBhYXMuRQ7pKQBhMBzZTJRPACgmSmHICY+gu98gy5KRXOrT45', b'f0Usg4ZOXtIlEhSKsAwFIRdy4+/vk2p3jNf6LIFthFQyZNUXykOJwT0zckPYVCXzrtomC4Xb4lTN', b'uxq+JmBLw3punS0n/9te1D20Fz1G86OZ4B6zh3OberjCRaz/WNYe+TLfOXDbOt4DXuYTLEOkfsF9', b'ioqAEativrqvT/klnDu0e/GBIJv81tuk9t3gDHzUq1qlZCsRP0sHfB+SBmOMW/Q0X48UYq2msa3G', b'2jEMeYBY8wyhZjjfh0WaGjPVi6w5jQpvQdVA5T/b1A1o9g00HJEFXjGZtjaj5E4KPNz+7w2wwsSO', b'4e2LvwFQSwMEFAAAAAgAxIhhT+ZtrvGsAwAAuRAAABgAAAB4bC93b3Jrc2hlZXRzL3NoZWV0MS54', b'bWzNmElv2zgUx8/zLQQFyLHiLjJegGaxNIcCQYt25qrYdCxUiysx9QzQD99HKpFjg4RnfEjrgynp', b'if+3/ChS1HTXdl/7jdYm+qeumn4Wb4zZXiVJv9zouujftVvdgGXddnVh4LR7TPptp4uV61RXCUFI', b'JHVRNvF86q7dd/Np+2SqstH3XdQ/1XXR/Xutq3Y3i3H8cuFj+bgx7kIyn26LR/1Jm89b6ACnyaiz', b'Kmvd9GXbRJ1ez+L3+CqXroe740upd/2r48gm89C2X+3Jn6tZjGxMutJLYyUKaL7rG11VVgki+fYs', b'Gu+d2p6vj1/kFy5/CO+h6PVNW/1VrsxmFkMwK70unirzsd3l+jknvg/xtjDFfNq1u6izyc6nS3vg', b'vLvk4faysaX6ZDqwluDPzC8vKE+ZmFxeEEwpdS1TfDJNDMRm70mWz0rXJ5WExP9J6eaUEsGSIqcg', b'VOpajlOf0u0pJaxUql7HpJQituWYUZ/i3f9WFBhZRSqplD7FxWkCREinJCTzKWQn68UVdvVCUHPX', b'Ym5bihDituUSeUnk5yoTQgkaWiqOlBMYg+NAJONAJH4ndjK46rfFUs9ieNp73X3X8fwPcASeCUMK', b'IhCUwX/qG5THqvZxGAZZwN+8vN+0jY4wju67Nvrw/u/IwsPUFYxSxSY/OCbZ9Q+W2Xwls3lSKISl', b'DWNcoQn0gMiEeC7AS4H4BBOhlOuFvKPrNhTU5QWDyc2xIlIp78gMproIWrKgJfdZDsjRkRw9jxyM', b'DM4F4pJ5yR2r7skF/HnJEYmZKxumw8CUqXwTkqEgXR8u3Iwg5fGzMZAMpr4IWrKgJfdZDkiykSQ7', b'lyTjlMAPKx/JY9U9yYA/P0lBhJtQASkZQGH8FiRDQQ4rmCOpIH23aiDpXYfugiVYBC1Z0JL7LAdE', b'+UiUn0cUSscJ40xJ4iN6rLonGvDnn1VTStRbEAwFZZVhnR7WLexf74OpLoKWLGjJfZYDcmIkJ84j', b'h7BknBBGEfWRO1bdkwv4+7XrYSgoux4K5iZ0GKXet6K7YKqLoCULWnKf5YBcOpJLzyFHsSKSEZoK', b'haSP3LHqnlzA3++1HoaChD6UyiEk2Gp4SQZTXwQtWdCS+ywHJOVIUp5HUvIUipLCv/fN5lh1TzLg', b'7/daD0NBut2Te7MhFMHbv49kMPVF0JIFLbnPMpBMXm157Zb+Q9E9lk0fPbTGtLXb0azb1mhQQe9g', b'Ut7oYjWeVHpt7GEKx92wkR5OTLt9+U6QjF8r5j8BUEsDBBQAAAAIAMSIYU+jsYa+zwEAAIkEAAAN', b'AAAAeGwvc3R5bGVzLnhtbJ1U226cQAz9FTQfUJaVGqkVIDWVIkVqq0ibh74OYGCkuZDBrCBfX89l', b'uWzzlBfGPtjn2B5DPuIi4dIDYDIrqceC9YjD9zQd6x4UH7+YATS9aY1VHMm1XToOFngzuiQl0/Pp', b'9JAqLjQrcz2pJ4VjUptJY8FOLEnLvDV6g84sABTLFSRXLgv2k0tRWRGCuRJyCfjZI7WRxiZI1UDB', b'Mg+N7yEgi64rNXIpoY31aBpkwrOKCfs3/hgpQkh5rI+AMh84Ilj9RE5I8uj/76L9ugxUX2f5kp2/', b'sl2GP0imMrYBexAKUJlLaNFlWNH13kAzuKMyiEY5qxG8M5qHSm5ph3R/kQXDni5i47pHHfE9FlXu', b'4Q8lo0Ht1CDlxaX8bdeeMuppbpMQ89z4BXDd30yadzTDokTHCezpAvmO9/w53kFcDT5O1J32/ttk', b'EF4stGL2/txuBRA9Hwa5/JCi0wpCNzvF7EPF7JOKZc5vOklvrHgnPrefNQFA63sFi6J2CF1YGNDc', b'ximtA/LjOsx+RZNqEhKFjmX1omkgVOS+uoL9cV+zPE5guwLiR17Rb+EgQFENtHyS+OK6vIR12exf', b'buGyhzXqdaUo2Gb/hkZM6ltQ3H4+5T9QSwMEFAAAAAgAxIhhTzzhpYXAAAAAFgIAAAsAAABfcmVs', b'cy8ucmVsc62ST4vCQAzFv0qZ+xpXwcNiPXnpbVn8AnEm/UM7kyETsX57h71st1RQ8Bhe8t6PR/Y/', b'NKB2HFLbxVSMfgipNK1q/AJItiWPacWRQlZqFo+aR2kgou2xIdis1zuQqYc57KeeReVKI5X7NMUJ', b'pSEtzTjAlaU/M/erbJuFW6RnQrmuO0tHthdPQReyZxumgGWYzR+MY/stnE8tC72G87gD8KToUPHX', b'9SPmABLtKD0k2i4QYYzv7odGpeDIzZHg3xsc7lBLAwQUAAAACADEiGFPsbVp6TIBAAApAgAADwAA', b'AHhsL3dvcmtib29rLnhtbI2Q3U7DMAyFX6XKA9BugklMKzdMwCQEiKHdp627WkviynE32NOTpCqM', b'O64c/+Q79lmdiA8V0SH7tMb5JZeqE+mXee7rDqz2V9SDC72W2GoJKe9zalusYU31YMFJPi+KRc5g', b'tCA532Hv1Uj7D8v3DLrxHYBYM6KsRqfuVtNmb5zllxkJ1FEpVmNlh3DyvwMxzXSYOMKHrkpVqEwP', b'Qg9oBHitBR6Zhh7dvlQzlbXIXrZRPU1adGjxDE3KfEenJ2I8kxNttjWTMelXbKRPQcH/VHbAgvWf', b'QdHVe7SlVIsiAI/osUKD8lWq9Dag4hn5xR3JiilmTlsoVdJKKiFumlFRwi0XGF5iaPCmmY3IidNA', b'iw6alwDysREWrIOlMSTS/PpmdhuMGIy5D7VX90x6VIiUydW7b1BLAwQUAAAACADEiGFPoS02da8A', b'AAD7AQAAGgAAAHhsL19yZWxzL3dvcmtib29rLnhtbC5yZWxzrZHPCoMwDIdfpfQBFnWww1BPu3gd', b'e4Gi8Q+2tjQZ07df6Q46cLCDl4aQ8Ps+0vyOWvFgJ+oHR2I2eqJC9szuCkB1j0bRyTqcwqS13igO', b're/AqXpUHUKWJBfw2wxZ5ttMUTWF9FWTSvFQvkMuJMwaXtaP1CMyQSzpKQDCyuLwH7xt26HGm62f', b'BifesVgBUsC+UbYaES8a6WiFT+pP/nnlc6AgxPfwQ8TUKAFff12+AVBLAwQUAAAACADEiGFP9ou5', b'IBUBAADXAwAAEwAAAFtDb250ZW50X1R5cGVzXS54bWytU8tOwzAQ/JUoV5S4cOCAml4oV+iBHzD2', b'prHql7zbkv49G6dUogqoqLnYXs/uzNhrL9+PEbDonfXYlB1RfBICVQdOYh0ieEbakJwkDtNWRKl2', b'cgviYbF4FCp4Ak8VDRzlarmGVu4tFc/j/kDdlDJGa5QkE7w4eH1BWp0I6wQ252BnIt5xQlm89MyC', b'vNeUjGJZiCskLitzzIVvB0jJaPiXudC2RoEOau+4pMaYQGrsAMjZGulo4WR1IxO9SseMordiROo5', b'pYk7AlNaGRjH+9sUvzuhQoIqJkYTmYkDsqcNoyiGxFkPCUPbNOir1Jl6VvGfzf0MaZfXU3d+BlHk', b'6caL//uVDXPtpPG/OfkIYXc2IPJ/Xn0BUEsBAhQAFAAAAAgAxIhhTwdBTWKBAAAAsQAAABAAAAAA', b'AAAAAAAAAIABAAAAAGRvY1Byb3BzL2FwcC54bWxQSwECFAAUAAAACADEiGFPzv2fo+oAAADLAQAA', b'EQAAAAAAAAAAAAAAgAGvAAAAZG9jUHJvcHMvY29yZS54bWxQSwECFAAUAAAACADEiGFPmVycIxAG', b'AACcJwAAEwAAAAAAAAAAAAAAgAHIAQAAeGwvdGhlbWUvdGhlbWUxLnhtbFBLAQIUABQAAAAIAMSI', b'YU/mba7xrAMAALkQAAAYAAAAAAAAAAAAAAC2gQkIAAB4bC93b3Jrc2hlZXRzL3NoZWV0MS54bWxQ', b'SwECFAAUAAAACADEiGFPo7GGvs8BAACJBAAADQAAAAAAAAAAAAAAgAHrCwAAeGwvc3R5bGVzLnht', b'bFBLAQIUABQAAAAIAMSIYU884aWFwAAAABYCAAALAAAAAAAAAAAAAACAAeUNAABfcmVscy8ucmVs', b'c1BLAQIUABQAAAAIAMSIYU+xtWnpMgEAACkCAAAPAAAAAAAAAAAAAACAAc4OAAB4bC93b3JrYm9v', b'ay54bWxQSwECFAAUAAAACADEiGFPoS02da8AAAD7AQAAGgAAAAAAAAAAAAAAgAEtEAAAeGwvX3Jl', b'bHMvd29ya2Jvb2sueG1sLnJlbHNQSwECFAAUAAAACADEiGFP9ou5IBUBAADXAwAAEwAAAAAAAAAA', b'AAAAgAEUEQAAW0NvbnRlbnRfVHlwZXNdLnhtbFBLBQYAAAAACQAJAD4CAABaEgAAAAA=', b'', b'--===============2997002501849855988==--']"
   ]
  },
  {
   "cell_type": "code",
   "execution_count": 68,
   "metadata": {},
   "outputs": [
    {
     "data": {
      "text/plain": [
       "'jiuguai你好'"
      ]
     },
     "execution_count": 68,
     "metadata": {},
     "output_type": "execute_result"
    }
   ],
   "source": [
    "x = b\"aml1Z3VhaeS9oOWlvQ==?=\"\n",
    "import base64\n",
    "base64.b64decode(x).decode()"
   ]
  },
  {
   "cell_type": "code",
   "execution_count": 48,
   "metadata": {},
   "outputs": [
    {
     "name": "stdout",
     "output_type": "stream",
     "text": [
      "[b'Date: Sat, 2 Nov 2019 16:41:18 +0800',\n",
      " b'X-QQ-mid: esmtp7t1572684076tzpuyvle2',\n",
      " b'Received: from [192.168.0.100] (unknown [175.10.95.63])',\n",
      " b'\\tby esmtp4.qq.com (ESMTP) with SMTP id 0',\n",
      " b'\\tfor <2437253053@qq.com>; Sat, 02 Nov 2019 16:41:16 +0800 (CST)',\n",
      " b'X-QQ-SSF: A001000000000010G3120000002000J',\n",
      " b'X-QQ-FEAT: DvNdkFXOZE+xrKCpNhH6civIzs0DRP9Dq8D6fRROQnsZyOs/UPqYKlP9LuFy6',\n",
      " b'\\tba5T4CpBzLi7JQwXnL67wV+jsoRmkhUptPoJQLtxS1Z9yz2EeVLkcEpg+4di4EnKIG0zieH',\n",
      " b'\\tZrIXwXw1oFAM7z8fuHni71R9S5EdvsHpt1xUhQh/NciLFPPjYPSZVGpMKesBzHIBcb2cyRg',\n",
      " b'\\tuIRD01Fr30Bl3rX2+u4CuJ0FTYeweZCPwhSm8ntamawRWFI2L2c8LA37JJ2j0pU8=',\n",
      " b'X-QQ-CSender: 2437253053@qq.com',\n",
      " b'Sender: 2437253053@qq.com',\n",
      " b'Content-Type: multipart/mixed; boundary=\"===============2997002501849855988='\n",
      " b'=\"',\n",
      " b'MIME-Version: 1.0',\n",
      " b'From: =?utf-8?b?WkVST+aVmeeoiw==?=',\n",
      " b'To: =?utf-8?b?aml1Z3VhaeS9oOWlvQ==?=',\n",
      " b'Subject: =?utf-8?b?UHl0aG9uIFNNVFAg6YKu5Lu25rWL6K+V?=',\n",
      " b'',\n",
      " b'--===============2997002501849855988==',\n",
      " b'Content-Type: application/octet-stream',\n",
      " b'MIME-Version: 1.0',\n",
      " b'Content-Transfer-Encoding: base64',\n",
      " b'Content-Disposition: attachment; filename=\"Apple.xlsx\"',\n",
      " b'',\n",
      " b'UEsDBBQAAAAIAMSIYU8HQU1igQAAALEAAAAQAAAAZG9jUHJvcHMvYXBwLnhtbE2OPQsCMRBE/8px',\n",
      " b'vbdBwUJiQNBSsLIPexsvkGRDskJ+vjnBj24ebxhG3wpnKuKpDi2GVI/jIpIPABUXirZOXaduHJdo',\n",
      " b'pWN5ADvnkc6Mz0hJYKvUHqgJpZnmTf4Ojkafcg4erXhO5uqxcGUnw6UhBQ3/cm3eqdQ17yb1lh/W',\n",
      " b'8DtpXlBLAwQUAAAACADEiGFPzv2fo+oAAADLAQAAEQAAAGRvY1Byb3BzL2NvcmUueG1spZHBSgMx',\n",
      " b'EIZfpeS+O0kLLYY0F8WTgmBB8RaSaRvc7IZkZLdvb3Ztt4rePGb+b76ZIcpGabuET6mLmMhjXgyh',\n",
      " b'abO0ccuORFECZHvEYHJdiLaE+y4FQ+WZDhCNfTcHhCXnawhIxhkyMAqrOBvZWensrIwfqZkEzgI2',\n",
      " b'GLClDKIWcGUJU8h/NkzJTA7Zz1Tf93W/mriykYDXx4fnafnKt5lMa5Fp5ay0CQ11SY8XxdPQKPhW',\n",
      " b'VOfZXwV0izJB0inill2Sl9Xt3e6e6SUXN5UQFRc7sZF8LfnmbXT96L8KQ+f83v/DeBFoBb/+TX8C',\n",
      " b'UEsDBBQAAAAIAMSIYU+ZXJwjEAYAAJwnAAATAAAAeGwvdGhlbWUvdGhlbWUxLnhtbO1aW3PaOBR+',\n",
      " b'76/QeGf2bQvGNoG2tBNzaXbbtJmE7U4fhRFYjWx5ZJGEf79HNhDLlg3tkk26mzwELOn7zkVH5+g4',\n",
      " b'efPuLmLohoiU8nhg2S/b1ru3L97gVzIkEUEwGaev8MAKpUxetVppAMM4fckTEsPcgosIS3gUy9Zc',\n",
      " b'4FsaLyPW6rTb3VaEaWyhGEdkYH1eLGhA0FRRWm9fILTlHzP4FctUjWWjARNXQSa5iLTy+WzF/Nre',\n",
      " b'PmXP6TodMoFuMBtYIH/Ob6fkTlqI4VTCxMBqZz9Wa8fR0kiAgsl9lAW6Sfaj0xUIMg07Op1YznZ8',\n",
      " b'9sTtn4zK2nQ0bRrg4/F4OLbL0otwHATgUbuewp30bL+kQQm0o2nQZNj22q6RpqqNU0/T933f65to',\n",
      " b'nAqNW0/Ta3fd046Jxq3QeA2+8U+Hw66JxqvQdOtpJif9rmuk6RZoQkbj63oSFbXlQNMgAFhwdtbM',\n",
      " b'0gOWXin6dZQa2R273UFc8FjuOYkR/sbFBNZp0hmWNEZynZAFDgA3xNFMUHyvQbaK4MKS0lyQ1s8p',\n",
      " b'tVAaCJrIgfVHgiHF3K/99Ze7yaQzep19Os5rlH9pqwGn7bubz5P8c+jkn6eT101CznC8LAnx+yNb',\n",
      " b'YYcnbjsTcjocZ0J8z/b2kaUlMs/v+QrrTjxnH1aWsF3Pz+SejHIju932WH32T0duI9epwLMi15RG',\n",
      " b'JEWfyC265BE4tUkNMhM/CJ2GmGpQHAKkCTGWoYb4tMasEeATfbe+CMjfjYj3q2+aPVehWEnahPgQ',\n",
      " b'RhrinHPmc9Fs+welRtH2Vbzco5dYFQGXGN80qjUsxdZ4lcDxrZw8HRMSzZQLBkGGlyQmEqk5fk1I',\n",
      " b'E/4rpdr+nNNA8JQvJPpKkY9psyOndCbN6DMawUavG3WHaNI8ev4F+Zw1ChyRGx0CZxuzRiGEabvw',\n",
      " b'Hq8kjpqtwhErQj5iGTYacrUWgbZxqYRgWhLG0XhO0rQR/FmsNZM+YMjszZF1ztaRDhGSXjdCPmLO',\n",
      " b'i5ARvx6GOEqa7aJxWAT9nl7DScHogstm/bh+htUzbCyO90fUF0rkDyanP+kyNAejmlkJvYRWap+q',\n",
      " b'hzQ+qB4yCgXxuR4+5Xp4CjeWxrxQroJ7Af/R2jfCq/iCwDl/Ln3Ppe+59D2h0rc3I31nwdOLW95G',\n",
      " b'blvE+64x2tc0LihjV3LNyMdUr5Mp2DmfwOz9aD6e8e362SSEr5pZLSMWkEuBs0EkuPyLyvAqxAno',\n",
      " b'ZFslCctU02U3ihKeQhtu6VP1SpXX5a+5KLg8W+Tpr6F0PizP+Txf57TNCzNDt3JL6raUvrUmOEr0',\n",
      " b'scxwTh7LDDtnPJIdtnegHTX79l125COlMFOXQ7gaQr4Dbbqd3Do4npiRuQrTUpBvw/npxXga4jnZ',\n",
      " b'BLl9mFdt59jR0fvnwVGwo+88lh3HiPKiIe6hhpjPw0OHeXtfmGeVxlA0FG1srCQsRrdguNfxLBTg',\n",
      " b'ZGAtoAeDr1EC8lJVYDFbxgMrkKJ8TIxF6HDnl1xf49GS49umZbVuryl3GW0iUjnCaZgTZ6vK3mWx',\n",
      " b'wVUdz1Vb8rC+aj20FU7P/lmtyJ8MEU4WCxJIY5QXpkqi8xlTvucrScRVOL9FM7YSlxi84+bHcU5T',\n",
      " b'uBJ2tg8CMrm7Oal6ZTFnpvLfLQwJLFuIWRLiTV3t1eebnK56Inb6l3fBYPL9cMlHD+U751/0XUOu',\n",
      " b'fvbd4/pukztITJx5xREBdEUCI5UcBhYXMuRQ7pKQBhMBzZTJRPACgmSmHICY+gu98gy5KRXOrT45',\n",
      " b'f0Usg4ZOXtIlEhSKsAwFIRdy4+/vk2p3jNf6LIFthFQyZNUXykOJwT0zckPYVCXzrtomC4Xb4lTN',\n",
      " b'uxq+JmBLw3punS0n/9te1D20Fz1G86OZ4B6zh3OberjCRaz/WNYe+TLfOXDbOt4DXuYTLEOkfsF9',\n",
      " b'ioqAEativrqvT/klnDu0e/GBIJv81tuk9t3gDHzUq1qlZCsRP0sHfB+SBmOMW/Q0X48UYq2msa3G',\n",
      " b'2jEMeYBY8wyhZjjfh0WaGjPVi6w5jQpvQdVA5T/b1A1o9g00HJEFXjGZtjaj5E4KPNz+7w2wwsSO',\n",
      " b'4e2LvwFQSwMEFAAAAAgAxIhhT+ZtrvGsAwAAuRAAABgAAAB4bC93b3Jrc2hlZXRzL3NoZWV0MS54',\n",
      " b'bWzNmElv2zgUx8/zLQQFyLHiLjJegGaxNIcCQYt25qrYdCxUiysx9QzQD99HKpFjg4RnfEjrgynp',\n",
      " b'if+3/ChS1HTXdl/7jdYm+qeumn4Wb4zZXiVJv9zouujftVvdgGXddnVh4LR7TPptp4uV61RXCUFI',\n",
      " b'JHVRNvF86q7dd/Np+2SqstH3XdQ/1XXR/Xutq3Y3i3H8cuFj+bgx7kIyn26LR/1Jm89b6ACnyaiz',\n",
      " b'Kmvd9GXbRJ1ez+L3+CqXroe740upd/2r48gm89C2X+3Jn6tZjGxMutJLYyUKaL7rG11VVgki+fYs',\n",
      " b'Gu+d2p6vj1/kFy5/CO+h6PVNW/1VrsxmFkMwK70unirzsd3l+jknvg/xtjDFfNq1u6izyc6nS3vg',\n",
      " b'vLvk4faysaX6ZDqwluDPzC8vKE+ZmFxeEEwpdS1TfDJNDMRm70mWz0rXJ5WExP9J6eaUEsGSIqcg',\n",
      " b'VOpajlOf0u0pJaxUql7HpJQituWYUZ/i3f9WFBhZRSqplD7FxWkCREinJCTzKWQn68UVdvVCUHPX',\n",
      " b'Ym5bihDituUSeUnk5yoTQgkaWiqOlBMYg+NAJONAJH4ndjK46rfFUs9ieNp73X3X8fwPcASeCUMK',\n",
      " b'IhCUwX/qG5THqvZxGAZZwN+8vN+0jY4wju67Nvrw/u/IwsPUFYxSxSY/OCbZ9Q+W2Xwls3lSKISl',\n",
      " b'DWNcoQn0gMiEeC7AS4H4BBOhlOuFvKPrNhTU5QWDyc2xIlIp78gMproIWrKgJfdZDsjRkRw9jxyM',\n",
      " b'DM4F4pJ5yR2r7skF/HnJEYmZKxumw8CUqXwTkqEgXR8u3Iwg5fGzMZAMpr4IWrKgJfdZDkiykSQ7',\n",
      " b'lyTjlMAPKx/JY9U9yYA/P0lBhJtQASkZQGH8FiRDQQ4rmCOpIH23aiDpXYfugiVYBC1Z0JL7LAdE',\n",
      " b'+UiUn0cUSscJ40xJ4iN6rLonGvDnn1VTStRbEAwFZZVhnR7WLexf74OpLoKWLGjJfZYDcmIkJ84j',\n",
      " b'h7BknBBGEfWRO1bdkwv4+7XrYSgoux4K5iZ0GKXet6K7YKqLoCULWnKf5YBcOpJLzyFHsSKSEZoK',\n",
      " b'haSP3LHqnlzA3++1HoaChD6UyiEk2Gp4SQZTXwQtWdCS+ywHJOVIUp5HUvIUipLCv/fN5lh1TzLg',\n",
      " b'7/daD0NBut2Te7MhFMHbv49kMPVF0JIFLbnPMpBMXm157Zb+Q9E9lk0fPbTGtLXb0azb1mhQQe9g',\n",
      " b'Ut7oYjWeVHpt7GEKx92wkR5OTLt9+U6QjF8r5j8BUEsDBBQAAAAIAMSIYU+jsYa+zwEAAIkEAAAN',\n",
      " b'AAAAeGwvc3R5bGVzLnhtbJ1U226cQAz9FTQfUJaVGqkVIDWVIkVqq0ibh74OYGCkuZDBrCBfX89l',\n",
      " b'uWzzlBfGPtjn2B5DPuIi4dIDYDIrqceC9YjD9zQd6x4UH7+YATS9aY1VHMm1XToOFngzuiQl0/Pp',\n",
      " b'9JAqLjQrcz2pJ4VjUptJY8FOLEnLvDV6g84sABTLFSRXLgv2k0tRWRGCuRJyCfjZI7WRxiZI1UDB',\n",
      " b'Mg+N7yEgi64rNXIpoY31aBpkwrOKCfs3/hgpQkh5rI+AMh84Ilj9RE5I8uj/76L9ugxUX2f5kp2/',\n",
      " b'sl2GP0imMrYBexAKUJlLaNFlWNH13kAzuKMyiEY5qxG8M5qHSm5ph3R/kQXDni5i47pHHfE9FlXu',\n",
      " b'4Q8lo0Ht1CDlxaX8bdeeMuppbpMQ89z4BXDd30yadzTDokTHCezpAvmO9/w53kFcDT5O1J32/ttk',\n",
      " b'EF4stGL2/txuBRA9Hwa5/JCi0wpCNzvF7EPF7JOKZc5vOklvrHgnPrefNQFA63sFi6J2CF1YGNDc',\n",
      " b'ximtA/LjOsx+RZNqEhKFjmX1omkgVOS+uoL9cV+zPE5guwLiR17Rb+EgQFENtHyS+OK6vIR12exf',\n",
      " b'buGyhzXqdaUo2Gb/hkZM6ltQ3H4+5T9QSwMEFAAAAAgAxIhhTzzhpYXAAAAAFgIAAAsAAABfcmVs',\n",
      " b'cy8ucmVsc62ST4vCQAzFv0qZ+xpXwcNiPXnpbVn8AnEm/UM7kyETsX57h71st1RQ8Bhe8t6PR/Y/',\n",
      " b'NKB2HFLbxVSMfgipNK1q/AJItiWPacWRQlZqFo+aR2kgou2xIdis1zuQqYc57KeeReVKI5X7NMUJ',\n",
      " b'pSEtzTjAlaU/M/erbJuFW6RnQrmuO0tHthdPQReyZxumgGWYzR+MY/stnE8tC72G87gD8KToUPHX',\n",
      " b'9SPmABLtKD0k2i4QYYzv7odGpeDIzZHg3xsc7lBLAwQUAAAACADEiGFPsbVp6TIBAAApAgAADwAA',\n",
      " b'AHhsL3dvcmtib29rLnhtbI2Q3U7DMAyFX6XKA9BugklMKzdMwCQEiKHdp627WkviynE32NOTpCqM',\n",
      " b'O64c/+Q79lmdiA8V0SH7tMb5JZeqE+mXee7rDqz2V9SDC72W2GoJKe9zalusYU31YMFJPi+KRc5g',\n",
      " b'tCA532Hv1Uj7D8v3DLrxHYBYM6KsRqfuVtNmb5zllxkJ1FEpVmNlh3DyvwMxzXSYOMKHrkpVqEwP',\n",
      " b'Qg9oBHitBR6Zhh7dvlQzlbXIXrZRPU1adGjxDE3KfEenJ2I8kxNttjWTMelXbKRPQcH/VHbAgvWf',\n",
      " b'QdHVe7SlVIsiAI/osUKD8lWq9Dag4hn5xR3JiilmTlsoVdJKKiFumlFRwi0XGF5iaPCmmY3IidNA',\n",
      " b'iw6alwDysREWrIOlMSTS/PpmdhuMGIy5D7VX90x6VIiUydW7b1BLAwQUAAAACADEiGFPoS02da8A',\n",
      " b'AAD7AQAAGgAAAHhsL19yZWxzL3dvcmtib29rLnhtbC5yZWxzrZHPCoMwDIdfpfQBFnWww1BPu3gd',\n",
      " b'e4Gi8Q+2tjQZ07df6Q46cLCDl4aQ8Ps+0vyOWvFgJ+oHR2I2eqJC9szuCkB1j0bRyTqcwqS13igO',\n",
      " b're/AqXpUHUKWJBfw2wxZ5ttMUTWF9FWTSvFQvkMuJMwaXtaP1CMyQSzpKQDCyuLwH7xt26HGm62f',\n",
      " b'BifesVgBUsC+UbYaES8a6WiFT+pP/nnlc6AgxPfwQ8TUKAFff12+AVBLAwQUAAAACADEiGFP9ou5',\n",
      " b'IBUBAADXAwAAEwAAAFtDb250ZW50X1R5cGVzXS54bWytU8tOwzAQ/JUoV5S4cOCAml4oV+iBHzD2',\n",
      " b'prHql7zbkv49G6dUogqoqLnYXs/uzNhrL9+PEbDonfXYlB1RfBICVQdOYh0ieEbakJwkDtNWRKl2',\n",
      " b'cgviYbF4FCp4Ak8VDRzlarmGVu4tFc/j/kDdlDJGa5QkE7w4eH1BWp0I6wQ252BnIt5xQlm89MyC',\n",
      " b'vNeUjGJZiCskLitzzIVvB0jJaPiXudC2RoEOau+4pMaYQGrsAMjZGulo4WR1IxO9SseMordiROo5',\n",
      " b'pYk7AlNaGRjH+9sUvzuhQoIqJkYTmYkDsqcNoyiGxFkPCUPbNOir1Jl6VvGfzf0MaZfXU3d+BlHk',\n",
      " b'6caL//uVDXPtpPG/OfkIYXc2IPJ/Xn0BUEsBAhQAFAAAAAgAxIhhTwdBTWKBAAAAsQAAABAAAAAA',\n",
      " b'AAAAAAAAAIABAAAAAGRvY1Byb3BzL2FwcC54bWxQSwECFAAUAAAACADEiGFPzv2fo+oAAADLAQAA',\n",
      " b'EQAAAAAAAAAAAAAAgAGvAAAAZG9jUHJvcHMvY29yZS54bWxQSwECFAAUAAAACADEiGFPmVycIxAG',\n",
      " b'AACcJwAAEwAAAAAAAAAAAAAAgAHIAQAAeGwvdGhlbWUvdGhlbWUxLnhtbFBLAQIUABQAAAAIAMSI',\n",
      " b'YU/mba7xrAMAALkQAAAYAAAAAAAAAAAAAAC2gQkIAAB4bC93b3Jrc2hlZXRzL3NoZWV0MS54bWxQ',\n",
      " b'SwECFAAUAAAACADEiGFPo7GGvs8BAACJBAAADQAAAAAAAAAAAAAAgAHrCwAAeGwvc3R5bGVzLnht',\n",
      " b'bFBLAQIUABQAAAAIAMSIYU884aWFwAAAABYCAAALAAAAAAAAAAAAAACAAeUNAABfcmVscy8ucmVs',\n",
      " b'c1BLAQIUABQAAAAIAMSIYU+xtWnpMgEAACkCAAAPAAAAAAAAAAAAAACAAc4OAAB4bC93b3JrYm9v',\n",
      " b'ay54bWxQSwECFAAUAAAACADEiGFPoS02da8AAAD7AQAAGgAAAAAAAAAAAAAAgAEtEAAAeGwvX3Jl',\n",
      " b'bHMvd29ya2Jvb2sueG1sLnJlbHNQSwECFAAUAAAACADEiGFP9ou5IBUBAADXAwAAEwAAAAAAAAAA',\n",
      " b'AAAAgAEUEQAAW0NvbnRlbnRfVHlwZXNdLnhtbFBLBQYAAAAACQAJAD4CAABaEgAAAAA=',\n",
      " b'',\n",
      " b'--===============2997002501849855988==--']\n"
     ]
    }
   ],
   "source": [
    "from pprint import pprint\n",
    "pprint(l)\n"
   ]
  },
  {
   "cell_type": "code",
   "execution_count": 43,
   "metadata": {},
   "outputs": [
    {
     "data": {
      "text/plain": [
       "b'+OK'"
      ]
     },
     "execution_count": 43,
     "metadata": {},
     "output_type": "execute_result"
    }
   ],
   "source": [
    "resp"
   ]
  },
  {
   "cell_type": "code",
   "execution_count": 41,
   "metadata": {},
   "outputs": [
    {
     "data": {
      "text/plain": [
       "[b'1 8305', b'2 8308', b'3 8518']"
      ]
     },
     "execution_count": 41,
     "metadata": {},
     "output_type": "execute_result"
    }
   ],
   "source": [
    "mails"
   ]
  },
  {
   "cell_type": "code",
   "execution_count": 33,
   "metadata": {},
   "outputs": [
    {
     "name": "stdout",
     "output_type": "stream",
     "text": [
      "119\n"
     ]
    }
   ],
   "source": [
    "print(len(lines))"
   ]
  },
  {
   "cell_type": "code",
   "execution_count": 66,
   "metadata": {},
   "outputs": [
    {
     "data": {
      "text/plain": [
       "'justzcc'"
      ]
     },
     "execution_count": 66,
     "metadata": {},
     "output_type": "execute_result"
    }
   ],
   "source": [
    "import base64\n",
    "\n",
    "base64.b64decode(b\"=anVzdHpjYw==?=\").decode(\"gb18030\")"
   ]
  },
  {
   "cell_type": "code",
   "execution_count": null,
   "metadata": {},
   "outputs": [],
   "source": [
    "stop\n"
   ]
  },
  {
   "cell_type": "code",
   "execution_count": null,
   "metadata": {},
   "outputs": [],
   "source": []
  },
  {
   "cell_type": "code",
   "execution_count": null,
   "metadata": {},
   "outputs": [],
   "source": []
  },
  {
   "cell_type": "code",
   "execution_count": null,
   "metadata": {},
   "outputs": [],
   "source": [
    "# 方法一\n",
    "\n",
    "import poplib\n",
    " \n",
    "# base64解码\n",
    "import base64\n",
    " \n",
    "# 解码邮件信息\n",
    "from email.parser import Parser\n",
    " \n",
    "# 解析邮件主题\n",
    "from email.header import decode_header\n",
    " \n",
    "# 解析发件人详情，名称及地址\n",
    "import base64\n",
    "\n",
    "\n",
    "from email.utils import parseaddr\n"
   ]
  },
  {
   "cell_type": "code",
   "execution_count": null,
   "metadata": {},
   "outputs": [],
   "source": [
    "usercconunt = \"wind2zero@qq.com\"\n",
    "password = \"vclmmuvcnwntdjef\"\n",
    "\n",
    "pop3_server = 'pop.qq.com'\n",
    "\n",
    "\n",
    "\n",
    "server = poplib.POP3(pop3_server)\n",
    "\n",
    "\n",
    "\n",
    "server.set_debuglevel(1)\n",
    "print(server.getwelcome().decode('utf8'))\n",
    "server.user(usercconunt)\n",
    "server.pass_(password)\n",
    "\n",
    "\n",
    "\n",
    "email_num, email_size = server.stat()\n",
    "\n",
    "\n",
    "rsp, msg_list, rsp_siz = server.list()\n",
    "print(\"服务器的响应: {0},\\n消息列表： {1},\\n返回消息的大小： {2}\".format(rsp, msg_list, rsp_siz))\n",
    " \n",
    "print('邮件总数： {}'.format(len(msg_list)))\n",
    "\n",
    "total_mail_numbers = len(msg_list)\n",
    "rsp, msglines, msgsiz = server.retr(total_mail_numbers)\n",
    "#print(\"服务器的响应: {0},\\n原始邮件内容： {1},\\n该封邮件所占字节大小： {2}\".format(rsp, msglines, msgsiz))\n",
    "\n",
    "msg_content = b'\\r\\n'.join(msglines).decode('gbk')\n",
    "\n",
    "msg = Parser().parsestr(text=msg_content)\n",
    "print('解码后的邮件信息:\\n{}'.format(msg))\n",
    "\n"
   ]
  },
  {
   "cell_type": "code",
   "execution_count": null,
   "metadata": {},
   "outputs": [],
   "source": [
    "content = msg.get_payload()"
   ]
  },
  {
   "cell_type": "code",
   "execution_count": null,
   "metadata": {},
   "outputs": [],
   "source": [
    "content[1].as_string().split('base64')"
   ]
  },
  {
   "cell_type": "code",
   "execution_count": null,
   "metadata": {},
   "outputs": [],
   "source": [
    "content_charset = content[0].get_content_charset() # 获取编码格式\n",
    "text = content[0].as_string().split('base64')[-1]\n",
    "\n",
    "\n",
    "text_content = base64.b64decode(text).decode(content_charset) # base64解码\n"
   ]
  },
  {
   "cell_type": "code",
   "execution_count": null,
   "metadata": {},
   "outputs": [],
   "source": [
    "content_charset = content[1].get_content_charset()\n",
    "content[1].as_string().split('base64')[-1]\n",
    "\n"
   ]
  },
  {
   "cell_type": "code",
   "execution_count": null,
   "metadata": {},
   "outputs": [],
   "source": [
    "content[1].as_string()"
   ]
  },
  {
   "cell_type": "code",
   "execution_count": null,
   "metadata": {},
   "outputs": [],
   "source": [
    "def parser_content(msg):\n",
    "    content = msg.get_payload()\n",
    "\n",
    "    # 文本信息\n",
    "    content_charset = content[0].get_content_charset() # 获取编码格式\n",
    "    text = content[0].as_string().split('base64')[-1]\n",
    "    text_content = base64.b64decode(text).decode(content_charset) # base64解码\n",
    "\n",
    "    # 添加了HTML代码的信息\n",
    "    content_charset = content[1].get_content_charset()\n",
    "    text = content[1].as_string().split('base64')[-1]\n",
    "    html_content = base64.b64decode(text).decode(content_charset)\n",
    "\n",
    "    print('文本信息: {0}\\n添加了HTML代码的信息: {1}'.format(text_content, html_content))\n"
   ]
  },
  {
   "cell_type": "code",
   "execution_count": null,
   "metadata": {},
   "outputs": [],
   "source": [
    "parser_content(msg)"
   ]
  },
  {
   "cell_type": "code",
   "execution_count": null,
   "metadata": {},
   "outputs": [],
   "source": [
    "file_path = r\"D:\\Downloads\\Apple.xlsx\"\n",
    "pd.read_excel(file_path)"
   ]
  }
 ],
 "metadata": {
  "kernelspec": {
   "display_name": "Python 3",
   "language": "python",
   "name": "python3"
  },
  "language_info": {
   "codemirror_mode": {
    "name": "ipython",
    "version": 3
   },
   "file_extension": ".py",
   "mimetype": "text/x-python",
   "name": "python",
   "nbconvert_exporter": "python",
   "pygments_lexer": "ipython3",
   "version": "3.6.5"
  }
 },
 "nbformat": 4,
 "nbformat_minor": 2
}
