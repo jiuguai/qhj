{
 "cells": [
  {
   "cell_type": "code",
   "execution_count": 4,
   "metadata": {},
   "outputs": [],
   "source": [
    "import re\n",
    "import os\n",
    "import sys\n",
    "\n",
    "import numpy as np\n",
    "\n",
    "import pandas as pd\n",
    "\n",
    "\n",
    "sys.path.append(\"D:\\奇货居\\work\\ZERO\")\n",
    "from tools import *\n",
    "from settings import *"
   ]
  },
  {
   "cell_type": "code",
   "execution_count": 9,
   "metadata": {},
   "outputs": [],
   "source": [
    "# 读取订单信息\n",
    "new_order_path, new_order_date = \\\n",
    "get_new_file_path(EXPORT_DIR, ORDER_DATE_PATT,DATE_FORMAT)\n",
    "new_order_df = pd.read_excel(new_order_path)\n",
    "new_order_df.replace({\"订单号\":{\"\\s\":\"\"}},regex=True,inplace=True)\n"
   ]
  },
  {
   "cell_type": "code",
   "execution_count": 6,
   "metadata": {
    "collapsed": true
   },
   "outputs": [
    {
     "data": {
      "text/html": [
       "<div>\n",
       "<style scoped>\n",
       "    .dataframe tbody tr th:only-of-type {\n",
       "        vertical-align: middle;\n",
       "    }\n",
       "\n",
       "    .dataframe tbody tr th {\n",
       "        vertical-align: top;\n",
       "    }\n",
       "\n",
       "    .dataframe thead th {\n",
       "        text-align: right;\n",
       "    }\n",
       "</style>\n",
       "<table border=\"1\" class=\"dataframe\">\n",
       "  <thead>\n",
       "    <tr style=\"text-align: right;\">\n",
       "      <th></th>\n",
       "      <th>订单号</th>\n",
       "      <th>运单号</th>\n",
       "      <th>商品名</th>\n",
       "      <th>下单用户</th>\n",
       "      <th>下单时间</th>\n",
       "      <th>规格</th>\n",
       "      <th>收件人电话</th>\n",
       "      <th>收件人地址</th>\n",
       "    </tr>\n",
       "  </thead>\n",
       "  <tbody>\n",
       "    <tr>\n",
       "      <th>0</th>\n",
       "      <td>20191025095916345917</td>\n",
       "      <td>Y20191102224</td>\n",
       "      <td>iPhone 11 Pro MAX 银色|512GB|4G全网通 市场价12699元</td>\n",
       "      <td>黄忠</td>\n",
       "      <td>NaN</td>\n",
       "      <td>NaN</td>\n",
       "      <td>18507320859</td>\n",
       "      <td>岳麓区枫林三路弘德莱城</td>\n",
       "    </tr>\n",
       "    <tr>\n",
       "      <th>1</th>\n",
       "      <td>20191025033655605847</td>\n",
       "      <td>Y20191102225</td>\n",
       "      <td>iPhone 11 Pro MAX 深空灰色|512GB|4G全网通 市场价12699元</td>\n",
       "      <td>孙策</td>\n",
       "      <td>NaN</td>\n",
       "      <td>NaN</td>\n",
       "      <td>18684943238</td>\n",
       "      <td>湖南省宁乡市双凫铺镇双明村</td>\n",
       "    </tr>\n",
       "    <tr>\n",
       "      <th>2</th>\n",
       "      <td>20191025033453222219</td>\n",
       "      <td>Y20191102226</td>\n",
       "      <td>iPhone 11 Pro MAX 暗夜绿色|512GB|4G全网通 市场价12699元</td>\n",
       "      <td>甄姬</td>\n",
       "      <td>NaN</td>\n",
       "      <td>NaN</td>\n",
       "      <td>15527794863</td>\n",
       "      <td>湖南省长沙市宁乡市喻家坳乡涌泉山村泥秋组7号</td>\n",
       "    </tr>\n",
       "    <tr>\n",
       "      <th>0</th>\n",
       "      <td>20191027103151460875</td>\n",
       "      <td>Y20191103224</td>\n",
       "      <td>志高ZGS-216智能扫地机器人市场价1399元，售价499元</td>\n",
       "      <td>诸葛</td>\n",
       "      <td>NaN</td>\n",
       "      <td>NaN</td>\n",
       "      <td>18618386623</td>\n",
       "      <td>湖南省浏阳市西湖山小区严家冲106号410300</td>\n",
       "    </tr>\n",
       "    <tr>\n",
       "      <th>1</th>\n",
       "      <td>20191027102330527264</td>\n",
       "      <td>Y20191103225</td>\n",
       "      <td>志高ZGS-316拖地机器人市场价1299元</td>\n",
       "      <td>刘备</td>\n",
       "      <td>NaN</td>\n",
       "      <td>NaN</td>\n",
       "      <td>18565701676</td>\n",
       "      <td>湖南省浏阳市古港镇农贸市场3号</td>\n",
       "    </tr>\n",
       "    <tr>\n",
       "      <th>2</th>\n",
       "      <td>20191027100441795474</td>\n",
       "      <td>Y20191103226</td>\n",
       "      <td>志高按摩椅高档智能按摩椅一键启动限量版</td>\n",
       "      <td>孙权</td>\n",
       "      <td>NaN</td>\n",
       "      <td>NaN</td>\n",
       "      <td>18673653915</td>\n",
       "      <td>长沙市水岸天际小区</td>\n",
       "    </tr>\n",
       "    <tr>\n",
       "      <th>3</th>\n",
       "      <td>20191027004953517373</td>\n",
       "      <td>Y20191103227</td>\n",
       "      <td>志高按摩椅高档智能按摩椅一键启动限量版</td>\n",
       "      <td>张飞</td>\n",
       "      <td>NaN</td>\n",
       "      <td>NaN</td>\n",
       "      <td>18674818309</td>\n",
       "      <td>浙江省杭州市滨江区网商路699号阿里巴巴</td>\n",
       "    </tr>\n",
       "  </tbody>\n",
       "</table>\n",
       "</div>"
      ],
      "text/plain": [
       "                    订单号           运单号  \\\n",
       "0  20191025095916345917  Y20191102224   \n",
       "1  20191025033655605847  Y20191102225   \n",
       "2  20191025033453222219  Y20191102226   \n",
       "0  20191027103151460875  Y20191103224   \n",
       "1  20191027102330527264  Y20191103225   \n",
       "2  20191027100441795474  Y20191103226   \n",
       "3  20191027004953517373  Y20191103227   \n",
       "\n",
       "                                            商品名 下单用户  下单时间  规格        收件人电话  \\\n",
       "0    iPhone 11 Pro MAX 银色|512GB|4G全网通 市场价12699元   黄忠   NaN NaN  18507320859   \n",
       "1  iPhone 11 Pro MAX 深空灰色|512GB|4G全网通 市场价12699元   孙策   NaN NaN  18684943238   \n",
       "2  iPhone 11 Pro MAX 暗夜绿色|512GB|4G全网通 市场价12699元   甄姬   NaN NaN  15527794863   \n",
       "0               志高ZGS-216智能扫地机器人市场价1399元，售价499元   诸葛   NaN NaN  18618386623   \n",
       "1                        志高ZGS-316拖地机器人市场价1299元   刘备   NaN NaN  18565701676   \n",
       "2                           志高按摩椅高档智能按摩椅一键启动限量版   孙权   NaN NaN  18673653915   \n",
       "3                           志高按摩椅高档智能按摩椅一键启动限量版   张飞   NaN NaN  18674818309   \n",
       "\n",
       "                      收件人地址  \n",
       "0               岳麓区枫林三路弘德莱城  \n",
       "1             湖南省宁乡市双凫铺镇双明村  \n",
       "2    湖南省长沙市宁乡市喻家坳乡涌泉山村泥秋组7号  \n",
       "0  湖南省浏阳市西湖山小区严家冲106号410300  \n",
       "1           湖南省浏阳市古港镇农贸市场3号  \n",
       "2                 长沙市水岸天际小区  \n",
       "3      浙江省杭州市滨江区网商路699号阿里巴巴  "
      ]
     },
     "execution_count": 6,
     "metadata": {},
     "output_type": "execute_result"
    }
   ],
   "source": [
    "# 读取外部运单\n",
    "tracking_l = [] \n",
    "for file_name in os.listdir(TRACKING_SRC_DIR):\n",
    "    file_path = os.path.join(TRACKING_SRC_DIR,file_name)\n",
    "    temp_df = pd.read_excel(file_path)\n",
    "    tracking_l.append(temp_df)\n",
    "\n",
    "tracking_df = pd.concat(tracking_l)\n",
    "tracking_df.replace({\"订单号\":{\"\\s\":\"\"}},regex=True,inplace=True)\n"
   ]
  },
  {
   "cell_type": "code",
   "execution_count": 6,
   "metadata": {},
   "outputs": [
    {
     "data": {
      "text/plain": [
       "'D:\\\\Downloads\\\\订单2019-08-30 17_40_35.xlsx'"
      ]
     },
     "execution_count": 6,
     "metadata": {},
     "output_type": "execute_result"
    }
   ],
   "source": [
    "# 读取内部可入系统运单\n",
    "input_sys_path, input_sys_date = \\\n",
    "get_new_file_path(TRACKING_INPUT_DIR, INPUT_SYS_PATT,DATE_FORMAT)\n",
    "\n",
    "\n"
   ]
  },
  {
   "cell_type": "code",
   "execution_count": null,
   "metadata": {},
   "outputs": [],
   "source": [
    "# 可入内部运单 = (已存可入内部运单 + 外部运单).isin(最新订单信息)\n",
    "\n"
   ]
  },
  {
   "cell_type": "code",
   "execution_count": null,
   "metadata": {},
   "outputs": [],
   "source": [
    "\n",
    "new_order_path"
   ]
  },
  {
   "cell_type": "code",
   "execution_count": 7,
   "metadata": {},
   "outputs": [
    {
     "data": {
      "text/plain": [
       "Timestamp('2019-08-30 17:40:35')"
      ]
     },
     "execution_count": 7,
     "metadata": {},
     "output_type": "execute_result"
    }
   ],
   "source": [
    "new_order_date"
   ]
  }
 ],
 "metadata": {
  "kernelspec": {
   "display_name": "Python 3",
   "language": "python",
   "name": "python3"
  },
  "language_info": {
   "codemirror_mode": {
    "name": "ipython",
    "version": 3
   },
   "file_extension": ".py",
   "mimetype": "text/x-python",
   "name": "python",
   "nbconvert_exporter": "python",
   "pygments_lexer": "ipython3",
   "version": "3.6.5"
  }
 },
 "nbformat": 4,
 "nbformat_minor": 2
}
