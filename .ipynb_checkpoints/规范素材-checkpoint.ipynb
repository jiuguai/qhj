{
 "cells": [
  {
   "cell_type": "code",
   "execution_count": 2,
   "metadata": {},
   "outputs": [],
   "source": [
    "import os\n",
    "import time\n",
    "\n",
    "import re\n",
    "import shutil"
   ]
  },
  {
   "cell_type": "code",
   "execution_count": 3,
   "metadata": {},
   "outputs": [],
   "source": [
    "com_f = re.compile(\"商品详情_.+?.xls[xm]?\")\n",
    "com_s = re.compile(\"规格_交易详情_.+?.xls[xm]?\")\n"
   ]
  },
  {
   "cell_type": "code",
   "execution_count": 5,
   "metadata": {},
   "outputs": [],
   "source": [
    "model_path = r\"D:\\奇货居\\模板\"\n",
    "\n",
    "base_path = r\"D:\\奇货居\\商城图片素材\"\n",
    "for fol in os.listdir(base_path):\n",
    "    fol_s = os.path.join(base_path,fol)\n",
    "    \n",
    "  \n",
    "    \n",
    "    #   判断是否为2级目录\n",
    "    if os.path.isdir(fol_s):\n",
    "\n",
    "        folder_s_l = []\n",
    "        flag_s = True\n",
    "        # 遍历商品目录\n",
    "        for fol_sp in os.listdir(fol_s):\n",
    "            \n",
    "            \n",
    "            # 是否存在 商品详情.+?.xlxs\n",
    "            # 不存在就补充 商品详情.+?.xlxs\n",
    "            # \n",
    "            if com_f.match(fol_sp):\n",
    "                flag_s = False\n",
    "\n",
    "            fol_t = os.path.join(fol_s,fol_sp)\n",
    "            \n",
    "            \n",
    "            \n",
    "            # 判断是否为3级目录\n",
    "            if os.path.isdir(fol_t):\n",
    "                \n",
    "                flag_t = True\n",
    "                # 收集3级目录中目录列表信息\n",
    "                folder_s_l.append(fol_sp)\n",
    "                \n",
    "                # 判断目录中存不存在规格模板 将规格模板复制               \n",
    "                for fol_gg in os.listdir(fol_t):\n",
    "                    if com_s.match(fol_gg):\n",
    "                        flag_t = False\n",
    "                        \n",
    "                if flag_t:\n",
    "                    src_path = os.path.join(model_path,\"规格_交易详情_CON.xlsx\")\n",
    "\n",
    "                    dst_path = os.path.join(fol_t,\"规格_交易详情_%s.xlsx\" %fol_sp)\n",
    "\n",
    "                    shutil.copy(src_path,dst_path)\n",
    "                \n",
    "                \n",
    "                \n",
    "        folder_s_s = \"\\n\".join(folder_s_l)\n",
    "        with open(os.path.join(fol_s,\"目录信息.txt\"),\"w\") as f:\n",
    "            f.write(folder_s_s)\n",
    "            \n",
    "        if flag_s:\n",
    "            src_path = os.path.join(model_path,\"商品详情_CON.xlsx\")\n",
    "            dst_path = os.path.join(fol_s,\"商品详情_%s.xlsx\" %fol)\n",
    "\n",
    "            shutil.copy(src_path,dst_path)\n",
    "        \n",
    "        \n",
    "            \n",
    "            \n",
    "            \n"
   ]
  },
  {
   "cell_type": "code",
   "execution_count": 4,
   "metadata": {},
   "outputs": [
    {
     "data": {
      "text/plain": [
       "'商品详情_XX.xlsx'"
      ]
     },
     "execution_count": 4,
     "metadata": {},
     "output_type": "execute_result"
    }
   ],
   "source": [
    "\"商品详情_CON.xlsx\".replace(\"CON\",\"XX\")"
   ]
  }
 ],
 "metadata": {
  "kernelspec": {
   "display_name": "Python 3",
   "language": "python",
   "name": "python3"
  },
  "language_info": {
   "codemirror_mode": {
    "name": "ipython",
    "version": 3
   },
   "file_extension": ".py",
   "mimetype": "text/x-python",
   "name": "python",
   "nbconvert_exporter": "python",
   "pygments_lexer": "ipython3",
   "version": "3.6.5"
  }
 },
 "nbformat": 4,
 "nbformat_minor": 2
}
