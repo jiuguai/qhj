{
 "cells": [
  {
   "cell_type": "code",
   "execution_count": 1,
   "metadata": {},
   "outputs": [],
   "source": [
    "import os\n",
    "import sys\n",
    "sys.path.append(r\"D:\\奇货居\\work\\ZERO\")\n",
    "import numpy as np\n",
    "import pandas as pd\n",
    "import pymysql\n",
    "from sqlalchemy import create_engine\n",
    "\n",
    "from tools import *\n",
    "from settings import *\n",
    "\n",
    "\n"
   ]
  },
  {
   "cell_type": "code",
   "execution_count": 2,
   "metadata": {},
   "outputs": [
    {
     "name": "stdout",
     "output_type": "stream",
     "text": [
      "import os\n",
      "import sys\n",
      "sys.path.append(r\"D:\\奇货居\\work\\ZERO\")\n",
      "import numpy as np\n",
      "import pandas as pd\n",
      "import pymysql\n",
      "from sqlalchemy import create_engine\n",
      "\n",
      "from tools import *\n",
      "from settings import *\n",
      "history\n"
     ]
    }
   ],
   "source": [
    "history"
   ]
  },
  {
   "cell_type": "code",
   "execution_count": 3,
   "metadata": {},
   "outputs": [],
   "source": [
    "# ['供应商', '供应商目录', '供应商编码']\n",
    "gys_df = pd.read_excel(SUPPLIER_BASE_PATH)\n",
    "gys_df.dropna(inplace=True)\n",
    "\n",
    "sp_prefix = \"商品详情\"\n",
    "gg_prefix = \"规格_交易详情\""
   ]
  },
  {
   "cell_type": "code",
   "execution_count": 4,
   "metadata": {
    "scrolled": false
   },
   "outputs": [
    {
     "name": "stdout",
     "output_type": "stream",
     "text": [
      "Delsey\n",
      "    00001560002双肩休闲包\n",
      "    70371560011商务电脑背包\n",
      "    70371760022商务旅行背包\n",
      "LOVO\n",
      "    LOVO 经典套装\n",
      "    LOVO 魅力格调\n",
      "    LOVO 唯美田园\n",
      "SWAROVSKI\n",
      "    冰雪奇缘\n",
      "    天鹅\n",
      "    小蜜蜂\n",
      "    钥匙\n",
      "志高\n",
      "    志高ZGS-216智能扫地机器人\n",
      "    志高ZGS-316拖地机器人\n",
      "    志高按摩椅\n",
      "Apple\n",
      "    iPhone 11 Pro MAX\n",
      "沃品\n",
      "    蓝牙音箱AP06\n",
      "    颈戴式运动蓝牙耳机\n",
      "海尔\n",
      "    海尔空气净化器\n",
      "爱玛\n",
      "    爱玛TDT1067Z\n",
      "玛莎拉蒂\n",
      "    儿童平衡车无脚踏行\n",
      "    儿童滑板车MST005\n",
      "三金\n",
      "    护肤\n",
      "    水光针\n",
      "    美肤\n",
      "    补水\n",
      "HUAWEI\n",
      "    Mate 30 Pro\n"
     ]
    }
   ],
   "source": [
    "data_l = []\n",
    "for index,gys_row in gys_df.iterrows():\n",
    "    gys_dir = gys_row['供应商目录']\n",
    "    sp_path = os.path.join(MATERIAL_DIR,gys_dir,\"%s_%s.xlsx\" %(sp_prefix,gys_dir))\n",
    "    \n",
    "    # ['商品名', '商品目录名', '商品编码']\n",
    "    sp_df = pd.read_excel(sp_path)\n",
    "    sp_df.dropna(inplace=True,subset=[\"商品编码\"])\n",
    "    print(gys_dir)\n",
    "    \n",
    "    for index,sp_row in sp_df.iterrows():\n",
    "        sp_dir = sp_row['商品目录名']\n",
    "        print(\"    %s\" %sp_dir)\n",
    "        gg_path = os.path.join(MATERIAL_DIR,gys_dir,sp_dir,\"%s_%s.xlsx\" %(gg_prefix,sp_dir))\n",
    "        gg_df = pd.read_excel(gg_path,sheet_name=\"规格\")\n",
    "        gg_df.dropna(subset=[\"交易商品名\"],inplace=True)\n",
    "        \n",
    "        gg_df['供应商'] = gys_row['供应商']\n",
    "        gg_df['供应商ID'] = gys_row['供应商ID']\n",
    "\n",
    "        \n",
    "        gg_df['商品名'] = sp_row['商品名']\n",
    "        gg_df['商品编码'] = sp_row['商品编码']\n",
    "        \n",
    "        \n",
    "        gg_df['相对目录'] = r\"%s\\%s\" %(gys_dir , sp_dir)\n",
    "        data_l.append(gg_df)\n",
    "        \n",
    "sp_data = pd.concat(data_l)\n",
    "sp_data.reset_index(drop=True,inplace=True)\n",
    "sp_data['商品ID'] = sp_data['供应商ID'] + sp_data['商品编码'] + sp_data['规格编码']\n",
    "\n"
   ]
  },
  {
   "cell_type": "code",
   "execution_count": 7,
   "metadata": {},
   "outputs": [],
   "source": [
    "# 存储\n",
    "sp_data = add_order(sp_data)\n",
    "fields = ['序号','商品ID','交易商品名', '规格模式', '规格', '市场价', '售价', '规格编码', '交易编码', '供应商', '供应商ID',\n",
    "       '商品名', '商品编码', '相对目录', ]\n",
    "sp_data = sp_data[fields]\n",
    "sp_data.to_excel(os.path.join(MATERIAL_DIR,\"商品信息.xlsx\"),index=False)"
   ]
  },
  {
   "cell_type": "code",
   "execution_count": null,
   "metadata": {},
   "outputs": [],
   "source": []
  },
  {
   "cell_type": "code",
   "execution_count": null,
   "metadata": {
    "scrolled": false
   },
   "outputs": [],
   "source": [
    "len(sp_data)"
   ]
  },
  {
   "cell_type": "code",
   "execution_count": null,
   "metadata": {},
   "outputs": [],
   "source": [
    "sp_data['供应商'].unique()"
   ]
  },
  {
   "cell_type": "code",
   "execution_count": null,
   "metadata": {},
   "outputs": [],
   "source": [
    "sp_df.columns"
   ]
  },
  {
   "cell_type": "code",
   "execution_count": null,
   "metadata": {},
   "outputs": [],
   "source": []
  }
 ],
 "metadata": {
  "kernelspec": {
   "display_name": "Python 3",
   "language": "python",
   "name": "python3"
  },
  "language_info": {
   "codemirror_mode": {
    "name": "ipython",
    "version": 3
   },
   "file_extension": ".py",
   "mimetype": "text/x-python",
   "name": "python",
   "nbconvert_exporter": "python",
   "pygments_lexer": "ipython3",
   "version": "3.6.5"
  }
 },
 "nbformat": 4,
 "nbformat_minor": 2
}
